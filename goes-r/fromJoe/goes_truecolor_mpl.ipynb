{
 "cells": [
  {
   "cell_type": "markdown",
   "metadata": {},
   "source": [
    "# GOES Mesoscale Sector True Color Imagery\n",
    "\n",
    "This notebook generates mesoscale sector true color imagery from channels 1-3 from the ABI Level 1B data."
   ]
  },
  {
   "cell_type": "code",
   "execution_count": 2,
   "metadata": {
    "collapsed": false
   },
   "outputs": [
    {
     "ename": "ImportError",
     "evalue": "cannot import name 'LatitudeLocator' from 'cartopy.mpl.ticker' (/usr/lib/python3/dist-packages/cartopy/mpl/ticker.py)",
     "output_type": "error",
     "traceback": [
      "\u001b[0;31m---------------------------------------------------------------------------\u001b[0m",
      "\u001b[0;31mImportError\u001b[0m                               Traceback (most recent call last)",
      "\u001b[0;32m<ipython-input-2-1271693bdd94>\u001b[0m in \u001b[0;36m<module>\u001b[0;34m()\u001b[0m\n\u001b[1;32m     12\u001b[0m \u001b[0;32mfrom\u001b[0m \u001b[0mcartopy\u001b[0m\u001b[0;34m.\u001b[0m\u001b[0mmpl\u001b[0m\u001b[0;34m.\u001b[0m\u001b[0mticker\u001b[0m \u001b[0;32mimport\u001b[0m \u001b[0mLongitudeFormatter\u001b[0m\u001b[0;34m\u001b[0m\u001b[0;34m\u001b[0m\u001b[0m\n\u001b[1;32m     13\u001b[0m \u001b[0;32mfrom\u001b[0m \u001b[0mcartopy\u001b[0m\u001b[0;34m.\u001b[0m\u001b[0mmpl\u001b[0m\u001b[0;34m.\u001b[0m\u001b[0mticker\u001b[0m \u001b[0;32mimport\u001b[0m \u001b[0mLatitudeFormatter\u001b[0m\u001b[0;34m\u001b[0m\u001b[0;34m\u001b[0m\u001b[0m\n\u001b[0;32m---> 14\u001b[0;31m \u001b[0;32mfrom\u001b[0m \u001b[0mcartopy\u001b[0m\u001b[0;34m.\u001b[0m\u001b[0mmpl\u001b[0m\u001b[0;34m.\u001b[0m\u001b[0mticker\u001b[0m \u001b[0;32mimport\u001b[0m \u001b[0mLatitudeLocator\u001b[0m\u001b[0;34m\u001b[0m\u001b[0;34m\u001b[0m\u001b[0m\n\u001b[0m\u001b[1;32m     15\u001b[0m \u001b[0;34m\u001b[0m\u001b[0m\n\u001b[1;32m     16\u001b[0m \u001b[0;34m\u001b[0m\u001b[0m\n",
      "\u001b[0;31mImportError\u001b[0m: cannot import name 'LatitudeLocator' from 'cartopy.mpl.ticker' (/usr/lib/python3/dist-packages/cartopy/mpl/ticker.py)"
     ]
    }
   ],
   "source": [
    "import sys\n",
    "import numpy as np\n",
    "import xarray as xr\n",
    "import glob\n",
    "import matplotlib\n",
    "import matplotlib.pyplot as plt\n",
    "import matplotlib.ticker as mticker\n",
    "%matplotlib inline\n",
    "import cartopy.crs as ccrs\n",
    "import cartopy.feature as cfeature\n",
    "#from cartopy.mpl.ticker import (LongitudeFormatter, LatitudeFormatter, LatitudeLocator)\n",
    "from cartopy.mpl.ticker import LongitudeFormatter\n",
    "from cartopy.mpl.ticker import LatitudeFormatter\n",
    "from cartopy.mpl.ticker import LatitudeLocator\n",
    "\n",
    "\n",
    "# sys.path.append('/home/disk/meso-home/jfinlon/impacts/github/IMPACTS/src')\n",
    "# from impacts_tools import er2_radar"
   ]
  },
  {
   "cell_type": "markdown",
   "metadata": {},
   "source": [
    "The subroutines below also reside in *truecolor.py*"
   ]
  },
  {
   "cell_type": "code",
   "execution_count": null,
   "metadata": {
    "collapsed": true
   },
   "outputs": [],
   "source": [
    "# Boost the contrast to make brights brighter and darks darker\n",
    "def contrast_correction(color, contrast):\n",
    "    \"\"\"\n",
    "    Modify the contrast of an RGB\n",
    "    See: #www.dfstudios.co.uk/articles/programming/image-programming-algorithms/image-processing-algorithms-part-5-contrast-adjustment/\n",
    "\n",
    "    Input:\n",
    "        C - contrast level\n",
    "    \"\"\"\n",
    "    F = (259*(contrast + 255))/(255.*(259-contrast))\n",
    "    COLOR = F*(color-.5)+.5\n",
    "    COLOR = np.minimum(COLOR, 1)\n",
    "    COLOR = np.maximum(COLOR, 0)\n",
    "    \n",
    "    return COLOR\n",
    "\n",
    "# Subroutine to load mesoscale sector data for a specific channel corresponding to a user-specified time\n",
    "def get_goes(directory, user_time, sector=1, channel=1):\n",
    "    '''\n",
    "    Load mesoscale sector data from the file closest in time to the user-specified time.\n",
    "    \n",
    "    directory: Directory path where the mesoscale sector data are located [str]\n",
    "    user_time: Datetime to use when looking at the closest satellite data\n",
    "    sector: Mesoscale sector to use [int: 1 or 2]\n",
    "    '''\n",
    "    filelist = glob.glob(directory + 'OR_ABI-L1b-RadM' + str(sector) + '*.nc')\n",
    "    td_min = 99999. # smallest time difference in directory between satellite data and user-defined time\n",
    "    filename = None\n",
    "    for files in filelist: # Loop through directory and find the file with the smallest timedelta to the user-defined time\n",
    "        # COMMENT FOR NOW time_sat_str = datetime.strptime(files.split('_')[-1][1:14], '%Y%j%H%M%S')\n",
    "        time_sat_str = files.split('_')[-1][1:14]\n",
    "        time_sat = np.datetime64(time_sat_str[:4], 'Y') + np.timedelta64(int(time_sat_str[4:7])-1, 'D') + np.timedelta64(int(time_sat_str[7:9]), 'h')+np.timedelta64(\n",
    "            int(time_sat_str[9:11]), 'm')+np.timedelta64(int(time_sat_str[11:]), 's')\n",
    "        td = np.abs((time_sat - np.datetime64(user_time))/np.timedelta64(1, 's'))\n",
    "        if td<td_min: # This file is the new closest time for the flight leg\n",
    "            filename = files\n",
    "            td_min = td\n",
    "            \n",
    "    if filename is None:\n",
    "        print('No file found within 1 day of flight leg.')\n",
    "        return None\n",
    "    else:\n",
    "        rad_refl_const = [726.721072, 663.274497, 441.868715] # constants for converting radiance to reflectance for Ch 01, 02, 03\n",
    "        data = xr.open_dataset(filename)\n",
    "        if channel==13: # Clean IR deals with brightness temperature, not radiance/reflectance...but will keep var names for simplicity\n",
    "            rad = data['Rad'].values\n",
    "#             refl_gamma = 1.4387752e4 / (10.3 * np.log(1.191042e8 / (10.3**5) / rad))\n",
    "            planck_fk1 = 10803.29980#202263. data['planck_fk1'].values[0]\n",
    "            planck_fk2 = 1392.73999#3698.18994140625\n",
    "            planck_bc1 = 0.0755#0.4336099922657013\n",
    "            planck_bc2 = 0.99975#0.9993900060653687\n",
    "            refl_gamma = ( planck_fk2 / ( np.log((planck_fk1 / rad) + 1 )) - planck_bc1) / planck_bc2\n",
    "        else:\n",
    "            rad = data['Rad'].values\n",
    "            refl = (rad * np.pi * 0.3) / rad_refl_const[channel-1]\n",
    "            refl = np.clip(refl, 0., 1.) # reflectance <0 --> 0, >1 --> 1\n",
    "            refl_gamma = np.power(refl, 1./2.2)\n",
    "            # COMMENT FOR NOW refl_gamma = np.sqrt(refl)\n",
    "        if channel==2:\n",
    "            domain_shape = [1000, 1000]\n",
    "            sh = domain_shape[0],refl_gamma.shape[0]//domain_shape[0],domain_shape[1],refl_gamma.shape[1]//domain_shape[1]\n",
    "            refl_gamma = refl_gamma.reshape(sh).mean(-1).mean(1)\n",
    "        return data, refl_gamma\n",
    "\n",
    "        \n",
    "def true_color(user_time, sector=1):\n",
    "    '''\n",
    "    Construct the true color image. Follows https://unidata.github.io/python-gallery/examples/mapping_GOES16_TrueColor.html.\n",
    "    \n",
    "    user_time: Time to use for the mesoscale sector data [str in YYYY-mm-ddTHH:MM:SS format]\n",
    "    '''\n",
    "    date = np.datetime_as_string(np.datetime64(user_time, 'D'))\n",
    "    date_alt = date.replace('-', '')\n",
    "    \n",
    "    # Get the mesoscale sector data to make the true color image\n",
    "    # [TODO] Support channel 13 clean IR when VIS isn't available\n",
    "    [data_ch01, refl_ch01] = get_goes('/home/disk/bob/impacts/raw/goes16/MesoSectors/Channel01/'+date_alt+'/', user_time, sector=sector, channel=1) # blue\n",
    "    [data_ch02, refl_ch02] = get_goes('/home/disk/bob/impacts/raw/goes16/MesoSectors/Channel02/'+date_alt+'/', user_time, sector=sector, channel=2) # red\n",
    "    [data_ch03, refl_ch03] = get_goes('/home/disk/bob/impacts/raw/goes16/MesoSectors/Channel03/'+date_alt+'/', user_time, sector=sector, channel=3) # veggie green\n",
    "    #[data_ch13, bt_ch13] = get_goes('/home/disk/bob/impacts/raw/goes16/Channel13/'+date_alt+'/', user_time, sector=1, channel=13) # clean IR\n",
    "    # COMMENT FOR NOW refl_ch03_true = 0.48358168 * refl_ch02 + 0.45706946 * refl_ch01 + 0.06038137 * refl_ch03\n",
    "    refl_ch03_true = 0.45 * refl_ch02 + 0.45 * refl_ch01 + 0.1 * refl_ch03\n",
    "    refl_ch03_true = np.clip(refl_ch03_true, 0., 1.) # reflectance <0 --> 0, >1 --> 1\n",
    "    truecolor = np.stack([refl_ch02, refl_ch03_true, refl_ch01], axis=2)\n",
    "    truecolor_contrast = contrast_correction(truecolor, 105)\n",
    "\n",
    "    # Get the satellite projection info\n",
    "    sat_h = data_ch01['goes_imager_projection'].attrs['perspective_point_height'] # Satellite height\n",
    "    sat_lon = data_ch01['goes_imager_projection'].attrs['longitude_of_projection_origin'] # Satellite longitude\n",
    "    sat_sweep = data_ch01['goes_imager_projection'].attrs['sweep_angle_axis'] # Satellite sweep\n",
    "    semi_major = data_ch01['goes_imager_projection'].attrs['semi_major_axis']\n",
    "    semi_minor = data_ch01['goes_imager_projection'].attrs['semi_minor_axis']\n",
    "\n",
    "    # The projection x and y coordinates equals the scanning angle (in radians) multiplied by the satellite height\n",
    "    # See details here: https://proj4.org/operations/projections/geos.html?highlight=geostationary\n",
    "    X = data_ch01['x'].values * sat_h\n",
    "    Y = data_ch01['y'].values * sat_h\n",
    "\n",
    "    # Get the lat/lon corners\n",
    "    lon_min = data_ch01['geospatial_lat_lon_extent'].attrs['geospatial_westbound_longitude']\n",
    "    lon_max = data_ch01['geospatial_lat_lon_extent'].attrs['geospatial_eastbound_longitude']\n",
    "    lat_min = data_ch01['geospatial_lat_lon_extent'].attrs['geospatial_southbound_latitude']\n",
    "    lat_max = data_ch01['geospatial_lat_lon_extent'].attrs['geospatial_northbound_latitude']\n",
    "    \n",
    "    # Set up the object\n",
    "    tc = {}\n",
    "    tc['R'] = refl_ch02\n",
    "    tc['G_veggie'] = refl_ch03\n",
    "    tc['G_true'] = refl_ch03_true\n",
    "    tc['B'] = refl_ch01\n",
    "    tc['RGB'] = truecolor\n",
    "    tc['RGB_veggie'] = np.stack([refl_ch02, refl_ch03, refl_ch01], axis=2)\n",
    "    tc['sat_height'] = sat_h\n",
    "    tc['sat_lon'] = sat_lon\n",
    "    tc['sat_sweep'] = sat_sweep\n",
    "    tc['semi_major'] = semi_major\n",
    "    tc['semi_minor'] = semi_minor\n",
    "    tc['X_proj'] = X\n",
    "    tc['Y_proj'] = Y\n",
    "    tc['lon_min'] = lon_min\n",
    "    tc['lon_max'] = lon_max\n",
    "    tc['lat_min'] = lat_min\n",
    "    tc['lat_max'] = lat_max\n",
    "    \n",
    "    return tc"
   ]
  },
  {
   "cell_type": "markdown",
   "metadata": {},
   "source": [
    "Call the *true\\_color()* routine to get the RGB values for the specified time and sector."
   ]
  },
  {
   "cell_type": "code",
   "execution_count": null,
   "metadata": {
    "collapsed": true
   },
   "outputs": [],
   "source": [
    "tc = true_color('2020-02-01T14:40:00', sector=2)"
   ]
  },
  {
   "cell_type": "markdown",
   "metadata": {},
   "source": [
    "Gather the GPM DPR-Ku swath path."
   ]
  },
  {
   "cell_type": "code",
   "execution_count": null,
   "metadata": {
    "collapsed": true
   },
   "outputs": [],
   "source": [
    "dpr_file = '/home/disk/bob/impacts/raw/gpm_ku/202002/GPM2Ku6_uw3_20200201.143222_to_20200201.143921_033679_IMP.nc'\n",
    "dpr = xr.open_dataset(dpr_file)\n",
    "dpr_lon_grid, dpr_lat_grid = np.meshgrid(dpr.lon.values, dpr.lat.values)\n",
    "dpr_swath = dpr.swath.squeeze()\n",
    "\n",
    "# Get the swath boundaries\n",
    "swath_lon1 = []; swath_lon2 = []\n",
    "swath_lat1 = []; swath_lat2 = []\n",
    "for i in range(dpr_lon_grid.shape[0]):\n",
    "    bndry_inds = np.where(np.diff(dpr_swath.values[i,:])!=0.)[0]\n",
    "    if len(bndry_inds)>0:\n",
    "        swath_lon1 = np.append(swath_lon1, dpr_lon_grid[i, bndry_inds[0]+1])\n",
    "        swath_lat1 = np.append(swath_lat1, dpr_lat_grid[i, bndry_inds[0]+1])\n",
    "        if len(bndry_inds)>1:\n",
    "            swath_lon2 = np.append(swath_lon2, dpr_lon_grid[i, bndry_inds[1]+1])\n",
    "            swath_lat2 = np.append(swath_lat2, dpr_lat_grid[i, bndry_inds[1]+1])"
   ]
  },
  {
   "cell_type": "markdown",
   "metadata": {},
   "source": [
    "Load the ER-2 track data and trim for the 1425-1450 UTC leg. Using the *er2read* subroutine is the easiest way right now."
   ]
  },
  {
   "cell_type": "code",
   "execution_count": null,
   "metadata": {
    "collapsed": true
   },
   "outputs": [],
   "source": [
    "# hiwrap_fname = '/home/disk/bob/impacts/er2/HIWRAP/hdfFiles/IMPACTS_HIWRAP_L1B_RevA_20200201T113316_to_20200201T155257.h5'\n",
    "# hiwrap = er2_radar.er2read(hiwrap_fname, beam='nadir')#, atten_file=hiwrap_k_fname, max_roll=10., dbz_sigma=1, ldr_sigma=None, vel_sigma=1, width_sigma=1, dbz_min=-30., ldr_min=None, vel_min=-5., width_min=0.)\n",
    "# hiwrap.keys()\n",
    "\n",
    "# # Trim the nav info\n",
    "# start_time = '2020-02-01T14:30:00'\n",
    "# end_time = '2020-02-01T14:50:00'\n",
    "# time_inds = np.where((hiwrap['time']>=np.datetime64(start_time)) & (hiwrap['time']<=np.datetime64(end_time)))[0]\n",
    "# er2_lon = hiwrap['lon'][time_inds]\n",
    "# er2_lat = hiwrap['lat'][time_inds]"
   ]
  },
  {
   "cell_type": "markdown",
   "metadata": {},
   "source": [
    "Plot the imagery with the *proplot* package (https://proplot.readthedocs.io/en/latest/)"
   ]
  },
  {
   "cell_type": "code",
   "execution_count": null,
   "metadata": {
    "collapsed": false
   },
   "outputs": [],
   "source": [
    "# mpl params to tweak\n",
    "matplotlib.rcParams['axes.labelsize'] = 16\n",
    "matplotlib.rcParams['xtick.labelsize'] = 16\n",
    "matplotlib.rcParams['ytick.labelsize'] = 16\n",
    "matplotlib.rcParams['legend.fontsize'] = 16\n",
    "\n",
    "geos = ccrs.Geostationary(central_longitude=tc['sat_lon'], satellite_height=tc['sat_height'], sweep_axis='x')\n",
    "fig, ax = plt.subplots(1, 1, figsize=(11,11))\n",
    "ax = plt.axes(projection=geos)\n",
    "\n",
    "img1 = ax.imshow(tc['RGB'], origin='upper', transform=geos, extent=(tc['X_proj'].min(), tc['X_proj'].max(), tc['Y_proj'].min(), tc['Y_proj'].max()))\n",
    "ax.plot(swath_lon1, swath_lat1, 'k-', transform=ccrs.PlateCarree(), label='GPM Ku Swath', zorder=2)\n",
    "ax.plot(swath_lon2, swath_lat2, 'k-', transform=ccrs.PlateCarree(), zorder=2)\n",
    "ax.set_extent([-78, -70, 32, 40])#, transform=ccrs.PlateCarree())\n",
    "#ax.plot(er2_lon, er2_lat, 'r-', label='ER-2 Track', zorder=2)\n",
    "ax.legend(loc='upper left')\n",
    "\n",
    "# Formatting commands\n",
    "states_provinces = cfeature.NaturalEarthFeature(category='cultural', name='admin_1_states_provinces_lines', scale='50m', facecolor='none')\n",
    "ax.coastlines()\n",
    "ax.add_feature(cfeature.BORDERS)\n",
    "ax.add_feature(cfeature.COASTLINE)\n",
    "ax.add_feature(states_provinces,edgecolor='gray')\n",
    "gl = ax.gridlines(crs=ccrs.PlateCarree(), draw_labels=True, linewidth=0.5, color='gray', alpha=1, linestyle='-')\n",
    "gl.top_labels = False; gl.right_labels = False\n",
    "gl.xlocator = mticker.FixedLocator([-78,-76,-74,-72])\n",
    "gl.ylocator = mticker.FixedLocator([34,36,38])\n",
    "gl.xlabel_style = {'size': 16}\n",
    "gl.ylabel_style = {'size': 16}\n",
    "gl.xformatter = LongitudeFormatter()\n",
    "gl.yformatter = LatitudeFormatter()\n",
    "\n",
    "plt.show()"
   ]
  },
  {
   "cell_type": "code",
   "execution_count": null,
   "metadata": {
    "collapsed": true
   },
   "outputs": [],
   "source": []
  }
 ],
 "metadata": {
  "kernelspec": {
   "display_name": "Python 3",
   "language": "python",
   "name": "python3"
  },
  "language_info": {
   "codemirror_mode": {
    "name": "ipython",
    "version": 3
   },
   "file_extension": ".py",
   "mimetype": "text/x-python",
   "name": "python",
   "nbconvert_exporter": "python",
   "pygments_lexer": "ipython3",
   "version": "3.7.3"
  }
 },
 "nbformat": 4,
 "nbformat_minor": 4
}
