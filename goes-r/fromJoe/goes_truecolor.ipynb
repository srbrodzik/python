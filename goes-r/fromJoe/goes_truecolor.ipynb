{
 "cells": [
  {
   "cell_type": "markdown",
   "metadata": {},
   "source": [
    "# GOES Mesoscale Sector True Color Imagery\n",
    "\n",
    "This notebook generates mesoscale sector true color imagery from channels 1-3 from the ABI Level 1B data."
   ]
  },
  {
   "cell_type": "code",
   "execution_count": null,
   "metadata": {
    "collapsed": false
   },
   "outputs": [],
   "source": [
    "import numpy as np\n",
    "import xarray as xr\n",
    "import glob\n",
    "import proplot as plot\n",
    "plot.rc.matplotlib = 'notebook'"
   ]
  },
  {
   "cell_type": "markdown",
   "metadata": {},
   "source": [
    "The subroutines below also reside in *truecolor.py*"
   ]
  },
  {
   "cell_type": "code",
   "execution_count": null,
   "metadata": {
    "collapsed": true
   },
   "outputs": [],
   "source": [
    "# Boost the contrast to make brights brighter and darks darker\n",
    "def contrast_correction(color, contrast):\n",
    "    \"\"\"\n",
    "    Modify the contrast of an RGB\n",
    "    See: #www.dfstudios.co.uk/articles/programming/image-programming-algorithms/image-processing-algorithms-part-5-contrast-adjustment/\n",
    "\n",
    "    Input:\n",
    "        C - contrast level\n",
    "    \"\"\"\n",
    "    F = (259*(contrast + 255))/(255.*(259-contrast))\n",
    "    COLOR = F*(color-.5)+.5\n",
    "    COLOR = np.minimum(COLOR, 1)\n",
    "    COLOR = np.maximum(COLOR, 0)\n",
    "    \n",
    "    return COLOR\n",
    "\n",
    "# Subroutine to load mesoscale sector data for a specific channel corresponding to a user-specified time\n",
    "def get_goes(directory, user_time, sector=1, channel=1):\n",
    "    '''\n",
    "    Load mesoscale sector data from the file closest in time to the user-specified time.\n",
    "    \n",
    "    directory: Directory path where the mesoscale sector data are located [str]\n",
    "    user_time: Datetime to use when looking at the closest satellite data\n",
    "    sector: Mesoscale sector to use [int: 1 or 2]\n",
    "    '''\n",
    "    filelist = glob.glob(directory + 'OR_ABI-L1b-RadM' + str(sector) + '*.nc')\n",
    "    td_min = 99999. # smallest time difference in directory between satellite data and user-defined time\n",
    "    filename = None\n",
    "    for files in filelist: # Loop through directory and find the file with the smallest timedelta to the user-defined time\n",
    "        # COMMENT FOR NOW time_sat_str = datetime.strptime(files.split('_')[-1][1:14], '%Y%j%H%M%S')\n",
    "        time_sat_str = files.split('_')[-1][1:14]\n",
    "        time_sat = np.datetime64(time_sat_str[:4], 'Y') + np.timedelta64(int(time_sat_str[4:7])-1, 'D') + np.timedelta64(int(time_sat_str[7:9]), 'h')+np.timedelta64(\n",
    "            int(time_sat_str[9:11]), 'm')+np.timedelta64(int(time_sat_str[11:]), 's')\n",
    "        td = np.abs((time_sat - np.datetime64(user_time))/np.timedelta64(1, 's'))\n",
    "        if td<td_min: # This file is the new closest time for the flight leg\n",
    "            filename = files\n",
    "            td_min = td\n",
    "            \n",
    "    if filename is None:\n",
    "        print('No file found within 1 day of flight leg.')\n",
    "        return None\n",
    "    else:\n",
    "        rad_refl_const = [726.721072, 663.274497, 441.868715] # constants for converting radiance to reflectance for Ch 01, 02, 03\n",
    "        data = xr.open_dataset(filename)\n",
    "        if channel==13: # Clean IR deals with brightness temperature, not radiance/reflectance...but will keep var names for simplicity\n",
    "            rad = data['Rad'].values\n",
    "#             refl_gamma = 1.4387752e4 / (10.3 * np.log(1.191042e8 / (10.3**5) / rad))\n",
    "            planck_fk1 = 10803.29980#202263. data['planck_fk1'].values[0]\n",
    "            planck_fk2 = 1392.73999#3698.18994140625\n",
    "            planck_bc1 = 0.0755#0.4336099922657013\n",
    "            planck_bc2 = 0.99975#0.9993900060653687\n",
    "            refl_gamma = ( planck_fk2 / ( np.log((planck_fk1 / rad) + 1 )) - planck_bc1) / planck_bc2\n",
    "        else:\n",
    "            rad = data['Rad'].values\n",
    "            refl = (rad * np.pi * 0.3) / rad_refl_const[channel-1]\n",
    "            refl = np.clip(refl, 0., 1.) # reflectance <0 --> 0, >1 --> 1\n",
    "            refl_gamma = np.power(refl, 1./2.2)\n",
    "            # COMMENT FOR NOW refl_gamma = np.sqrt(refl)\n",
    "        if channel==2:\n",
    "            domain_shape = [1000, 1000]\n",
    "            sh = domain_shape[0],refl_gamma.shape[0]//domain_shape[0],domain_shape[1],refl_gamma.shape[1]//domain_shape[1]\n",
    "            refl_gamma = refl_gamma.reshape(sh).mean(-1).mean(1)\n",
    "        return data, refl_gamma\n",
    "\n",
    "        \n",
    "def true_color(user_time, sector=1):\n",
    "    '''\n",
    "    Construct the true color image. Follows https://unidata.github.io/python-gallery/examples/mapping_GOES16_TrueColor.html.\n",
    "    \n",
    "    user_time: Time to use for the mesoscale sector data [str in YYYY-mm-ddTHH:MM:SS format]\n",
    "    '''\n",
    "    date = np.datetime_as_string(np.datetime64(user_time, 'D'))\n",
    "    date_alt = date.replace('-', '')\n",
    "    \n",
    "    # Get the mesoscale sector data to make the true color image\n",
    "    # [TODO] Support channel 13 clean IR when VIS isn't available\n",
    "    [data_ch01, refl_ch01] = get_goes('/home/disk/bob/impacts/raw/goes16/Channel01/'+date_alt+'/', user_time, sector=sector, channel=1) # blue\n",
    "    [data_ch02, refl_ch02] = get_goes('/home/disk/bob/impacts/raw/goes16/Channel02/'+date_alt+'/', user_time, sector=sector, channel=2) # red\n",
    "    [data_ch03, refl_ch03] = get_goes('/home/disk/bob/impacts/raw/goes16/Channel03/'+date_alt+'/', user_time, sector=sector, channel=3) # veggie green\n",
    "    #[data_ch13, bt_ch13] = get_goes('/home/disk/bob/impacts/raw/goes16/Channel13/'+date_alt+'/', user_time, sector=1, channel=13) # clean IR\n",
    "    # COMMENT FOR NOW refl_ch03_true = 0.48358168 * refl_ch02 + 0.45706946 * refl_ch01 + 0.06038137 * refl_ch03\n",
    "    refl_ch03_true = 0.45 * refl_ch02 + 0.45 * refl_ch01 + 0.1 * refl_ch03\n",
    "    refl_ch03_true = np.clip(refl_ch03_true, 0., 1.) # reflectance <0 --> 0, >1 --> 1\n",
    "    truecolor = np.stack([refl_ch02, refl_ch03_true, refl_ch01], axis=2)\n",
    "    truecolor_contrast = contrast_correction(truecolor, 105)\n",
    "\n",
    "    # Get the satellite projection info\n",
    "    sat_h = data_ch01['goes_imager_projection'].attrs['perspective_point_height'] # Satellite height\n",
    "    sat_lon = data_ch01['goes_imager_projection'].attrs['longitude_of_projection_origin'] # Satellite longitude\n",
    "    sat_sweep = data_ch01['goes_imager_projection'].attrs['sweep_angle_axis'] # Satellite sweep\n",
    "    semi_major = data_ch01['goes_imager_projection'].attrs['semi_major_axis']\n",
    "    semi_minor = data_ch01['goes_imager_projection'].attrs['semi_minor_axis']\n",
    "\n",
    "    # The projection x and y coordinates equals the scanning angle (in radians) multiplied by the satellite height\n",
    "    # See details here: https://proj4.org/operations/projections/geos.html?highlight=geostationary\n",
    "    X = data_ch01['x'].values * sat_h\n",
    "    Y = data_ch01['y'].values * sat_h\n",
    "\n",
    "    # Get the lat/lon corners\n",
    "    lon_min = data_ch01['geospatial_lat_lon_extent'].attrs['geospatial_westbound_longitude']\n",
    "    lon_max = data_ch01['geospatial_lat_lon_extent'].attrs['geospatial_eastbound_longitude']\n",
    "    lat_min = data_ch01['geospatial_lat_lon_extent'].attrs['geospatial_southbound_latitude']\n",
    "    lat_max = data_ch01['geospatial_lat_lon_extent'].attrs['geospatial_northbound_latitude']\n",
    "    \n",
    "    # Set up the object\n",
    "    tc = {}\n",
    "    tc['R'] = refl_ch02\n",
    "    tc['G_veggie'] = refl_ch03\n",
    "    tc['G_true'] = refl_ch03_true\n",
    "    tc['B'] = refl_ch01\n",
    "    tc['RGB'] = truecolor\n",
    "    tc['RGB_veggie'] = np.stack([refl_ch02, refl_ch03, refl_ch01], axis=2)\n",
    "    tc['sat_height'] = sat_h\n",
    "    tc['sat_lon'] = sat_lon\n",
    "    tc['sat_sweep'] = sat_sweep\n",
    "    tc['semi_major'] = semi_major\n",
    "    tc['semi_minor'] = semi_minor\n",
    "    tc['X_proj'] = X\n",
    "    tc['Y_proj'] = Y\n",
    "    tc['lon_min'] = lon_min\n",
    "    tc['lon_max'] = lon_max\n",
    "    tc['lat_min'] = lat_min\n",
    "    tc['lat_max'] = lat_max\n",
    "    \n",
    "    return tc"
   ]
  },
  {
   "cell_type": "markdown",
   "metadata": {},
   "source": [
    "Call the *true\\_color()* routine to get the RGB values for the specified time and sector."
   ]
  },
  {
   "cell_type": "code",
   "execution_count": null,
   "metadata": {
    "collapsed": true
   },
   "outputs": [],
   "source": [
    "tc = true_color('2020-02-01T14:35:00', sector=2)"
   ]
  },
  {
   "cell_type": "markdown",
   "metadata": {},
   "source": [
    "Plot the imagery with the *proplot* package (https://proplot.readthedocs.io/en/latest/)"
   ]
  },
  {
   "cell_type": "code",
   "execution_count": null,
   "metadata": {
    "collapsed": false
   },
   "outputs": [],
   "source": [
    "plot.rc.update({'savefigtransparent':False, 'reso':'med', 'ticklabelsize':16, 'fontsize':16})\n",
    "geos = plot.Proj('geos', lon_0=tc['sat_lon'], satellite_height=tc['sat_height'], sweep_axis='x')\n",
    "proj = plot.Proj('lcc', lon_0=tc['sat_lon'])\n",
    "fig, ax = plot.subplots(axwidth=6, proj=geos)\n",
    "img1 = ax.imshow(tc['RGB'], origin='upper', transform=geos, extent=(tc['X_proj'].min(), tc['X_proj'].max(), tc['Y_proj'].min(), tc['Y_proj'].max()))\n",
    "ax.format(lonlim=(-82, -68), latlim=(28, 43), lonlocator=np.linspace(-90, -75, 4), title='GOES-16 True Color 14:35 UTC 01 Feb 2020')\n",
    "ax.format(land=False, lakes=True, borders=True, innerborders=True, latlabels='l', lonlabels='b')"
   ]
  },
  {
   "cell_type": "code",
   "execution_count": null,
   "metadata": {
    "collapsed": true
   },
   "outputs": [],
   "source": []
  }
 ],
 "metadata": {
  "kernelspec": {
   "display_name": "Python 3",
   "language": "python",
   "name": "python3"
  },
  "language_info": {
   "codemirror_mode": {
    "name": "ipython",
    "version": 3
   },
   "file_extension": ".py",
   "mimetype": "text/x-python",
   "name": "python",
   "nbconvert_exporter": "python",
   "pygments_lexer": "ipython3",
   "version": "3.7.3"
  }
 },
 "nbformat": 4,
 "nbformat_minor": 4
}
