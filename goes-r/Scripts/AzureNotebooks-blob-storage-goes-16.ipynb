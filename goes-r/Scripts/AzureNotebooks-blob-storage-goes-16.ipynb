{
 "cells": [
  {
   "cell_type": "markdown",
   "metadata": {},
   "source": [
    "## Demo notebook for accessing GOES-16 data on Azure\n",
    "\n",
    "This notebook provides an example of accessing GOES-16 data from blob storage on Azure, including (1) finding the data file corresponding to a date and time, (2) retrieving that file from blob storage, and (3) opening the downloaded file using the [xarray](http://xarray.pydata.org/en/stable/) library, and (4) rendering the image.\n",
    "\n",
    "GOES-16 data are stored in the East US data center, so this notebook will run most efficiently on Azure compute located in East US.  We recommend that substantial computation depending on GOES-16 data also be situated in East US.  If you are using GOES-16 data for environmental science applications, consider applying for an [AI for Earth grant](http://aka.ms/ai4egrants) to support your compute requirements."
   ]
  },
  {
   "cell_type": "markdown",
   "metadata": {},
   "source": [
    "### Imports and environment"
   ]
  },
  {
   "cell_type": "code",
   "execution_count": null,
   "metadata": {},
   "outputs": [],
   "source": [
    "# Mostly-standard imports\n",
    "import os\n",
    "import tempfile\n",
    "import numpy as np\n",
    "import shutil\n",
    "import urllib\n",
    "import matplotlib.pyplot as plt\n",
    "\n",
    "# Less-common-but-still-pip-installable imports\n",
    "import xarray\n",
    "from azure.storage.blob import ContainerClient\n",
    "\n",
    "# pip install progressbar2, not progressbar\n",
    "import progressbar\n",
    "\n",
    "# Storage locations are documented at http://aka.ms/ai4edata-goes16\n",
    "goes_account_name = 'goes'\n",
    "goes_container_name = 'noaa-goes16'\n",
    "goes_account_url = 'https://' + goes_account_name + '.blob.core.windows.net'\n",
    "goes_blob_root = goes_account_url + '/' + goes_container_name + '/'\n",
    "\n",
    "# Create a ContainerClient to enumerate blobs\n",
    "goes_container_client = ContainerClient(account_url=goes_account_url, \n",
    "                                         container_name=goes_container_name,\n",
    "                                         credential=None)\n",
    "\n",
    "temp_dir = os.path.join(tempfile.gettempdir(),'goes')\n",
    "os.makedirs(temp_dir,exist_ok=True)\n",
    "\n",
    "%matplotlib inline"
   ]
  },
  {
   "cell_type": "markdown",
   "metadata": {},
   "source": [
    "### Functions"
   ]
  },
  {
   "cell_type": "code",
   "execution_count": null,
   "metadata": {},
   "outputs": [],
   "source": [
    "class DownloadProgressBar():\n",
    "    \"\"\"\n",
    "    https://stackoverflow.com/questions/37748105/how-to-use-progressbar-module-with-urlretrieve\n",
    "    \"\"\"\n",
    "    \n",
    "    def __init__(self):\n",
    "        self.pbar = None\n",
    "\n",
    "    def __call__(self, block_num, block_size, total_size):\n",
    "        if not self.pbar:\n",
    "            self.pbar = progressbar.ProgressBar(max_value=total_size)\n",
    "            self.pbar.start()\n",
    "            \n",
    "        downloaded = block_num * block_size\n",
    "        if downloaded < total_size:\n",
    "            self.pbar.update(downloaded)\n",
    "        else:\n",
    "            self.pbar.finish()\n",
    "            \n",
    "\n",
    "def download_url(url, destination_filename=None, progress_updater=None, force_download=False):\n",
    "    \"\"\"\n",
    "    Download a URL to a temporary file\n",
    "    \"\"\"\n",
    "    \n",
    "    # This is not intended to guarantee uniqueness, we just know it happens to guarantee\n",
    "    # uniqueness for this application.\n",
    "    if destination_filename is None:\n",
    "        url_as_filename = url.replace('://', '_').replace('/', '_')    \n",
    "        destination_filename = \\\n",
    "            os.path.join(temp_dir,url_as_filename)\n",
    "    if (not force_download) and (os.path.isfile(destination_filename)):\n",
    "        print('Bypassing download of already-downloaded file {}'.format(\n",
    "            os.path.basename(url)))\n",
    "        return destination_filename\n",
    "    print('Downloading file {} to {}'.format(os.path.basename(url),\n",
    "                                             destination_filename),end='')\n",
    "    urllib.request.urlretrieve(url, destination_filename, progress_updater)  \n",
    "    assert(os.path.isfile(destination_filename))\n",
    "    nBytes = os.path.getsize(destination_filename)\n",
    "    print('...done, {} bytes.'.format(nBytes))\n",
    "    return destination_filename"
   ]
  },
  {
   "cell_type": "markdown",
   "metadata": {},
   "source": [
    "### Choose a GOES data file for a known time"
   ]
  },
  {
   "cell_type": "code",
   "execution_count": null,
   "metadata": {},
   "outputs": [],
   "source": [
    "# Data are stored as product/year/day/hour/filename\n",
    "product = 'ABI-L2-MCMIPF'\n",
    "syear = '2020'; sday = '002'; shour = '14';\n",
    "\n",
    "# There will be several scans this hour, we'll take the first\n",
    "scan_index = 0\n",
    "\n",
    "prefix = product + '/' + syear + '/' + sday + '/' + shour + '/'\n",
    "print('Finding blobs matching prefix: {}'.format(prefix))\n",
    "generator = goes_container_client.list_blobs(name_starts_with=prefix)\n",
    "blobs = []\n",
    "for blob in generator:\n",
    "    blobs.append(blob.name)\n",
    "print('Found {} scans'.format(len(blobs)))\n",
    "\n",
    "scan_url = goes_blob_root + blobs[scan_index]"
   ]
  },
  {
   "cell_type": "markdown",
   "metadata": {},
   "source": [
    "### Load the image"
   ]
  },
  {
   "cell_type": "code",
   "execution_count": null,
   "metadata": {},
   "outputs": [],
   "source": [
    "# GOES-16 MCMIPF files are ~300MB.  Not too big to fit in memory, so sometimes it may be \n",
    "# preferable to download to file first, sometimes it will be better to load straight to \n",
    "# memory.\n",
    "download_to_file = True\n",
    "\n",
    "if download_to_file:\n",
    "    \n",
    "    filename = download_url(scan_url,progress_updater=DownloadProgressBar())\n",
    "    from datetime import datetime\n",
    "    dataset = xarray.open_dataset(filename)    \n",
    "\n",
    "else:\n",
    "    \n",
    "    import netCDF4\n",
    "    import requests\n",
    "    \n",
    "    # If you know of a good way to show a progress bar with requests.get (i.e., without writing\n",
    "    # to file), we're all ears, email aiforearthdatasets@microsoft.com!\n",
    "    print('Downloading {} to memory...'.format(os.path.basename(scan_url)))\n",
    "    response = requests.get(scan_url)\n",
    "    print('Finished downloading')\n",
    "    nc4_ds = netCDF4.Dataset(os.path.basename(scan_url), memory = response.content)\n",
    "    store = xarray.backends.NetCDF4DataStore(nc4_ds)\n",
    "    dataset = xarray.open_dataset(store)"
   ]
  },
  {
   "cell_type": "markdown",
   "metadata": {},
   "source": [
    "### Explore the xarray dataset and prepare to plot the image"
   ]
  },
  {
   "cell_type": "code",
   "execution_count": null,
   "metadata": {},
   "outputs": [],
   "source": [
    "print('Scan starts at: {}'.format(dataset.time_coverage_start))\n",
    "print('Scan ends at: {}'.format(dataset.time_coverage_end))\n",
    "\n",
    "# Bands are documented at:\n",
    "#\n",
    "# https://www.ncdc.noaa.gov/data-access/satellite-data/goes-r-series-satellites/glossary\n",
    "#\n",
    "# We'll use the red/\"veggie\"/blue bands with wavelengths 0.64, 0.86, and 0.47, respectively.\n",
    "#\n",
    "# This is close enough to RGB for today, but there's a great tutorial on getting closer to\n",
    "# true color (and doing other fancy rendering tricks with GOES data!) here:\n",
    "#\n",
    "# https://unidata.github.io/python-gallery/examples/mapping_GOES16_TrueColor.html\n",
    "#\n",
    "r = dataset['CMI_C02'].data; r = np.clip(r, 0, 1)\n",
    "g = dataset['CMI_C03'].data; g = np.clip(g, 0, 1)\n",
    "b = dataset['CMI_C01'].data; b = np.clip(r, 0, 1)\n",
    "\n",
    "# Brighten the image a bit for to look more stylish\n",
    "gamma = 2.5; r = np.power(r, 1/gamma); g = np.power(g, 1/gamma); b = np.power(b, 1/gamma)\n",
    "\n",
    "# Create a single RGB image for plotting\n",
    "rgb = np.dstack((r, g, b))"
   ]
  },
  {
   "cell_type": "markdown",
   "metadata": {},
   "source": [
    "### Plot the image"
   ]
  },
  {
   "cell_type": "code",
   "execution_count": null,
   "metadata": {
    "scrolled": true
   },
   "outputs": [],
   "source": [
    "fig = plt.figure(figsize=(7.5, 7.5), dpi=100)\n",
    "\n",
    "# This definitely looks slicker with fancy borders on, at the cost of some extra\n",
    "# imports.\n",
    "show_fancy_borders = True\n",
    "\n",
    "if not show_fancy_borders:\n",
    "    \n",
    "    plt.imshow(rgb); ax = plt.gca(); ax.axis('off');\n",
    "\n",
    "else:\n",
    "    \n",
    "    import metpy\n",
    "    import cartopy.crs as ccrs\n",
    "\n",
    "    # Pick an arbitrary channel to get the x/y coordinates and projection information \n",
    "    # associated with the scan\n",
    "    dummy_channel = dataset.metpy.parse_cf('CMI_C01')\n",
    "    x = dummy_channel.x; y = dummy_channel.y\n",
    "\n",
    "    ax = fig.add_subplot(1, 1, 1, projection=dummy_channel.metpy.cartopy_crs)\n",
    "    ax.imshow(rgb, origin='upper', extent=(x.min(), x.max(), y.min(), y.max()))\n",
    "    ax.coastlines(resolution='50m', color='black')\n",
    "    ax.add_feature(ccrs.cartopy.feature.BORDERS);"
   ]
  },
  {
   "cell_type": "markdown",
   "metadata": {},
   "source": [
    "### Clean up temporary files"
   ]
  },
  {
   "cell_type": "code",
   "execution_count": null,
   "metadata": {},
   "outputs": [],
   "source": [
    "shutil.rmtree(temp_dir)"
   ]
  }
 ],
 "metadata": {
  "kernelspec": {
   "display_name": "Python 3",
   "language": "python",
   "name": "python3"
  },
  "language_info": {
   "codemirror_mode": {
    "name": "ipython",
    "version": 3
   },
   "file_extension": ".py",
   "mimetype": "text/x-python",
   "name": "python",
   "nbconvert_exporter": "python",
   "pygments_lexer": "ipython3",
   "version": "3.7.6"
  }
 },
 "nbformat": 4,
 "nbformat_minor": 2
}
