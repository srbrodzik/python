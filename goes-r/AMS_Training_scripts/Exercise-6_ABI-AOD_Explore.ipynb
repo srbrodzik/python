{
 "cells": [
  {
   "cell_type": "code",
   "execution_count": null,
   "metadata": {
    "collapsed": true
   },
   "outputs": [],
   "source": [
    "# Block 0: Documentation\n",
    "\n",
    "print('Program to open and explore an ABI netCDF file containing aerosol optical depth (AOD) data, AMS Short Course, March 18, 2021\\n')\n",
    "print('Version 1.0, February 8, 2021\\n')\n",
    "print('Written by Dr. Amy Huff (IMSG at NOAA/NESDIS/STAR) and Ryan Theurer (GVT LLC at NOAA/NESDIS/STAR)\\n')\n",
    "print('For questions contact Dr. Huff: amy.huff@noaa.gov\\n')\n",
    "print('This program shows users how to open, read the metadata, and explore the contents of an ABI netCDF4 file containing AOD data.')"
   ]
  },
  {
   "cell_type": "code",
   "execution_count": null,
   "metadata": {
    "ExecuteTime": {
     "end_time": "2021-03-10T17:02:53.847155Z",
     "start_time": "2021-03-10T17:02:53.843157Z"
    },
    "collapsed": true,
    "scrolled": false
   },
   "outputs": [],
   "source": [
    "# Block 1: Import libraries\n",
    "\n",
    "# Library to perform array operations\n",
    "import numpy as np \n",
    "\n",
    "# Library for accessing files in the directory\n",
    "import os\n",
    "\n",
    "# Library to read netCDF files\n",
    "from netCDF4 import Dataset"
   ]
  },
  {
   "cell_type": "code",
   "execution_count": null,
   "metadata": {
    "collapsed": true,
    "scrolled": false
   },
   "outputs": [],
   "source": [
    "# Block 2: Open an ABI netCDF4 data file\n",
    "\n",
    "# Enter file name\n",
    "file_path = os.getcwd() + '/data/'  # Where data file is located\n",
    "file_name = 'OR_ABI-L2-AODC-M6_G17_s20203382001177_e20203382003550_c20203382005376.nc'\n",
    "fname = file_path + file_name\n",
    "\n",
    "# Set the file name to read\n",
    "file_id = Dataset(fname)"
   ]
  },
  {
   "cell_type": "code",
   "execution_count": null,
   "metadata": {
    "collapsed": false
   },
   "outputs": [],
   "source": [
    "# Block 3: List the metadata for the entire file\n",
    "\n",
    "print(file_id)"
   ]
  },
  {
   "cell_type": "code",
   "execution_count": null,
   "metadata": {
    "collapsed": false
   },
   "outputs": [],
   "source": [
    "# Block 4: Show the AOD metadata\n",
    "\n",
    "print(file_id.variables['AOD'])"
   ]
  },
  {
   "cell_type": "code",
   "execution_count": null,
   "metadata": {
    "collapsed": false
   },
   "outputs": [],
   "source": [
    "# Block 5: Convert the AOD valid range from unsigned integers to floats\n",
    "\n",
    "print('AOD range is', (file_id.variables['AOD'].valid_range)*(file_id.variables['AOD'].scale_factor)+(file_id.variables['AOD'].add_offset))"
   ]
  },
  {
   "cell_type": "code",
   "execution_count": null,
   "metadata": {
    "collapsed": false
   },
   "outputs": [],
   "source": [
    "# Block 6: List excerpt of AOD array values and check the range of AOD data\n",
    "\n",
    "print(file_id.variables['AOD'][:,:])\n",
    "print('The maximum AOD value is', np.max(file_id.variables['AOD'][:,:]))\n",
    "print('The minimum AOD value is', np.min(file_id.variables['AOD'][:,:]))"
   ]
  },
  {
   "cell_type": "code",
   "execution_count": null,
   "metadata": {
    "collapsed": false
   },
   "outputs": [],
   "source": [
    "# Block 7: Show the DQF metadata\n",
    "\n",
    "print(file_id.variables['DQF'])"
   ]
  },
  {
   "cell_type": "code",
   "execution_count": null,
   "metadata": {
    "collapsed": false
   },
   "outputs": [],
   "source": [
    "# Block 8: List an excerpt of DQF array values and check the range of DQF data\n",
    "\n",
    "print(file_id.variables['DQF'][:,:])\n",
    "print('The maximum DQF value is', np.max(file_id.variables['DQF'][:,:]))\n",
    "print('The minimum DQF value is', np.min(file_id.variables['DQF'][:,:]))"
   ]
  },
  {
   "cell_type": "code",
   "execution_count": null,
   "metadata": {
    "collapsed": false
   },
   "outputs": [],
   "source": [
    "# Block 9: Show the GOES fixed grid projection x-coordinate metadata and list an excerpt of the array values\n",
    "\n",
    "print(file_id.variables['x'])\n",
    "print(file_id.variables['x'][:])"
   ]
  },
  {
   "cell_type": "code",
   "execution_count": null,
   "metadata": {
    "collapsed": false
   },
   "outputs": [],
   "source": [
    "# Block 10: Show the GOES fixed grid projection y-coordinate metadata and list an excerpt of the array values\n",
    "\n",
    "print(file_id.variables['y'])\n",
    "print(file_id.variables['y'][:])"
   ]
  },
  {
   "cell_type": "code",
   "execution_count": null,
   "metadata": {
    "collapsed": false,
    "scrolled": false
   },
   "outputs": [],
   "source": [
    "# Block 11: Check the data types for AOD, DQF, x, and y variables\n",
    "\n",
    "print('AOD data type is', file_id.variables['AOD'][:,:].dtype)\n",
    "print('DQF data type is', file_id.variables['DQF'][:,:].dtype)\n",
    "print('GOES fixed grid projection x-coordinate data type is', file_id.variables['x'][:].dtype)\n",
    "print('GOES fixed grid projection y-coordinate data type is', file_id.variables['y'][:].dtype)"
   ]
  },
  {
   "cell_type": "code",
   "execution_count": null,
   "metadata": {
    "collapsed": false,
    "scrolled": false
   },
   "outputs": [],
   "source": [
    "# Block 12: Check the units for AOD, DQF, x, and y variables (note: \"1\" means unitless)\n",
    "\n",
    "print('AOD unit is', file_id.variables['AOD'].units)\n",
    "print('DQF unit is', file_id.variables['DQF'].units)\n",
    "print('GOES fixed grid projection x-coordinate unit is', file_id.variables['x'].units)\n",
    "print('GOES fixed grid projection y-coordinate unit is', file_id.variables['y'].units)"
   ]
  },
  {
   "cell_type": "code",
   "execution_count": null,
   "metadata": {
    "collapsed": false
   },
   "outputs": [],
   "source": [
    "# Block 13: Check the spatial resolution of the ABI AOD data\n",
    "\n",
    "print(file_id.title, file_id.spatial_resolution)"
   ]
  },
  {
   "cell_type": "code",
   "execution_count": null,
   "metadata": {
    "ExecuteTime": {
     "end_time": "2021-03-10T17:03:25.260109Z",
     "start_time": "2021-03-10T17:03:25.252128Z"
    },
    "collapsed": true
   },
   "outputs": [],
   "source": [
    "# Block 14: Close the file we opened\n",
    "\n",
    "file_id.close()"
   ]
  },
  {
   "cell_type": "code",
   "execution_count": null,
   "metadata": {
    "collapsed": true
   },
   "outputs": [],
   "source": []
  }
 ],
 "metadata": {
  "kernelspec": {
   "display_name": "Python 3",
   "language": "python",
   "name": "python3"
  },
  "language_info": {
   "codemirror_mode": {
    "name": "ipython",
    "version": 3
   },
   "file_extension": ".py",
   "mimetype": "text/x-python",
   "name": "python",
   "nbconvert_exporter": "python",
   "pygments_lexer": "ipython3",
   "version": "3.7.3"
  },
  "varInspector": {
   "cols": {
    "lenName": 16,
    "lenType": 16,
    "lenVar": 40
   },
   "kernels_config": {
    "python": {
     "delete_cmd_postfix": "",
     "delete_cmd_prefix": "del ",
     "library": "var_list.py",
     "varRefreshCmd": "print(var_dic_list())"
    },
    "r": {
     "delete_cmd_postfix": ") ",
     "delete_cmd_prefix": "rm(",
     "library": "var_list.r",
     "varRefreshCmd": "cat(var_dic_list()) "
    }
   },
   "types_to_exclude": [
    "module",
    "function",
    "builtin_function_or_method",
    "instance",
    "_Feature"
   ],
   "window_display": false
  }
 },
 "nbformat": 4,
 "nbformat_minor": 2
}
