{
 "cells": [
  {
   "cell_type": "code",
   "execution_count": 4,
   "metadata": {
    "collapsed": false
   },
   "outputs": [
    {
     "name": "stdout",
     "output_type": "stream",
     "text": [
      "Program to list and download ABI data files from Amazon Web Services (AWS), AMS Short Course, March 18, 2021\n",
      "\n",
      "Version 1.0, February 8, 2021\n",
      "\n",
      "Written by Dr. Amy Huff (IMSG at NOAA/NESDIS/STAR) and Ryan Theurer (GVT LLC at NOAA/NESDIS/STAR)\n",
      "\n",
      "For questions contact Dr. Huff: amy.huff@noaa.gov\n",
      "\n",
      "This program accesses the ABI data archive on AWS and lists/downloads data files for a given date and time period specified by the user.\n",
      "\n",
      "Block 1 imports modules and libraries, and blocks 2-3 are functions that require no input from the user; there is no visible output from these blocks. In block 4, the user enters settings and obtains output.\n"
     ]
    }
   ],
   "source": [
    "# Block 0: Documentation\n",
    "\n",
    "print('Program to list and download ABI data files from Amazon Web Services (AWS), AMS Short Course, March 18, 2021\\n')\n",
    "print('Version 1.0, February 8, 2021\\n')\n",
    "print('Written by Dr. Amy Huff (IMSG at NOAA/NESDIS/STAR) and Ryan Theurer (GVT LLC at NOAA/NESDIS/STAR)\\n')\n",
    "print('For questions contact Dr. Huff: amy.huff@noaa.gov\\n')\n",
    "print('This program accesses the ABI data archive on AWS and lists/downloads data files for a given date and time period specified by the user.\\n')\n",
    "print('Block 1 imports modules and libraries, and blocks 2-3 are functions that require no input from the user; there is no visible output from these blocks. In block 4, the user enters settings and obtains output.')"
   ]
  },
  {
   "cell_type": "code",
   "execution_count": 5,
   "metadata": {
    "collapsed": false
   },
   "outputs": [],
   "source": [
    "# Block 1: Import modules and libraries\n",
    "\n",
    "# Library to perform array operations\n",
    "import numpy as np\n",
    "\n",
    "# Module to interface with s3 (AWS)\n",
    "import s3fs\n",
    "\n",
    "# Module for manipulating dates and times\n",
    "import datetime\n",
    "\n",
    "# Module to access files in the directory\n",
    "import os"
   ]
  },
  {
   "cell_type": "code",
   "execution_count": 6,
   "metadata": {
    "collapsed": true
   },
   "outputs": [],
   "source": [
    "# Block 2: Find Julian day from given year/month/day\n",
    "# \"year\", \"month\", and \"day\" are global variables set in final block\n",
    "\n",
    "def julian(year, month, day):\n",
    "    calendar = datetime.datetime(year, month, day)\n",
    "    julian_day = calendar.strftime('%j')\n",
    "    \n",
    "    return julian_day"
   ]
  },
  {
   "cell_type": "code",
   "execution_count": 65,
   "metadata": {
    "collapsed": true
   },
   "outputs": [],
   "source": [
    "# Block 3: Create array containing ABI data file names for given satellite/product and date/time period\n",
    "# \"year\", \"month\", \"day\", \"start\", \"end\", \"satellite\", and \"product\" are global variables set in final block\n",
    "\n",
    "def aws_list(year, month, day, start, end, satellite, product, channel, meso):\n",
    "  \n",
    "    # Access AWS using anonymous credentials\n",
    "    aws = s3fs.S3FileSystem(anon=True)\n",
    "\n",
    "    # Make a list of all data files encompassing given date and start/end hours\n",
    "    julian_day = julian(year, month, day)\n",
    "    #start_time = str(start).zfill(4)[0:2]\n",
    "    start_time = start[0:2]\n",
    "    #end_time = str(end).zfill(4)[0:2]\n",
    "    end_time = end[0:2]\n",
    "    hour_range = range(int(start_time), int(end_time) + 1)\n",
    "    print(hour_range)\n",
    "    final_list = []\n",
    "    for i in hour_range:\n",
    "        i_str = str(i).zfill(2)\n",
    "        #hour_files = aws.ls('noaa-goes' + str(satellite) + '/' + product + '/' + str(year) + '/' + julian_day + '/' + str(i) + '/')\n",
    "        hour_files = aws.ls('noaa-goes' + str(satellite) + '/' + product + '/' + str(year) + '/' + julian_day + '/' + i_str + '/')\n",
    "        final_list.extend(hour_files) \n",
    "        all_hours = np.array(final_list)\n",
    "\n",
    "    # Extract list of data files for specified period set by start/end times\n",
    "    data = []\n",
    "    # List file names\n",
    "    for i in all_hours:\n",
    "        if len(meso) > 0:\n",
    "            if (i[-42:-38] >= str(start) and i[-42:-38] <= str(end)) and (i[-58:-55] == channel) and (i[-63:-61] == meso):\n",
    "                data.append(i)\n",
    "        elif (i[-42:-38] >= str(start) and i[-42:-38] <= str(end)) and (i[-58:-55] == channel):\n",
    "            data.append(i)\n",
    "        else:\n",
    "            continue\n",
    "\n",
    "    return data"
   ]
  },
  {
   "cell_type": "code",
   "execution_count": 85,
   "metadata": {
    "collapsed": false
   },
   "outputs": [
    {
     "name": "stdout",
     "output_type": "stream",
     "text": [
      "17\n",
      "C01\n",
      "range(18, 19)\n",
      "OR_ABI-L1b-RadM2-M6C01_G16_s20220481800554_e20220481801011_c20220481801045.nc\n",
      "OR_ABI-L1b-RadM2-M6C01_G16_s20220481801554_e20220481802011_c20220481802046.nc\n",
      "OR_ABI-L1b-RadM2-M6C01_G16_s20220481802554_e20220481803011_c20220481803051.nc\n",
      "OR_ABI-L1b-RadM2-M6C01_G16_s20220481803554_e20220481804011_c20220481804048.nc\n",
      "OR_ABI-L1b-RadM2-M6C01_G16_s20220481804554_e20220481805011_c20220481805045.nc\n",
      "OR_ABI-L1b-RadM2-M6C01_G16_s20220481805554_e20220481806011_c20220481806045.nc\n",
      "OR_ABI-L1b-RadM2-M6C01_G16_s20220481806554_e20220481807011_c20220481807051.nc\n",
      "OR_ABI-L1b-RadM2-M6C01_G16_s20220481809554_e20220481810011_c20220481810046.nc\n",
      "OR_ABI-L1b-RadM2-M6C01_G16_s20220481812554_e20220481813011_c20220481813045.nc\n",
      "OR_ABI-L1b-RadM2-M6C01_G16_s20220481813554_e20220481814011_c20220481814047.nc\n",
      "OR_ABI-L1b-RadM2-M6C01_G16_s20220481814554_e20220481815011_c20220481815045.nc\n",
      "OR_ABI-L1b-RadM2-M6C01_G16_s20220481815554_e20220481816011_c20220481816048.nc\n",
      "OR_ABI-L1b-RadM2-M6C01_G16_s20220481816554_e20220481817011_c20220481817049.nc\n",
      "OR_ABI-L1b-RadM2-M6C01_G16_s20220481817554_e20220481818011_c20220481818045.nc\n",
      "OR_ABI-L1b-RadM2-M6C01_G16_s20220481818554_e20220481819011_c20220481819045.nc\n",
      "OR_ABI-L1b-RadM2-M6C01_G16_s20220481819554_e20220481820012_c20220481820045.nc\n",
      "OR_ABI-L1b-RadM2-M6C01_G16_s20220481820554_e20220481821011_c20220481821053.nc\n",
      "OR_ABI-L1b-RadM2-M6C01_G16_s20220481821554_e20220481822011_c20220481822046.nc\n",
      "OR_ABI-L1b-RadM2-M6C01_G16_s20220481822554_e20220481823011_c20220481823044.nc\n",
      "OR_ABI-L1b-RadM2-M6C01_G16_s20220481823554_e20220481824011_c20220481824046.nc\n",
      "OR_ABI-L1b-RadM2-M6C01_G16_s20220481824554_e20220481825011_c20220481825048.nc\n",
      "OR_ABI-L1b-RadM2-M6C01_G16_s20220481825554_e20220481826011_c20220481826045.nc\n",
      "OR_ABI-L1b-RadM2-M6C01_G16_s20220481826554_e20220481827011_c20220481827052.nc\n",
      "OR_ABI-L1b-RadM2-M6C01_G16_s20220481827554_e20220481828011_c20220481828047.nc\n",
      "OR_ABI-L1b-RadM2-M6C01_G16_s20220481828554_e20220481829011_c20220481829048.nc\n",
      "OR_ABI-L1b-RadM2-M6C01_G16_s20220481829554_e20220481830012_c20220481830049.nc\n",
      "OR_ABI-L1b-RadM2-M6C01_G16_s20220481830554_e20220481831011_c20220481831051.nc\n",
      "OR_ABI-L1b-RadM2-M6C01_G16_s20220481831554_e20220481832011_c20220481832044.nc\n",
      "OR_ABI-L1b-RadM2-M6C01_G16_s20220481832554_e20220481833011_c20220481833052.nc\n",
      "OR_ABI-L1b-RadM2-M6C01_G16_s20220481833554_e20220481834011_c20220481834052.nc\n",
      "OR_ABI-L1b-RadM2-M6C01_G16_s20220481834554_e20220481835011_c20220481835044.nc\n",
      "OR_ABI-L1b-RadM2-M6C01_G16_s20220481835554_e20220481836011_c20220481836055.nc\n",
      "OR_ABI-L1b-RadM2-M6C01_G16_s20220481836554_e20220481837011_c20220481837044.nc\n",
      "OR_ABI-L1b-RadM2-M6C01_G16_s20220481837554_e20220481838011_c20220481838049.nc\n",
      "OR_ABI-L1b-RadM2-M6C01_G16_s20220481838554_e20220481839011_c20220481839046.nc\n",
      "OR_ABI-L1b-RadM2-M6C01_G16_s20220481839554_e20220481840011_c20220481840045.nc\n",
      "OR_ABI-L1b-RadM2-M6C01_G16_s20220481840554_e20220481841011_c20220481841053.nc\n",
      "OR_ABI-L1b-RadM2-M6C01_G16_s20220481841554_e20220481842011_c20220481842046.nc\n",
      "OR_ABI-L1b-RadM2-M6C01_G16_s20220481842554_e20220481843011_c20220481843045.nc\n",
      "OR_ABI-L1b-RadM2-M6C01_G16_s20220481843554_e20220481844011_c20220481844048.nc\n",
      "OR_ABI-L1b-RadM2-M6C01_G16_s20220481844554_e20220481845011_c20220481845045.nc\n",
      "OR_ABI-L1b-RadM2-M6C01_G16_s20220481845554_e20220481846011_c20220481846045.nc\n",
      "OR_ABI-L1b-RadM2-M6C01_G16_s20220481846554_e20220481847011_c20220481847054.nc\n",
      "OR_ABI-L1b-RadM2-M6C01_G16_s20220481847554_e20220481848011_c20220481848048.nc\n",
      "OR_ABI-L1b-RadM2-M6C01_G16_s20220481848554_e20220481849011_c20220481849044.nc\n",
      "OR_ABI-L1b-RadM2-M6C01_G16_s20220481849554_e20220481850012_c20220481850044.nc\n",
      "OR_ABI-L1b-RadM2-M6C01_G16_s20220481850554_e20220481851011_c20220481851056.nc\n",
      "OR_ABI-L1b-RadM2-M6C01_G16_s20220481851554_e20220481852011_c20220481852048.nc\n",
      "OR_ABI-L1b-RadM2-M6C01_G16_s20220481852554_e20220481853011_c20220481853044.nc\n",
      "OR_ABI-L1b-RadM2-M6C01_G16_s20220481853554_e20220481854011_c20220481854048.nc\n",
      "OR_ABI-L1b-RadM2-M6C01_G16_s20220481854554_e20220481855011_c20220481855044.nc\n",
      "OR_ABI-L1b-RadM2-M6C01_G16_s20220481855554_e20220481856011_c20220481856046.nc\n",
      "OR_ABI-L1b-RadM2-M6C01_G16_s20220481856554_e20220481857011_c20220481857045.nc\n",
      "OR_ABI-L1b-RadM2-M6C01_G16_s20220481857554_e20220481858011_c20220481858050.nc\n",
      "OR_ABI-L1b-RadM2-M6C01_G16_s20220481858554_e20220481859011_c20220481859046.nc\n",
      "OR_ABI-L1b-RadM2-M6C01_G16_s20220481859554_e20220481900011_c20220481900046.nc\n",
      "Download complete!\n"
     ]
    }
   ],
   "source": [
    "# Block 4: Enter user settings and list ABI data files, with option to save files locally\n",
    "\n",
    "# Satellite and product settings\n",
    "satellite = 16  # GOES-East = 16, GOES-West = 17\n",
    "#product = 'ABI-L2-AODC'  # ABI product name abbreviation; see list at https://docs.opendata.aws/noaa-goes16/cics-readme.html\n",
    "#product = 'ABI-L1b-RadC'\n",
    "product = 'ABI-L1b-RadM'\n",
    "\n",
    "# Day and time settings\n",
    "year = 2022    # 4-digit year (e.g., 2021)\n",
    "month = 2    # 1- or 2-digit month (e.g., Feb = 2, Oct = 10)\n",
    "#day = 1    # 1- or 2- digit day (e.g., 1, 25)\n",
    "days = range(17,18)\n",
    "start = '1800'    # 4-digit observation start time in UTC, no colon (e.g. 20:00 UTC = 2000)\n",
    "end = '1859'    # 4-digit observation end time in UTC, no colon (e.g. 20:35 UTC = 2035)\n",
    "meso = 'M2'   # String starting with 'M' for Mesosector; valid values: empty string, M1 and M2\n",
    "#channels = ['C01','C08','C13']  # string list starting with 'C' for channel; valid values C01-C16\n",
    "#channels = ['C01','C02','C03','C04','C05','C06','C07','C08','C09','C10',\n",
    "#            'C11','C12','C13','C14','C15','C16']  # string list starting with 'C' for channel; valid values C01-C16\n",
    "channels = ['C01']\n",
    "\n",
    "# Data file saving settings\n",
    "save = 'yes'  # Option to save data files: 'yes' (save to \"file_path\" directory) or 'no' (list file names only)\n",
    "#save_path = os.getcwd() + '/data/'  # Directory where data files will be saved\n",
    "#save_path = '/home/disk/bob/impacts/raw/goes16/CONUS/Channel01/'  # Directory where data files will be saved\n",
    "#save_path_base = '/home/disk/bob/impacts/raw/goes16/CONUS' # Directory where data files will be saved\n",
    "save_path_base = '/home/disk/bob/impacts/raw/goes16/Mesoscale-2' # Directory where data files will be saved\n",
    "\n",
    "#########################################################################################################################\n",
    "\n",
    "if __name__ == \"__main__\":\n",
    "\n",
    "    for day in days:\n",
    "        print(day)\n",
    "        for channel in channels:\n",
    "            print(channel)\n",
    "            yyyymmdd = str(year)+str(month).zfill(2)+str(day).zfill(2)\n",
    "            save_path = save_path_base+'/Channel'+channel[1:3]+'/'+yyyymmdd+'/'  # Directory where data files will be saved\n",
    "            # Query AWS and list filenames matching entered settings\n",
    "            data = aws_list(year, month, day, start, end, satellite, product, channel, meso)\n",
    "            if len(data) > 0:\n",
    "                for i in data:\n",
    "                    print(i.split('/')[-1])\n",
    "            else:\n",
    "                print('No files retrieved.  Check settings and try again.')\n",
    "\n",
    "            # Downlad and save data files to specfied directory\n",
    "            if save == 'yes':\n",
    "                if not os.path.isdir(save_path):\n",
    "                    os.makedirs(save_path)\n",
    "                aws = s3fs.S3FileSystem(anon=True)\n",
    "                for i in data:\n",
    "                    aws.get(i, save_path + i.split('/')[-1])\n",
    "                print('Download complete!')\n",
    "            else:\n",
    "                pass"
   ]
  },
  {
   "cell_type": "code",
   "execution_count": null,
   "metadata": {
    "collapsed": true
   },
   "outputs": [],
   "source": []
  }
 ],
 "metadata": {
  "kernelspec": {
   "display_name": "Python 3",
   "language": "python",
   "name": "python3"
  },
  "language_info": {
   "codemirror_mode": {
    "name": "ipython",
    "version": 3
   },
   "file_extension": ".py",
   "mimetype": "text/x-python",
   "name": "python",
   "nbconvert_exporter": "python",
   "pygments_lexer": "ipython3",
   "version": "3.7.3"
  },
  "varInspector": {
   "cols": {
    "lenName": 16,
    "lenType": 16,
    "lenVar": 40
   },
   "kernels_config": {
    "python": {
     "delete_cmd_postfix": "",
     "delete_cmd_prefix": "del ",
     "library": "var_list.py",
     "varRefreshCmd": "print(var_dic_list())"
    },
    "r": {
     "delete_cmd_postfix": ") ",
     "delete_cmd_prefix": "rm(",
     "library": "var_list.r",
     "varRefreshCmd": "cat(var_dic_list()) "
    }
   },
   "types_to_exclude": [
    "module",
    "function",
    "builtin_function_or_method",
    "instance",
    "_Feature"
   ],
   "window_display": false
  }
 },
 "nbformat": 4,
 "nbformat_minor": 2
}
