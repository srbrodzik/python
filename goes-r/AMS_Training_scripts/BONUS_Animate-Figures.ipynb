{
 "cells": [
  {
   "cell_type": "code",
   "execution_count": null,
   "metadata": {},
   "outputs": [],
   "source": [
    "# Block 0: Documentation\n",
    "\n",
    "print('Program to animate figures, AMS Short Course, March 18, 2021\\n')\n",
    "print('Version 1.0, February 8, 2021\\n')\n",
    "print('Written by Dr. Amy Huff (IMSG at NOAA/NESDIS/STAR) and Ryan Theurer (GVT LLC at NOAA/NESDIS/STAR)\\n')\n",
    "print('For questions contact Dr. Huff: amy.huff@noaa.gov\\n')\n",
    "print('This program creates an animation of multiple graphics files (figures).\\n')\n",
    "print('Block 1 imports modules and libraries, and block 2 is a function that require no input from the user; there is no visible output from these blocks. In block 3, the user enters settings and obtains output.')"
   ]
  },
  {
   "cell_type": "code",
   "execution_count": null,
   "metadata": {
    "scrolled": false
   },
   "outputs": [],
   "source": [
    "# Block 1: Import modules and libraries\n",
    "\n",
    "# Module to access files in the directory\n",
    "import os\n",
    "\n",
    "# Module to collect lists of files from folders\n",
    "import glob\n",
    "\n",
    "# Main plotting libraries\n",
    "import matplotlib.pyplot as plt \n",
    "import matplotlib.image as mgimg\n",
    "from matplotlib import animation\n",
    "# Setting to force output to external window\n",
    "%matplotlib qt"
   ]
  },
  {
   "cell_type": "code",
   "execution_count": null,
   "metadata": {},
   "outputs": [],
   "source": [
    "# Block 2: Animate multiple graphics files using matplotlib's \"Artist Animation\"\n",
    "# \"interval,\" \"save_path\", and \"save_name\" are global variables set in final block\n",
    "\n",
    "def mpl_animation(file_list, interval, save_path, save_name):\n",
    "    # Set up figure with unlabeled axes\n",
    "    fig = plt.figure(figsize=(13,10), tight_layout=True)\n",
    "    ax = plt.axes()\n",
    "    ax.get_xaxis().set_visible(False)\n",
    "    ax.get_yaxis().set_visible(False)\n",
    "\n",
    "    # Create an empty list to store images\n",
    "    images = []\n",
    "    \n",
    "    # Loop through graphics files, reading each and appending to list\n",
    "    for x in file_list:\n",
    "        image = mgimg.imread(x)\n",
    "        image_plot = plt.imshow(image)\n",
    "        images.append([image_plot])\n",
    "\n",
    "    # Create animation\n",
    "    mpl_animation = animation.ArtistAnimation(fig, images)\n",
    "\n",
    "    # Save animation as .gif with \"save_name\" to specified directory \n",
    "    writer_gif = animation.PillowWriter(fps=(1/interval)) \n",
    "    mpl_animation.save(save_path + save_name + '.gif', writer=writer_gif)\n",
    "    \n",
    "    print('Animation done!')"
   ]
  },
  {
   "cell_type": "code",
   "execution_count": null,
   "metadata": {},
   "outputs": [],
   "source": [
    "# Block 3: Enter user settings and create an animation of graphics files\n",
    "\n",
    "# File settings\n",
    "file_path = os.getcwd() + '/'  # Directory where graphics files are located\n",
    "save_path = os.getcwd() + '/'  # Directory where animation will be saved\n",
    "save_name = 'G17_ABI_AOD_Top2_20201203_Animation'  # File name for saved animation\n",
    "\n",
    "# Animation settings\n",
    "interval = 2  # Time in seconds between frames\n",
    "\n",
    "#####################################################################################################################\n",
    "\n",
    "if __name__ == \"__main__\":\n",
    "    \n",
    "    # Collect all of graphics files in specified directory\n",
    "    # Wild card notation and keywords ('*top2*.png') selects all .png files containing \"top2\" in file name\n",
    "    file_list = sorted(glob.glob(file_path + '*top2*.png'))\n",
    "    mpl_animation(file_list, interval, save_path, save_name)"
   ]
  },
  {
   "cell_type": "code",
   "execution_count": null,
   "metadata": {},
   "outputs": [],
   "source": []
  }
 ],
 "metadata": {
  "kernelspec": {
   "display_name": "Python 3",
   "language": "python",
   "name": "python3"
  },
  "language_info": {
   "codemirror_mode": {
    "name": "ipython",
    "version": 3
   },
   "file_extension": ".py",
   "mimetype": "text/x-python",
   "name": "python",
   "nbconvert_exporter": "python",
   "pygments_lexer": "ipython3",
   "version": "3.8.5"
  },
  "varInspector": {
   "cols": {
    "lenName": 16,
    "lenType": 16,
    "lenVar": 40
   },
   "kernels_config": {
    "python": {
     "delete_cmd_postfix": "",
     "delete_cmd_prefix": "del ",
     "library": "var_list.py",
     "varRefreshCmd": "print(var_dic_list())"
    },
    "r": {
     "delete_cmd_postfix": ") ",
     "delete_cmd_prefix": "rm(",
     "library": "var_list.r",
     "varRefreshCmd": "cat(var_dic_list()) "
    }
   },
   "types_to_exclude": [
    "module",
    "function",
    "builtin_function_or_method",
    "instance",
    "_Feature"
   ],
   "window_display": false
  }
 },
 "nbformat": 4,
 "nbformat_minor": 2
}
