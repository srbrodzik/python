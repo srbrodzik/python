{
 "cells": [
  {
   "cell_type": "markdown",
   "metadata": {},
   "source": [
    "<h2>Introducing miscellaneous utilities in AWOT.</h2>\n",
    "<h4>This notebook will grow over time as utilites are added and I have time to update.</h4>"
   ]
  },
  {
   "cell_type": "code",
   "execution_count": 2,
   "metadata": {
    "collapsed": false
   },
   "outputs": [],
   "source": [
    "# Load the needed packages\n",
    "import os\n",
    "import matplotlib.pyplot as plt\n",
    "import numpy as np\n",
    "from netCDF4 import Dataset\n",
    "\n",
    "import awot\n",
    "\n",
    "%matplotlib inline"
   ]
  },
  {
   "cell_type": "markdown",
   "metadata": {},
   "source": [
    "<b> First we'll need some data to interact with</b>"
   ]
  },
  {
   "cell_type": "code",
   "execution_count": 2,
   "metadata": {
    "collapsed": true
   },
   "outputs": [],
   "source": [
    "# Released data file\n",
    "wcrf1 = os.path.join(\"/Users/guy/data/king_air/owles2013/wcr\", \"WCR.OWLES13.20131215.225944_234806.up-down.nc\")\n",
    "\n",
    "# Supplementary file with corrected velocity data\n",
    "wcrf2 = os.path.join(\"/Users/guy/data/king_air/owles2013/wcr/\", \"W-CORRECTED.WCR.OWLES13.20131215.225944_234806.up-down.nc\")"
   ]
  },
  {
   "cell_type": "markdown",
   "metadata": {},
   "source": [
    "<b>Read in the radar data</b>"
   ]
  },
  {
   "cell_type": "code",
   "execution_count": 3,
   "metadata": {
    "collapsed": false
   },
   "outputs": [
    {
     "name": "stdout",
     "output_type": "stream",
     "text": [
      "height_zdr does not exist in file...\n",
      "height_ldr does not exist in file...\n",
      "zdr does not exist in file...\n",
      "ldr does not exist in file...\n"
     ]
    }
   ],
   "source": [
    "wcr = awot.io.read_wcr2(fname=wcrf1)"
   ]
  },
  {
   "cell_type": "markdown",
   "metadata": {},
   "source": [
    "<h3>Data instances</h3>"
   ]
  },
  {
   "cell_type": "markdown",
   "metadata": {},
   "source": [
    "<b>Read a variable from another file and add it to the AWOT dictionary. A mask of invalid data is automatically applied. Additional masking can be accomplished by setting the <i>mask_value</i> keyword.</b>"
   ]
  },
  {
   "cell_type": "code",
   "execution_count": 4,
   "metadata": {
    "collapsed": false
   },
   "outputs": [
    {
     "name": "stdout",
     "output_type": "stream",
     "text": [
      "((14388, 379), (14388, 379))\n",
      "(-15.640082, 15.023235)\n",
      "(-16.568499, 19.136526)\n"
     ]
    }
   ],
   "source": [
    "nc = Dataset(wcrf2)\n",
    "velcor = nc.variables['Velocity_cor_2']\n",
    "awot.util.add_dict_to_awot_fields(wcr, 'velocity_corrected', data=velcor[:],\n",
    "                                 units=velcor.units, longname=velcor.long_name, stdname=\"Corrected velocity\")\n",
    "\n",
    "print(wcr['fields']['velocity']['data'].shape, wcr['fields']['velocity_corrected']['data'].shape)\n",
    "print(np.ma.min(wcr['fields']['velocity']['data']), np.ma.max(wcr['fields']['velocity']['data']))\n",
    "print(np.ma.min(wcr['fields']['velocity_corrected']['data']), np.ma.max(wcr['fields']['velocity_corrected']['data']))"
   ]
  },
  {
   "cell_type": "markdown",
   "metadata": {},
   "source": [
    "<b>Just as in the plotting routines, time can be subset using a date string. But maybe you want to just return a subsetted dicationary for use. The <i>time_subset_awot_dict</i> function does this.</b>"
   ]
  },
  {
   "cell_type": "code",
   "execution_count": 7,
   "metadata": {
    "collapsed": false
   },
   "outputs": [],
   "source": [
    "start_time = \"2013-12-15 23:05:00\"\n",
    "end_time = \"2013-12-15 23:15:00\"\n",
    "\n",
    "# Create subsets of arrays\n",
    "refsub = awot.util.time_subset_awot_dict(wcr['time'], wcr['fields']['reflectivity'],\n",
    "                                        start_time, end_time)\n",
    "velsub = awot.util.time_subset_awot_dict(wcr['time'], wcr['fields']['velocity'],\n",
    "                                        start_time, end_time)\n",
    "altsub = awot.util.time_subset_awot_dict(wcr['time'], wcr['altitude'],\n",
    "                                        start_time, end_time)"
   ]
  },
  {
   "cell_type": "code",
   "execution_count": 8,
   "metadata": {
    "collapsed": false
   },
   "outputs": [
    {
     "name": "stdout",
     "output_type": "stream",
     "text": [
      "((14388, 379), (2975, 379))\n",
      "((14388, 379), (2975, 379))\n",
      "((14388,), (2975,))\n"
     ]
    }
   ],
   "source": [
    "print(wcr['fields']['reflectivity']['data'].shape, refsub['data'].shape)\n",
    "print(wcr['fields']['velocity']['data'].shape, velsub['data'].shape)\n",
    "print(wcr['altitude']['data'].shape, altsub['data'].shape)"
   ]
  },
  {
   "cell_type": "markdown",
   "metadata": {},
   "source": [
    "<b>AWOT uses Py-ART to read many radar files. Therefore we can read through AWOT.</b>"
   ]
  },
  {
   "cell_type": "code",
   "execution_count": 8,
   "metadata": {
    "collapsed": true
   },
   "outputs": [],
   "source": [
    "nexf = os.path.join(\"/Users/guy/data/nexrad/KILN/nex2/20140429\", \"KILN20140430_004708_V06\")\n",
    "rnex = awot.io.read_ground_radar(nexf, map_to_awot=False)"
   ]
  },
  {
   "cell_type": "code",
   "execution_count": 7,
   "metadata": {
    "collapsed": false
   },
   "outputs": [
    {
     "name": "stderr",
     "output_type": "stream",
     "text": [
      "/Users/guy/anaconda/lib/python2.7/site-packages/IPython/core/formatters.py:90: DeprecationWarning: DisplayFormatter._ipython_display_formatter_default is deprecated: use @default decorator instead.\n",
      "  def _ipython_display_formatter_default(self):\n",
      "/Users/guy/anaconda/lib/python2.7/site-packages/IPython/core/formatters.py:667: DeprecationWarning: PlainTextFormatter._singleton_printers_default is deprecated: use @default decorator instead.\n",
      "  def _singleton_printers_default(self):\n"
     ]
    },
    {
     "data": {
      "text/plain": [
       "['differential_phase',\n",
       " 'cross_correlation_ratio',\n",
       " 'spectrum_width',\n",
       " 'reflectivity',\n",
       " 'differential_reflectivity',\n",
       " 'velocity']"
      ]
     },
     "execution_count": 7,
     "metadata": {},
     "output_type": "execute_result"
    }
   ],
   "source": [
    "rnex.fields.keys()"
   ]
  },
  {
   "cell_type": "markdown",
   "metadata": {},
   "source": [
    "<b> By changing the <i>map_to_awot</i> key we can convert the Py-ART radar instance to an AWOT radar instance. Note this is the DEFAULT behavior to make working with the AWOT package a bit easier.</b>"
   ]
  },
  {
   "cell_type": "code",
   "execution_count": 9,
   "metadata": {
    "collapsed": true
   },
   "outputs": [],
   "source": [
    "rnex = awot.io.read_ground_radar(nexf, map_to_awot=True)"
   ]
  },
  {
   "cell_type": "code",
   "execution_count": 10,
   "metadata": {
    "collapsed": false
   },
   "outputs": [
    {
     "data": {
      "text/plain": [
       "['platform',\n",
       " 'time',\n",
       " 'instrument',\n",
       " 'latitude',\n",
       " 'fields',\n",
       " 'height',\n",
       " 'data_format',\n",
       " 'longitude',\n",
       " 'metadata']"
      ]
     },
     "execution_count": 10,
     "metadata": {},
     "output_type": "execute_result"
    }
   ],
   "source": [
    "rnex.keys()"
   ]
  },
  {
   "cell_type": "markdown",
   "metadata": {},
   "source": [
    "<b>An experimental KMZ file creation is available for flight data.</b>"
   ]
  },
  {
   "cell_type": "code",
   "execution_count": 11,
   "metadata": {
    "collapsed": false
   },
   "outputs": [
    {
     "name": "stdout",
     "output_type": "stream",
     "text": [
      "Using 'time' to make AWOT time variable\n"
     ]
    }
   ],
   "source": [
    "flname = os.path.join(\"/Users/guy/data/king_air/pecan2015\", \"20150716.c1.nc\")\n",
    "fl1 = awot.io.read_netcdf(fname=flname, platform='uwka')"
   ]
  },
  {
   "cell_type": "markdown",
   "metadata": {},
   "source": [
    "<b>Now we can create a KMZ file of the track. This saves a KMZ file to current working directory if not specified.</b>"
   ]
  },
  {
   "cell_type": "code",
   "execution_count": null,
   "metadata": {
    "collapsed": true
   },
   "outputs": [],
   "source": [
    "awot.util.write_track_kmz(fl1, 'altitude', show_legend=False, end_time=\"2016-01-01T00:00:00\")"
   ]
  }
 ],
 "metadata": {
  "kernelspec": {
   "display_name": "Python 2",
   "language": "python",
   "name": "python2"
  },
  "language_info": {
   "codemirror_mode": {
    "name": "ipython",
    "version": 2
   },
   "file_extension": ".py",
   "mimetype": "text/x-python",
   "name": "python",
   "nbconvert_exporter": "python",
   "pygments_lexer": "ipython2",
   "version": "2.7.10"
  }
 },
 "nbformat": 4,
 "nbformat_minor": 0
}
