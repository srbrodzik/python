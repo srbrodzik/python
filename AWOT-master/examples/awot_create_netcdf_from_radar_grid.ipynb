{
 "cells": [
  {
   "cell_type": "markdown",
   "metadata": {
    "collapsed": false
   },
   "source": [
    "<h2>Read a binary file created by windsyn and save to a NetCDF formatted file"
   ]
  },
  {
   "cell_type": "code",
   "execution_count": 1,
   "metadata": {
    "collapsed": false
   },
   "outputs": [],
   "source": [
    "# Load the needed packages\n",
    "from glob import glob\n",
    "import os\n",
    "import awot"
   ]
  },
  {
   "cell_type": "code",
   "execution_count": 2,
   "metadata": {
    "collapsed": false
   },
   "outputs": [
    {
     "name": "stdout",
     "output_type": "stream",
     "text": [
      "Guessing that instrument is TDR, this can be set with platform keyword\n"
     ]
    }
   ],
   "source": [
    "# Set the project name\n",
    "Project=\"DYNAMO\"\n",
    "\n",
    "# Choose what file to process\n",
    "yymmdd, modn = '030610', '0528hn'\n",
    "\n",
    "# Set the data directory\n",
    "fDir = \"/Users/guy/data/bamex/radar/\"\n",
    "\n",
    "# Construct the full path name for windsyn NetCDF file\n",
    "P3Radf = os.path.join(fDir, yymmdd, modn)\n",
    "\n",
    "# Get the tail radar data\n",
    "radar = awot.io.read_windsyn_binary(fname=P3Radf, platform='p-3')\n",
    "\n",
    "awot.io.radar2nc(radar, Outfile='dynamo_'+yymmdd+'_'+modn)"
   ]
  },
  {
   "cell_type": "code",
   "execution_count": null,
   "metadata": {
    "collapsed": false
   },
   "outputs": [],
   "source": []
  }
 ],
 "metadata": {
  "kernelspec": {
   "display_name": "Python 2",
   "language": "python",
   "name": "python2"
  },
  "language_info": {
   "codemirror_mode": {
    "name": "ipython",
    "version": 2
   },
   "file_extension": ".py",
   "mimetype": "text/x-python",
   "name": "python",
   "nbconvert_exporter": "python",
   "pygments_lexer": "ipython2",
   "version": "2.7.10"
  }
 },
 "nbformat": 4,
 "nbformat_minor": 0
}
