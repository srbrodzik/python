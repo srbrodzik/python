{
 "cells": [
  {
   "cell_type": "markdown",
   "metadata": {},
   "source": [
    "<h2>Load and plot a T-28 NetCDF file</h2><br>\n",
    "<i>Files can be found [here](http://data.eol.ucar.edu/master_list/?project=T-28)\n",
    "<br>\n",
    "They follow RAF nimbus conventions</i>"
   ]
  },
  {
   "cell_type": "code",
   "execution_count": 1,
   "metadata": {
    "collapsed": true
   },
   "outputs": [],
   "source": [
    "# Load the needed packages\n",
    "import numpy as np\n",
    "import matplotlib.pyplot as plt\n",
    "\n",
    "import awot\n",
    "from awot.graph.common import create_basemap\n",
    "from awot.graph import FlightLevel\n",
    "\n",
    "%matplotlib inline"
   ]
  },
  {
   "cell_type": "markdown",
   "metadata": {},
   "source": [
    "Supply user information"
   ]
  },
  {
   "cell_type": "code",
   "execution_count": 2,
   "metadata": {
    "collapsed": true
   },
   "outputs": [],
   "source": [
    "# Set the path for data file\n",
    "flname=\"/Users/guy/data/t28/jpole/T28_JPOLE2003_800.nc\""
   ]
  },
  {
   "cell_type": "markdown",
   "metadata": {},
   "source": [
    "<li>Set up some characteristics for plotting. \n",
    "<li>Use Cylindrical Equidistant Area map projection.\n",
    "<li>Set the spacing of the barbs and X-axis time step for labels.\n",
    "<li>Set the start and end times for subsetting."
   ]
  },
  {
   "cell_type": "code",
   "execution_count": 32,
   "metadata": {
    "collapsed": false
   },
   "outputs": [],
   "source": [
    "proj = 'cea'\n",
    "Wbarb_Spacing = 300 # Spacing of wind barbs along flight path (sec)\n",
    "\n",
    "# Choose the X-axis time step (in seconds) where major labels will be\n",
    "XlabStride = 3600\n",
    "\n",
    "# Should landmarks be plotted? [If yes, then modify the section below\n",
    "Lmarks=False\n",
    "\n",
    "# Optional variables that can be included with AWOT\n",
    "# Start and end times for track in Datetime instance format\n",
    "#start_time = \"2003-08-06 00:00:00\"\n",
    "#end_time = \"2003-08-06 23:50:00\"\n",
    "\n",
    "corners = [-96., 34., -98., 36.,]"
   ]
  },
  {
   "cell_type": "markdown",
   "metadata": {},
   "source": [
    "Read in flight data<br>\n",
    "NOTE: At time or writing this it is required that the ```time_var``` argument be provided to make the read function work properly. This may change in the future, but time variables are not standard even among RAF Nimbus guidelines."
   ]
  },
  {
   "cell_type": "code",
   "execution_count": 3,
   "metadata": {
    "collapsed": false
   },
   "outputs": [
    {
     "name": "stdout",
     "output_type": "stream",
     "text": [
      "Using 'Time' to make AWOT time variable\n"
     ]
    }
   ],
   "source": [
    "fl = awot.io.read_netcdf(fname=flname, platform='t28', time_var=\"Time\")"
   ]
  },
  {
   "cell_type": "code",
   "execution_count": 13,
   "metadata": {
    "collapsed": false
   },
   "outputs": [
    {
     "data": {
      "text/plain": [
       "['GPS_MAGNETIC_DEVIATION',\n",
       " 'FIELD_METER_TOP',\n",
       " 'LWC_DMT',\n",
       " 'ACCELERATION_Z',\n",
       " 'EX_EARTH',\n",
       " 'pressure_altitude',\n",
       " 'ACCELERATION_VERTICAL',\n",
       " 'HAIL_LIQUID_WATER_MIXING_RATIO',\n",
       " 'FSSP_EQUIVALENT_DIAMETER_VARIANCE',\n",
       " 'UPDRAFT',\n",
       " 'DENSITY_AIR',\n",
       " 'time',\n",
       " 'flight_number',\n",
       " 'platform',\n",
       " 'Uwind',\n",
       " 'pitch',\n",
       " 'EQ_AIRCRAFT_CHARGE',\n",
       " 'HAIL_TOTAL_COUNTS',\n",
       " 'TIME_GPS_DECIMAL',\n",
       " 'HAIL_WATER',\n",
       " 'PMS_END_ELEMENT_2',\n",
       " 'PMS_END_ELEMENT_1',\n",
       " 'FSSP_TOTAL_COUNTS',\n",
       " 'tas',\n",
       " 'ACCELERATION_Y',\n",
       " 'HAIL_AVERAGE_DIAMETER',\n",
       " 'FIELD_METER_RIGHT',\n",
       " 'altitude',\n",
       " 'FSSP_EQUIVALENT_DIAMETER',\n",
       " 'PRESSURE_DYNAMIC_2',\n",
       " 'FIELD_METER_6',\n",
       " 'FSSP_TOTAL_STROBES',\n",
       " 'GPS_GROUNDSPEED',\n",
       " 'FSSP_LIQUID_WATER',\n",
       " 'MANIFOLD_PRESSURE',\n",
       " 'EY_AIRCRAFT',\n",
       " 'EX_AIRCRAFT',\n",
       " 'latitude',\n",
       " 'DZDT_POINT',\n",
       " 'ACCELERATION_X',\n",
       " 'ias',\n",
       " 'VOLTAGE_REGULATOR',\n",
       " 'EX_PATH',\n",
       " 'FSSP_GATED_STROBES',\n",
       " 'PRESSURE_STATIC_2',\n",
       " 'Vwind',\n",
       " 'PRESSURE_STATIC_1',\n",
       " 'SHADOW_OR_PMS',\n",
       " 'EY_EARTH',\n",
       " 'NO_CONCENTRATION',\n",
       " 'TEMPERATURE_ROSEMOUNT_SENSOR',\n",
       " 'FSSP_ACTIVITY',\n",
       " 'FSSP_AVERAGE_DIAMETER',\n",
       " 'track',\n",
       " 'PRESSURE_DYNAMIC_1',\n",
       " 'FIELD_METER_BOTTOM',\n",
       " 'roll_angle',\n",
       " 'TRUE_AIRSPEED_NCAR',\n",
       " 'TEMPERATURE_REVERSE_FLOW_SENSOR',\n",
       " 'FSSP_TOTAL_PARTICLE_CONCENTRATION',\n",
       " 'equiv_potential_temp',\n",
       " 'EY_PATH',\n",
       " 'EVENT_MARKERS',\n",
       " 'INTERIOR_TEMPERATURE',\n",
       " 'longitude',\n",
       " 'project',\n",
       " 'EZ_AIRCRAFT',\n",
       " 'HAIL_CONCENTRATION',\n",
       " 'HEATER_CURRENT',\n",
       " 'FSSP_LIQUID_WATER_MIXING_RATIO',\n",
       " 'HEADING_MAGNETIC',\n",
       " 'GPS_GROUND_TRACK_ANGLE',\n",
       " 'EZ_EARTH',\n",
       " 'EZ_PATH',\n",
       " 'FIELD_METER_5',\n",
       " 'GPS_RATE_OF_CLIMB',\n",
       " 'turb',\n",
       " 'FIELD_METER_LEFT']"
      ]
     },
     "execution_count": 13,
     "metadata": {},
     "output_type": "execute_result"
    }
   ],
   "source": [
    "fl.keys()"
   ]
  },
  {
   "cell_type": "markdown",
   "metadata": {},
   "source": [
    "Create the track figure for this flight, there appear to be some bunk data values in lat/lon"
   ]
  },
  {
   "cell_type": "code",
   "execution_count": 34,
   "metadata": {
    "collapsed": false
   },
   "outputs": [
    {
     "name": "stdout",
     "output_type": "stream",
     "text": [
      "(34.7575, 35.293167)\n",
      "(34.7575, 35.293167)\n",
      "(-97.715332, -96.65583)\n",
      "4991.01\n"
     ]
    }
   ],
   "source": [
    "print(fl['latitude']['data'].min(), fl['latitude']['data'].max())\n",
    "fl['latitude']['data'][:] = np.ma.masked_equal(fl['latitude']['data'][:], 0.)\n",
    "fl['longitude']['data'][:] = np.ma.masked_equal(fl['longitude']['data'][:], 0.)\n",
    "print(fl['latitude']['data'].min(), fl['latitude']['data'].max())\n",
    "print(fl['longitude']['data'].min(), fl['longitude']['data'].max())\n",
    "print(fl['altitude']['data'].max())"
   ]
  },
  {
   "cell_type": "code",
   "execution_count": 35,
   "metadata": {
    "collapsed": false
   },
   "outputs": [
    {
     "data": {
      "image/png": "[encoded data removed]",
      "text/plain": [
       "<matplotlib.figure.Figure at 0x1161d2210>"
      ]
     },
     "metadata": {},
     "output_type": "display_data"
    }
   ],
   "source": [
    "fig, ax = plt.subplots(1, 1, figsize=(9, 9))\n",
    "\n",
    "# Create the basemap\n",
    "bm = create_basemap(corners=corners, proj=proj, resolution='l', area_thresh=1.,ax=ax)\n",
    "bm.drawcounties()\n",
    "# Instantiate the Flight plotting routines\n",
    "flp = FlightLevel(fl, basemap=bm)\n",
    "flp.plot_trackmap(\n",
    "#                 start_time=start_time, end_time=end_time,\n",
    "                 color_by_altitude=True, track_cmap='spectral',\n",
    "                 min_altitude=50., max_altitude= 5000.,\n",
    "                 addlegend=True, addtitle=False)"
   ]
  },
  {
   "cell_type": "code",
   "execution_count": null,
   "metadata": {
    "collapsed": true
   },
   "outputs": [],
   "source": []
  }
 ],
 "metadata": {
  "kernelspec": {
   "display_name": "Python 2",
   "language": "python",
   "name": "python2"
  },
  "language_info": {
   "codemirror_mode": {
    "name": "ipython",
    "version": 2
   },
   "file_extension": ".py",
   "mimetype": "text/x-python",
   "name": "python",
   "nbconvert_exporter": "python",
   "pygments_lexer": "ipython2",
   "version": "2.7.10"
  }
 },
 "nbformat": 4,
 "nbformat_minor": 0
}
