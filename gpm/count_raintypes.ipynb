{
 "cells": [
  {
   "cell_type": "code",
   "execution_count": 1,
   "metadata": {
    "collapsed": false
   },
   "outputs": [
    {
     "name": "stdout",
     "output_type": "stream",
     "text": [
      "Using matplotlib backend: TkAgg\n"
     ]
    }
   ],
   "source": [
    "import os\n",
    "import netCDF4 as nc4\n",
    "import numpy as np\n",
    "import datetime as dt\n",
    "from matplotlib.dates import DateFormatter, MonthLocator\n",
    "\n",
    "# For plotting\n",
    "%matplotlib\n",
    "import matplotlib as mpl\n",
    "import matplotlib.pyplot as plt"
   ]
  },
  {
   "cell_type": "code",
   "execution_count": 2,
   "metadata": {
    "collapsed": true
   },
   "outputs": [],
   "source": [
    "STRA = 1\n",
    "CONV = 2\n",
    "OTHER = 3\n",
    "\n",
    "NHW = 0\n",
    "NHC = 1\n",
    "NHE = 2"
   ]
  },
  {
   "cell_type": "code",
   "execution_count": 3,
   "metadata": {
    "collapsed": true
   },
   "outputs": [],
   "source": [
    "#User inputs\n",
    "indir_v05 = '/home/disk/bob/gpm/nht_ku/classify/ex_data_v05'\n",
    "indir_ite132 = '/home/disk/bob/gpm/nht_ku/classify/ex_data_ite132'\n",
    "indir_ite601 = '/home/disk/bob/gpm/nht_ku/classify/ex_data_ite601'\n",
    "\n",
    "months = np.array(['201504','201505','201506','201507','201508','201509',\n",
    "                   '201510','201511','201512','201601','201602','201603'])"
   ]
  },
  {
   "cell_type": "code",
   "execution_count": 4,
   "metadata": {
    "collapsed": true
   },
   "outputs": [],
   "source": [
    "#Declare output arrays\n",
    "stra_counts_v05 = np.zeros((3,12),dtype=int)\n",
    "stra_counts_v05_uw = np.zeros((3,12),dtype=int)\n",
    "stra_counts_ite132 = np.zeros((3,12),dtype=int)\n",
    "stra_counts_ite601 = np.zeros((3,12),dtype=int)\n",
    "\n",
    "conv_counts_v05 = np.zeros((3,12),dtype=int)\n",
    "conv_counts_v05_uw = np.zeros((3,12),dtype=int)\n",
    "conv_counts_ite132 = np.zeros((3,12),dtype=int)\n",
    "conv_counts_ite601 = np.zeros((3,12),dtype=int)\n",
    "\n",
    "other_counts_v05 = np.zeros((3,12),dtype=int)\n",
    "other_counts_v05_uw = np.zeros((3,12),dtype=int)\n",
    "other_counts_ite132 = np.zeros((3,12),dtype=int)\n",
    "other_counts_ite601 = np.zeros((3,12),dtype=int)"
   ]
  },
  {
   "cell_type": "code",
   "execution_count": 5,
   "metadata": {
    "collapsed": false
   },
   "outputs": [
    {
     "data": {
      "text/plain": [
       "0"
      ]
     },
     "execution_count": 5,
     "metadata": {},
     "output_type": "execute_result"
    }
   ],
   "source": [
    "# array for datetime objects used for x-axis labels\n",
    "x_values = []\n",
    "len(x_values)"
   ]
  },
  {
   "cell_type": "code",
   "execution_count": 6,
   "metadata": {
    "collapsed": false
   },
   "outputs": [
    {
     "name": "stdout",
     "output_type": "stream",
     "text": [
      "year= 2015  and month= 04  and i= 0\n",
      "     num x_values= 1\n",
      "year= 2015  and month= 05  and i= 1\n",
      "     num x_values= 2\n",
      "year= 2015  and month= 06  and i= 2\n",
      "     num x_values= 3\n",
      "year= 2015  and month= 07  and i= 3\n",
      "     num x_values= 4\n",
      "year= 2015  and month= 08  and i= 4\n",
      "     num x_values= 5\n",
      "year= 2015  and month= 09  and i= 5\n",
      "     num x_values= 6\n",
      "year= 2015  and month= 10  and i= 6\n",
      "     num x_values= 7\n",
      "year= 2015  and month= 11  and i= 7\n",
      "     num x_values= 8\n",
      "year= 2015  and month= 12  and i= 8\n",
      "     num x_values= 9\n",
      "year= 2016  and month= 01  and i= 9\n",
      "     num x_values= 10\n",
      "year= 2016  and month= 02  and i= 10\n",
      "     num x_values= 11\n",
      "year= 2016  and month= 03  and i= 11\n",
      "     num x_values= 12\n",
      "Done with main body of code\n"
     ]
    }
   ],
   "source": [
    "num_months = months.size\n",
    "for i in range(0,num_months):\n",
    "    year = months[i][0:4]\n",
    "    month = months[i][4:6]\n",
    "    print 'year=',year,' and month=',month,' and i=',i\n",
    "    \n",
    "    # turn month into datetime object\n",
    "    curr_month = dt.datetime(int(year),int(month),1)\n",
    "    x_values.append(curr_month)\n",
    "    print '     num x_values=',len(x_values)\n",
    "    \n",
    "    # Go through v05 data . . . \n",
    "    for fname in os.listdir(indir_v05+'/'+year+'/'+month):\n",
    "        #print fname\n",
    "        #open fname and read rain_type and rain_type_uw\n",
    "        ncid = nc4.Dataset(indir_v05+'/'+year+'/'+month+'/'+fname,'r')\n",
    "        rt = np.array(ncid.variables['rain_type'])\n",
    "        rt_uw = np.array(ncid.variables['rain_type_uw'])\n",
    "        ncid.close()\n",
    "        if fname.endswith('NHW.nc'):\n",
    "            #unique, counts = np.unique(rt, return_counts=True)\n",
    "            stra_counts_v05[NHW,i] += np.count_nonzero(rt == STRA)\n",
    "            conv_counts_v05[NHW,i] += np.count_nonzero(rt == CONV)\n",
    "            other_counts_v05[NHW,i] += np.count_nonzero(rt == OTHER)\n",
    "            stra_counts_v05_uw[NHW,i] += np.count_nonzero(rt_uw == STRA)\n",
    "            conv_counts_v05_uw[NHW,i] += np.count_nonzero(rt_uw == CONV)\n",
    "            other_counts_v05_uw[NHW,i] += np.count_nonzero(rt_uw == OTHER)\n",
    "        elif fname.endswith('NHC.nc'):\n",
    "            #unique, counts = np.unique(rt, return_counts=True)\n",
    "            stra_counts_v05[NHC,i] += np.count_nonzero(rt == STRA)\n",
    "            conv_counts_v05[NHC,i] += np.count_nonzero(rt == CONV)\n",
    "            other_counts_v05[NHC,i] += np.count_nonzero(rt == OTHER)\n",
    "            stra_counts_v05_uw[NHC,i] += np.count_nonzero(rt_uw == STRA)\n",
    "            conv_counts_v05_uw[NHC,i] += np.count_nonzero(rt_uw == CONV)\n",
    "            other_counts_v05_uw[NHC,i] += np.count_nonzero(rt_uw == OTHER)\n",
    "        elif fname.endswith('NHE.nc'):\n",
    "            #unique, counts = np.unique(rt, return_counts=True)\n",
    "            stra_counts_v05[NHE,i] += np.count_nonzero(rt == STRA)\n",
    "            conv_counts_v05[NHE,i] += np.count_nonzero(rt == CONV)\n",
    "            other_counts_v05[NHE,i] += np.count_nonzero(rt == OTHER)\n",
    "            stra_counts_v05_uw[NHE,i] += np.count_nonzero(rt_uw == STRA)\n",
    "            conv_counts_v05_uw[NHE,i] += np.count_nonzero(rt_uw == CONV)\n",
    "            other_counts_v05_uw[NHE,i] += np.count_nonzero(rt_uw == OTHER)\n",
    "            \n",
    "    # Go through ite132 data . . . \n",
    "    for fname in os.listdir(indir_ite132+'/'+year+'/'+month):\n",
    "        #print fname\n",
    "        #open fname and read rain_type\n",
    "        ncid = nc4.Dataset(indir_ite132+'/'+year+'/'+month+'/'+fname,'r')\n",
    "        rt = np.array(ncid.variables['rain_type'])\n",
    "        ncid.close()\n",
    "        if fname.endswith('NHW.nc'):\n",
    "            #unique, counts = np.unique(rt, return_counts=True)\n",
    "            stra_counts_ite132[NHW,i] += np.count_nonzero(rt == STRA)\n",
    "            conv_counts_ite132[NHW,i] += np.count_nonzero(rt == CONV)\n",
    "            other_counts_ite132[NHW,i] += np.count_nonzero(rt == OTHER)\n",
    "        elif fname.endswith('NHC.nc'):\n",
    "            #unique, counts = np.unique(rt, return_counts=True)\n",
    "            stra_counts_ite132[NHC,i] += np.count_nonzero(rt == STRA)\n",
    "            conv_counts_ite132[NHC,i] += np.count_nonzero(rt == CONV)\n",
    "            other_counts_ite132[NHC,i] += np.count_nonzero(rt == OTHER)\n",
    "        elif fname.endswith('NHE.nc'):\n",
    "            #unique, counts = np.unique(rt, return_counts=True)\n",
    "            stra_counts_ite132[NHE,i] += np.count_nonzero(rt == STRA)\n",
    "            conv_counts_ite132[NHE,i] += np.count_nonzero(rt == CONV)\n",
    "            other_counts_ite132[NHE,i] += np.count_nonzero(rt == OTHER)\n",
    "            \n",
    "    # Go through ite601 data . . . \n",
    "    for fname in os.listdir(indir_ite601+'/'+year+'/'+month):\n",
    "        #print fname\n",
    "        #open fname and read rain_type\n",
    "        ncid = nc4.Dataset(indir_ite601+'/'+year+'/'+month+'/'+fname,'r')\n",
    "        rt = np.array(ncid.variables['rain_type'])\n",
    "        ncid.close()\n",
    "        if fname.endswith('NHW.nc'):\n",
    "            #unique, counts = np.unique(rt, return_counts=True)\n",
    "            stra_counts_ite601[NHW,i] += np.count_nonzero(rt == STRA)\n",
    "            conv_counts_ite601[NHW,i] += np.count_nonzero(rt == CONV)\n",
    "            other_counts_ite601[NHW,i] += np.count_nonzero(rt == OTHER)\n",
    "        elif fname.endswith('NHC.nc'):\n",
    "            #unique, counts = np.unique(rt, return_counts=True)\n",
    "            stra_counts_ite601[NHC,i] += np.count_nonzero(rt == STRA)\n",
    "            conv_counts_ite601[NHC,i] += np.count_nonzero(rt == CONV)\n",
    "            other_counts_ite601[NHC,i] += np.count_nonzero(rt == OTHER)\n",
    "        elif fname.endswith('NHE.nc'):\n",
    "            #unique, counts = np.unique(rt, return_counts=True)\n",
    "            stra_counts_ite601[NHE,i] += np.count_nonzero(rt == STRA)\n",
    "            conv_counts_ite601[NHE,i] += np.count_nonzero(rt == CONV)\n",
    "            other_counts_ite601[NHE,i] += np.count_nonzero(rt == OTHER)\n",
    "\n",
    "print 'Done with main body of code'"
   ]
  },
  {
   "cell_type": "code",
   "execution_count": 7,
   "metadata": {
    "collapsed": false
   },
   "outputs": [
    {
     "data": {
      "text/plain": [
       "array([[230566, 342783, 291199, 360649, 295992, 304768, 314521, 255346,\n",
       "        254195, 190648, 151150, 126675],\n",
       "       [ 85262, 164289, 136256, 158177, 193338, 159661, 164906, 138662,\n",
       "         75556,  41438,  51146, 117794],\n",
       "       [205521, 236524, 332322, 270239, 346212, 337228, 275823, 291836,\n",
       "        171625,  99733,  90656,  93466]])"
      ]
     },
     "execution_count": 7,
     "metadata": {},
     "output_type": "execute_result"
    }
   ],
   "source": [
    "stra_counts_v05\n",
    "#stra_counts_v05_uw\n",
    "#stra_counts_ite132\n",
    "#stra_counts_ite601\n",
    "#conv_counts_v05\n",
    "#conv_counts_v05_uw\n",
    "#conv_counts_ite132\n",
    "#conv_counts_ite601\n",
    "#other_counts_v05\n",
    "#other_counts_v05_uw\n",
    "#other_counts_ite132\n",
    "#other_counts_ite601"
   ]
  },
  {
   "cell_type": "code",
   "execution_count": null,
   "metadata": {
    "collapsed": false
   },
   "outputs": [],
   "source": [
    "stra_counts_v05"
   ]
  },
  {
   "cell_type": "code",
   "execution_count": 8,
   "metadata": {
    "collapsed": false
   },
   "outputs": [],
   "source": [
    "# plot convective output\n",
    "fig = plt.figure()\n",
    "ax = fig.gca()\n",
    "plt.plot(x_values,conv_counts_v05[0,:], '-', color='black', label='NHW_v05')\n",
    "plt.plot()\n",
    "plt.plot(x_values,conv_counts_v05_uw[0,:], '-', color='red', label='NHW_v05_uw')\n",
    "plt.plot()\n",
    "plt.plot(x_values,conv_counts_ite132[0,:], '-', color='blue', label='NHW_ite132')\n",
    "plt.plot()\n",
    "plt.plot(x_values,conv_counts_ite601[0,:], '-', color='green', label='NHW_ite601')\n",
    "plt.plot()\n",
    "plt.plot(x_values,conv_counts_v05[1,:], ':', color='black', label='NHC_v05')\n",
    "plt.plot()\n",
    "plt.plot(x_values,conv_counts_v05_uw[1,:], ':', color='red', label='NHC_v05_uw')\n",
    "plt.plot()\n",
    "plt.plot(x_values,conv_counts_ite132[1,:], ':', color='blue', label='NHC_ite132')\n",
    "plt.plot()\n",
    "plt.plot(x_values,conv_counts_ite601[1,:], ':', color='green', label='NHC_ite601')\n",
    "plt.plot()\n",
    "plt.plot(x_values,conv_counts_v05[2,:], '--', color='black', label='NHE_v05')\n",
    "plt.plot()\n",
    "plt.plot(x_values,conv_counts_v05_uw[2,:], '--', color='red', label='NHE_v05_uw')\n",
    "plt.plot()\n",
    "plt.plot(x_values,conv_counts_ite132[2,:], '--', color='blue', label='NHE_ite132')\n",
    "plt.plot()\n",
    "plt.plot(x_values,conv_counts_ite601[2,:], '--', color='green', label='NHE_ite601')\n",
    "plt.plot()\n",
    "plt.grid(linestyle=\":\")\n",
    "plt.legend()\n",
    "# Set which months to put tickmarks at\n",
    "ax.set_xlim([x_values[0], x_values[-1]])\n",
    "#ax.xaxis.set_major_locator( MonthLocator(1,2,3,4,5,6,7,8,9,10,11,12))\n",
    "# Set format of months (YYYYMM)\n",
    "#ax.xaxis.set_major_formatter( DateFormatter('%Y%m') )\n",
    "# Rotate label text to vertical\n",
    "plt.setp(plt.xticks()[1], rotation=45)\n",
    "plt.xlabel('months')\n",
    "plt.ylabel('pixel counts')\n",
    "plt.title('Convective Counts - Near Equatorial, Northern Hemisphere')\n",
    "plt.tight_layout()"
   ]
  },
  {
   "cell_type": "code",
   "execution_count": 9,
   "metadata": {
    "collapsed": false
   },
   "outputs": [],
   "source": [
    "# plot convective NHW output\n",
    "fig = plt.figure()\n",
    "ax = fig.gca()\n",
    "#plt.xlim(1, 12)\n",
    "#plt.ylim();\n",
    "plt.plot(x_values,conv_counts_v05[0,:], '-', color='black', label='NHW_v05')\n",
    "plt.plot()\n",
    "plt.plot(x_values,conv_counts_v05_uw[0,:], '-', color='red', label='NHW_v05_uw')\n",
    "plt.plot()\n",
    "plt.plot(x_values,conv_counts_ite132[0,:], '-', color='blue', label='NHW_ite132')\n",
    "plt.plot()\n",
    "plt.plot(x_values,conv_counts_ite601[0,:], '-', color='green', label='NHW_ite601')\n",
    "plt.plot()\n",
    "plt.grid(linestyle=\":\")\n",
    "plt.legend()\n",
    "# Set which months to put tickmarks at\n",
    "ax.set_xlim([x_values[0], x_values[-1]])\n",
    "#ax.xaxis.set_major_locator( MonthLocator(0,1,2,3,4,5,6,7,8,9,10,11))\n",
    "#set format of months (YYYYMM)\n",
    "#ax.xaxis.set_major_formatter( DateFormatter('%Y%m') )\n",
    "#rotate label text to vertical\n",
    "plt.setp(plt.xticks()[1], rotation=45)\n",
    "plt.xlabel('months')\n",
    "plt.ylabel('pixel counts')\n",
    "plt.title('Convective Counts - NHW')\n",
    "plt.tight_layout()"
   ]
  },
  {
   "cell_type": "code",
   "execution_count": 10,
   "metadata": {
    "collapsed": false
   },
   "outputs": [],
   "source": [
    "# plot convective NHC output\n",
    "fig = plt.figure()\n",
    "ax = fig.gca()\n",
    "#plt.xlim(1, 12)\n",
    "#plt.ylim();\n",
    "plt.plot(x_values,conv_counts_v05[1,:], '-', color='black', label='NHC_v05')\n",
    "plt.plot()\n",
    "plt.plot(x_values,conv_counts_v05_uw[1,:], '-', color='red', label='NHC_v05_uw')\n",
    "plt.plot()\n",
    "plt.plot(x_values,conv_counts_ite132[1,:], '-', color='blue', label='NHC_ite132')\n",
    "plt.plot()\n",
    "plt.plot(x_values,conv_counts_ite601[1,:], '-', color='green', label='NHC_ite601')\n",
    "plt.plot()\n",
    "plt.grid(linestyle=\":\")\n",
    "plt.legend()\n",
    "# Set which months to put tickmarks at\n",
    "ax.set_xlim([x_values[0], x_values[-1]])\n",
    "#ax.xaxis.set_major_locator( MonthLocator(0,1,2,3,4,5,6,7,8,9,10,11))\n",
    "#set format of months (YYYYMM)\n",
    "#ax.xaxis.set_major_formatter( DateFormatter('%Y%m') )\n",
    "#rotate label text to vertical\n",
    "plt.setp(plt.xticks()[1], rotation=45)\n",
    "plt.xlabel('months')\n",
    "plt.ylabel('pixel counts')\n",
    "plt.title('Convective Counts - NHC')\n",
    "plt.tight_layout()"
   ]
  },
  {
   "cell_type": "code",
   "execution_count": 11,
   "metadata": {
    "collapsed": false
   },
   "outputs": [],
   "source": [
    "# plot convective NHE output\n",
    "fig = plt.figure()\n",
    "ax = fig.gca()\n",
    "#plt.xlim(1, 12)\n",
    "#plt.ylim();\n",
    "plt.plot(x_values,conv_counts_v05[2,:], '-', color='black', label='NHE_v05')\n",
    "plt.plot()\n",
    "plt.plot(x_values,conv_counts_v05_uw[2,:], '-', color='red', label='NHE_v05_uw')\n",
    "plt.plot()\n",
    "plt.plot(x_values,conv_counts_ite132[2,:], '-', color='blue', label='NHE_ite132')\n",
    "plt.plot()\n",
    "plt.plot(x_values,conv_counts_ite601[2,:], '-', color='green', label='NHE_ite601')\n",
    "plt.plot()\n",
    "plt.grid(linestyle=\":\")\n",
    "plt.legend()\n",
    "# Set which months to put tickmarks at\n",
    "ax.set_xlim([x_values[0], x_values[-1]])\n",
    "#ax.xaxis.set_major_locator( MonthLocator(0,1,2,3,4,5,6,7,8,9,10,11))\n",
    "#set format of months (YYYYMM)\n",
    "#ax.xaxis.set_major_formatter( DateFormatter('%Y%m') )\n",
    "#rotate label text to vertical\n",
    "plt.setp(plt.xticks()[1], rotation=45)\n",
    "plt.xlabel('months')\n",
    "plt.ylabel('pixel counts')\n",
    "plt.title('Convective Counts - NHE')\n",
    "plt.tight_layout()"
   ]
  },
  {
   "cell_type": "code",
   "execution_count": null,
   "metadata": {
    "collapsed": false
   },
   "outputs": [],
   "source": [
    "len(x_values)"
   ]
  },
  {
   "cell_type": "code",
   "execution_count": 14,
   "metadata": {
    "collapsed": false
   },
   "outputs": [],
   "source": [
    "# plot % diffs between v05_uw and ite132 and between v05_uw and ite601\n",
    "fig = plt.figure()\n",
    "ax = fig.gca()\n",
    "plt.plot(x_values,(conv_counts_v05_uw[0,:]-conv_counts_ite132[0,:])/np.asfarray(conv_counts_v05_uw[0,:])*100.,'-',color='black',label='NHW-ITE132')\n",
    "plt.plot()\n",
    "plt.plot(x_values,(conv_counts_v05_uw[1,:]-conv_counts_ite132[1,:])/np.asfarray(conv_counts_v05_uw[1,:])*100.,'-',color='red',label='NHC-ITE132')\n",
    "plt.plot()\n",
    "plt.plot(x_values,(conv_counts_v05_uw[2,:]-conv_counts_ite132[2,:])/np.asfarray(conv_counts_v05_uw[2,:])*100.,'-',color='blue',label='NHE-ITE132')\n",
    "plt.plot()\n",
    "plt.plot(x_values,(conv_counts_v05_uw[0,:]-conv_counts_ite601[0,:])/np.asfarray(conv_counts_v05_uw[0,:])*100.,':',color='black',label='NHW-ITE601')\n",
    "plt.plot()\n",
    "plt.plot(x_values,(conv_counts_v05_uw[1,:]-conv_counts_ite601[1,:])/np.asfarray(conv_counts_v05_uw[1,:])*100.,':',color='red',label='NHC-ITE601')\n",
    "plt.plot()\n",
    "plt.plot(x_values,(conv_counts_v05_uw[2,:]-conv_counts_ite601[2,:])/np.asfarray(conv_counts_v05_uw[2,:])*100.,':',color='blue',label='NHE-ITE601')\n",
    "plt.plot()\n",
    "plt.grid(linestyle=\":\")\n",
    "plt.legend()\n",
    "# Set which months to put tickmarks at\n",
    "ax.set_xlim([x_values[0], x_values[-1]])\n",
    "#ax.xaxis.set_major_locator( MonthLocator(0,1,2,3,4,5,6,7,8,9,10,11))\n",
    "#set format of months (YYYYMM)\n",
    "#ax.xaxis.set_major_formatter( DateFormatter('%Y%m') )\n",
    "#rotate label text to vertical\n",
    "plt.setp(plt.xticks()[1], rotation=45)\n",
    "plt.xlabel('months')\n",
    "plt.ylabel('% diff (v05_uw-ite)/v05_uw')\n",
    "plt.title('Percent Diff in Conv Counts - NHT (0-20N,180W-180E)')\n",
    "plt.tight_layout()"
   ]
  },
  {
   "cell_type": "code",
   "execution_count": 13,
   "metadata": {
    "collapsed": true
   },
   "outputs": [],
   "source": [
    "# plot % diffs between v05 and ite132\n",
    "fig = plt.figure()\n",
    "ax = fig.gca()\n",
    "plt.plot(x_values,(conv_counts_v05[0,:]-conv_counts_ite132[0,:])/np.asfarray(conv_counts_v05[0,:])*100.,'-',color='black',label='NHW-ITE132')\n",
    "plt.plot()\n",
    "plt.plot(x_values,(conv_counts_v05[1,:]-conv_counts_ite132[1,:])/np.asfarray(conv_counts_v05[1,:])*100.,'-',color='red',label='NHC-ITE132')\n",
    "plt.plot()\n",
    "plt.plot(x_values,(conv_counts_v05[2,:]-conv_counts_ite132[2,:])/np.asfarray(conv_counts_v05[2,:])*100.,'-',color='blue',label='NHE-ITE132')\n",
    "plt.plot()\n",
    "plt.plot(x_values,(conv_counts_v05[0,:]-conv_counts_ite601[0,:])/np.asfarray(conv_counts_v05[0,:])*100.,':',color='black',label='NHW-ITE601')\n",
    "plt.plot()\n",
    "plt.plot(x_values,(conv_counts_v05[1,:]-conv_counts_ite601[1,:])/np.asfarray(conv_counts_v05[1,:])*100.,':',color='red',label='NHC-ITE601')\n",
    "plt.plot()\n",
    "plt.plot(x_values,(conv_counts_v05[2,:]-conv_counts_ite601[2,:])/np.asfarray(conv_counts_v05[2,:])*100.,':',color='blue',label='NHE-ITE601')\n",
    "plt.plot()\n",
    "plt.grid(linestyle=\":\")\n",
    "plt.legend()\n",
    "# Set which months to put tickmarks at\n",
    "ax.set_xlim([x_values[0], x_values[-1]])\n",
    "#ax.xaxis.set_major_locator( MonthLocator(0,1,2,3,4,5,6,7,8,9,10,11))\n",
    "#set format of months (YYYYMM)\n",
    "#ax.xaxis.set_major_formatter( DateFormatter('%Y%m') )\n",
    "#rotate label text to vertical\n",
    "plt.setp(plt.xticks()[1], rotation=45)\n",
    "plt.xlabel('months')\n",
    "plt.ylabel('% diff (v05-ite)/v05')\n",
    "plt.title('Percent Diff in Conv Counts - NHT (0-20N,180W-180E)')\n",
    "plt.tight_layout()"
   ]
  },
  {
   "cell_type": "code",
   "execution_count": null,
   "metadata": {
    "collapsed": false
   },
   "outputs": [],
   "source": [
    "# plot stratiform output\n",
    "fig = plt.figure()\n",
    "ax = fig.gca()\n",
    "#plt.xlim(1, 12)\n",
    "#plt.ylim();\n",
    "plt.plot(x_values,stra_counts_v05[0,:], '-', color='black', label='NHW_v05')\n",
    "plt.plot()\n",
    "plt.plot(x_values,stra_counts_v05_uw[0,:], '-', color='red', label='NHW_v05_uw')\n",
    "plt.plot()\n",
    "plt.plot(x_values,stra_counts_ite132[0,:], '-', color='blue', label='NHW_ite132')\n",
    "plt.plot()\n",
    "plt.plot(x_values,stra_counts_v05[1,:], ':', color='black', label='NHC_v05')\n",
    "plt.plot()\n",
    "plt.plot(x_values,stra_counts_v05_uw[1,:], ':', color='red', label='NHC_v05_uw')\n",
    "plt.plot()\n",
    "plt.plot(x_values,stra_counts_ite132[1,:], ':', color='blue', label='NHC_ite132')\n",
    "plt.plot()\n",
    "plt.plot(x_values,stra_counts_v05[2,:], '--', color='black', label='NHE_v05')\n",
    "plt.plot()\n",
    "plt.plot(x_values,stra_counts_v05_uw[2,:], '--', color='red', label='NHE_v05_uw')\n",
    "plt.plot()\n",
    "plt.plot(x_values,stra_counts_ite132[2,:], '--', color='blue', label='NHE_ite132')\n",
    "plt.plot()\n",
    "plt.grid(linestyle=\":\")\n",
    "plt.legend()\n",
    "# Set which months to put tickmarks at\n",
    "ax.set_xlim([x_values[0], x_values[-1]])\n",
    "#ax.xaxis.set_major_locator( MonthLocator(0,1,2,3,4,5,6,7,8,9,10,11))\n",
    "#set format of months (YYYYMM)\n",
    "#ax.xaxis.set_major_formatter( DateFormatter('%Y%m') )\n",
    "#rotate label text to vertical\n",
    "plt.setp(plt.xticks()[1], rotation=45)\n",
    "plt.xlabel('months')\n",
    "plt.ylabel('pixel counts')\n",
    "plt.title('Stratiform Counts - Near Equatorial, Northern Hemisphere')\n",
    "plt.tight_layout()"
   ]
  },
  {
   "cell_type": "code",
   "execution_count": null,
   "metadata": {
    "collapsed": true
   },
   "outputs": [],
   "source": [
    "# plot stratiform NHW output\n",
    "fig = plt.figure()\n",
    "ax = fig.gca()\n",
    "#plt.xlim(1, 12)\n",
    "#plt.ylim();\n",
    "plt.plot(x_values,stra_counts_v05[0,:], '-', color='black', label='NHW_v05')\n",
    "plt.plot()\n",
    "plt.plot(x_values,stra_counts_v05_uw[0,:], '-', color='red', label='NHW_v05_uw')\n",
    "plt.plot()\n",
    "plt.plot(x_values,stra_counts_ite132[0,:], '-', color='blue', label='NHW_ite132')\n",
    "plt.plot()\n",
    "plt.grid(linestyle=\":\")\n",
    "plt.legend()\n",
    "# Set which months to put tickmarks at\n",
    "ax.set_xlim([x_values[0], x_values[-1]])\n",
    "#ax.xaxis.set_major_locator( MonthLocator(0,1,2,3,4,5,6,7,8,9,10,11))\n",
    "#set format of months (YYYYMM)\n",
    "#ax.xaxis.set_major_formatter( DateFormatter('%Y%m') )\n",
    "#rotate label text to vertical\n",
    "plt.setp(plt.xticks()[1], rotation=45)\n",
    "plt.xlabel('months')\n",
    "plt.ylabel('pixel counts')\n",
    "plt.title('Stratiform Counts - NHW')\n",
    "plt.tight_layout()"
   ]
  },
  {
   "cell_type": "code",
   "execution_count": null,
   "metadata": {
    "collapsed": true
   },
   "outputs": [],
   "source": [
    "# plot stratiform NHC output\n",
    "fig = plt.figure()\n",
    "ax = fig.gca()\n",
    "#plt.xlim(1, 12)\n",
    "#plt.ylim();\n",
    "plt.plot(x_values,stra_counts_v05[1,:], '-', color='black', label='NHC_v05')\n",
    "plt.plot()\n",
    "plt.plot(x_values,stra_counts_v05_uw[1,:], '-', color='red', label='NHC_v05_uw')\n",
    "plt.plot()\n",
    "plt.plot(x_values,stra_counts_ite132[1,:], '-', color='blue', label='NHC_ite132')\n",
    "plt.plot()\n",
    "plt.grid(linestyle=\":\")\n",
    "plt.legend()\n",
    "# Set which months to put tickmarks at\n",
    "ax.set_xlim([x_values[0], x_values[-1]])\n",
    "#ax.xaxis.set_major_locator( MonthLocator(0,1,2,3,4,5,6,7,8,9,10,11))\n",
    "#set format of months (YYYYMM)\n",
    "#ax.xaxis.set_major_formatter( DateFormatter('%Y%m') )\n",
    "#rotate label text to vertical\n",
    "plt.setp(plt.xticks()[1], rotation=45)\n",
    "plt.xlabel('months')\n",
    "plt.ylabel('pixel counts')\n",
    "plt.title('Stratiform Counts - NHC')\n",
    "plt.tight_layout()"
   ]
  },
  {
   "cell_type": "code",
   "execution_count": null,
   "metadata": {
    "collapsed": true
   },
   "outputs": [],
   "source": [
    "# plot stratiform NHE output\n",
    "fig = plt.figure()\n",
    "ax = fig.gca()\n",
    "#plt.xlim(1, 12)\n",
    "#plt.ylim();\n",
    "plt.plot(x_values,stra_counts_v05[2,:], '-', color='black', label='NHE_v05')\n",
    "plt.plot()\n",
    "plt.plot(x_values,stra_counts_v05_uw[2,:], '-', color='red', label='NHE_v05_uw')\n",
    "plt.plot()\n",
    "plt.plot(x_values,stra_counts_ite132[2,:], '-', color='blue', label='NHE_ite132')\n",
    "plt.plot()\n",
    "plt.grid(linestyle=\":\")\n",
    "plt.legend()\n",
    "# Set which months to put tickmarks at\n",
    "ax.set_xlim([x_values[0], x_values[-1]])\n",
    "#ax.xaxis.set_major_locator( MonthLocator(0,1,2,3,4,5,6,7,8,9,10,11))\n",
    "#set format of months (YYYYMM)\n",
    "#ax.xaxis.set_major_formatter( DateFormatter('%Y%m') )\n",
    "#rotate label text to vertical\n",
    "plt.setp(plt.xticks()[1], rotation=45)\n",
    "plt.xlabel('months')\n",
    "plt.ylabel('pixel counts')\n",
    "plt.title('Stratiform Counts - NHE')\n",
    "plt.tight_layout()"
   ]
  },
  {
   "cell_type": "code",
   "execution_count": null,
   "metadata": {
    "collapsed": false
   },
   "outputs": [],
   "source": [
    "# plot other output\n",
    "fig = plt.figure()\n",
    "ax = fig.gca()\n",
    "#plt.xlim(1, 12)\n",
    "#plt.ylim();\n",
    "plt.plot(x_values,other_counts_v05[0,:], '-', color='black', label='NHW_v05')\n",
    "plt.plot()\n",
    "plt.plot(x_values,other_counts_v05_uw[0,:], '-', color='red', label='NHW_v05_uw')\n",
    "plt.plot()\n",
    "plt.plot(x_values,other_counts_ite132[0,:], '-', color='blue', label='NHW_ite132')\n",
    "plt.plot()\n",
    "plt.plot(x_values,other_counts_v05[1,:], ':', color='black', label='NHC_v05')\n",
    "plt.plot()\n",
    "plt.plot(x_values,other_counts_v05_uw[1,:], ':', color='red', label='NHC_v05_uw')\n",
    "plt.plot()\n",
    "plt.plot(x_values,other_counts_ite132[1,:], ':', color='blue', label='NHC_ite132')\n",
    "plt.plot()\n",
    "plt.plot(x_values,other_counts_v05[2,:], '--', color='black', label='NHE_v05')\n",
    "plt.plot()\n",
    "plt.plot(x_values,other_counts_v05_uw[2,:], '--', color='red', label='NHE_v05_uw')\n",
    "plt.plot()\n",
    "plt.plot(x_values,other_counts_ite132[2,:], '--', color='blue', label='NHE_ite132')\n",
    "plt.plot()\n",
    "plt.grid(linestyle=\":\")\n",
    "plt.legend()\n",
    "# Set which months to put tickmarks at\n",
    "ax.set_xlim([x_values[0], x_values[-1]])\n",
    "#ax.xaxis.set_major_locator( MonthLocator(0,1,2,3,4,5,6,7,8,9,10,11))\n",
    "#set format of months (YYYYMM)\n",
    "#ax.xaxis.set_major_formatter( DateFormatter('%Y%m') )\n",
    "#rotate label text to vertical\n",
    "plt.setp(plt.xticks()[1], rotation=45)\n",
    "plt.xlabel('months')\n",
    "plt.ylabel('pixel counts')\n",
    "plt.title('Other Counts - Near Equatorial, Northern Hemisphere')\n",
    "plt.tight_layout()"
   ]
  },
  {
   "cell_type": "code",
   "execution_count": null,
   "metadata": {
    "collapsed": true
   },
   "outputs": [],
   "source": []
  }
 ],
 "metadata": {
  "kernelspec": {
   "display_name": "Python 2",
   "language": "python",
   "name": "python2"
  },
  "language_info": {
   "codemirror_mode": {
    "name": "ipython",
    "version": 2
   },
   "file_extension": ".py",
   "mimetype": "text/x-python",
   "name": "python",
   "nbconvert_exporter": "python",
   "pygments_lexer": "ipython2",
   "version": "2.7.13"
  }
 },
 "nbformat": 4,
 "nbformat_minor": 0
}
