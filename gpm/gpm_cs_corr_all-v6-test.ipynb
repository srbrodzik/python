{
 "cells": [
  {
   "cell_type": "code",
   "execution_count": 50,
   "metadata": {
    "collapsed": false
   },
   "outputs": [
    {
     "name": "stdout",
     "output_type": "stream",
     "text": [
      "Using matplotlib backend: TkAgg\n"
     ]
    }
   ],
   "source": [
    "# Imports and functions\n",
    "import os\n",
    "import netCDF4 as nc4\n",
    "import numpy as np\n",
    "%matplotlib\n",
    "import matplotlib as mpl\n",
    "import matplotlib.pyplot as plt"
   ]
  },
  {
   "cell_type": "code",
   "execution_count": 51,
   "metadata": {
    "collapsed": false
   },
   "outputs": [
    {
     "name": "stdout",
     "output_type": "stream",
     "text": [
      "GPM2Ku5_uw3_20150808.020818_to_20150808.021247_008190_NHW.nc\n"
     ]
    }
   ],
   "source": [
    "# User inputs\n",
    "#indir = '/home/disk/bob/gpm/nht_ku/classify/ex_data_v05'\n",
    "indir = '/home/disk/bob/gpm/nht_ku/classify/ex_data_ite132'\n",
    "iyear = '2015'\n",
    "imonth = '08'\n",
    "VERT_RES = 0.125  #km\n",
    "STRA = 1\n",
    "CONV = 2\n",
    "THRESHOLD = 0.0  #dBZ\n",
    "DELTA_HT_FOR_SLOPE = 1.5  #km\n",
    "SLOPE = 7.5\n",
    "MAX_BB_HT = 5.0   #km\n",
    "REFL_MAX_OFFSET = 2.0 #dBZ\n",
    "\n",
    "fname = 'GPM2Ku5_uw3_20150808.020818_to_20150808.021247_008190_NHW.nc'\n",
    "print fname"
   ]
  },
  {
   "cell_type": "code",
   "execution_count": 52,
   "metadata": {
    "collapsed": true
   },
   "outputs": [],
   "source": [
    "# Read input file\n",
    "ncid = nc4.Dataset(indir+'/'+iyear+'/'+imonth+'/'+fname,'r')\n",
    "refl = np.array(ncid.variables['refl'])\n",
    "(ntime,nalt,nlat,nlon) = refl.shape\n",
    "refl_missing = ncid.variables['refl']._FillValue\n",
    "refl[:,0,:,:] = refl_missing  # get rid of lowest level due to suspicious data\n",
    "bin_missing = int(refl_missing)\n",
    "\n",
    "rt = np.array(ncid.variables['rain_type'])\n",
    "rt_missing = ncid.variables['rain_type']._FillValue\n",
    "\n",
    "rt_uw = np.array(rt, copy=True)\n",
    "\n",
    "srt = np.array(ncid.variables['shallow_rain_type'])\n",
    "srt_missing = ncid.variables['shallow_rain_type']._FillValue"
   ]
  },
  {
   "cell_type": "code",
   "execution_count": 53,
   "metadata": {
    "collapsed": true
   },
   "outputs": [],
   "source": [
    "# Find max_refl and max_refl_ht at each lat/lon\n",
    "max_refl = np.zeros(rt.shape,dtype=float)+refl_missing\n",
    "max_refl = np.amax(refl,axis=1)\n",
    "max_refl_bin = np.zeros(rt.shape,dtype=int)+bin_missing\n",
    "max_refl_bin = np.argmax(refl,axis=1)\n",
    "max_refl_ht = max_refl_bin * VERT_RES\n",
    "\n",
    "max_refl_bin[(max_refl==refl_missing)] = bin_missing\n",
    "max_refl_ht[(max_refl==refl_missing)] = refl_missing"
   ]
  },
  {
   "cell_type": "code",
   "execution_count": 54,
   "metadata": {
    "collapsed": true
   },
   "outputs": [],
   "source": [
    "# initialize reference refl/bin/ht\n",
    "# these reflect highest refl,bin,ht above max_refl,bin.ht and within +/- REFL_MAX_OFFSET\n",
    "reference_refl = np.array(max_refl, copy=True)\n",
    "reference_refl_bin = np.array(max_refl_bin, copy=True)\n",
    "reference_refl_ht = np.array(max_refl_ht, copy=True)"
   ]
  },
  {
   "cell_type": "code",
   "execution_count": 55,
   "metadata": {
    "collapsed": true
   },
   "outputs": [],
   "source": [
    "# find bin & height of highest good refl at each lat/lon\n",
    "max_ht_bin = np.zeros(rt.shape,dtype=int) + bin_missing\n",
    "for lev in range(nalt-1,-1,-1):\n",
    "    max_ht_bin = np.where(np.logical_and((refl[:,lev,:,:] != refl_missing),\n",
    "                                         (max_ht_bin == bin_missing) ), \n",
    "                          lev, max_ht_bin )\n",
    "max_ht = max_ht_bin * (max_ht_bin != bin_missing) * VERT_RES\n",
    "max_ht[(max_ht_bin==bin_missing)] = refl_missing"
   ]
  },
  {
   "cell_type": "code",
   "execution_count": 56,
   "metadata": {
    "collapsed": true
   },
   "outputs": [],
   "source": [
    " # For rt_uw, change rain_type to stratiform if:\n",
    "# 1. rain_type = convective and\n",
    "# 2. shallow_rain_type = 0 and\n",
    "# 3. max_refl in column >= THRESHOLD and   ## DON'T USE THIS CRITERIA ANYMORE\n",
    "# 4. [(dbz @ reference point) - (dbz @ point 1.5km higher)]/\n",
    "#    [(ht  @ reference point) - (ht  @ point 1.5km higher)] >= abs(SLOPE)\n",
    "#  as long as ht @ reference point <= MAX_BB_HT   "
   ]
  },
  {
   "cell_type": "code",
   "execution_count": 57,
   "metadata": {
    "collapsed": true
   },
   "outputs": [],
   "source": [
    "# Determine indices of interest \n",
    "change = np.logical_and(rt==2,srt==0)\n",
    "ind_time,ind_lat,ind_lon = np.where(change==True)\n",
    "npixels = ind_time.size"
   ]
  },
  {
   "cell_type": "code",
   "execution_count": 58,
   "metadata": {
    "collapsed": true
   },
   "outputs": [],
   "source": [
    "# for each index\n",
    "#    start at max_refl_ht & go up to find reference refl within +/- REFL_MAX_OFFSET\n",
    "#    if height of new reference refl is less than MAX_BB_HT\n",
    "#        determine slope between that point and point DELTA_HT_FOR_SLOPE higher or highest good point in column\n",
    "#        if slope exceeds SLOPE, change raintype from convective to stratiform  "
   ]
  },
  {
   "cell_type": "code",
   "execution_count": 59,
   "metadata": {
    "collapsed": false
   },
   "outputs": [
    {
     "name": "stdout",
     "output_type": "stream",
     "text": [
      "('rt[0,132,69]=', 1.0)\n",
      "('rt[0,132,72]=', 1.0)\n",
      "('rt[0,98,52]=', 1.0)\n",
      "('rt[0,84,58]=', 1.0)\n",
      "('rt[0,130,63]=', 2.0)\n",
      "('rt[0,96,48]=', 2.0)\n",
      "('rt[0,83,75]=', 2.0)\n"
     ]
    }
   ],
   "source": [
    "print('rt[0,132,69]=',rt[0,132,69])\n",
    "print('rt[0,132,72]=',rt[0,132,72])\n",
    "print('rt[0,98,52]=',rt[0,98,52])\n",
    "print('rt[0,84,58]=',rt[0,84,58])\n",
    "print('rt[0,130,63]=',rt[0,130,63])\n",
    "print('rt[0,96,48]=',rt[0,96,48])\n",
    "print('rt[0,83,75]=',rt[0,83,75])     "
   ]
  },
  {
   "cell_type": "code",
   "execution_count": 60,
   "metadata": {
    "collapsed": false
   },
   "outputs": [],
   "source": [
    "#for ind in range(0,npixels):\n",
    "#itime = ind_time[ind]\n",
    "#ilat = ind_lat[ind]\n",
    "#ilon = ind_lon[ind]\n",
    "# 20150808 case 1 - ite reclassified to stra\n",
    "#itime = 0\n",
    "#ilat = 132\n",
    "#ilon = 69\n",
    "# 20150808 case 2 - ite reclassified to stra\n",
    "#itime = 0\n",
    "#ilat = 132\n",
    "#ilon = 72\n",
    "# 20150808 case 3 - ite reclassified to stra\n",
    "#itime = 0\n",
    "#ilat = 98\n",
    "#ilon = 52\n",
    "# 20150808 case 4 - ite reclassified to stra\n",
    "#itime = 0\n",
    "#ilat = 84\n",
    "#ilon = 58\n",
    "# 20150808 case 5 - ite did not reclassify\n",
    "itime = 0\n",
    "ilat = 130\n",
    "ilon = 63\n",
    "# 20150808 case 6 - ite did not reclassify\n",
    "#itime = 0\n",
    "#ilat = 96\n",
    "#ilon = 48\n",
    "# 20150808 case 7 - ite did not reclassify\n",
    "#itime = 0\n",
    "#ilat = 83\n",
    "#ilon = 75\n",
    "if max_refl[itime,ilat,ilon] != refl_missing:\n",
    "    next_bin = reference_refl_bin[itime,ilat,ilon]+1\n",
    "    next_ht = reference_refl_ht[itime,ilat,ilon]+VERT_RES\n",
    "    next_refl = refl[itime,next_bin,ilat,ilon]\n",
    "    while abs(max_refl[itime,ilat,ilon]-next_refl) <= REFL_MAX_OFFSET:\n",
    "        reference_refl[itime,ilat,ilon]=next_refl\n",
    "        reference_refl_bin[itime,ilat,ilon] = next_bin\n",
    "        reference_refl_ht[itime,ilat,ilon]=next_ht\n",
    "        next_bin = reference_refl_bin[itime,ilat,ilon]+1\n",
    "        next_ht = reference_refl_ht[itime,ilat,ilon]+VERT_RES\n",
    "        next_refl = refl[itime,next_bin,ilat,ilon]\n",
    "    if reference_refl_ht[itime,ilat,ilon] < MAX_BB_HT:\n",
    "        if (reference_refl_ht[itime,ilat,ilon] + DELTA_HT_FOR_SLOPE) <= max_ht[itime,ilat,ilon]:\n",
    "            compare_bin = reference_refl_bin[itime,ilat,ilon] + int(DELTA_HT_FOR_SLOPE/VERT_RES)\n",
    "            compare_ht = reference_refl_ht[itime,ilat,ilon] + DELTA_HT_FOR_SLOPE\n",
    "            compare_refl = refl[itime,compare_bin,ilat,ilon]\n",
    "        else:\n",
    "            compare_bin = max_ht_bin[itime,ilat,ilon]\n",
    "            compare_ht = max_ht[itime,ilat,ilon]\n",
    "            compare_refl = refl[itime,compare_bin,ilat,ilon]\n",
    "        if (abs(reference_refl_ht[itime,ilat,ilon] - compare_ht)) != 0.0:\n",
    "            if ( abs(reference_refl[itime,ilat,ilon] - compare_refl)/\n",
    "                 abs(reference_refl_ht[itime,ilat,ilon] - compare_ht) ) >= SLOPE:\n",
    "                rt_uw[itime,ilat,ilon] = STRA"
   ]
  },
  {
   "cell_type": "code",
   "execution_count": 61,
   "metadata": {
    "collapsed": false
   },
   "outputs": [
    {
     "data": {
      "text/plain": [
       "<matplotlib.text.Text at 0x152c703971d0>"
      ]
     },
     "execution_count": 61,
     "metadata": {},
     "output_type": "execute_result"
    }
   ],
   "source": [
    "# PLOT COLUMN\n",
    "#some computations\n",
    "delta_refl = reference_refl[itime,ilat,ilon] - compare_refl\n",
    "delta_ht = compare_ht - reference_refl_ht[itime,ilat,ilon]\n",
    "slope = delta_refl/delta_ht\n",
    "\n",
    "#y = range(1, 30)\n",
    "x = refl[0,0:54,ilat,ilon]\n",
    "y = np.linspace(0.0,6.625,num=54)\n",
    "fig = plt.figure()\n",
    "plt.plot(x, y, '-',color='black')\n",
    "#plt.plot(x, y, 'o')\n",
    "#plt.xlim(15, 50);\n",
    "plt.xlim(15, 60);\n",
    "plt.ylim(0.25, 7.0);\n",
    "plt.xlabel('refl (dBZ)')\n",
    "plt.ylabel('ht (km)')\n",
    "\n",
    "x1 = range(15,61)\n",
    "y1 = np.array([MAX_BB_HT for i in xrange(len(x1))])\n",
    "#plt.plot(x1, y1, 'r-',label='MAX_BB_HT') \n",
    "#plt.plot()\n",
    "\n",
    "x2 = range(15,61)\n",
    "y2 = np.array([max_refl_ht[itime,ilat,ilon] for i in xrange(len(x2))])\n",
    "plt.plot(x2, y2, 'm-', label='max refl pt') \n",
    "plt.plot()\n",
    "\n",
    "x3 = range(15,61)\n",
    "y3 = np.array([reference_refl_ht[itime,ilat,ilon] for i in xrange(len(x3))])\n",
    "plt.plot(x3, y3, 'b--', label='ref refl pt') \n",
    "plt.plot()\n",
    "\n",
    "x4 = range(15,61)\n",
    "y4 = np.array([compare_ht for i in xrange(len(x4))])\n",
    "plt.plot(x4, y4, 'g--', label='compare refl pt') \n",
    "plt.plot()\n",
    "\n",
    "y5 = range(0,8)\n",
    "x5 = np.array([reference_refl[itime,ilat,ilon] for i in xrange(len(y5))])\n",
    "plt.plot(x5, y5, 'b--') \n",
    "plt.plot()\n",
    "\n",
    "y6 = range(0,8)\n",
    "x6 = np.array([compare_refl for i in xrange(len(y6))])\n",
    "plt.plot(x6, y6, 'g--') \n",
    "plt.plot()\n",
    "\n",
    "plt.legend()\n",
    "\n",
    "plt.fill_between(x1,y1,color='gray',alpha=0.3)\n",
    "\n",
    "#plt.title('Reclassified Stratiform Reflectivity Profile - 20150808/020818')\n",
    "plt.title('Convective Reflectivity Profile - 20150808/020818')\n",
    "\n",
    "plt.text(18,reference_refl_ht[itime,ilat,ilon]+delta_ht/2,'Delta_ht='+str(round(delta_ht,2)))\n",
    "plt.text(compare_refl+delta_refl/2,5,'Delta_refl='+str(round(delta_refl,2)),rotation=90)\n",
    "plt.text(18,0.5,'SLOPE='+str(round(delta_refl/delta_ht,2)))"
   ]
  },
  {
   "cell_type": "code",
   "execution_count": null,
   "metadata": {
    "collapsed": true
   },
   "outputs": [],
   "source": [
    "# Replace old UW raintype field with new one in input netcdf file\n",
    "ncid.variables['rain_type_uw'][:] = rt_uw"
   ]
  },
  {
   "cell_type": "code",
   "execution_count": 49,
   "metadata": {
    "collapsed": true
   },
   "outputs": [],
   "source": [
    "ncid.close()"
   ]
  },
  {
   "cell_type": "code",
   "execution_count": null,
   "metadata": {
    "collapsed": true
   },
   "outputs": [],
   "source": []
  }
 ],
 "metadata": {
  "kernelspec": {
   "display_name": "Python 2",
   "language": "python",
   "name": "python2"
  },
  "language_info": {
   "codemirror_mode": {
    "name": "ipython",
    "version": 2
   },
   "file_extension": ".py",
   "mimetype": "text/x-python",
   "name": "python",
   "nbconvert_exporter": "python",
   "pygments_lexer": "ipython2",
   "version": "2.7.13"
  }
 },
 "nbformat": 4,
 "nbformat_minor": 0
}
