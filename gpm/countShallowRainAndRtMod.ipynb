{
 "cells": [
  {
   "cell_type": "markdown",
   "metadata": {},
   "source": [
    "Count pixels that are reclassified from CONV to STRA and are classified as certain shallow rain."
   ]
  },
  {
   "cell_type": "code",
   "execution_count": null,
   "metadata": {
    "collapsed": true
   },
   "outputs": [],
   "source": [
    "import os\n",
    "import netCDF4 as nc4\n",
    "import numpy as np\n",
    "import numpy.ma as ma"
   ]
  },
  {
   "cell_type": "code",
   "execution_count": null,
   "metadata": {
    "collapsed": true
   },
   "outputs": [],
   "source": [
    "indir = '/home/disk/bob/gpm/nam_ku/classify/ex_data/2015/06'\n",
    "outfile = indir+'/shallowRainCheck.txt'"
   ]
  },
  {
   "cell_type": "code",
   "execution_count": null,
   "metadata": {
    "collapsed": true
   },
   "outputs": [],
   "source": [
    "fout = open(outfile, 'w')\n",
    "totRainPix = 0\n",
    "totRainPixChg = 0"
   ]
  },
  {
   "cell_type": "code",
   "execution_count": null,
   "metadata": {
    "collapsed": false
   },
   "outputs": [],
   "source": [
    "for fname in os.listdir(indir):\n",
    "    if fname.endswith('nc'):\n",
    "        print fname\n",
    "        # get data of interest\n",
    "        ncid = nc4.Dataset(indir+'/'+fname,'r')\n",
    "        rt = ncid.variables['rain_type'][:]\n",
    "        rt_missing = ncid.variables['rain_type'].missing_value\n",
    "        rt_uw = ncid.variables['rain_type_uw'][:]\n",
    "        srt = ncid.variables['shallow_rain_type'][:]\n",
    "        ncid.close()\n",
    "        \n",
    "        fltr = np.array(rt,copy=True)\n",
    "        fltr[:,:,:] = 0\n",
    "\n",
    "        # get total 2D pixels\n",
    "        totRainPix = totRainPix + (rt.size - np.count_nonzero(rt.data == rt_missing))\n",
    "        \n",
    "        #count pixels where:\n",
    "        # 1. rt==2\n",
    "        # 2. rt_uw==1\n",
    "        # 3. srt==11 or 21\n",
    "        chgRT = np.logical_and(rt==2,rt_uw==1)\n",
    "        chgSRT = np.logical_or(srt==11,srt==21)\n",
    "        chgTOT = np.logical_and(chgRT,chgSRT)\n",
    "        fltr[chgTOT == True] = 1\n",
    "        if np.sum(fltr) > 0:\n",
    "            totRainPixChg = totRainPixChg + np.sum(fltr)\n",
    "            fout.write(\"fname = {} and RainPixChg = {}\\n\".format(fname,np.sum(fltr)))\n",
    "        "
   ]
  },
  {
   "cell_type": "code",
   "execution_count": null,
   "metadata": {
    "collapsed": true
   },
   "outputs": [],
   "source": [
    "fout.write(\"totRainPixChg/totRainPix = {}/{} = {}%\\n\".format(totRainPixChg,totRainPix,totRainPixChg/totRainPix))\n",
    "fout.close()"
   ]
  },
  {
   "cell_type": "code",
   "execution_count": null,
   "metadata": {
    "collapsed": true
   },
   "outputs": [],
   "source": []
  }
 ],
 "metadata": {
  "kernelspec": {
   "display_name": "Python 2",
   "language": "python",
   "name": "python2"
  },
  "language_info": {
   "codemirror_mode": {
    "name": "ipython",
    "version": 2
   },
   "file_extension": ".py",
   "mimetype": "text/x-python",
   "name": "python",
   "nbconvert_exporter": "python",
   "pygments_lexer": "ipython2",
   "version": "2.7.9"
  }
 },
 "nbformat": 4,
 "nbformat_minor": 0
}
