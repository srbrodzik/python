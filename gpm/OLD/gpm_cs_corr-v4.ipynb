{
 "cells": [
  {
   "cell_type": "code",
   "execution_count": 630,
   "metadata": {
    "collapsed": true
   },
   "outputs": [],
   "source": [
    "# Imports and functions\n",
    "import os\n",
    "import netCDF4 as nc4\n",
    "import numpy as np\n",
    "#import numpy.ma as ma"
   ]
  },
  {
   "cell_type": "code",
   "execution_count": 631,
   "metadata": {
    "collapsed": true
   },
   "outputs": [],
   "source": [
    "%matplotlib inline\n",
    "import matplotlib as mpl\n",
    "import matplotlib.pyplot as plt"
   ]
  },
  {
   "cell_type": "code",
   "execution_count": 632,
   "metadata": {
    "collapsed": true
   },
   "outputs": [],
   "source": [
    "# User inputs\n",
    "indir = '/home/disk/bob/gpm/nam_ku/classify/ex_data_v05_testing'\n",
    "years = ['2016']\n",
    "months = ['09']\n",
    "#THRESHOLD = 38.0  #dBZ\n",
    "THRESHOLD = 0.0  #dBZ\n",
    "DELTA_HT_FOR_SLOPE = 1.5  #km\n",
    "#DELTA_HT_FOR_SLOPE = 1.0  #km\n",
    "#SLOPE = 8.0\n",
    "SLOPE = 7.5\n",
    "VERT_RES = 0.125  #km\n",
    "MAX_BB_HT = 5.0   #km\n",
    "REFL_MAX_OFFSET = 2.0 #dBZ\n",
    "STRA = 1\n",
    "CONV = 2"
   ]
  },
  {
   "cell_type": "code",
   "execution_count": 633,
   "metadata": {
    "collapsed": false
   },
   "outputs": [
    {
     "name": "stdout",
     "output_type": "stream",
     "text": [
      "/home/disk/bob/gpm/nam_ku/classify/ex_data_v05_testing/2016/09/GPM2Ku5_uw3_20160901.204725_to_20160901.205445_014270_NAM.nc\n"
     ]
    }
   ],
   "source": [
    "iyear = years[0]\n",
    "imonth = months[0]\n",
    "fname = 'GPM2Ku5_uw3_20160901.204725_to_20160901.205445_014270_NAM.nc'  # dcc case\n",
    "#fname = 'GPM2Ku5_uw3_20170801.201702_to_20170801.201950_019465_NAM.nc'  # mod case\n",
    "#fname = 'GPM2Ku5_uw3_20170824.205012_to_20170824.205913_019823_NAM.nc'   # conv case\n",
    "print(indir+'/'+iyear+'/'+imonth+'/'+fname)"
   ]
  },
  {
   "cell_type": "code",
   "execution_count": 634,
   "metadata": {
    "collapsed": false
   },
   "outputs": [],
   "source": [
    "ncid = nc4.Dataset(indir+'/'+iyear+'/'+imonth+'/'+fname,'r')\n",
    "refl = np.array(ncid.variables['refl'])\n",
    "refl = refl[:,1:,:,:]  # get rid of lowest level due to suspicious data\n",
    "(ntime,nalt,nlat,nlon) = refl.shape\n",
    "#refl_missing = ncid.variables['refl'].missing_value\n",
    "refl_missing = ncid.variables['refl']._FillValue\n",
    "bin_missing = int(refl_missing)\n",
    "\n",
    "rt = np.array(ncid.variables['rain_type'])\n",
    "#rt_missing = ncid.variables['rain_type'].missing_value\n",
    "rt_missing = ncid.variables['rain_type']._FillValue\n",
    "#rt[(rt==rt_missing)] = np.nan\n",
    "\n",
    "rt_uw = np.array(rt, copy=True)\n",
    "\n",
    "srt = np.array(ncid.variables['shallow_rain_type'])\n",
    "#srt_missing = ncid.variables['shallow_rain_type'].missing_value\n",
    "srt_missing = ncid.variables['shallow_rain_type']._FillValue\n",
    "#srt[(srt==srt_missing)] = np.nan"
   ]
  },
  {
   "cell_type": "code",
   "execution_count": 635,
   "metadata": {
    "collapsed": false
   },
   "outputs": [
    {
     "data": {
      "text/plain": [
       "(1, 175, 429, 266)"
      ]
     },
     "execution_count": 635,
     "metadata": {},
     "output_type": "execute_result"
    }
   ],
   "source": [
    "refl.shape"
   ]
  },
  {
   "cell_type": "code",
   "execution_count": 636,
   "metadata": {
    "collapsed": false
   },
   "outputs": [],
   "source": [
    "# find max_refl and max_refl_ht at each lat/lon\n",
    "max_refl = np.zeros(rt.shape,dtype=float)+refl_missing\n",
    "max_refl = np.amax(refl,axis=1)\n",
    "max_refl_bin = np.zeros(rt.shape,dtype=int)+bin_missing\n",
    "max_refl_bin = np.argmax(refl,axis=1)\n",
    "max_refl_ht = max_refl_bin * VERT_RES\n",
    "\n",
    "max_refl_bin[(max_refl==refl_missing)] = bin_missing\n",
    "max_refl_ht[(max_refl==refl_missing)] = refl_missing"
   ]
  },
  {
   "cell_type": "code",
   "execution_count": 731,
   "metadata": {
    "collapsed": true
   },
   "outputs": [],
   "source": [
    "# initialize reference refl/bin/ht\n",
    "# these reflect highest refl,bin,ht above max_refl,bin.ht and within +/- REFL_MAX_OFFSET\n",
    "reference_refl = np.array(max_refl, copy=True)\n",
    "reference_refl_bin = np.array(max_refl_bin, copy=True)\n",
    "reference_refl_ht = np.array(max_refl_ht, copy=True)"
   ]
  },
  {
   "cell_type": "code",
   "execution_count": 638,
   "metadata": {
    "collapsed": true
   },
   "outputs": [],
   "source": [
    "# find bin & height of highest good refl at each lat/lon\n",
    "max_ht_bin = np.zeros(rt.shape,dtype=int) + bin_missing\n",
    "for lev in range(nalt-1,-1,-1):\n",
    "    max_ht_bin = np.where(np.logical_and((refl[:,lev,:,:] != refl_missing),\n",
    "                                         (max_ht_bin == bin_missing) ), \n",
    "                          lev, max_ht_bin )\n",
    "max_ht = max_ht_bin * (max_ht_bin != bin_missing) * VERT_RES\n",
    "max_ht[(max_ht_bin==bin_missing)] = refl_missing"
   ]
  },
  {
   "cell_type": "code",
   "execution_count": null,
   "metadata": {
    "collapsed": true
   },
   "outputs": [],
   "source": [
    "# For rt_uw, change rain_type to stratiform if:\n",
    "# 1. rain_type = convective and\n",
    "# 2. shallow_rain_type = 0 and\n",
    "# 3. max_refl in column >= THRESHOLD and\n",
    "# 4. [(dbz @ reference point) - (dbz @ point 1.5km higher)]/\n",
    "#    [(ht  @ reference point) - (ht  @ point 1.5km higher)] >= abs(SLOPE)\n",
    "#  as long as ht @ reference point <= MAX_BB_HT"
   ]
  },
  {
   "cell_type": "code",
   "execution_count": 639,
   "metadata": {
    "collapsed": true
   },
   "outputs": [],
   "source": [
    "# Determine indices of interest \n",
    "change = np.logical_and(np.logical_and(rt==2,srt==0),max_refl>=THRESHOLD)\n",
    "ind_time,ind_lat,ind_lon = np.where(change==True)\n",
    "npixels = ind_time.size"
   ]
  },
  {
   "cell_type": "code",
   "execution_count": null,
   "metadata": {
    "collapsed": true
   },
   "outputs": [],
   "source": [
    "# for each index\n",
    "#    start at max_refl_ht & go up to find reference refl within +/- REFL_MAX_OFFSET\n",
    "#    if height of new reference refl is less than MAX_BB_HT\n",
    "#        determine slope between that point and point DELTA_HT_FOR_SLOPE higher or highest good point in column\n",
    "#        if slope exceeds SLOPE, change raintype from convective to stratiform"
   ]
  },
  {
   "cell_type": "code",
   "execution_count": null,
   "metadata": {
    "collapsed": true
   },
   "outputs": [],
   "source": [
    "#for ind in range(0,npixels):\n",
    "    #itime = ind_time[ind]\n",
    "    #ilat = ind_lat[ind]\n",
    "    #ilon = ind_lon[ind]\n",
    "    # for testing mod file\n",
    "    #itime = 0\n",
    "    #ilat = 39\n",
    "    #ilon = 155\n",
    "    itime = 0\n",
    "    ilat = 38\n",
    "    ilon = 126\n",
    "    # for testing conv file\n",
    "    #itime = 0\n",
    "    #ilat = 355\n",
    "    #ilon = 145\n",
    "    if max_refl[itime,ilat,ilon] != refl_missing:\n",
    "        next_bin = reference_refl_bin[itime,ilat,ilon]+1\n",
    "        next_ht = reference_refl_ht[itime,ilat,ilon]+VERT_RES\n",
    "        next_refl = refl[itime,next_bin,ilat,ilon]\n",
    "        print(reference_refl[itime,ilat,ilon],reference_refl_bin[itime,ilat,ilon],reference_refl_ht[itime,ilat,ilon])\n",
    "        print(next_refl,next_bin,next_ht)\n",
    "        while abs(max_refl[itime,ilat,ilon]-next_refl) <= REFL_MAX_OFFSET:\n",
    "            reference_refl[itime,ilat,ilon]=next_refl\n",
    "            reference_refl_bin[itime,ilat,ilon] = next_bin\n",
    "            reference_refl_ht[itime,ilat,ilon]=next_ht  \n",
    "            next_bin = reference_refl_bin[itime,ilat,ilon]+1\n",
    "            next_ht = reference_refl_ht[itime,ilat,ilon]+VERT_RES\n",
    "            next_refl = refl[itime,next_bin,ilat,ilon]\n",
    "            print(reference_refl[itime,ilat,ilon],reference_refl_bin[itime,ilat,ilon],reference_refl_ht[itime,ilat,ilon])\n",
    "            print(next_refl,next_bin,next_ht)\n",
    "\n",
    "        print('Found best reference point')\n",
    "        print('   reference_refl     =',reference_refl[itime,ilat,ilon])\n",
    "        print('   reference_refl_bin =',reference_refl_bin[itime,ilat,ilon])\n",
    "        print('   reference_refl_ht  =',reference_refl_ht[itime,ilat,ilon])\n",
    "\n",
    "        if reference_refl_ht[itime,ilat,ilon] < MAX_BB_HT:\n",
    "            if reference_refl_ht[itime,ilat,ilon] + DELTA_HT_FOR_SLOPE <= max_ht[itime,ilat,ilon]:\n",
    "                compare_bin = reference_refl_bin[itime,ilat,ilon] + int(DELTA_HT_FOR_SLOPE/VERT_RES)\n",
    "                compare_ht = reference_refl_ht[itime,ilat,ilon] + DELTA_HT_FOR_SLOPE\n",
    "                compare_refl = refl[itime,compare_bin,ilat,ilon]\n",
    "            else:\n",
    "                compare_bin = max_ht_bin[itime,ilat,ilon]\n",
    "                compare_ht = max_ht[itime,ilat,ilon]\n",
    "                compare_refl = refl[itime,compare_bin,ilat,ilon]\n",
    "            if (abs(reference_refl_ht[itime,ilat,ilon] - compare_ht)) != 0.0:\n",
    "                if ( abs(reference_refl[itime,ilat,ilon] - compare_refl)/\n",
    "                     abs(reference_refl_ht[itime,ilat,ilon] - compare_ht) ) >= SLOPE:\n",
    "                    rt_uw[itime,ilat,ilon] = STRA\n",
    "                "
   ]
  },
  {
   "cell_type": "code",
   "execution_count": null,
   "metadata": {
    "collapsed": true
   },
   "outputs": [],
   "source": [
    "# STEP BY STEP"
   ]
  },
  {
   "cell_type": "code",
   "execution_count": 732,
   "metadata": {
    "collapsed": false
   },
   "outputs": [],
   "source": [
    "itime = 0\n",
    "#ilat = 127\n",
    "#ilon = 93\n",
    "#ilat = 126\n",
    "#ilon = 91\n",
    "#ilat = 126\n",
    "#ilon = 93\n",
    "ilat = 127\n",
    "ilon = 93\n",
    "\n",
    "#ilat = 38\n",
    "#ilon = 126\n",
    "\n",
    "#ilat = 37\n",
    "#ilon = 165\n",
    "#max_refl[itime,ilat,ilon] != refl_missing"
   ]
  },
  {
   "cell_type": "code",
   "execution_count": 733,
   "metadata": {
    "collapsed": false
   },
   "outputs": [
    {
     "name": "stdout",
     "output_type": "stream",
     "text": [
      "(46.995472, 37, 4.625)\n",
      "(45.837887, 38, 4.75)\n"
     ]
    }
   ],
   "source": [
    "next_bin = reference_refl_bin[itime,ilat,ilon]+1\n",
    "next_ht = reference_refl_ht[itime,ilat,ilon]+VERT_RES\n",
    "next_refl = refl[itime,next_bin,ilat,ilon]\n",
    "print(reference_refl[itime,ilat,ilon],reference_refl_bin[itime,ilat,ilon],reference_refl_ht[itime,ilat,ilon])\n",
    "print(next_refl,next_bin,next_ht)"
   ]
  },
  {
   "cell_type": "code",
   "execution_count": 734,
   "metadata": {
    "collapsed": false
   },
   "outputs": [
    {
     "name": "stdout",
     "output_type": "stream",
     "text": [
      "(45.837887, 38, 4.75)\n",
      "(45.885315, 39, 4.875)\n",
      "(45.885315, 39, 4.875)\n",
      "(44.456738, 40, 5.0)\n"
     ]
    }
   ],
   "source": [
    "while abs(max_refl[itime,ilat,ilon]-next_refl) <= REFL_MAX_OFFSET:\n",
    "    reference_refl[itime,ilat,ilon]=next_refl\n",
    "    reference_refl_bin[itime,ilat,ilon] = next_bin\n",
    "    reference_refl_ht[itime,ilat,ilon]=next_ht  \n",
    "    next_bin = reference_refl_bin[itime,ilat,ilon]+1\n",
    "    next_ht = reference_refl_ht[itime,ilat,ilon]+VERT_RES\n",
    "    next_refl = refl[itime,next_bin,ilat,ilon]\n",
    "    print(reference_refl[itime,ilat,ilon],reference_refl_bin[itime,ilat,ilon],reference_refl_ht[itime,ilat,ilon])\n",
    "    print(next_refl,next_bin,next_ht)\n"
   ]
  },
  {
   "cell_type": "code",
   "execution_count": 735,
   "metadata": {
    "collapsed": false
   },
   "outputs": [
    {
     "name": "stdout",
     "output_type": "stream",
     "text": [
      "Found best reference point\n",
      "('   reference_refl     =', 45.885315)\n",
      "('   reference_refl_bin =', 39)\n",
      "('   reference_refl_ht  =', 4.875)\n"
     ]
    }
   ],
   "source": [
    "print('Found best reference point')\n",
    "print('   reference_refl     =',reference_refl[itime,ilat,ilon])\n",
    "print('   reference_refl_bin =',reference_refl_bin[itime,ilat,ilon])\n",
    "print('   reference_refl_ht  =',reference_refl_ht[itime,ilat,ilon])"
   ]
  },
  {
   "cell_type": "code",
   "execution_count": 736,
   "metadata": {
    "collapsed": false
   },
   "outputs": [
    {
     "data": {
      "text/plain": [
       "True"
      ]
     },
     "execution_count": 736,
     "metadata": {},
     "output_type": "execute_result"
    }
   ],
   "source": [
    "reference_refl_ht[itime,ilat,ilon] < MAX_BB_HT"
   ]
  },
  {
   "cell_type": "code",
   "execution_count": 737,
   "metadata": {
    "collapsed": false
   },
   "outputs": [
    {
     "data": {
      "text/plain": [
       "True"
      ]
     },
     "execution_count": 737,
     "metadata": {},
     "output_type": "execute_result"
    }
   ],
   "source": [
    "reference_refl_ht[itime,ilat,ilon] + DELTA_HT_FOR_SLOPE <= max_ht[itime,ilat,ilon]"
   ]
  },
  {
   "cell_type": "code",
   "execution_count": 738,
   "metadata": {
    "collapsed": false
   },
   "outputs": [
    {
     "name": "stdout",
     "output_type": "stream",
     "text": [
      "(33.953949, 51, 6.375)\n"
     ]
    }
   ],
   "source": [
    "if reference_refl_ht[itime,ilat,ilon] + DELTA_HT_FOR_SLOPE <= max_ht[itime,ilat,ilon]:\n",
    "    compare_bin = reference_refl_bin[itime,ilat,ilon] + int(DELTA_HT_FOR_SLOPE/VERT_RES)\n",
    "    compare_ht = reference_refl_ht[itime,ilat,ilon] + DELTA_HT_FOR_SLOPE\n",
    "    compare_refl = refl[itime,compare_bin,ilat,ilon]\n",
    "else:\n",
    "    compare_bin = max_ht_bin[itime,ilat,ilon]\n",
    "    compare_ht = max_ht[itime,ilat,ilon]\n",
    "    compare_refl = refl[itime,compare_bin,ilat,ilon]\n",
    " \n",
    "print(compare_refl,compare_bin,compare_ht)"
   ]
  },
  {
   "cell_type": "code",
   "execution_count": 739,
   "metadata": {
    "collapsed": false
   },
   "outputs": [
    {
     "data": {
      "text/plain": [
       "True"
      ]
     },
     "execution_count": 739,
     "metadata": {},
     "output_type": "execute_result"
    }
   ],
   "source": [
    "( abs(reference_refl[itime,ilat,ilon] - compare_refl)/abs(reference_refl_ht[itime,ilat,ilon] - compare_ht) ) >= SLOPE        "
   ]
  },
  {
   "cell_type": "code",
   "execution_count": 740,
   "metadata": {
    "collapsed": false
   },
   "outputs": [
    {
     "data": {
      "text/plain": [
       "45.885315"
      ]
     },
     "execution_count": 740,
     "metadata": {},
     "output_type": "execute_result"
    }
   ],
   "source": [
    "reference_refl[itime,ilat,ilon]"
   ]
  },
  {
   "cell_type": "code",
   "execution_count": 741,
   "metadata": {
    "collapsed": false
   },
   "outputs": [
    {
     "data": {
      "text/plain": [
       "33.953949"
      ]
     },
     "execution_count": 741,
     "metadata": {},
     "output_type": "execute_result"
    }
   ],
   "source": [
    "compare_refl"
   ]
  },
  {
   "cell_type": "code",
   "execution_count": 742,
   "metadata": {
    "collapsed": false
   },
   "outputs": [
    {
     "data": {
      "text/plain": [
       "4.875"
      ]
     },
     "execution_count": 742,
     "metadata": {},
     "output_type": "execute_result"
    }
   ],
   "source": [
    "reference_refl_ht[itime,ilat,ilon]"
   ]
  },
  {
   "cell_type": "code",
   "execution_count": 743,
   "metadata": {
    "collapsed": false
   },
   "outputs": [
    {
     "data": {
      "text/plain": [
       "6.375"
      ]
     },
     "execution_count": 743,
     "metadata": {},
     "output_type": "execute_result"
    }
   ],
   "source": [
    "compare_ht"
   ]
  },
  {
   "cell_type": "code",
   "execution_count": 744,
   "metadata": {
    "collapsed": false
   },
   "outputs": [
    {
     "data": {
      "text/plain": [
       "1.5"
      ]
     },
     "execution_count": 744,
     "metadata": {},
     "output_type": "execute_result"
    }
   ],
   "source": [
    "abs(reference_refl_ht[itime,ilat,ilon] - compare_ht)"
   ]
  },
  {
   "cell_type": "code",
   "execution_count": 745,
   "metadata": {
    "collapsed": false
   },
   "outputs": [
    {
     "data": {
      "text/plain": [
       "11.931366"
      ]
     },
     "execution_count": 745,
     "metadata": {},
     "output_type": "execute_result"
    }
   ],
   "source": [
    "abs(reference_refl[itime,ilat,ilon] - compare_refl)"
   ]
  },
  {
   "cell_type": "code",
   "execution_count": 746,
   "metadata": {
    "collapsed": false
   },
   "outputs": [
    {
     "data": {
      "text/plain": [
       "7.954243977864583"
      ]
     },
     "execution_count": 746,
     "metadata": {},
     "output_type": "execute_result"
    }
   ],
   "source": [
    "( abs(reference_refl[itime,ilat,ilon] - compare_refl)/abs(reference_refl_ht[itime,ilat,ilon] - compare_ht) )"
   ]
  },
  {
   "cell_type": "code",
   "execution_count": 706,
   "metadata": {
    "collapsed": true
   },
   "outputs": [],
   "source": [
    "# END OF STEP BY STEP"
   ]
  },
  {
   "cell_type": "code",
   "execution_count": 747,
   "metadata": {
    "collapsed": false
   },
   "outputs": [
    {
     "data": {
      "text/plain": [
       "46.995472"
      ]
     },
     "execution_count": 747,
     "metadata": {},
     "output_type": "execute_result"
    }
   ],
   "source": [
    "max_refl[itime,ilat,ilon]"
   ]
  },
  {
   "cell_type": "code",
   "execution_count": 748,
   "metadata": {
    "collapsed": false
   },
   "outputs": [
    {
     "data": {
      "text/plain": [
       "array([-99.        , -99.        , -99.        , -99.        ,\n",
       "       -99.        , -99.        , -99.        , -99.        ,\n",
       "       -99.        , -99.        , -99.        , -99.        ,\n",
       "        44.81999969,  44.15016937,  44.15399933,  44.16794968,\n",
       "        44.17202377,  44.17621994,  44.18053436,  44.18424988,\n",
       "        44.18880463,  44.19347382,  44.19272614,  45.08919144,\n",
       "        44.95888519,  45.25337982,  44.92152023,  44.79096603,\n",
       "        45.90945435,  44.5593605 ,  45.11778259,  45.24478149,\n",
       "        46.05205917,  46.08937836,  46.03396988,  45.53702545,\n",
       "        46.88890457,  46.99547195,  45.83788681,  45.88531494,\n",
       "        44.45673752,  44.88173294,  43.76644897,  43.53131485,  42.70576859], dtype=float32)"
      ]
     },
     "execution_count": 748,
     "metadata": {},
     "output_type": "execute_result"
    }
   ],
   "source": [
    "refl[0,0:45,ilat,ilon]"
   ]
  },
  {
   "cell_type": "code",
   "execution_count": 749,
   "metadata": {
    "collapsed": false
   },
   "outputs": [
    {
     "data": {
      "text/plain": [
       "[]"
      ]
     },
     "execution_count": 749,
     "metadata": {},
     "output_type": "execute_result"
    },
    {
     "data": {
      "image/png": "[encoded data removed]",
      "text/plain": [
       "<matplotlib.figure.Figure at 0x2ac30bf6e1d0>"
      ]
     },
     "metadata": {},
     "output_type": "display_data"
    }
   ],
   "source": [
    "# MOD CASE\n",
    "#y = range(1, 30)\n",
    "x = refl[0,0:54,ilat,ilon]\n",
    "y = np.linspace(0.0,6.625,num=54)\n",
    "fig = plt.figure()\n",
    "plt.plot(x, y, '-',color='black')\n",
    "#plt.plot(x, y, 'o')\n",
    "plt.xlim(15, 50);\n",
    "plt.ylim(0.0, 7.0);\n",
    "plt.xlabel('refl')\n",
    "plt.ylabel('ht (km)')\n",
    "\n",
    "x1 = range(15,51)\n",
    "y1 = np.array([max_refl_ht[itime,ilat,ilon] for i in xrange(len(x1))])\n",
    "plt.plot(x1, y1, 'r-') \n",
    "plt.plot()\n",
    "#plt.axis('equal')\n",
    "\n",
    "x2 = range(15,51)\n",
    "y2 = np.array([reference_refl_ht[itime,ilat,ilon] for i in xrange(len(x2))])\n",
    "plt.plot(x2, y2, 'b--') \n",
    "plt.plot()\n",
    "#plt.axis('equal')\n",
    "\n",
    "x3 = range(15,51)\n",
    "y3 = np.array([compare_ht for i in xrange(len(x3))])\n",
    "plt.plot(x3, y3, 'g--') \n",
    "plt.plot()\n",
    "#plt.axis('equal')\n",
    "\n",
    "y4 = range(0,8)\n",
    "x4 = np.array([reference_refl[itime,ilat,ilon] for i in xrange(len(y4))])\n",
    "plt.plot(x4, y4, 'b--') \n",
    "plt.plot()\n",
    "#plt.axis('equal')\n",
    "\n",
    "y5 = range(0,8)\n",
    "x5 = np.array([compare_refl for i in xrange(len(y5))])\n",
    "plt.plot(x5, y5, 'g--') \n",
    "plt.plot()\n",
    "#plt.axis('equal')\n",
    "\n"
   ]
  },
  {
   "cell_type": "code",
   "execution_count": 657,
   "metadata": {
    "collapsed": false
   },
   "outputs": [],
   "source": [
    "ncid.close()"
   ]
  },
  {
   "cell_type": "code",
   "execution_count": null,
   "metadata": {
    "collapsed": true
   },
   "outputs": [],
   "source": []
  }
 ],
 "metadata": {
  "kernelspec": {
   "display_name": "Python 2",
   "language": "python",
   "name": "python2"
  },
  "language_info": {
   "codemirror_mode": {
    "name": "ipython",
    "version": 2
   },
   "file_extension": ".py",
   "mimetype": "text/x-python",
   "name": "python",
   "nbconvert_exporter": "python",
   "pygments_lexer": "ipython2",
   "version": "2.7.13"
  }
 },
 "nbformat": 4,
 "nbformat_minor": 0
}
