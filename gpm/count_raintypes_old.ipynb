{
 "cells": [
  {
   "cell_type": "code",
   "execution_count": 19,
   "metadata": {
    "collapsed": false
   },
   "outputs": [
    {
     "name": "stdout",
     "output_type": "stream",
     "text": [
      "Using matplotlib backend: TkAgg\n"
     ]
    }
   ],
   "source": [
    "import os\n",
    "import netCDF4 as nc4\n",
    "import numpy as np\n",
    "import datetime as dt\n",
    "from matplotlib.dates import DateFormatter, MonthLocator\n",
    "\n",
    "# For plotting\n",
    "%matplotlib\n",
    "import matplotlib as mpl\n",
    "import matplotlib.pyplot as plt"
   ]
  },
  {
   "cell_type": "code",
   "execution_count": 20,
   "metadata": {
    "collapsed": true
   },
   "outputs": [],
   "source": [
    "STRA = 1\n",
    "CONV = 2\n",
    "OTHER = 3\n",
    "\n",
    "NHW = 0\n",
    "NHC = 1\n",
    "NHE = 2"
   ]
  },
  {
   "cell_type": "code",
   "execution_count": 21,
   "metadata": {
    "collapsed": true
   },
   "outputs": [],
   "source": [
    "#User inputs\n",
    "indir_v05 = '/home/disk/bob/gpm/nht_ku/classify/ex_data_v05'\n",
    "indir_ite132 = '/home/disk/bob/gpm/nht_ku/classify/ex_data_ite132'\n",
    "indir_ite601 = '/home/disk/bob/gpm/nht_ku/classify/ex_data_ite601'\n",
    "\n",
    "years = ['2015','2016']"
   ]
  },
  {
   "cell_type": "code",
   "execution_count": 4,
   "metadata": {
    "collapsed": true
   },
   "outputs": [],
   "source": [
    "#Declare output arrays\n",
    "stra_counts_v05 = np.zeros((3,12),dtype=int)\n",
    "stra_counts_v05_uw = np.zeros((3,12),dtype=int)\n",
    "stra_counts_ite132 = np.zeros((3,12),dtype=int)\n",
    "stra_counts_ite601 = np.zeros((3,12),dtype=int)\n",
    "\n",
    "conv_counts_v05 = np.zeros((3,12),dtype=int)\n",
    "conv_counts_v05_uw = np.zeros((3,12),dtype=int)\n",
    "conv_counts_ite132 = np.zeros((3,12),dtype=int)\n",
    "conv_counts_ite601 = np.zeros((3,12),dtype=int)\n",
    "\n",
    "other_counts_v05 = np.zeros((3,12),dtype=int)\n",
    "other_counts_v05_uw = np.zeros((3,12),dtype=int)\n",
    "other_counts_ite132 = np.zeros((3,12),dtype=int)\n",
    "other_counts_ite601 = np.zeros((3,12),dtype=int)"
   ]
  },
  {
   "cell_type": "code",
   "execution_count": 24,
   "metadata": {
    "collapsed": true
   },
   "outputs": [],
   "source": [
    "# array for datetime objects used for x-axis labels\n",
    "x_values = []"
   ]
  },
  {
   "cell_type": "code",
   "execution_count": 26,
   "metadata": {
    "collapsed": false
   },
   "outputs": [
    {
     "name": "stdout",
     "output_type": "stream",
     "text": [
      "year= 2015\n",
      "month= 04  idx= 0  index= 0\n",
      "month= 05  idx= 1  index= 1\n",
      "month= 06  idx= 2  index= 2\n",
      "month= 07  idx= 3  index= 3\n",
      "month= 08  idx= 4  index= 4\n",
      "month= 09  idx= 5  index= 5\n",
      "month= 10  idx= 6  index= 6\n",
      "month= 11  idx= 7  index= 7\n",
      "month= 12  idx= 8  index= 8\n",
      "year= 2016\n",
      "month= 01  idx= 0  index= 9\n",
      "month= 02  idx= 1  index= 10\n",
      "month= 03  idx= 2  index= 11\n"
     ]
    }
   ],
   "source": [
    "for iyear in years:\n",
    "    print 'year=',iyear\n",
    "    if iyear == '2015':\n",
    "        months = ['04','05','06','07','08','09','10','11','12']\n",
    "    else:\n",
    "        months = ['01','02','03']\n",
    "    for idx, imonth in enumerate(months):\n",
    "        if iyear == '2015':\n",
    "            index = idx\n",
    "        else:\n",
    "            index = idx+9\n",
    "        print 'month=',imonth,' idx=',idx,' index=',index\n",
    "        # turn month into datetiem object\n",
    "        curr_month = dt.datetime(int(iyear),int(imonth),1)\n",
    "        x_values.append(curr_month)"
   ]
  },
  {
   "cell_type": "code",
   "execution_count": 6,
   "metadata": {
    "collapsed": false
   },
   "outputs": [
    {
     "name": "stdout",
     "output_type": "stream",
     "text": [
      "year= 2015\n",
      "month= 04  idx= 0  index =  0\n",
      "month= 05  idx= 1  index =  1\n",
      "month= 06  idx= 2  index =  2\n",
      "month= 07  idx= 3  index =  3\n",
      "month= 08  idx= 4  index =  4\n",
      "month= 09  idx= 5  index =  5\n",
      "month= 10  idx= 6  index =  6\n",
      "month= 11  idx= 7  index =  7\n",
      "month= 12  idx= 8  index =  8\n",
      "year= 2016\n",
      "month= 01  idx= 0  index =  9\n",
      "month= 02  idx= 1  index =  10\n",
      "month= 03  idx= 2  index =  11\n"
     ]
    }
   ],
   "source": [
    "for iyear in years:\n",
    "    print 'year=',iyear\n",
    "    if iyear == '2015':\n",
    "        months = ['04','05','06','07','08','09','10','11','12']\n",
    "    else:\n",
    "        months = ['01','02','03']\n",
    "    for idx, imonth in enumerate(months):\n",
    "        if iyear == '2015':\n",
    "            index = idx\n",
    "        else:\n",
    "            index = idx+9\n",
    "        print 'month=',imonth,' idx=',idx,' index = ',index\n",
    "        # turn month into datetime object\n",
    "        curr_month = dt.datetime(int(iyear),int(month),1)\n",
    "        x_values.append(cur_month)\n",
    "        for fname in os.listdir(indir_v05+'/'+iyear+'/'+imonth):\n",
    "            #print fname\n",
    "            #open fname and read rain_type and rain_type_uw\n",
    "            ncid = nc4.Dataset(indir_v05+'/'+iyear+'/'+imonth+'/'+fname,'r')\n",
    "            rt = np.array(ncid.variables['rain_type'])\n",
    "            rt_uw = np.array(ncid.variables['rain_type_uw'])\n",
    "            ncid.close()\n",
    "            if fname.endswith('NHW.nc'):\n",
    "                #unique, counts = np.unique(rt, return_counts=True)\n",
    "                stra_counts_v05[NHW,index] += np.count_nonzero(rt == STRA)\n",
    "                conv_counts_v05[NHW,index] += np.count_nonzero(rt == CONV)\n",
    "                other_counts_v05[NHW,index] += np.count_nonzero(rt == OTHER)\n",
    "                stra_counts_v05_uw[NHW,index] += np.count_nonzero(rt_uw == STRA)\n",
    "                conv_counts_v05_uw[NHW,index] += np.count_nonzero(rt_uw == CONV)\n",
    "                other_counts_v05_uw[NHW,index] += np.count_nonzero(rt_uw == OTHER)\n",
    "            elif fname.endswith('NHC.nc'):\n",
    "                #unique, counts = np.unique(rt, return_counts=True)\n",
    "                stra_counts_v05[NHC,index] += np.count_nonzero(rt == STRA)\n",
    "                conv_counts_v05[NHC,index] += np.count_nonzero(rt == CONV)\n",
    "                other_counts_v05[NHC,index] += np.count_nonzero(rt == OTHER)\n",
    "                stra_counts_v05_uw[NHC,index] += np.count_nonzero(rt_uw == STRA)\n",
    "                conv_counts_v05_uw[NHC,index] += np.count_nonzero(rt_uw == CONV)\n",
    "                other_counts_v05_uw[NHC,index] += np.count_nonzero(rt_uw == OTHER)\n",
    "            elif fname.endswith('NHE.nc'):\n",
    "                #unique, counts = np.unique(rt, return_counts=True)\n",
    "                stra_counts_v05[NHE,index] += np.count_nonzero(rt == STRA)\n",
    "                conv_counts_v05[NHE,index] += np.count_nonzero(rt == CONV)\n",
    "                other_counts_v05[NHE,index] += np.count_nonzero(rt == OTHER)\n",
    "                stra_counts_v05_uw[NHE,index] += np.count_nonzero(rt_uw == STRA)\n",
    "                conv_counts_v05_uw[NHE,index] += np.count_nonzero(rt_uw == CONV)\n",
    "                other_counts_v05_uw[NHE,index] += np.count_nonzero(rt_uw == OTHER)\n",
    "        for fname in os.listdir(indir_ite132+'/'+iyear+'/'+imonth):\n",
    "            #print fname\n",
    "            #open fname and read rain_type\n",
    "            ncid = nc4.Dataset(indir_ite132+'/'+iyear+'/'+imonth+'/'+fname,'r')\n",
    "            rt = np.array(ncid.variables['rain_type'])\n",
    "            ncid.close()\n",
    "            if fname.endswith('NHW.nc'):\n",
    "                #unique, counts = np.unique(rt, return_counts=True)\n",
    "                stra_counts_ite132[NHW,index] += np.count_nonzero(rt == STRA)\n",
    "                conv_counts_ite132[NHW,index] += np.count_nonzero(rt == CONV)\n",
    "                other_counts_ite132[NHW,index] += np.count_nonzero(rt == OTHER)\n",
    "            elif fname.endswith('NHC.nc'):\n",
    "                #unique, counts = np.unique(rt, return_counts=True)\n",
    "                stra_counts_ite132[NHC,index] += np.count_nonzero(rt == STRA)\n",
    "                conv_counts_ite132[NHC,index] += np.count_nonzero(rt == CONV)\n",
    "                other_counts_ite132[NHC,index] += np.count_nonzero(rt == OTHER)\n",
    "            elif fname.endswith('NHE.nc'):\n",
    "                #unique, counts = np.unique(rt, return_counts=True)\n",
    "                stra_counts_ite132[NHE,index] += np.count_nonzero(rt == STRA)\n",
    "                conv_counts_ite132[NHE,index] += np.count_nonzero(rt == CONV)\n",
    "                other_counts_ite132[NHE,index] += np.count_nonzero(rt == OTHER)"
   ]
  },
  {
   "cell_type": "code",
   "execution_count": 42,
   "metadata": {
    "collapsed": false
   },
   "outputs": [
    {
     "data": {
      "text/plain": [
       "array([[230566, 342783, 291199, 360649, 295992, 304768, 314521, 255346,\n",
       "        254195, 190648, 151150, 126675],\n",
       "       [ 85262, 164289, 136256, 158177, 193338, 159661, 164906, 138662,\n",
       "         75556,  41438,  51146, 117794],\n",
       "       [205521, 236524, 332322, 270239, 346212, 337228, 275823, 291836,\n",
       "        171625,  99733,  90656,  93466]])"
      ]
     },
     "execution_count": 42,
     "metadata": {},
     "output_type": "execute_result"
    }
   ],
   "source": [
    "stra_counts_v05\n",
    "#stra_counts_v05_uw\n",
    "#stra_counts_ite132\n",
    "#conv_counts_v05\n",
    "#conv_counts_v05_uw\n",
    "#conv_counts_ite132\n",
    "#other_counts_v05\n",
    "#other_counts_v05_uw\n",
    "#other_counts_ite132"
   ]
  },
  {
   "cell_type": "code",
   "execution_count": 45,
   "metadata": {
    "collapsed": false
   },
   "outputs": [],
   "source": [
    "# plot convective output\n",
    "fig = plt.figure()\n",
    "#plt.xlim(1, 12)\n",
    "#plt.ylim();\n",
    "plt.plot(x_values,conv_counts_v05[0,:], '-', color='black', label='NHW_v05')\n",
    "plt.plot()\n",
    "plt.plot(x_values,conv_counts_v05_uw[0,:], '-', color='red', label='NHW_v05_uw')\n",
    "plt.plot()\n",
    "plt.plot(x_values,conv_counts_ite132[0,:], '-', color='blue', label='NHW_ite132')\n",
    "plt.plot()\n",
    "plt.plot(x_values,conv_counts_v05[1,:], ':', color='black', label='NHC_v05')\n",
    "plt.plot()\n",
    "plt.plot(x_values,conv_counts_v05_uw[1,:], ':', color='red', label='NHC_v05_uw')\n",
    "plt.plot()\n",
    "plt.plot(x_values,conv_counts_ite132[1,:], ':', color='blue', label='NHC_ite132')\n",
    "plt.plot()\n",
    "plt.plot(x_values,conv_counts_v05[2,:], '--', color='black', label='NHE_v05')\n",
    "plt.plot()\n",
    "plt.plot(x_values,conv_counts_v05_uw[2,:], '--', color='red', label='NHE_v05_uw')\n",
    "plt.plot()\n",
    "plt.plot(x_values,conv_counts_ite132[2,:], '--', color='blue', label='NHE_ite132')\n",
    "plt.plot()\n",
    "plt.legend()\n",
    "plt.xlabel('months')\n",
    "plt.ylabel('pixel counts')\n",
    "plt.title('Convective Counts - Near Equatorial, Northern Hemisphere')\n",
    "plt.tight_layout()"
   ]
  },
  {
   "cell_type": "code",
   "execution_count": 86,
   "metadata": {
    "collapsed": false
   },
   "outputs": [
    {
     "ename": "NameError",
     "evalue": "name 'xminor_locator' is not defined",
     "output_type": "error",
     "traceback": [
      "\u001b[1;31m---------------------------------------------------------------------------\u001b[0m",
      "\u001b[1;31mNameError\u001b[0m                                 Traceback (most recent call last)",
      "\u001b[1;32m<ipython-input-86-e46357f50521>\u001b[0m in \u001b[0;36m<module>\u001b[1;34m()\u001b[0m\n\u001b[0;32m     15\u001b[0m \u001b[1;31m#ax.xaxis.set_major_locator( MonthLocator(0,1,2,3,4,5,6,7,8,9,10,11))\u001b[0m\u001b[1;33m\u001b[0m\u001b[1;33m\u001b[0m\u001b[0m\n\u001b[0;32m     16\u001b[0m \u001b[1;31m#ax.xaxis.set_major_locator(xmajor_locator)\u001b[0m\u001b[1;33m\u001b[0m\u001b[1;33m\u001b[0m\u001b[0m\n\u001b[1;32m---> 17\u001b[1;33m \u001b[0max\u001b[0m\u001b[1;33m.\u001b[0m\u001b[0mxaxis\u001b[0m\u001b[1;33m.\u001b[0m\u001b[0mset_major_locator\u001b[0m\u001b[1;33m(\u001b[0m\u001b[0mxminor_locator\u001b[0m\u001b[1;33m)\u001b[0m\u001b[1;33m\u001b[0m\u001b[0m\n\u001b[0m\u001b[0;32m     18\u001b[0m \u001b[1;31m#set format of months (YYYYMM)\u001b[0m\u001b[1;33m\u001b[0m\u001b[1;33m\u001b[0m\u001b[0m\n\u001b[0;32m     19\u001b[0m \u001b[0max\u001b[0m\u001b[1;33m.\u001b[0m\u001b[0mxaxis\u001b[0m\u001b[1;33m.\u001b[0m\u001b[0mset_major_formatter\u001b[0m\u001b[1;33m(\u001b[0m \u001b[0mDateFormatter\u001b[0m\u001b[1;33m(\u001b[0m\u001b[1;34m'%Y%m'\u001b[0m\u001b[1;33m)\u001b[0m \u001b[1;33m)\u001b[0m\u001b[1;33m\u001b[0m\u001b[0m\n",
      "\u001b[1;31mNameError\u001b[0m: name 'xminor_locator' is not defined"
     ]
    }
   ],
   "source": [
    "# plot convective NHW output\n",
    "fig = plt.figure()\n",
    "ax = fig.gca()\n",
    "#plt.xlim(1, 12)\n",
    "#plt.ylim();\n",
    "plt.plot(x_values,conv_counts_v05[0,:], '-', color='black', label='NHW_v05')\n",
    "plt.plot()\n",
    "plt.plot(x_values,conv_counts_v05_uw[0,:], '-', color='red', label='NHW_v05_uw')\n",
    "plt.plot()\n",
    "plt.plot(x_values,conv_counts_ite132[0,:], '-', color='blue', label='NHW_ite132')\n",
    "plt.plot()\n",
    "plt.grid(linestyle=\":\")\n",
    "plt.legend()\n",
    "# Set which months to put tickmarks at\n",
    "#ax.xaxis.set_major_locator( MonthLocator(0,1,2,3,4,5,6,7,8,9,10,11))\n",
    "#ax.xaxis.set_major_locator(xmajor_locator)\n",
    "ax.xaxis.set_major_locator(xminor_locator)\n",
    "#set format of months (YYYYMM)\n",
    "ax.xaxis.set_major_formatter( DateFormatter('%Y%m') )\n",
    "#rotate label text to vertical\n",
    "#plt.setp(plt.xticks()[1], rotation=90)\n",
    "plt.xlabel('months')\n",
    "plt.ylabel('pixel counts')\n",
    "plt.title('Convective Counts - NHW')\n",
    "plt.tight_layout()"
   ]
  },
  {
   "cell_type": "code",
   "execution_count": 29,
   "metadata": {
    "collapsed": false
   },
   "outputs": [
    {
     "data": {
      "text/plain": [
       "(array([ 735719.,  735780.,  735842.,  735903.,  735964.,  736024.]),\n",
       " <a list of 6 Text xticklabel objects>)"
      ]
     },
     "execution_count": 29,
     "metadata": {},
     "output_type": "execute_result"
    }
   ],
   "source": [
    "plt.xticks()"
   ]
  },
  {
   "cell_type": "code",
   "execution_count": 46,
   "metadata": {
    "collapsed": false
   },
   "outputs": [],
   "source": [
    "# plot convective NHC output\n",
    "fig = plt.figure()\n",
    "#plt.xlim(1, 12)\n",
    "#plt.ylim();\n",
    "plt.plot(x_values,conv_counts_v05[1,:], '-', color='black', label='NHC_v05')\n",
    "plt.plot()\n",
    "plt.plot(x_values,conv_counts_v05_uw[1,:], '-', color='red', label='NHC_v05_uw')\n",
    "plt.plot()\n",
    "plt.plot(x_values,conv_counts_ite132[1,:], '-', color='blue', label='NHC_ite132')\n",
    "plt.plot()\n",
    "plt.legend()\n",
    "plt.xlabel('months')\n",
    "plt.ylabel('pixel counts')\n",
    "plt.title('Convective Counts - NHC')\n",
    "plt.tight_layout()"
   ]
  },
  {
   "cell_type": "code",
   "execution_count": 47,
   "metadata": {
    "collapsed": false
   },
   "outputs": [],
   "source": [
    "# plot convective NHE output\n",
    "fig = plt.figure()\n",
    "#plt.xlim(1, 12)\n",
    "#plt.ylim();\n",
    "plt.plot(x_values,conv_counts_v05[2,:], '-', color='black', label='NHE_v05')\n",
    "plt.plot()\n",
    "plt.plot(x_values,conv_counts_v05_uw[2,:], '-', color='red', label='NHE_v05_uw')\n",
    "plt.plot()\n",
    "plt.plot(x_values,conv_counts_ite132[2,:], '-', color='blue', label='NHE_ite132')\n",
    "plt.plot()\n",
    "plt.legend()\n",
    "plt.xlabel('months')\n",
    "plt.ylabel('pixel counts')\n",
    "plt.title('Convective Counts - NHE')\n",
    "plt.tight_layout()"
   ]
  },
  {
   "cell_type": "code",
   "execution_count": 70,
   "metadata": {
    "collapsed": false
   },
   "outputs": [
    {
     "name": "stdout",
     "output_type": "stream",
     "text": [
      "[157516 176305 176694 205827 187043 184852 188927 182809 185480 139961\n",
      " 121342 113448]\n",
      "[152770 169868 171668 198498 180531 178287 181640 177555 179614 136379\n",
      " 118250 111004]\n",
      "[4746 6437 5026 7329 6512 6565 7287 5254 5866 3582 3092 2444]\n",
      "[ 0.03013027  0.03651059  0.02844466  0.03560757  0.03481552  0.0355149\n",
      "  0.03857045  0.02874038  0.03162605  0.02559284  0.0254817   0.02154291]\n"
     ]
    }
   ],
   "source": [
    "percent_diffs = (conv_counts_v05_uw[0,:]-conv_counts_ite132[0,:])/np.asfarray(conv_counts_v05_uw[0,:])\n",
    "print conv_counts_v05_uw[0,:]\n",
    "print conv_counts_ite132[0,:]\n",
    "print conv_counts_v05_uw[0,:]-conv_counts_ite132[0,:]\n",
    "print percent_diffs"
   ]
  },
  {
   "cell_type": "code",
   "execution_count": 76,
   "metadata": {
    "collapsed": true
   },
   "outputs": [],
   "source": [
    "# plot % diffs between v05_uw and ite132\n",
    "fig = plt.figure()\n",
    "ax = fig.gca()\n",
    "ax.set_xticks(numpy.arange(0, 12, 1))\n",
    "plt.plot(x_values,(conv_counts_v05_uw[0,:]-conv_counts_ite132[0,:])/np.asfarray(conv_counts_v05_uw[0,:])*100.,'-',color='black',label='NHW')\n",
    "plt.plot()\n",
    "plt.plot(x_values,(conv_counts_v05_uw[1,:]-conv_counts_ite132[1,:])/np.asfarray(conv_counts_v05_uw[1,:])*100.,'-',color='red',label='NHC')\n",
    "plt.plot()\n",
    "plt.plot(x_values,(conv_counts_v05_uw[2,:]-conv_counts_ite132[2,:])/np.asfarray(conv_counts_v05_uw[2,:])*100.,'-',color='blue',label='NHE')\n",
    "plt.plot()\n",
    "plt.grid()\n",
    "plt.legend()\n",
    "plt.xlabel('months')\n",
    "plt.ylabel('% diff (v05_uw-ite132)/v05_uw')\n",
    "plt.title('Percent Diff in Conv Counts - NHT (0-20N,180W-180E)')\n",
    "plt.tight_layout()"
   ]
  },
  {
   "cell_type": "code",
   "execution_count": 49,
   "metadata": {
    "collapsed": false
   },
   "outputs": [],
   "source": [
    "# plot stratiform output\n",
    "fig = plt.figure()\n",
    "#plt.xlim(1, 12)\n",
    "#plt.ylim();\n",
    "plt.plot(x_values,stra_counts_v05[0,:], '-', color='black', label='NHW_v05')\n",
    "plt.plot()\n",
    "plt.plot(x_values,stra_counts_v05_uw[0,:], '-', color='red', label='NHW_v05_uw')\n",
    "plt.plot()\n",
    "plt.plot(x_values,stra_counts_ite132[0,:], '-', color='blue', label='NHW_ite132')\n",
    "plt.plot()\n",
    "plt.plot(x_values,stra_counts_v05[1,:], ':', color='black', label='NHC_v05')\n",
    "plt.plot()\n",
    "plt.plot(x_values,stra_counts_v05_uw[1,:], ':', color='red', label='NHC_v05_uw')\n",
    "plt.plot()\n",
    "plt.plot(x_values,stra_counts_ite132[1,:], ':', color='blue', label='NHC_ite132')\n",
    "plt.plot()\n",
    "plt.plot(x_values,stra_counts_v05[2,:], '--', color='black', label='NHE_v05')\n",
    "plt.plot()\n",
    "plt.plot(x_values,stra_counts_v05_uw[2,:], '--', color='red', label='NHE_v05_uw')\n",
    "plt.plot()\n",
    "plt.plot(x_values,stra_counts_ite132[2,:], '--', color='blue', label='NHE_ite132')\n",
    "plt.plot()\n",
    "plt.legend()\n",
    "plt.xlabel('months')\n",
    "plt.ylabel('pixel counts')\n",
    "plt.title('Stratiform Counts - Near Equatorial, Northern Hemisphere')\n",
    "plt.tight_layout()"
   ]
  },
  {
   "cell_type": "code",
   "execution_count": 52,
   "metadata": {
    "collapsed": true
   },
   "outputs": [],
   "source": [
    "# plot stratiform NHW output\n",
    "fig = plt.figure()\n",
    "#plt.xlim(1, 12)\n",
    "#plt.ylim();\n",
    "plt.plot(x_values,stra_counts_v05[0,:], '-', color='black', label='NHW_v05')\n",
    "plt.plot()\n",
    "plt.plot(x_values,stra_counts_v05_uw[0,:], '-', color='red', label='NHW_v05_uw')\n",
    "plt.plot()\n",
    "plt.plot(x_values,stra_counts_ite132[0,:], '-', color='blue', label='NHW_ite132')\n",
    "plt.plot()\n",
    "plt.legend()\n",
    "plt.xlabel('months')\n",
    "plt.ylabel('pixel counts')\n",
    "plt.title('Stratiform Counts - NHW')\n",
    "plt.tight_layout()"
   ]
  },
  {
   "cell_type": "code",
   "execution_count": 53,
   "metadata": {
    "collapsed": true
   },
   "outputs": [],
   "source": [
    "# plot stratiform NHC output\n",
    "fig = plt.figure()\n",
    "#plt.xlim(1, 12)\n",
    "#plt.ylim();\n",
    "plt.plot(x_values,stra_counts_v05[1,:], '-', color='black', label='NHC_v05')\n",
    "plt.plot()\n",
    "plt.plot(x_values,stra_counts_v05_uw[1,:], '-', color='red', label='NHC_v05_uw')\n",
    "plt.plot()\n",
    "plt.plot(x_values,stra_counts_ite132[1,:], '-', color='blue', label='NHC_ite132')\n",
    "plt.plot()\n",
    "plt.legend()\n",
    "plt.xlabel('months')\n",
    "plt.ylabel('pixel counts')\n",
    "plt.title('Stratiform Counts - NHC')\n",
    "plt.tight_layout()"
   ]
  },
  {
   "cell_type": "code",
   "execution_count": 54,
   "metadata": {
    "collapsed": true
   },
   "outputs": [],
   "source": [
    "# plot stratiform NHE output\n",
    "fig = plt.figure()\n",
    "#plt.xlim(1, 12)\n",
    "#plt.ylim();\n",
    "plt.plot(x_values,stra_counts_v05[2,:], '-', color='black', label='NHE_v05')\n",
    "plt.plot()\n",
    "plt.plot(x_values,stra_counts_v05_uw[2,:], '-', color='red', label='NHE_v05_uw')\n",
    "plt.plot()\n",
    "plt.plot(x_values,stra_counts_ite132[2,:], '-', color='blue', label='NHE_ite132')\n",
    "plt.plot()\n",
    "plt.legend()\n",
    "plt.xlabel('months')\n",
    "plt.ylabel('pixel counts')\n",
    "plt.title('Stratiform Counts - NHE')\n",
    "plt.tight_layout()"
   ]
  },
  {
   "cell_type": "code",
   "execution_count": 51,
   "metadata": {
    "collapsed": false
   },
   "outputs": [],
   "source": [
    "# plot other output\n",
    "fig = plt.figure()\n",
    "#plt.xlim(1, 12)\n",
    "#plt.ylim();\n",
    "plt.plot(x_values,other_counts_v05[0,:], '-', color='black', label='NHW_v05')\n",
    "plt.plot()\n",
    "plt.plot(x_values,other_counts_v05_uw[0,:], '-', color='red', label='NHW_v05_uw')\n",
    "plt.plot()\n",
    "plt.plot(x_values,other_counts_ite132[0,:], '-', color='blue', label='NHW_ite132')\n",
    "plt.plot()\n",
    "plt.plot(x_values,other_counts_v05[1,:], ':', color='black', label='NHC_v05')\n",
    "plt.plot()\n",
    "plt.plot(x_values,other_counts_v05_uw[1,:], ':', color='red', label='NHC_v05_uw')\n",
    "plt.plot()\n",
    "plt.plot(x_values,other_counts_ite132[1,:], ':', color='blue', label='NHC_ite132')\n",
    "plt.plot()\n",
    "plt.plot(x_values,other_counts_v05[2,:], '--', color='black', label='NHE_v05')\n",
    "plt.plot()\n",
    "plt.plot(x_values,other_counts_v05_uw[2,:], '--', color='red', label='NHE_v05_uw')\n",
    "plt.plot()\n",
    "plt.plot(x_values,other_counts_ite132[2,:], '--', color='blue', label='NHE_ite132')\n",
    "plt.plot()\n",
    "plt.legend()\n",
    "plt.xlabel('months')\n",
    "plt.ylabel('pixel counts')\n",
    "plt.title('Other Counts - Near Equatorial, Northern Hemisphere')\n",
    "plt.tight_layout()"
   ]
  },
  {
   "cell_type": "code",
   "execution_count": null,
   "metadata": {
    "collapsed": true
   },
   "outputs": [],
   "source": []
  }
 ],
 "metadata": {
  "kernelspec": {
   "display_name": "Python 2",
   "language": "python",
   "name": "python2"
  },
  "language_info": {
   "codemirror_mode": {
    "name": "ipython",
    "version": 2
   },
   "file_extension": ".py",
   "mimetype": "text/x-python",
   "name": "python",
   "nbconvert_exporter": "python",
   "pygments_lexer": "ipython2",
   "version": "2.7.13"
  }
 },
 "nbformat": 4,
 "nbformat_minor": 0
}
