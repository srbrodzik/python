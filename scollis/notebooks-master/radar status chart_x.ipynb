{
 "metadata": {
  "name": "",
  "signature": "sha256:e39b84c235b44588e5c2f15314d7be872edf3fa2f771fc2a09cf8002eb9c5962"
 },
 "nbformat": 3,
 "nbformat_minor": 0,
 "worksheets": [
  {
   "cells": [
    {
     "cell_type": "markdown",
     "metadata": {},
     "source": [
      "Playing with ways to visiually represent data availability"
     ]
    },
    {
     "cell_type": "code",
     "collapsed": false,
     "input": [
      "#first we do some imports and check the version of Py-ART for consistency\n",
      "import pyart\n",
      "from matplotlib import pyplot as plt\n",
      "from matplotlib import rc\n",
      "import matplotlib.dates as mdates\n",
      "import netCDF4\n",
      "import numpy as np\n",
      "import copy\n",
      "import scipy\n",
      "import os\n",
      "from IPython.parallel import Client\n",
      "import pickle\n",
      "from time import time\n",
      "%matplotlib inline\n",
      "print pyart.__version__"
     ],
     "language": "python",
     "metadata": {},
     "outputs": [
      {
       "output_type": "stream",
       "stream": "stdout",
       "text": [
        "1.0.0.dev-5a89d03\n"
       ]
      }
     ],
     "prompt_number": 7
    },
    {
     "cell_type": "code",
     "collapsed": false,
     "input": [
      "radar_in_dirs = [ 'XSE', 'XSW', 'XNW']\n",
      "names = ['XSAPR SE', 'XSAPR SW', 'XSAPR NW']"
     ],
     "language": "python",
     "metadata": {},
     "outputs": [],
     "prompt_number": 8
    },
    {
     "cell_type": "code",
     "collapsed": false,
     "input": [
      "files = []\n",
      "for i in range(len(names)):\n",
      "    these_files = os.listdir('/data-in/radar/sgp/sgpxsaprppi/')\n",
      "    these_files.sort()\n",
      "    fq_files = []\n",
      "    for fl in these_files:\n",
      "        if radar_in_dirs[i] in fl:\n",
      "            fq_files.append( '/data-in/radar/sgp/sgpxsaprppi/' + fl)\n",
      "    files.append(fq_files)\n",
      "    "
     ],
     "language": "python",
     "metadata": {},
     "outputs": [],
     "prompt_number": 9
    },
    {
     "cell_type": "code",
     "collapsed": false,
     "input": [
      "print len(names)"
     ],
     "language": "python",
     "metadata": {},
     "outputs": [
      {
       "output_type": "stream",
       "stream": "stdout",
       "text": [
        "3\n"
       ]
      }
     ],
     "prompt_number": 10
    },
    {
     "cell_type": "markdown",
     "metadata": {},
     "source": [
      "The function below opens a file and returns a tuple of date objects, one for start one for end"
     ]
    },
    {
     "cell_type": "code",
     "collapsed": false,
     "input": [
      "def get_date(filename):\n",
      "    try:\n",
      "        radar = pyart.io.read(filename)\n",
      "        t = (num2date(radar.time['data'][0], radar.time['units']), num2date(radar.time['data'][-1], radar.time['units']))\n",
      "    except:\n",
      "        #return start time and end time being the same\n",
      "        t = (num2date(0, 'seconds since 2000-01-01T00:00:00Z'), num2date(0, 'seconds since 2000-01-01T00:00:00Z'))\n",
      "    return t\n",
      "    \n",
      "        "
     ],
     "language": "python",
     "metadata": {},
     "outputs": [],
     "prompt_number": 11
    },
    {
     "cell_type": "markdown",
     "metadata": {},
     "source": [
      "Set up the Map across our cluster\n",
      "Reduce the result, this is where the actual execution takes place and the time comes in"
     ]
    },
    {
     "cell_type": "code",
     "collapsed": false,
     "input": [
      "results = []\n",
      "for i in range(len(files)):\n",
      "    print \"Doing \", names[i] \n",
      "    t1 = time()\n",
      "    c = Client()\n",
      "    dview = c[:]\n",
      "    dview.block = False\n",
      "    dview.execute('import pyart')\n",
      "    dview.execute('from netCDF4 import num2date')\n",
      "    result = dview.map_async(get_date,files[i])\n",
      "    datestrs = result.get()\n",
      "    print (time()-t1)/len(files[i])\n",
      "    block_list = []\n",
      "    for pair in datestrs:\n",
      "        date_start = mdates.date2num(pair[0])\n",
      "        scan_length = mdates.date2num(pair[1]) - date_start\n",
      "        block_list.append((date_start, scan_length ))\n",
      "    results.append(block_list)"
     ],
     "language": "python",
     "metadata": {},
     "outputs": [
      {
       "output_type": "stream",
       "stream": "stdout",
       "text": [
        "Doing  XSAPR SE\n",
        "0.358766917075"
       ]
      },
      {
       "output_type": "stream",
       "stream": "stdout",
       "text": [
        "\n",
        "Doing "
       ]
      },
      {
       "output_type": "stream",
       "stream": "stdout",
       "text": [
        " XSAPR SW\n",
        "0.41746086997"
       ]
      },
      {
       "output_type": "stream",
       "stream": "stdout",
       "text": [
        "\n",
        "Doing "
       ]
      },
      {
       "output_type": "stream",
       "stream": "stdout",
       "text": [
        " XSAPR NW\n",
        "0.551799650594"
       ]
      },
      {
       "output_type": "stream",
       "stream": "stdout",
       "text": [
        "\n"
       ]
      }
     ],
     "prompt_number": 19
    },
    {
     "cell_type": "code",
     "collapsed": false,
     "input": [
      "data_dict = {}\n",
      "for i in range(len(names)):\n",
      "    data_dict.update({names[i]: results[i]})\n",
      "\n",
      "\n",
      "print len(fq_files)\n",
      "outfile = '/home/sc8/xsapr_ppi.pickle'\n",
      "fh = open(outfile, 'w')\n",
      "pickle.dump(data_dict, fh)\n",
      "fh.close()\n"
     ],
     "language": "python",
     "metadata": {},
     "outputs": [
      {
       "output_type": "stream",
       "stream": "stdout",
       "text": [
        "28826\n"
       ]
      }
     ],
     "prompt_number": 20
    },
    {
     "cell_type": "code",
     "collapsed": false,
     "input": [
      "rc('axes', labelsize='large', labelweight='bold')"
     ],
     "language": "python",
     "metadata": {},
     "outputs": [],
     "prompt_number": 21
    },
    {
     "cell_type": "code",
     "collapsed": false,
     "input": [
      "months = mdates.DayLocator()  # every month\n",
      "dayFmt = mdates.DateFormatter('%Y-%M-%D')\n",
      "\n",
      "fig, ax = plt.subplots(figsize = [20,10])\n",
      "nam = data_dict.keys()\n",
      "for i in range(len(nam)):\n",
      "    ax.broken_barh(data_dict[nam[i]], (i-0.25, .5), facecolors = 'green', edgecolors = 'none')\n",
      "    print i\n",
      "ax.set_yticks(range(len(nam)))\n",
      "ax.set_yticklabels(nam)\n",
      "ax.xaxis_date()\n",
      "ax.set_xlim([mdates.datestr2num('2011-04-13'), mdates.datestr2num('2011-05-20')])\n",
      "\n"
     ],
     "language": "python",
     "metadata": {},
     "outputs": [
      {
       "output_type": "stream",
       "stream": "stdout",
       "text": [
        "0\n",
        "1"
       ]
      },
      {
       "output_type": "stream",
       "stream": "stdout",
       "text": [
        "\n",
        "2"
       ]
      },
      {
       "output_type": "stream",
       "stream": "stdout",
       "text": [
        "\n"
       ]
      },
      {
       "metadata": {},
       "output_type": "pyout",
       "prompt_number": 22,
       "text": [
        "(734240.0, 734277.0)"
       ]
      },
      {
       "metadata": {},
       "output_type": "display_data",
       "png": "[encoded data removed]",
       "text": [
        "<matplotlib.figure.Figure at 0x7fb8ef3cbe10>"
       ]
      }
     ],
     "prompt_number": 22
    },
    {
     "cell_type": "code",
     "collapsed": false,
     "input": [],
     "language": "python",
     "metadata": {},
     "outputs": [],
     "prompt_number": 44
    }
   ],
   "metadata": {}
  }
 ]
}