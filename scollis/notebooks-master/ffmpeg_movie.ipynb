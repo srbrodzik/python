{
 "metadata": {
  "name": ""
 },
 "nbformat": 3,
 "nbformat_minor": 0,
 "worksheets": [
  {
   "cells": [
    {
     "cell_type": "code",
     "collapsed": false,
     "input": [
      "import os\n",
      "import sys\n",
      "import shutil"
     ],
     "language": "python",
     "metadata": {},
     "outputs": [],
     "prompt_number": 1
    },
    {
     "cell_type": "code",
     "collapsed": false,
     "input": [
      "indir='/Users/scollis/nerve_images/'\n",
      "pattern='.png'\n",
      "files=os.listdir(indir)\n",
      "good_files=[]\n",
      "for fl in files:\n",
      "    if pattern in fl:\n",
      "        good_files.append(fl)\n",
      "good_files.sort()\n",
      "i=0\n",
      "for fl in good_files:\n",
      "    nn=\"/data/ftbmedia_%03d.png\" %i\n",
      "    print indir+fl, nn\n",
      "    shutil.copyfile(indir+fl, nn)\n",
      "    i+=1\n",
      "os.system('ffmpeg -y -i /data/ftbmedia_%03d.png  /data/output-storm.mp4')"
     ],
     "language": "python",
     "metadata": {},
     "outputs": [
      {
       "output_type": "stream",
       "stream": "stdout",
       "text": [
        "/Users/scollis/nerve_images/20140219_0000_grid_three_panel.png /data/ftbmedia_000.png\n",
        "/Users/scollis/nerve_images/20140219_0010_grid_three_panel.png /data/ftbmedia_001.png\n",
        "/Users/scollis/nerve_images/20140219_0030_grid_three_panel.png /data/ftbmedia_002.png\n",
        "/Users/scollis/nerve_images/20140219_0039_grid_three_panel.png /data/ftbmedia_003.png\n",
        "/Users/scollis/nerve_images/20140219_0049_grid_three_panel.png /data/ftbmedia_004.png\n",
        "/Users/scollis/nerve_images/20140219_0059_grid_three_panel.png /data/ftbmedia_005.png\n",
        "/Users/scollis/nerve_images/20140219_0109_grid_three_panel.png /data/ftbmedia_006.png\n",
        "/Users/scollis/nerve_images/20140219_0118_grid_three_panel.png /data/ftbmedia_007.png\n",
        "/Users/scollis/nerve_images/20140219_0128_grid_three_panel.png /data/ftbmedia_008.png\n",
        "/Users/scollis/nerve_images/20140219_0138_grid_three_panel.png /data/ftbmedia_009.png\n",
        "/Users/scollis/nerve_images/20140219_0148_grid_three_panel.png"
       ]
      },
      {
       "output_type": "stream",
       "stream": "stdout",
       "text": [
        " /data/ftbmedia_010.png\n",
        "/Users/scollis/nerve_images/20140219_0157_grid_three_panel.png /data/ftbmedia_011.png\n",
        "/Users/scollis/nerve_images/20140219_0207_grid_three_panel.png /data/ftbmedia_012.png\n",
        "/Users/scollis/nerve_images/20140219_0217_grid_three_panel.png /data/ftbmedia_013.png\n",
        "/Users/scollis/nerve_images/20140219_0227_grid_three_panel.png /data/ftbmedia_014.png\n",
        "/Users/scollis/nerve_images/20140219_0236_grid_three_panel.png /data/ftbmedia_015.png\n",
        "/Users/scollis/nerve_images/20140219_0246_grid_three_panel.png /data/ftbmedia_016.png\n",
        "/Users/scollis/nerve_images/20140219_0256_grid_three_panel.png /data/ftbmedia_017.png\n",
        "/Users/scollis/nerve_images/20140219_0308_grid_three_panel.png /data/ftbmedia_018.png\n",
        "/Users/scollis/nerve_images/20140219_0318_grid_three_panel.png"
       ]
      },
      {
       "output_type": "stream",
       "stream": "stdout",
       "text": [
        " /data/ftbmedia_019.png\n",
        "/Users/scollis/nerve_images/20140219_0328_grid_three_panel.png /data/ftbmedia_020.png\n",
        "/Users/scollis/nerve_images/20140219_0337_grid_three_panel.png /data/ftbmedia_021.png\n",
        "/Users/scollis/nerve_images/20140219_0347_grid_three_panel.png /data/ftbmedia_022.png\n",
        "/Users/scollis/nerve_images/20140219_0357_grid_three_panel.png /data/ftbmedia_023.png\n",
        "/Users/scollis/nerve_images/20140219_0407_grid_three_panel.png /data/ftbmedia_024.png\n",
        "/Users/scollis/nerve_images/20140219_0416_grid_three_panel.png /data/ftbmedia_025.png\n",
        "/Users/scollis/nerve_images/20140219_0426_grid_three_panel.png /data/ftbmedia_026.png\n",
        "/Users/scollis/nerve_images/20140219_0436_grid_three_panel.png /data/ftbmedia_027.png\n",
        "/Users/scollis/nerve_images/20140219_0446_grid_three_panel.png"
       ]
      },
      {
       "output_type": "stream",
       "stream": "stdout",
       "text": [
        " /data/ftbmedia_028.png\n",
        "/Users/scollis/nerve_images/20140219_0455_grid_three_panel.png /data/ftbmedia_029.png\n",
        "/Users/scollis/nerve_images/20140219_0505_grid_three_panel.png /data/ftbmedia_030.png\n",
        "/Users/scollis/nerve_images/20140219_0515_grid_three_panel.png /data/ftbmedia_031.png\n",
        "/Users/scollis/nerve_images/20140219_0525_grid_three_panel.png /data/ftbmedia_032.png\n",
        "/Users/scollis/nerve_images/20140219_0534_grid_three_panel.png /data/ftbmedia_033.png\n",
        "/Users/scollis/nerve_images/20140219_0544_grid_three_panel.png /data/ftbmedia_034.png\n",
        "/Users/scollis/nerve_images/20140219_0554_grid_three_panel.png /data/ftbmedia_035.png\n",
        "/Users/scollis/nerve_images/20140219_0603_grid_three_panel.png /data/ftbmedia_036.png\n",
        "/Users/scollis/nerve_images/20140219_0613_grid_three_panel.png /data/ftbmedia_037.png\n",
        "/Users/scollis/nerve_images/20140219_0623_grid_three_panel.png"
       ]
      },
      {
       "output_type": "stream",
       "stream": "stdout",
       "text": [
        " /data/ftbmedia_038.png\n",
        "/Users/scollis/nerve_images/20140219_0633_grid_three_panel.png /data/ftbmedia_039.png\n",
        "/Users/scollis/nerve_images/20140219_0642_grid_three_panel.png /data/ftbmedia_040.png\n",
        "/Users/scollis/nerve_images/20140219_0652_grid_three_panel.png /data/ftbmedia_041.png\n",
        "/Users/scollis/nerve_images/20140219_0702_grid_three_panel.png /data/ftbmedia_042.png\n",
        "/Users/scollis/nerve_images/20140219_0712_grid_three_panel.png /data/ftbmedia_043.png\n",
        "/Users/scollis/nerve_images/20140219_0721_grid_three_panel.png /data/ftbmedia_044.png\n",
        "/Users/scollis/nerve_images/20140219_0731_grid_three_panel.png /data/ftbmedia_045.png\n",
        "/Users/scollis/nerve_images/20140219_0741_grid_three_panel.png /data/ftbmedia_046.png\n",
        "/Users/scollis/nerve_images/20140219_0751_grid_three_panel.png"
       ]
      },
      {
       "output_type": "stream",
       "stream": "stdout",
       "text": [
        " /data/ftbmedia_047.png\n",
        "/Users/scollis/nerve_images/20140219_0800_grid_three_panel.png /data/ftbmedia_048.png\n",
        "/Users/scollis/nerve_images/20140219_0810_grid_three_panel.png /data/ftbmedia_049.png\n",
        "/Users/scollis/nerve_images/20140219_0830_grid_three_panel.png /data/ftbmedia_050.png\n",
        "/Users/scollis/nerve_images/20140219_0839_grid_three_panel.png /data/ftbmedia_051.png\n",
        "/Users/scollis/nerve_images/20140219_0849_grid_three_panel.png /data/ftbmedia_052.png\n",
        "/Users/scollis/nerve_images/20140219_0859_grid_three_panel.png /data/ftbmedia_053.png\n",
        "/Users/scollis/nerve_images/20140219_0908_grid_three_panel.png"
       ]
      },
      {
       "output_type": "stream",
       "stream": "stdout",
       "text": [
        " /data/ftbmedia_054.png\n",
        "/Users/scollis/nerve_images/20140219_0918_grid_three_panel.png /data/ftbmedia_055.png\n",
        "/Users/scollis/nerve_images/20140219_0928_grid_three_panel.png /data/ftbmedia_056.png\n",
        "/Users/scollis/nerve_images/20140219_0938_grid_three_panel.png /data/ftbmedia_057.png\n",
        "/Users/scollis/nerve_images/20140219_0947_grid_three_panel.png /data/ftbmedia_058.png\n",
        "/Users/scollis/nerve_images/20140219_0957_grid_three_panel.png /data/ftbmedia_059.png\n",
        "/Users/scollis/nerve_images/20140219_1007_grid_three_panel.png /data/ftbmedia_060.png\n",
        "/Users/scollis/nerve_images/20140219_1017_grid_three_panel.png /data/ftbmedia_061.png\n",
        "/Users/scollis/nerve_images/20140219_1026_grid_three_panel.png /data/ftbmedia_062.png\n",
        "/Users/scollis/nerve_images/20140219_1036_grid_three_panel.png /data/ftbmedia_063.png\n",
        "/Users/scollis/nerve_images/20140219_1046_grid_three_panel.png"
       ]
      },
      {
       "output_type": "stream",
       "stream": "stdout",
       "text": [
        " /data/ftbmedia_064.png\n",
        "/Users/scollis/nerve_images/20140219_1056_grid_three_panel.png /data/ftbmedia_065.png\n",
        "/Users/scollis/nerve_images/20140219_1105_grid_three_panel.png /data/ftbmedia_066.png\n",
        "/Users/scollis/nerve_images/20140219_1118_grid_three_panel.png /data/ftbmedia_067.png\n",
        "/Users/scollis/nerve_images/20140219_1127_grid_three_panel.png /data/ftbmedia_068.png\n",
        "/Users/scollis/nerve_images/20140219_1137_grid_three_panel.png"
       ]
      },
      {
       "output_type": "stream",
       "stream": "stdout",
       "text": [
        " /data/ftbmedia_069.png\n",
        "/Users/scollis/nerve_images/20140219_1147_grid_three_panel.png /data/ftbmedia_070.png\n",
        "/Users/scollis/nerve_images/20140219_1156_grid_three_panel.png /data/ftbmedia_071.png\n",
        "/Users/scollis/nerve_images/20140219_1206_grid_three_panel.png /data/ftbmedia_072.png\n",
        "/Users/scollis/nerve_images/20140219_1216_grid_three_panel.png /data/ftbmedia_073.png\n",
        "/Users/scollis/nerve_images/20140219_1226_grid_three_panel.png /data/ftbmedia_074.png\n",
        "/Users/scollis/nerve_images/20140219_1235_grid_three_panel.png /data/ftbmedia_075.png\n",
        "/Users/scollis/nerve_images/20140219_1245_grid_three_panel.png /data/ftbmedia_076.png\n",
        "/Users/scollis/nerve_images/20140219_1255_grid_three_panel.png"
       ]
      },
      {
       "output_type": "stream",
       "stream": "stdout",
       "text": [
        " /data/ftbmedia_077.png\n",
        "/Users/scollis/nerve_images/20140219_1314_grid_three_panel.png /data/ftbmedia_078.png\n",
        "/Users/scollis/nerve_images/20140219_1326_grid_three_panel.png /data/ftbmedia_079.png\n",
        "/Users/scollis/nerve_images/20140219_1741_grid_three_panel.png /data/ftbmedia_080.png\n",
        "/Users/scollis/nerve_images/20140219_1757_grid_three_panel.png /data/ftbmedia_081.png\n",
        "/Users/scollis/nerve_images/20140219_1802_grid_three_panel.png /data/ftbmedia_082.png\n",
        "/Users/scollis/nerve_images/20140219_1806_grid_three_panel.png /data/ftbmedia_083.png\n",
        "/Users/scollis/nerve_images/20140219_2342_grid_three_panel.png /data/ftbmedia_084.png\n",
        "/Users/scollis/nerve_images/20140219_2354_grid_three_panel.png /data/ftbmedia_085.png\n",
        "/Users/scollis/nerve_images/20140219_2359_grid_three_panel.png"
       ]
      },
      {
       "output_type": "stream",
       "stream": "stdout",
       "text": [
        " /data/ftbmedia_086.png\n",
        "/Users/scollis/nerve_images/20140220_0005_grid_three_panel.png /data/ftbmedia_087.png\n",
        "/Users/scollis/nerve_images/20140220_0031_grid_three_panel.png /data/ftbmedia_088.png\n",
        "/Users/scollis/nerve_images/20140220_0053_grid_three_panel.png /data/ftbmedia_089.png\n",
        "/Users/scollis/nerve_images/20140220_0059_grid_three_panel.png /data/ftbmedia_090.png\n",
        "/Users/scollis/nerve_images/20140220_0110_grid_three_panel.png /data/ftbmedia_091.png\n",
        "/Users/scollis/nerve_images/20140220_0122_grid_three_panel.png /data/ftbmedia_092.png\n",
        "/Users/scollis/nerve_images/20140220_0128_grid_three_panel.png /data/ftbmedia_093.png\n",
        "/Users/scollis/nerve_images/20140220_0140_grid_three_panel.png /data/ftbmedia_094.png\n",
        "/Users/scollis/nerve_images/20140220_0151_grid_three_panel.png /data/ftbmedia_095.png\n",
        "/Users/scollis/nerve_images/20140220_0203_grid_three_panel.png"
       ]
      },
      {
       "output_type": "stream",
       "stream": "stdout",
       "text": [
        " /data/ftbmedia_096.png\n",
        "/Users/scollis/nerve_images/20140220_0209_grid_three_panel.png /data/ftbmedia_097.png\n",
        "/Users/scollis/nerve_images/20140220_0220_grid_three_panel.png /data/ftbmedia_098.png\n",
        "/Users/scollis/nerve_images/20140220_0232_grid_three_panel.png /data/ftbmedia_099.png\n",
        "/Users/scollis/nerve_images/20140220_0244_grid_three_panel.png /data/ftbmedia_100.png\n",
        "/Users/scollis/nerve_images/20140220_0249_grid_three_panel.png /data/ftbmedia_101.png\n",
        "/Users/scollis/nerve_images/20140220_0301_grid_three_panel.png /data/ftbmedia_102.png\n",
        "/Users/scollis/nerve_images/20140220_0313_grid_three_panel.png /data/ftbmedia_103.png\n",
        "/Users/scollis/nerve_images/20140220_0319_grid_three_panel.png"
       ]
      },
      {
       "output_type": "stream",
       "stream": "stdout",
       "text": [
        " /data/ftbmedia_104.png\n",
        "/Users/scollis/nerve_images/20140220_0330_grid_three_panel.png /data/ftbmedia_105.png\n",
        "/Users/scollis/nerve_images/20140220_0342_grid_three_panel.png /data/ftbmedia_106.png\n",
        "/Users/scollis/nerve_images/20140220_0354_grid_three_panel.png /data/ftbmedia_107.png\n",
        "/Users/scollis/nerve_images/20140220_0403_grid_three_panel.png /data/ftbmedia_108.png\n",
        "/Users/scollis/nerve_images/20140220_0411_grid_three_panel.png /data/ftbmedia_109.png\n",
        "/Users/scollis/nerve_images/20140220_0416_grid_three_panel.png /data/ftbmedia_110.png\n",
        "/Users/scollis/nerve_images/20140220_0426_grid_three_panel.png /data/ftbmedia_111.png\n",
        "/Users/scollis/nerve_images/20140220_0435_grid_three_panel.png /data/ftbmedia_112.png\n",
        "/Users/scollis/nerve_images/20140220_0445_grid_three_panel.png"
       ]
      },
      {
       "output_type": "stream",
       "stream": "stdout",
       "text": [
        " /data/ftbmedia_113.png\n",
        "/Users/scollis/nerve_images/20140220_0455_grid_three_panel.png /data/ftbmedia_114.png\n",
        "/Users/scollis/nerve_images/20140220_0505_grid_three_panel.png /data/ftbmedia_115.png\n",
        "/Users/scollis/nerve_images/20140220_0514_grid_three_panel.png"
       ]
      },
      {
       "output_type": "stream",
       "stream": "stdout",
       "text": [
        " /data/ftbmedia_116.png\n",
        "/Users/scollis/nerve_images/20140220_0524_grid_three_panel.png /data/ftbmedia_117.png\n",
        "/Users/scollis/nerve_images/20140220_0534_grid_three_panel.png /data/ftbmedia_118.png\n",
        "/Users/scollis/nerve_images/20140220_0550_grid_three_panel.png /data/ftbmedia_119.png\n",
        "/Users/scollis/nerve_images/20140220_0601_grid_three_panel.png /data/ftbmedia_120.png\n",
        "/Users/scollis/nerve_images/20140220_0613_grid_three_panel.png /data/ftbmedia_121.png\n",
        "/Users/scollis/nerve_images/20140220_0619_grid_three_panel.png /data/ftbmedia_122.png\n",
        "/Users/scollis/nerve_images/20140220_0654_grid_three_panel.png /data/ftbmedia_123.png\n",
        "/Users/scollis/nerve_images/20140220_0659_grid_three_panel.png /data/ftbmedia_124.png\n",
        "/Users/scollis/nerve_images/20140220_0711_grid_three_panel.png"
       ]
      },
      {
       "output_type": "stream",
       "stream": "stdout",
       "text": [
        " /data/ftbmedia_125.png\n",
        "/Users/scollis/nerve_images/20140220_0723_grid_three_panel.png /data/ftbmedia_126.png\n",
        "/Users/scollis/nerve_images/20140220_0729_grid_three_panel.png /data/ftbmedia_127.png\n",
        "/Users/scollis/nerve_images/20140220_0740_grid_three_panel.png /data/ftbmedia_128.png\n",
        "/Users/scollis/nerve_images/20140220_0752_grid_three_panel.png /data/ftbmedia_129.png\n",
        "/Users/scollis/nerve_images/20140220_0804_grid_three_panel.png /data/ftbmedia_130.png\n",
        "/Users/scollis/nerve_images/20140220_0809_grid_three_panel.png /data/ftbmedia_131.png\n",
        "/Users/scollis/nerve_images/20140220_0821_grid_three_panel.png /data/ftbmedia_132.png\n",
        "/Users/scollis/nerve_images/20140220_0833_grid_three_panel.png /data/ftbmedia_133.png\n",
        "/Users/scollis/nerve_images/20140220_0839_grid_three_panel.png"
       ]
      },
      {
       "output_type": "stream",
       "stream": "stdout",
       "text": [
        " /data/ftbmedia_134.png\n",
        "/Users/scollis/nerve_images/20140220_0852_grid_three_panel.png /data/ftbmedia_135.png\n",
        "/Users/scollis/nerve_images/20140220_0858_grid_three_panel.png /data/ftbmedia_136.png\n",
        "/Users/scollis/nerve_images/20140220_0910_grid_three_panel.png /data/ftbmedia_137.png\n",
        "/Users/scollis/nerve_images/20140220_0921_grid_three_panel.png /data/ftbmedia_138.png\n",
        "/Users/scollis/nerve_images/20140220_0933_grid_three_panel.png /data/ftbmedia_139.png\n",
        "/Users/scollis/nerve_images/20140220_0939_grid_three_panel.png /data/ftbmedia_140.png\n",
        "/Users/scollis/nerve_images/20140220_0951_grid_three_panel.png"
       ]
      },
      {
       "output_type": "stream",
       "stream": "stdout",
       "text": [
        " /data/ftbmedia_141.png\n",
        "/Users/scollis/nerve_images/20140220_1002_grid_three_panel.png /data/ftbmedia_142.png\n",
        "/Users/scollis/nerve_images/20140220_1008_grid_three_panel.png /data/ftbmedia_143.png\n",
        "/Users/scollis/nerve_images/20140220_1020_grid_three_panel.png /data/ftbmedia_144.png\n",
        "/Users/scollis/nerve_images/20140220_1031_grid_three_panel.png /data/ftbmedia_145.png\n",
        "/Users/scollis/nerve_images/20140220_1043_grid_three_panel.png /data/ftbmedia_146.png\n",
        "/Users/scollis/nerve_images/20140220_1049_grid_three_panel.png /data/ftbmedia_147.png\n",
        "/Users/scollis/nerve_images/20140220_1101_grid_three_panel.png /data/ftbmedia_148.png\n",
        "/Users/scollis/nerve_images/20140220_1112_grid_three_panel.png"
       ]
      },
      {
       "output_type": "stream",
       "stream": "stdout",
       "text": [
        " /data/ftbmedia_149.png\n",
        "/Users/scollis/nerve_images/20140220_1118_grid_three_panel.png /data/ftbmedia_150.png\n",
        "/Users/scollis/nerve_images/20140220_1130_grid_three_panel.png /data/ftbmedia_151.png\n",
        "/Users/scollis/nerve_images/20140220_1141_grid_three_panel.png /data/ftbmedia_152.png\n",
        "/Users/scollis/nerve_images/20140220_1153_grid_three_panel.png /data/ftbmedia_153.png\n",
        "/Users/scollis/nerve_images/20140220_1159_grid_three_panel.png /data/ftbmedia_154.png\n",
        "/Users/scollis/nerve_images/20140220_1210_grid_three_panel.png /data/ftbmedia_155.png\n",
        "/Users/scollis/nerve_images/20140220_1222_grid_three_panel.png /data/ftbmedia_156.png\n",
        "/Users/scollis/nerve_images/20140220_1228_grid_three_panel.png /data/ftbmedia_157.png\n",
        "/Users/scollis/nerve_images/20140220_1240_grid_three_panel.png"
       ]
      },
      {
       "output_type": "stream",
       "stream": "stdout",
       "text": [
        " /data/ftbmedia_158.png\n",
        "/Users/scollis/nerve_images/20140220_1251_grid_three_panel.png /data/ftbmedia_159.png\n",
        "/Users/scollis/nerve_images/20140220_1303_grid_three_panel.png /data/ftbmedia_160.png\n",
        "/Users/scollis/nerve_images/20140220_1309_grid_three_panel.png /data/ftbmedia_161.png\n",
        "/Users/scollis/nerve_images/20140220_1320_grid_three_panel.png /data/ftbmedia_162.png\n",
        "/Users/scollis/nerve_images/20140220_1332_grid_three_panel.png /data/ftbmedia_163.png\n",
        "/Users/scollis/nerve_images/20140220_1338_grid_three_panel.png /data/ftbmedia_164.png\n",
        "/Users/scollis/nerve_images/20140220_1350_grid_three_panel.png /data/ftbmedia_165.png\n",
        "/Users/scollis/nerve_images/20140220_1401_grid_three_panel.png /data/ftbmedia_166.png\n",
        "/Users/scollis/nerve_images/20140220_1413_grid_three_panel.png"
       ]
      },
      {
       "output_type": "stream",
       "stream": "stdout",
       "text": [
        " /data/ftbmedia_167.png\n",
        "/Users/scollis/nerve_images/20140220_1419_grid_three_panel.png /data/ftbmedia_168.png\n",
        "/Users/scollis/nerve_images/20140220_1430_grid_three_panel.png /data/ftbmedia_169.png\n",
        "/Users/scollis/nerve_images/20140220_1442_grid_three_panel.png /data/ftbmedia_170.png\n",
        "/Users/scollis/nerve_images/20140220_1448_grid_three_panel.png /data/ftbmedia_171.png\n",
        "/Users/scollis/nerve_images/20140220_1500_grid_three_panel.png /data/ftbmedia_172.png\n",
        "/Users/scollis/nerve_images/20140220_1511_grid_three_panel.png /data/ftbmedia_173.png\n",
        "/Users/scollis/nerve_images/20140220_1523_grid_three_panel.png"
       ]
      },
      {
       "output_type": "stream",
       "stream": "stdout",
       "text": [
        " /data/ftbmedia_174.png\n",
        "/Users/scollis/nerve_images/20140220_1529_grid_three_panel.png /data/ftbmedia_175.png\n",
        "/Users/scollis/nerve_images/20140220_1540_grid_three_panel.png /data/ftbmedia_176.png\n",
        "/Users/scollis/nerve_images/20140220_1552_grid_three_panel.png /data/ftbmedia_177.png\n",
        "/Users/scollis/nerve_images/20140220_1558_grid_three_panel.png /data/ftbmedia_178.png\n",
        "/Users/scollis/nerve_images/20140220_1609_grid_three_panel.png /data/ftbmedia_179.png\n",
        "/Users/scollis/nerve_images/20140220_1621_grid_three_panel.png /data/ftbmedia_180.png\n",
        "/Users/scollis/nerve_images/20140220_1634_grid_three_panel.png /data/ftbmedia_181.png\n",
        "/Users/scollis/nerve_images/20140220_1643_grid_three_panel.png"
       ]
      },
      {
       "output_type": "stream",
       "stream": "stdout",
       "text": [
        " /data/ftbmedia_182.png\n",
        "/Users/scollis/nerve_images/20140220_1653_grid_three_panel.png /data/ftbmedia_183.png\n",
        "/Users/scollis/nerve_images/20140220_1702_grid_three_panel.png /data/ftbmedia_184.png\n",
        "/Users/scollis/nerve_images/20140220_1715_grid_three_panel.png /data/ftbmedia_185.png\n",
        "/Users/scollis/nerve_images/20140220_1723_grid_three_panel.png /data/ftbmedia_186.png\n",
        "/Users/scollis/nerve_images/20140220_1732_grid_three_panel.png /data/ftbmedia_187.png\n",
        "/Users/scollis/nerve_images/20140220_1745_grid_three_panel.png /data/ftbmedia_188.png\n",
        "/Users/scollis/nerve_images/20140220_1754_grid_three_panel.png /data/ftbmedia_189.png\n",
        "/Users/scollis/nerve_images/20140220_1802_grid_three_panel.png /data/ftbmedia_190.png\n",
        "/Users/scollis/nerve_images/20140220_1811_grid_three_panel.png"
       ]
      },
      {
       "output_type": "stream",
       "stream": "stdout",
       "text": [
        " /data/ftbmedia_191.png\n",
        "/Users/scollis/nerve_images/20140220_1824_grid_three_panel.png /data/ftbmedia_192.png\n",
        "/Users/scollis/nerve_images/20140220_1833_grid_three_panel.png /data/ftbmedia_193.png\n",
        "/Users/scollis/nerve_images/20140220_1845_grid_three_panel.png /data/ftbmedia_194.png\n",
        "/Users/scollis/nerve_images/20140220_1855_grid_three_panel.png /data/ftbmedia_195.png\n",
        "/Users/scollis/nerve_images/20140220_1905_grid_three_panel.png /data/ftbmedia_196.png\n",
        "/Users/scollis/nerve_images/20140220_1915_grid_three_panel.png /data/ftbmedia_197.png\n",
        "/Users/scollis/nerve_images/20140220_1925_grid_three_panel.png /data/ftbmedia_198.png\n",
        "/Users/scollis/nerve_images/20140220_1935_grid_three_panel.png"
       ]
      },
      {
       "output_type": "stream",
       "stream": "stdout",
       "text": [
        " /data/ftbmedia_199.png\n",
        "/Users/scollis/nerve_images/20140220_1942_grid_three_panel.png /data/ftbmedia_200.png\n",
        "/Users/scollis/nerve_images/20140220_1956_grid_three_panel.png /data/ftbmedia_201.png\n",
        "/Users/scollis/nerve_images/20140220_2003_grid_three_panel.png /data/ftbmedia_202.png\n",
        "/Users/scollis/nerve_images/20140220_2016_grid_three_panel.png /data/ftbmedia_203.png\n",
        "/Users/scollis/nerve_images/20140220_2026_grid_three_panel.png /data/ftbmedia_204.png\n",
        "/Users/scollis/nerve_images/20140220_2036_grid_three_panel.png /data/ftbmedia_205.png\n",
        "/Users/scollis/nerve_images/20140220_2046_grid_three_panel.png"
       ]
      },
      {
       "output_type": "stream",
       "stream": "stdout",
       "text": [
        " /data/ftbmedia_206.png\n",
        "/Users/scollis/nerve_images/20140220_2055_grid_three_panel.png /data/ftbmedia_207.png\n",
        "/Users/scollis/nerve_images/20140220_2105_grid_three_panel.png /data/ftbmedia_208.png\n",
        "/Users/scollis/nerve_images/20140220_2115_grid_three_panel.png /data/ftbmedia_209.png\n",
        "/Users/scollis/nerve_images/20140220_2124_grid_three_panel.png /data/ftbmedia_210.png\n",
        "/Users/scollis/nerve_images/20140220_2134_grid_three_panel.png /data/ftbmedia_211.png\n",
        "/Users/scollis/nerve_images/20140220_2145_grid_three_panel.png /data/ftbmedia_212.png\n",
        "/Users/scollis/nerve_images/20140220_2152_grid_three_panel.png /data/ftbmedia_213.png\n",
        "/Users/scollis/nerve_images/20140220_2204_grid_three_panel.png"
       ]
      },
      {
       "output_type": "stream",
       "stream": "stdout",
       "text": [
        " /data/ftbmedia_214.png\n",
        "/Users/scollis/nerve_images/20140220_2213_grid_three_panel.png /data/ftbmedia_215.png\n",
        "/Users/scollis/nerve_images/20140220_2222_grid_three_panel.png /data/ftbmedia_216.png\n",
        "/Users/scollis/nerve_images/20140220_2235_grid_three_panel.png /data/ftbmedia_217.png\n",
        "/Users/scollis/nerve_images/20140220_2243_grid_three_panel.png /data/ftbmedia_218.png\n",
        "/Users/scollis/nerve_images/20140220_2252_grid_three_panel.png /data/ftbmedia_219.png\n",
        "/Users/scollis/nerve_images/20140220_2305_grid_three_panel.png /data/ftbmedia_220.png\n",
        "/Users/scollis/nerve_images/20140220_2314_grid_three_panel.png"
       ]
      },
      {
       "output_type": "stream",
       "stream": "stdout",
       "text": [
        " /data/ftbmedia_221.png\n",
        "/Users/scollis/nerve_images/20140220_2318_grid_three_panel.png /data/ftbmedia_222.png\n",
        "/Users/scollis/nerve_images/20140221_0005_grid_three_panel.png /data/ftbmedia_223.png\n",
        "/Users/scollis/nerve_images/20140221_0012_grid_three_panel.png /data/ftbmedia_224.png\n",
        "/Users/scollis/nerve_images/20140221_0016_grid_three_panel.png /data/ftbmedia_225.png\n",
        "/Users/scollis/nerve_images/20140221_0036_grid_three_panel.png /data/ftbmedia_226.png\n",
        "/Users/scollis/nerve_images/20140221_0045_grid_three_panel.png /data/ftbmedia_227.png\n",
        "/Users/scollis/nerve_images/20140221_0052_grid_three_panel.png /data/ftbmedia_228.png\n",
        "/Users/scollis/nerve_images/20140221_0106_grid_three_panel.png"
       ]
      },
      {
       "output_type": "stream",
       "stream": "stdout",
       "text": [
        " /data/ftbmedia_229.png\n",
        "/Users/scollis/nerve_images/20140221_0116_grid_three_panel.png /data/ftbmedia_230.png\n",
        "/Users/scollis/nerve_images/20140221_0125_grid_three_panel.png /data/ftbmedia_231.png\n",
        "/Users/scollis/nerve_images/20140221_0135_grid_three_panel.png /data/ftbmedia_232.png\n",
        "/Users/scollis/nerve_images/20140221_0144_grid_three_panel.png /data/ftbmedia_233.png\n",
        "/Users/scollis/nerve_images/20140221_0154_grid_three_panel.png /data/ftbmedia_234.png\n",
        "/Users/scollis/nerve_images/20140221_0204_grid_three_panel.png /data/ftbmedia_235.png\n",
        "/Users/scollis/nerve_images/20140221_0213_grid_three_panel.png /data/ftbmedia_236.png\n",
        "/Users/scollis/nerve_images/20140221_0226_grid_three_panel.png"
       ]
      },
      {
       "output_type": "stream",
       "stream": "stdout",
       "text": [
        " /data/ftbmedia_237.png\n",
        "/Users/scollis/nerve_images/20140221_0235_grid_three_panel.png /data/ftbmedia_238.png\n",
        "/Users/scollis/nerve_images/20140221_0242_grid_three_panel.png /data/ftbmedia_239.png\n",
        "/Users/scollis/nerve_images/20140221_0245_grid_three_panel.png /data/ftbmedia_240.png\n",
        "/Users/scollis/nerve_images/20140221_0255_grid_three_panel.png /data/ftbmedia_241.png\n",
        "/Users/scollis/nerve_images/20140221_0305_grid_three_panel.png /data/ftbmedia_242.png\n",
        "/Users/scollis/nerve_images/20140221_0314_grid_three_panel.png /data/ftbmedia_243.png\n",
        "/Users/scollis/nerve_images/20140221_0324_grid_three_panel.png /data/ftbmedia_244.png\n",
        "/Users/scollis/nerve_images/20140221_0334_grid_three_panel.png /data/ftbmedia_245.png\n",
        "/Users/scollis/nerve_images/20140221_0344_grid_three_panel.png"
       ]
      },
      {
       "output_type": "stream",
       "stream": "stdout",
       "text": [
        " /data/ftbmedia_246.png\n",
        "/Users/scollis/nerve_images/20140221_0353_grid_three_panel.png /data/ftbmedia_247.png\n",
        "/Users/scollis/nerve_images/20140221_0403_grid_three_panel.png /data/ftbmedia_248.png\n",
        "/Users/scollis/nerve_images/20140221_0413_grid_three_panel.png /data/ftbmedia_249.png\n",
        "/Users/scollis/nerve_images/20140221_0422_grid_three_panel.png /data/ftbmedia_250.png\n",
        "/Users/scollis/nerve_images/20140221_0432_grid_three_panel.png /data/ftbmedia_251.png\n",
        "/Users/scollis/nerve_images/20140221_0442_grid_three_panel.png /data/ftbmedia_252.png\n",
        "/Users/scollis/nerve_images/20140221_0452_grid_three_panel.png /data/ftbmedia_253.png\n",
        "/Users/scollis/nerve_images/20140221_0501_grid_three_panel.png /data/ftbmedia_254.png\n",
        "/Users/scollis/nerve_images/20140221_0511_grid_three_panel.png /data/ftbmedia_255.png\n",
        "/Users/scollis/nerve_images/20140221_0521_grid_three_panel.png /data/ftbmedia_256.png\n",
        "/Users/scollis/nerve_images/20140221_0531_grid_three_panel.png"
       ]
      },
      {
       "output_type": "stream",
       "stream": "stdout",
       "text": [
        " /data/ftbmedia_257.png\n",
        "/Users/scollis/nerve_images/20140221_0540_grid_three_panel.png /data/ftbmedia_258.png\n",
        "/Users/scollis/nerve_images/20140221_0600_grid_three_panel.png /data/ftbmedia_259.png\n",
        "/Users/scollis/nerve_images/20140221_0609_grid_three_panel.png /data/ftbmedia_260.png\n",
        "/Users/scollis/nerve_images/20140221_0619_grid_three_panel.png /data/ftbmedia_261.png\n",
        "/Users/scollis/nerve_images/20140221_0629_grid_three_panel.png /data/ftbmedia_262.png\n",
        "/Users/scollis/nerve_images/20140221_0639_grid_three_panel.png /data/ftbmedia_263.png\n",
        "/Users/scollis/nerve_images/20140221_0648_grid_three_panel.png /data/ftbmedia_264.png\n",
        "/Users/scollis/nerve_images/20140221_0658_grid_three_panel.png /data/ftbmedia_265.png\n",
        "/Users/scollis/nerve_images/20140221_0708_grid_three_panel.png"
       ]
      },
      {
       "output_type": "stream",
       "stream": "stdout",
       "text": [
        " /data/ftbmedia_266.png\n",
        "/Users/scollis/nerve_images/20140221_0718_grid_three_panel.png /data/ftbmedia_267.png\n",
        "/Users/scollis/nerve_images/20140221_0727_grid_three_panel.png /data/ftbmedia_268.png\n",
        "/Users/scollis/nerve_images/20140221_0737_grid_three_panel.png /data/ftbmedia_269.png\n",
        "/Users/scollis/nerve_images/20140221_0747_grid_three_panel.png /data/ftbmedia_270.png\n",
        "/Users/scollis/nerve_images/20140221_0757_grid_three_panel.png /data/ftbmedia_271.png\n",
        "/Users/scollis/nerve_images/20140221_0806_grid_three_panel.png /data/ftbmedia_272.png\n",
        "/Users/scollis/nerve_images/20140221_0816_grid_three_panel.png"
       ]
      },
      {
       "output_type": "stream",
       "stream": "stdout",
       "text": [
        " /data/ftbmedia_273.png\n",
        "/Users/scollis/nerve_images/20140221_0826_grid_three_panel.png /data/ftbmedia_274.png\n",
        "/Users/scollis/nerve_images/20140221_0835_grid_three_panel.png /data/ftbmedia_275.png\n",
        "/Users/scollis/nerve_images/20140221_0845_grid_three_panel.png /data/ftbmedia_276.png\n",
        "/Users/scollis/nerve_images/20140221_0858_grid_three_panel.png /data/ftbmedia_277.png\n",
        "/Users/scollis/nerve_images/20140221_0907_grid_three_panel.png /data/ftbmedia_278.png\n",
        "/Users/scollis/nerve_images/20140221_0917_grid_three_panel.png /data/ftbmedia_279.png\n",
        "/Users/scollis/nerve_images/20140221_0927_grid_three_panel.png /data/ftbmedia_280.png\n",
        "/Users/scollis/nerve_images/20140221_0937_grid_three_panel.png /data/ftbmedia_281.png\n",
        "/Users/scollis/nerve_images/20140221_0946_grid_three_panel.png"
       ]
      },
      {
       "output_type": "stream",
       "stream": "stdout",
       "text": [
        " /data/ftbmedia_282.png\n",
        "/Users/scollis/nerve_images/20140221_0956_grid_three_panel.png /data/ftbmedia_283.png\n",
        "/Users/scollis/nerve_images/20140221_1006_grid_three_panel.png /data/ftbmedia_284.png\n",
        "/Users/scollis/nerve_images/20140221_1016_grid_three_panel.png /data/ftbmedia_285.png\n",
        "/Users/scollis/nerve_images/20140221_1025_grid_three_panel.png /data/ftbmedia_286.png\n",
        "/Users/scollis/nerve_images/20140221_1035_grid_three_panel.png /data/ftbmedia_287.png\n",
        "/Users/scollis/nerve_images/20140221_1045_grid_three_panel.png /data/ftbmedia_288.png\n",
        "/Users/scollis/nerve_images/20140221_1055_grid_three_panel.png /data/ftbmedia_289.png\n",
        "/Users/scollis/nerve_images/20140221_1104_grid_three_panel.png"
       ]
      },
      {
       "output_type": "stream",
       "stream": "stdout",
       "text": [
        " /data/ftbmedia_290.png\n",
        "/Users/scollis/nerve_images/20140221_1114_grid_three_panel.png /data/ftbmedia_291.png\n",
        "/Users/scollis/nerve_images/20140221_1124_grid_three_panel.png /data/ftbmedia_292.png\n",
        "/Users/scollis/nerve_images/20140221_1134_grid_three_panel.png /data/ftbmedia_293.png\n",
        "/Users/scollis/nerve_images/20140221_1143_grid_three_panel.png /data/ftbmedia_294.png\n",
        "/Users/scollis/nerve_images/20140221_1153_grid_three_panel.png /data/ftbmedia_295.png\n",
        "/Users/scollis/nerve_images/20140221_1203_grid_three_panel.png /data/ftbmedia_296.png\n",
        "/Users/scollis/nerve_images/20140221_1213_grid_three_panel.png /data/ftbmedia_297.png\n",
        "/Users/scollis/nerve_images/20140221_1222_grid_three_panel.png /data/ftbmedia_298.png\n",
        "/Users/scollis/nerve_images/20140221_1232_grid_three_panel.png"
       ]
      },
      {
       "output_type": "stream",
       "stream": "stdout",
       "text": [
        " /data/ftbmedia_299.png\n",
        "/Users/scollis/nerve_images/20140221_1242_grid_three_panel.png /data/ftbmedia_300.png\n",
        "/Users/scollis/nerve_images/20140221_1251_grid_three_panel.png /data/ftbmedia_301.png\n",
        "/Users/scollis/nerve_images/20140221_1301_grid_three_panel.png /data/ftbmedia_302.png\n",
        "/Users/scollis/nerve_images/20140221_1311_grid_three_panel.png /data/ftbmedia_303.png\n",
        "/Users/scollis/nerve_images/20140221_1321_grid_three_panel.png /data/ftbmedia_304.png\n",
        "/Users/scollis/nerve_images/20140221_1330_grid_three_panel.png /data/ftbmedia_305.png\n",
        "/Users/scollis/nerve_images/20140221_1340_grid_three_panel.png /data/ftbmedia_306.png\n",
        "/Users/scollis/nerve_images/20140221_1400_grid_three_panel.png /data/ftbmedia_307.png\n",
        "/Users/scollis/nerve_images/20140221_1409_grid_three_panel.png /data/ftbmedia_308.png\n",
        "/Users/scollis/nerve_images/20140221_1419_grid_three_panel.png /data/ftbmedia_309.png\n",
        "/Users/scollis/nerve_images/20140221_1429_grid_three_panel.png"
       ]
      },
      {
       "output_type": "stream",
       "stream": "stdout",
       "text": [
        " /data/ftbmedia_310.png\n",
        "/Users/scollis/nerve_images/20140221_1439_grid_three_panel.png /data/ftbmedia_311.png\n",
        "/Users/scollis/nerve_images/20140221_1449_grid_three_panel.png /data/ftbmedia_312.png\n",
        "/Users/scollis/nerve_images/20140221_1458_grid_three_panel.png /data/ftbmedia_313.png\n",
        "/Users/scollis/nerve_images/20140221_1508_grid_three_panel.png /data/ftbmedia_314.png\n"
       ]
      },
      {
       "metadata": {},
       "output_type": "pyout",
       "prompt_number": 2,
       "text": [
        "0"
       ]
      }
     ],
     "prompt_number": 2
    },
    {
     "cell_type": "code",
     "collapsed": false,
     "input": [
      "for i in range(24):\n",
      "    print './con_strat_anal.py cfrad.20060119_%(i)02d' %{'i':i}\n",
      "for i in range(24):\n",
      "    print './con_strat_anal.py cfrad.20060120_%(i)02d' %{'i':i}\n",
      "for i in range(24):\n",
      "    print './con_strat_anal.py cfrad.200601121_%(i)02d' %{'i':i}\n",
      "for i in range(24):\n",
      "    print './con_strat_anal.py cfrad.20060119_%(i)02d' %{'i':i}\n",
      "for i in range(24):\n",
      "    print './con_strat_anal.py cfrad.20060120_%(i)02d' %{'i':i}\n",
      "for i in range(24):\n",
      "    print './con_strat_anal.py cfrad.20060121_%(i)02d' %{'i':i}\n"
     ],
     "language": "python",
     "metadata": {},
     "outputs": [
      {
       "output_type": "stream",
       "stream": "stdout",
       "text": [
        "./con_strat_anal.py cfrad.20060119_00\n",
        "./con_strat_anal.py cfrad.20060119_01\n",
        "./con_strat_anal.py cfrad.20060119_02\n",
        "./con_strat_anal.py cfrad.20060119_03\n",
        "./con_strat_anal.py cfrad.20060119_04\n",
        "./con_strat_anal.py cfrad.20060119_05\n",
        "./con_strat_anal.py cfrad.20060119_06\n",
        "./con_strat_anal.py cfrad.20060119_07\n",
        "./con_strat_anal.py cfrad.20060119_08\n",
        "./con_strat_anal.py cfrad.20060119_09\n",
        "./con_strat_anal.py cfrad.20060119_10\n",
        "./con_strat_anal.py cfrad.20060119_11\n",
        "./con_strat_anal.py cfrad.20060119_12\n",
        "./con_strat_anal.py cfrad.20060119_13\n",
        "./con_strat_anal.py cfrad.20060119_14\n",
        "./con_strat_anal.py cfrad.20060119_15\n",
        "./con_strat_anal.py cfrad.20060119_16\n",
        "./con_strat_anal.py cfrad.20060119_17\n",
        "./con_strat_anal.py cfrad.20060119_18\n",
        "./con_strat_anal.py cfrad.20060119_19\n",
        "./con_strat_anal.py cfrad.20060119_20\n",
        "./con_strat_anal.py cfrad.20060119_21\n",
        "./con_strat_anal.py cfrad.20060119_22\n",
        "./con_strat_anal.py cfrad.20060119_23\n",
        "./con_strat_anal.py cfrad.20060120_00\n",
        "./con_strat_anal.py cfrad.20060120_01\n",
        "./con_strat_anal.py cfrad.20060120_02\n",
        "./con_strat_anal.py cfrad.20060120_03\n",
        "./con_strat_anal.py cfrad.20060120_04\n",
        "./con_strat_anal.py cfrad.20060120_05\n",
        "./con_strat_anal.py cfrad.20060120_06\n",
        "./con_strat_anal.py cfrad.20060120_07\n",
        "./con_strat_anal.py cfrad.20060120_08\n",
        "./con_strat_anal.py cfrad.20060120_09\n",
        "./con_strat_anal.py cfrad.20060120_10\n",
        "./con_strat_anal.py cfrad.20060120_11\n",
        "./con_strat_anal.py cfrad.20060120_12\n",
        "./con_strat_anal.py cfrad.20060120_13\n",
        "./con_strat_anal.py cfrad.20060120_14\n",
        "./con_strat_anal.py cfrad.20060120_15\n",
        "./con_strat_anal.py cfrad.20060120_16\n",
        "./con_strat_anal.py cfrad.20060120_17\n",
        "./con_strat_anal.py cfrad.20060120_18\n",
        "./con_strat_anal.py cfrad.20060120_19\n",
        "./con_strat_anal.py cfrad.20060120_20\n",
        "./con_strat_anal.py cfrad.20060120_21\n",
        "./con_strat_anal.py cfrad.20060120_22\n",
        "./con_strat_anal.py cfrad.20060120_23\n",
        "./con_strat_anal.py cfrad.20060121_00\n",
        "./con_strat_anal.py cfrad.20060121_01\n",
        "./con_strat_anal.py cfrad.20060121_02\n",
        "./con_strat_anal.py cfrad.20060121_03\n",
        "./con_strat_anal.py cfrad.20060121_04\n",
        "./con_strat_anal.py cfrad.20060121_05\n",
        "./con_strat_anal.py cfrad.20060121_06\n",
        "./con_strat_anal.py cfrad.20060121_07\n",
        "./con_strat_anal.py cfrad.20060121_08\n",
        "./con_strat_anal.py cfrad.20060121_09\n",
        "./con_strat_anal.py cfrad.20060121_10\n",
        "./con_strat_anal.py cfrad.20060121_11\n",
        "./con_strat_anal.py cfrad.20060121_12\n",
        "./con_strat_anal.py cfrad.20060121_13\n",
        "./con_strat_anal.py cfrad.20060121_14\n",
        "./con_strat_anal.py cfrad.20060121_15\n",
        "./con_strat_anal.py cfrad.20060121_16\n",
        "./con_strat_anal.py cfrad.20060121_17\n",
        "./con_strat_anal.py cfrad.20060121_18\n",
        "./con_strat_anal.py cfrad.20060121_19\n",
        "./con_strat_anal.py cfrad.20060121_20\n",
        "./con_strat_anal.py cfrad.20060121_21\n",
        "./con_strat_anal.py cfrad.20060121_22\n",
        "./con_strat_anal.py cfrad.20060121_23\n"
       ]
      }
     ],
     "prompt_number": 15
    },
    {
     "cell_type": "code",
     "collapsed": false,
     "input": [],
     "language": "python",
     "metadata": {},
     "outputs": []
    }
   ],
   "metadata": {}
  }
 ]
}