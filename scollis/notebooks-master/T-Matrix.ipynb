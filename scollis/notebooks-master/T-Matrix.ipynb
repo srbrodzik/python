{
 "metadata": {
  "name": "T-Matrix"
 },
 "nbformat": 3,
 "nbformat_minor": 0,
 "worksheets": [
  {
   "cells": [
    {
     "cell_type": "markdown",
     "metadata": {},
     "source": [
      "Testing PyTmatrix\n",
      "\n",
      "Code from http://code.google.com/p/pytmatrix/\n"
     ]
    },
    {
     "cell_type": "markdown",
     "metadata": {},
     "source": [
      "Following is just verbosely copying examples\n"
     ]
    },
    {
     "cell_type": "code",
     "collapsed": false,
     "input": [
      "import matplotlib.pyplot as plt\n",
      "from pytmatrix.tmatrix import TMatrix\n",
      "from pytmatrix.tmatrix_psd import TMatrixPSD, GammaPSD\n",
      "from pytmatrix import orientation, radar, tmatrix_aux, refractive"
     ],
     "language": "python",
     "metadata": {},
     "outputs": [],
     "prompt_number": 1
    },
    {
     "cell_type": "markdown",
     "metadata": {},
     "source": [
      "A single-orientation case: "
     ]
    },
    {
     "cell_type": "code",
     "collapsed": false,
     "input": [
      "tm = TMatrix(axi=2.0, lam=6.5, m=complex(1.5,0.5), eps=1.0/0.6)\n",
      "tm.get_SZ()\n",
      "tm = TMatrix(axi=2.0, lam=6.5, m=complex(1.5,0.5), eps=1.0/0.6)\n",
      "tm.or_pdf = orientation.gaussian_pdf(20.0)\n",
      "tm.orient = orientation.orient_averaged_adaptive\n",
      "tm.get_S()\n"
     ],
     "language": "python",
     "metadata": {},
     "outputs": [
      {
       "output_type": "pyout",
       "prompt_number": 2,
       "text": [
        "array([[  6.49005717e-02 -2.42488000e-01j,\n",
        "         -6.12958978e-16 -4.10770678e-15j],\n",
        "       [ -1.50041709e-14 -1.63862835e-15j,\n",
        "         -9.54176591e-02 +2.84758322e-01j]])"
       ]
      }
     ],
     "prompt_number": 2
    },
    {
     "cell_type": "markdown",
     "metadata": {},
     "source": [
      "An orientation-averaged case with a 20\u00b0 standard deviation Gaussian distribution: "
     ]
    },
    {
     "cell_type": "code",
     "collapsed": false,
     "input": [
      "tm = TMatrix(axi=2.0, lam=6.5, m=complex(1.5,0.5), eps=1.0/0.6)\n",
      "tm.or_pdf = orientation.gaussian_pdf(20.0)\n",
      "tm.orient = orientation.orient_averaged_fixed\n",
      "tm.get_S()\n"
     ],
     "language": "python",
     "metadata": {},
     "outputs": [
      {
       "output_type": "pyout",
       "prompt_number": 3,
       "text": [
        "array([[  6.49006144e-02 -2.42487917e-01j,\n",
        "          1.20257317e-11 -5.23021790e-11j],\n",
        "       [  6.21754494e-12 +2.95662510e-11j,\n",
        "         -9.54177106e-02 +2.84758152e-01j]])"
       ]
      }
     ],
     "prompt_number": 3
    },
    {
     "cell_type": "markdown",
     "metadata": {},
     "source": [
      "The same, but using fixed-point averaging instead (note the slightly different results): "
     ]
    },
    {
     "cell_type": "code",
     "collapsed": false,
     "input": [
      "tm = TMatrixPSD(lam=6.5, m=complex(1.5,0.5), eps=1.0/0.6)\n",
      "tm.psd = GammaPSD(D0=1.0, Nw=1e3, mu=4)\n",
      "tm.D_max = 10.0\n",
      "tm.init_scatter_table()\n",
      "print tm.get_Z()\n"
     ],
     "language": "python",
     "metadata": {},
     "outputs": [
      {
       "output_type": "stream",
       "stream": "stdout",
       "text": [
        "[[  7.20540295e-02  -1.54020475e-02  -9.96255009e-25   8.34274011e-26]\n",
        " [ -1.54020475e-02   7.20540295e-02   1.23283463e-25   1.40053714e-25]\n",
        " [  9.96257499e-25  -1.23295340e-25  -6.89739108e-02   1.38873290e-02]\n",
        " [  8.34165166e-26   1.40053491e-25  -1.38873290e-02  -6.89739108e-02]]\n"
       ]
      }
     ],
     "prompt_number": 4
    },
    {
     "cell_type": "markdown",
     "metadata": {},
     "source": [
      "A simple example of using particle size distribution integration: "
     ]
    },
    {
     "cell_type": "code",
     "collapsed": false,
     "input": [
      "# For testing variable aspect ratio\n",
      "def drop_ar(D_eq):\n",
      "    if D_eq < 0.7:\n",
      "        return 1.0;\n",
      "    elif D_eq < 1.5:\n",
      "        return 1.173 - 0.5165*D_eq + 0.4698*D_eq**2 - 0.1317*D_eq**3 - \\\n",
      "            8.5e-3*D_eq**4\n",
      "    else:\n",
      "        return 1.065 - 6.25e-2*D_eq - 3.99e-3*D_eq**2 + 7.66e-4*D_eq**3 - \\\n",
      "            4.095e-5*D_eq**4 \n"
     ],
     "language": "python",
     "metadata": {},
     "outputs": [],
     "prompt_number": 5
    },
    {
     "cell_type": "markdown",
     "metadata": {},
     "source": [
      "A somewhat more complex example of computing radar scattering properties for a C-band radar, showing more features of the size distribution module as well as radar-specific functions: "
     ]
    },
    {
     "cell_type": "code",
     "collapsed": false,
     "input": [
      "tm = TMatrixPSD(lam=tmatrix_aux.wl_C, m=refractive.m_w_10C[tmatrix_aux.wl_C])\n",
      "tm.psd_eps_func = lambda D: 1.0/drop_ar(D)\n",
      "tm.D_max = 10.0\n",
      "tm.or_pdf = orientation.gaussian_pdf(20.0)\n",
      "tm.orient = orientation.orient_averaged_fixed\n",
      "tm.geometries = (tmatrix_aux.geom_horiz_back, tmatrix_aux.geom_horiz_forw)\n",
      "tm.init_scatter_table()\n",
      "tm.psd = GammaPSD(D0=2.0, Nw=1e3, mu=4)\n",
      "print radar.refl(tm)\n",
      "print radar.refl(tm, False)\n",
      "print radar.Zdr(tm)\n",
      "print radar.ldr(tm)\n",
      "print radar.rho_hv(tm)\n",
      "tm.set_geometry(tmatrix_aux.geom_horiz_forw)\n",
      "print radar.Kdp(tm)\n",
      "print radar.Ai(tm)\n"
     ],
     "language": "python",
     "metadata": {},
     "outputs": [
      {
       "output_type": "stream",
       "stream": "stdout",
       "text": [
        "6383.73375082\n",
        "5066.72111592\n",
        "1.25993391086\n",
        "0.00219606313816\n",
        "0.996030805155\n",
        "0.193346762813\n",
        "0.0189239766088\n"
       ]
      }
     ],
     "prompt_number": 6
    },
    {
     "cell_type": "markdown",
     "metadata": {},
     "source": [
      "The tm.psd object is simply a function that returns N(D).."
     ]
    },
    {
     "cell_type": "code",
     "collapsed": false,
     "input": [
      "for nw in [1e3, 2e3, 3e3]:\n",
      "    dd=np.linspace(0,10,100)\n",
      "    nd= GammaPSD(D0=3.0, Nw=nw, mu=4)(dd)\n",
      "    plt.semilogy(dd,nd)\n",
      "    plt.grid(True)\n",
      "    plt.xlabel('Diameter (mm)')\n",
      "    plt.ylabel('Number of drops')"
     ],
     "language": "python",
     "metadata": {},
     "outputs": [
      {
       "output_type": "display_data",
       "png": "[encoded data removed]",
       "text": [
        "<matplotlib.figure.Figure at 0x10cf15950>"
       ]
      }
     ],
     "prompt_number": 7
    },
    {
     "cell_type": "markdown",
     "metadata": {},
     "source": [
      "Here is a very simple extention I have written to use the above DSD and AR code to look at Z$_{DR}$ as a function of D$_0$ and N$_w$."
     ]
    },
    {
     "cell_type": "code",
     "collapsed": false,
     "input": [
      "n_d0=12\n",
      "n_Nw=4\n",
      "D0=np.linspace(0.5, 2.0, n_d0)\n",
      "Nw=np.linspace(5e2, 2e4, n_Nw)\n",
      "zdr=np.zeros([n_d0,n_Nw])\n",
      "z=np.zeros([n_d0,n_Nw])\n",
      "kdp=np.zeros([n_d0,n_Nw])\n",
      "A=np.zeros([n_d0,n_Nw])\n",
      "for i in range(n_d0):\n",
      "    for j in range(n_Nw):\n",
      "        tm = TMatrixPSD(lam=tmatrix_aux.wl_C, m=refractive.m_w_10C[tmatrix_aux.wl_C])\n",
      "        tm.psd_eps_func = lambda D: 1.0/drop_ar(D)\n",
      "        tm.D_max = 10.0\n",
      "        tm.or_pdf = orientation.gaussian_pdf(20.0)\n",
      "        tm.orient = orientation.orient_averaged_fixed\n",
      "        tm.geometries = (tmatrix_aux.geom_horiz_back, tmatrix_aux.geom_horiz_forw)\n",
      "        tm.init_scatter_table()\n",
      "        tm.psd = GammaPSD(D0=D0[i], Nw=Nw[j], mu=4)\n",
      "        zdr[i,j]=radar.Zdr(tm)\n",
      "        z[i,j]=radar.refl(tm)\n",
      "        tm.set_geometry(tmatrix_aux.geom_horiz_forw)\n",
      "        kdp[i,j]=radar.Kdp(tm)\n",
      "        A[i,j]=radar.Ai(tm)\n",
      "\n"
     ],
     "language": "python",
     "metadata": {},
     "outputs": [],
     "prompt_number": 8
    },
    {
     "cell_type": "code",
     "collapsed": false,
     "input": [
      "form=r'N$_w$=%(ee)2.1e m$^{-3}$'\n",
      "labels=[form %{'ee':this_nw} for this_nw in Nw]\n"
     ],
     "language": "python",
     "metadata": {},
     "outputs": [],
     "prompt_number": 9
    },
    {
     "cell_type": "code",
     "collapsed": false,
     "input": [
      "f=plt.figure(figsize=[8,8])\n",
      "ax1=plt.subplot(3,1,1)\n",
      "for i in range(len(labels)):\n",
      "    plt.plot(D0, 10.0*np.log10(zdr[:,i]), label=labels[i])\n",
      "\n",
      "ax2=plt.subplot(3,1,2)\n",
      "for i in range(len(labels)):\n",
      "    plt.plot(D0, 10.0*np.log10(z[:,i]), label=labels[i])\n",
      "ax3=plt.subplot(3,1,3)\n",
      "for i in range(len(labels)):\n",
      "    plt.plot(D0, kdp[:,i], label=labels[i])\n",
      "#plt.legend(loc=2)\n",
      "subplots_adjust(left=None, bottom=None, right=None, top=None, wspace=0.0, hspace=0.0)\n",
      "ax1.get_xaxis().set_visible(False)\n",
      "ax2.get_xaxis().set_visible(False)\n",
      "ax2.yaxis.set_major_locator(MaxNLocator(prune='upper'))\n",
      "ax3.yaxis.set_major_locator(MaxNLocator(prune='upper'))\n",
      "ax1.set_ylabel(r'Z$_{DR}$')\n",
      "ax2.set_ylabel(r'Z$_e$')\n",
      "ax3.set_ylabel(r'K$_{DP}$')\n",
      "ax3.set_xlabel(r'D$_0$')\n",
      "plt.savefig('/Users/scollis/Documents/germany_meeting/tmatrix.png', dpi=200)\n",
      "\n"
     ],
     "language": "python",
     "metadata": {},
     "outputs": [
      {
       "output_type": "display_data",
       "png": "[encoded data removed]",
       "text": [
        "<matplotlib.figure.Figure at 0x10d010710>"
       ]
      }
     ],
     "prompt_number": 10
    },
    {
     "cell_type": "code",
     "collapsed": false,
     "input": [
      "plot(kdp[:,-1],10.0*np.log10(z[:,-1]))"
     ],
     "language": "python",
     "metadata": {},
     "outputs": [
      {
       "output_type": "pyout",
       "prompt_number": 15,
       "text": [
        "[<matplotlib.lines.Line2D at 0x10d054b90>]"
       ]
      },
      {
       "output_type": "display_data",
       "png": "[encoded data removed]",
       "text": [
        "<matplotlib.figure.Figure at 0x10cfd6b90>"
       ]
      }
     ],
     "prompt_number": 15
    },
    {
     "cell_type": "code",
     "collapsed": false,
     "input": [
      "print dir(refractive)"
     ],
     "language": "python",
     "metadata": {},
     "outputs": [
      {
       "output_type": "stream",
       "stream": "stdout",
       "text": [
        "['__builtins__', '__doc__', '__file__', '__name__', '__package__', 'bruggeman_refractive', 'ice_density', 'ice_refractive', 'interpolate', 'm_w_0C', 'm_w_10C', 'm_w_20C', 'mg_refractive', 'mi', 'module_path', 'np', 'path', 'wl_C', 'wl_Ka', 'wl_Ku', 'wl_S', 'wl_W', 'wl_X']\n"
       ]
      }
     ],
     "prompt_number": 11
    },
    {
     "cell_type": "code",
     "collapsed": false,
     "input": [
      "help(tm.psd)"
     ],
     "language": "python",
     "metadata": {},
     "outputs": [
      {
       "output_type": "stream",
       "stream": "stdout",
       "text": [
        "Help on GammaPSD in module pytmatrix.tmatrix_psd object:\n",
        "\n",
        "class GammaPSD(__builtin__.object)\n",
        " |  Normalized gamma particle size distribution (PSD).\n",
        " |  \n",
        " |  Callable class to provide a normalized gamma PSD with the given \n",
        " |  parameters. The attributes can also be given as arguments to the \n",
        " |  constructor.\n",
        " |  \n",
        " |  Attributes:\n",
        " |      D0: the median volume diameter.\n",
        " |      Nw: the intercept parameter.\n",
        " |      mu: the shape parameter.\n",
        " |      D_max: the maximum diameter to consider (defaults to 3*D0 when\n",
        " |          the class is initialized but must be manually changed afterwards)\n",
        " |  \n",
        " |  Args (call):\n",
        " |      D: the particle diameter.\n",
        " |  \n",
        " |  Returns (call):\n",
        " |      The PSD value for the given diameter.    \n",
        " |      Returns 0 for all diameters larger than D_max.\n",
        " |  \n",
        " |  Methods defined here:\n",
        " |  \n",
        " |  __call__(self, D)\n",
        " |  \n",
        " |  __eq__(self, other)\n",
        " |  \n",
        " |  __init__(self, D0=1.0, Nw=1.0, mu=0.0)\n",
        " |  \n",
        " |  ----------------------------------------------------------------------\n",
        " |  Data descriptors defined here:\n",
        " |  \n",
        " |  __dict__\n",
        " |      dictionary for instance variables (if defined)\n",
        " |  \n",
        " |  __weakref__\n",
        " |      list of weak references to the object (if defined)\n",
        "\n"
       ]
      }
     ],
     "prompt_number": 12
    },
    {
     "cell_type": "code",
     "collapsed": false,
     "input": [
      "help(GammaPSD)"
     ],
     "language": "python",
     "metadata": {},
     "outputs": [
      {
       "output_type": "stream",
       "stream": "stdout",
       "text": [
        "Help on class GammaPSD in module pytmatrix.tmatrix_psd:\n",
        "\n",
        "class GammaPSD(__builtin__.object)\n",
        " |  Normalized gamma particle size distribution (PSD).\n",
        " |  \n",
        " |  Callable class to provide a normalized gamma PSD with the given \n",
        " |  parameters. The attributes can also be given as arguments to the \n",
        " |  constructor.\n",
        " |  \n",
        " |  Attributes:\n",
        " |      D0: the median volume diameter.\n",
        " |      Nw: the intercept parameter.\n",
        " |      mu: the shape parameter.\n",
        " |      D_max: the maximum diameter to consider (defaults to 3*D0 when\n",
        " |          the class is initialized but must be manually changed afterwards)\n",
        " |  \n",
        " |  Args (call):\n",
        " |      D: the particle diameter.\n",
        " |  \n",
        " |  Returns (call):\n",
        " |      The PSD value for the given diameter.    \n",
        " |      Returns 0 for all diameters larger than D_max.\n",
        " |  \n",
        " |  Methods defined here:\n",
        " |  \n",
        " |  __call__(self, D)\n",
        " |  \n",
        " |  __eq__(self, other)\n",
        " |  \n",
        " |  __init__(self, D0=1.0, Nw=1.0, mu=0.0)\n",
        " |  \n",
        " |  ----------------------------------------------------------------------\n",
        " |  Data descriptors defined here:\n",
        " |  \n",
        " |  __dict__\n",
        " |      dictionary for instance variables (if defined)\n",
        " |  \n",
        " |  __weakref__\n",
        " |      list of weak references to the object (if defined)\n",
        "\n"
       ]
      }
     ],
     "prompt_number": 13
    },
    {
     "cell_type": "code",
     "collapsed": false,
     "input": [],
     "language": "python",
     "metadata": {},
     "outputs": [],
     "prompt_number": 13
    }
   ],
   "metadata": {}
  }
 ]
}