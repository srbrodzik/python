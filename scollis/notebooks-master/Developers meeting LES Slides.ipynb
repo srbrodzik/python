{
 "cells": [
  {
   "cell_type": "markdown",
   "metadata": {
    "slideshow": {
     "slide_type": "notes"
    }
   },
   "source": [
    "#Slides for Developers meeting\n",
    "All,\n",
    "\n",
    "  Thanks all for the quick response. Based on your comments, here is the revised agenda for the LES breakout session\n",
    "\n",
    "* The ARM LES modeling: Implications to the ARM data development its compute architecture - Bill Gustafson (10 min)\n",
    "* Current ARM cloud modeling data and tool developments - Shaocheng Xie/Laura Riihimaki/Scott Collis (20 min)\n",
    "* ARM data and compute Architecture (Giri Palanisamy) (10 min)\n",
    "* General Discussion - 35 min\n",
    "\n",
    "\tO Data needed for LES\n",
    "\tO Computing resources needed for LES\n",
    "\tO Tools for comparing LES to OBS\n",
    "\tO Tools for linking LES to GCMs\t\n",
    "\n",
    "Each of us prepare 3 or less slides including ONE slide that just lists a few items for further discussion at the breakout. Hopefully we can narrow down a few action items that we can work on after the meeting.\n",
    "\n",
    "  Thanks.\n",
    "\n",
    "  Shaocheng"
   ]
  },
  {
   "cell_type": "markdown",
   "metadata": {
    "slideshow": {
     "slide_type": "slide"
    }
   },
   "source": [
    "##Products useful to the LASSO project from the Argonne Team"
   ]
  },
  {
   "cell_type": "markdown",
   "metadata": {
    "slideshow": {
     "slide_type": "fragment"
    }
   },
   "source": [
    "\n",
    "- Scott Collis, Argonne National Laboratory\n",
    "- Jonathan Helmus, Argonne National Laboratory\n",
    "\n",
    "<div>\n",
    "    <img class=\"logo\" src=\"./python-logo.png\" height=\"100\" width=\"250\" align=\"left\"/>\n",
    "    <img class=\"logo\" src=\"./arm_logo.png\" height=\"100\" width=\"250\" align=\"right\"/>\n",
    "</div>\n",
    "<img class=\"logo\" src=\"./argonne_logo.png\" height=\"100\" width=\"250\" align='center'/>\n",
    "\n"
   ]
  },
  {
   "cell_type": "markdown",
   "metadata": {
    "slideshow": {
     "slide_type": "slide"
    }
   },
   "source": [
    "#foo"
   ]
  },
  {
   "cell_type": "code",
   "execution_count": null,
   "metadata": {
    "collapsed": true
   },
   "outputs": [],
   "source": []
  }
 ],
 "metadata": {
  "celltoolbar": "Slideshow",
  "kernelspec": {
   "display_name": "Python 2",
   "language": "python",
   "name": "python2"
  },
  "language_info": {
   "codemirror_mode": {
    "name": "ipython",
    "version": 2
   },
   "file_extension": ".py",
   "mimetype": "text/x-python",
   "name": "python",
   "nbconvert_exporter": "python",
   "pygments_lexer": "ipython2",
   "version": "2.7.10"
  }
 },
 "nbformat": 4,
 "nbformat_minor": 0
}
