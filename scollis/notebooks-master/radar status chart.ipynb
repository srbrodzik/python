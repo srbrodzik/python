{
 "metadata": {
  "name": "",
  "signature": "sha256:71e1ccecbce35ef14e13ecc744a07bf5484a1b0983359a07adca14deb4602487"
 },
 "nbformat": 3,
 "nbformat_minor": 0,
 "worksheets": [
  {
   "cells": [
    {
     "cell_type": "markdown",
     "metadata": {},
     "source": [
      "Playing with ways to visiually represent data availability"
     ]
    },
    {
     "cell_type": "code",
     "collapsed": false,
     "input": [
      "#first we do some imports and check the version of Py-ART for consistency\n",
      "import pyart\n",
      "from matplotlib import pyplot as plt\n",
      "import matplotlib.dates as mdates\n",
      "import netCDF4\n",
      "import numpy as np\n",
      "import copy\n",
      "import scipy\n",
      "import os\n",
      "from IPython.parallel import Client\n",
      "\n",
      "%matplotlib inline\n",
      "print pyart.__version__"
     ],
     "language": "python",
     "metadata": {},
     "outputs": [
      {
       "output_type": "stream",
       "stream": "stdout",
       "text": [
        "1.0.0.dev-121cf53\n"
       ]
      }
     ],
     "prompt_number": 38
    },
    {
     "cell_type": "code",
     "collapsed": false,
     "input": [
      "radar_in_dirs = [ '/ss_data/xsaprse/','/ss_data/xsaprnw/']\n",
      "names = ['XSAPR SE', 'XSAPR NW']"
     ],
     "language": "python",
     "metadata": {},
     "outputs": [],
     "prompt_number": 39
    },
    {
     "cell_type": "code",
     "collapsed": false,
     "input": [
      "files = []\n",
      "for i in range(len(names)):\n",
      "    these_files = os.listdir(radar_in_dirs[i])\n",
      "    these_files.sort()\n",
      "    fq_files = []\n",
      "    for fl in these_files:\n",
      "        fq_files.append(radar_in_dirs[i] + fl)\n",
      "    files.append(fq_files)\n",
      "    "
     ],
     "language": "python",
     "metadata": {},
     "outputs": [],
     "prompt_number": 40
    },
    {
     "cell_type": "markdown",
     "metadata": {},
     "source": [
      "The function below opens a file and returns a tuple of date objects, one for start one for end"
     ]
    },
    {
     "cell_type": "code",
     "collapsed": false,
     "input": [
      "def get_date(filename):\n",
      "    import pyart\n",
      "    from netCDF4 import num2date\n",
      "    try:\n",
      "        radar = pyart.io.read(filename)\n",
      "        t = (num2date(radar.time['data'][0], radar.time['units']), num2date(radar.time['data'][-1], radar.time['units']))\n",
      "    except:\n",
      "        #return start time and end time being the same\n",
      "        t = (num2date(0, 'seconds since 2000-01-01T00:00:00Z'), num2date(0, 'seconds since 2000-01-01T00:00:00Z'))\n",
      "    return t\n",
      "    \n",
      "        "
     ],
     "language": "python",
     "metadata": {},
     "outputs": [],
     "prompt_number": 41
    },
    {
     "cell_type": "markdown",
     "metadata": {},
     "source": [
      "Set up the Map across our cluster\n",
      "Reduce the result, this is where the actual execution takes place and the time comes in"
     ]
    },
    {
     "cell_type": "code",
     "collapsed": false,
     "input": [
      "results = []\n",
      "for i in range(len(files)):\n",
      "    print \"Doing \", names[i] \n",
      "    c = Client()\n",
      "    result = c[:].map(get_date,files[i])\n",
      "    datestrs = result.get()\n",
      "    block_list = []\n",
      "    for pair in datestrs:\n",
      "        date_start = mdates.date2num(pair[0])\n",
      "        scan_length = mdates.date2num(pair[1]) - date_start\n",
      "        block_list.append((date_start, scan_length ))\n",
      "    results.append(block_list)"
     ],
     "language": "python",
     "metadata": {},
     "outputs": [
      {
       "output_type": "stream",
       "stream": "stdout",
       "text": [
        "Doing  XSAPR SE\n",
        "Doing "
       ]
      },
      {
       "output_type": "stream",
       "stream": "stdout",
       "text": [
        " XSAPR NW\n"
       ]
      }
     ],
     "prompt_number": 42
    },
    {
     "cell_type": "code",
     "collapsed": false,
     "input": [
      "print len(block_list)"
     ],
     "language": "python",
     "metadata": {},
     "outputs": [
      {
       "output_type": "stream",
       "stream": "stdout",
       "text": [
        "102\n"
       ]
      }
     ],
     "prompt_number": 43
    },
    {
     "cell_type": "code",
     "collapsed": false,
     "input": [
      "months = mdates.DayLocator()  # every month\n",
      "dayFmt = mdates.DateFormatter('%Y-%M-%D')\n",
      "\n",
      "fig, ax = plt.subplots(figsize = [20,10])\n",
      "for i in range(len(results)):\n",
      "    ax.broken_barh(results[i], (i-0.25, .5), facecolors = 'green', edgecolors = 'none')\n",
      "    print i\n",
      "ax.set_yticks(range(len(results)))\n",
      "ax.set_yticklabels(names)\n",
      "ax.xaxis_date()\n",
      "\n"
     ],
     "language": "python",
     "metadata": {},
     "outputs": [
      {
       "output_type": "stream",
       "stream": "stdout",
       "text": [
        "0\n",
        "1\n"
       ]
      },
      {
       "metadata": {},
       "output_type": "display_data",
       "png": "[encoded data removed]",
       "text": [
        "<matplotlib.figure.Figure at 0x7fa7b13a15d0>"
       ]
      }
     ],
     "prompt_number": 44
    },
    {
     "cell_type": "code",
     "collapsed": false,
     "input": [],
     "language": "python",
     "metadata": {},
     "outputs": [],
     "prompt_number": 44
    }
   ],
   "metadata": {}
  }
 ]
}