{
 "cells": [
  {
   "cell_type": "code",
   "execution_count": 1,
   "metadata": {
    "collapsed": true
   },
   "outputs": [],
   "source": [
    "import pyart\n",
    "from matplotlib import pyplot as plt\n",
    "%matplotlib inline"
   ]
  },
  {
   "cell_type": "code",
   "execution_count": 2,
   "metadata": {
    "collapsed": true
   },
   "outputs": [],
   "source": [
    "csapr_file = '/data/sitecheck/sgpcsaprsurI7.00.20150822.071301.raw.cfrad.20150822_040753.400_CSAP_v-32334_SUR.nc'\n",
    "xsapri5_file = '/data/sitecheck/XSW150922121001.RAWD13D'\n",
    "xsapri6_file = '/data/sitecheck/sgpxsaprI6.00.20150922.131201.mnt.XNW150922125740.RAW3ZHD.maint'\n",
    "csapr_radar = pyart.io.read(csapr_file)\n",
    "xsapri5_radar = pyart.io.read(xsapri5_file)\n",
    "xsapri6_radar = pyart.io.read(xsapri6_file)\n"
   ]
  },
  {
   "cell_type": "code",
   "execution_count": 4,
   "metadata": {
    "collapsed": false
   },
   "outputs": [
    {
     "name": "stdout",
     "output_type": "stream",
     "text": [
      "[ 36.79615784]\n",
      "[-97.45054626]\n",
      "[ 36.49120001]\n",
      "[-97.5939]\n",
      "[ 36.76755304]\n",
      "[-97.54742989]\n"
     ]
    }
   ],
   "source": [
    "print(csapr_radar.latitude['data'])\n",
    "print(csapr_radar.longitude['data'])\n",
    "print(xsapri5_radar.latitude['data'])\n",
    "print(xsapri5_radar.longitude['data'])\n",
    "print(xsapri6_radar.latitude['data'])\n",
    "print(xsapri6_radar.longitude['data'])\n",
    "\n"
   ]
  },
  {
   "cell_type": "code",
   "execution_count": null,
   "metadata": {
    "collapsed": true
   },
   "outputs": [],
   "source": []
  }
 ],
 "metadata": {
  "kernelspec": {
   "display_name": "Python 2",
   "language": "python",
   "name": "python2"
  },
  "language_info": {
   "codemirror_mode": {
    "name": "ipython",
    "version": 2
   },
   "file_extension": ".py",
   "mimetype": "text/x-python",
   "name": "python",
   "nbconvert_exporter": "python",
   "pygments_lexer": "ipython2",
   "version": "2.7.10"
  }
 },
 "nbformat": 4,
 "nbformat_minor": 0
}
