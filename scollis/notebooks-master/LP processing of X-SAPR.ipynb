{
 "metadata": {
  "name": "LP processing of X-SAPR"
 },
 "nbformat": 3,
 "nbformat_minor": 0,
 "worksheets": [
  {
   "cells": [
    {
     "cell_type": "markdown",
     "metadata": {},
     "source": [
      "<center>\n",
      "![picture alt](http://www.arm.gov/images/template/logo.png \"Title is optional\")\n",
      "#Using linear programming to do phase processing#\n",
      "Scott Collis\n",
      "\n",
      "ARM Precipitation Sensitive Radar Translator\n",
      "\n",
      "_Argonne National Laboratory, Argonne, IL_\n",
      "\n",
      "Scott Giangrande\n",
      "\n",
      "Meteorologist\n",
      "\n",
      "_Brookhaven National Laboratory, Brookhaven, NY_\n",
      "\n",
      "    \n"
     ]
    },
    {
     "cell_type": "markdown",
     "metadata": {},
     "source": [
      "Import system libraries and append py-art path. import pyart"
     ]
    },
    {
     "cell_type": "code",
     "collapsed": false,
     "input": [
      "import copy\n",
      "import numpy as np\n",
      "import pylab\n",
      "import glpk\n",
      "import pyart\n"
     ],
     "language": "python",
     "metadata": {},
     "outputs": [],
     "prompt_number": 56
    },
    {
     "cell_type": "code",
     "collapsed": false,
     "input": [
      "#All helpers.. nothing to see here\n",
      "def dt_to_dict(dt, **kwargs):\n",
      "        pref = kwargs.get('pref', '')\n",
      "        return dict([(pref+key, getattr(dt, key)) for key in\n",
      "                    ['year', 'month', 'day', 'hour', 'minute', 'second']])\n",
      "\n",
      "\n",
      "def multiconvert(item, typ):\n",
      "    if typ == 'string':\n",
      "        ret = item.strip()\n",
      "    if typ == 'bool':\n",
      "        if item.strip().lower() == 'true':\n",
      "            ret = True\n",
      "        else:\n",
      "            ret = False\n",
      "    if typ == 'float':\n",
      "        ret = float(item)\n",
      "    if typ == 'int':\n",
      "        ret = int(item)\n",
      "    return ret\n",
      "\n",
      "\n",
      "def parse_prefs(filename):\n",
      "    bf = open(filename, 'r')\n",
      "    text = bf.readlines()\n",
      "    bf.close()\n",
      "    params = {}\n",
      "    metadata = {}\n",
      "    for item in text:\n",
      "        details = item.split(' ')\n",
      "        data = item.split(details[1])\n",
      "        if 'metadata' in details[0]:\n",
      "            metadata.update({details[0].split('-')[0]: multiconvert(data[1],\n",
      "                            details[1])})\n",
      "        else:\n",
      "            params.update({details[0]: multiconvert(data[1], details[1])})\n",
      "    return params, metadata\n"
     ],
     "language": "python",
     "metadata": {},
     "outputs": [],
     "prompt_number": 57
    },
    {
     "cell_type": "code",
     "collapsed": false,
     "input": [
      "process_version=\"1.03E\"\n",
      "dod_version=\"1.0\"\n",
      "# parse command line arguments\n",
      "params, metadata = parse_prefs('/Users/scollis/python/dailys/arm_xsapr_se.params')\n",
      "print params\n",
      "print metadata\n",
      "clutter_volume=pyart.io.read('/Users/scollis/python/dailys/clutter_volume_XSE20110424.nc')\n",
      "myradar = pyart.io.read('/data/sgpxsaprsesurcmacI4.c0.20110424.100005_v1.04E.nc')\n",
      "myradar.metadata.update(metadata)\n",
      "myradar.fields.update(clutter_volume.fields)"
     ],
     "language": "python",
     "metadata": {},
     "outputs": [
      {
       "output_type": "stream",
       "stream": "stdout",
       "text": [
        "{'overide_sys_phase': True, 'sys_phase': 332.0, 'reflectivity_offset': 8.6, 'clutter_volume': '/home/sc8/results/clutter/clutter_volume_XSE20110424.nc', 'sounding_dir': '/data-in/sc8pjt1/mergedsonde/sgp/'}\n",
        "{'facility_id': 'I4: Billings, Oklahoma', 'experiment': 'MC3E', 'instrument_name': 'sgpxsaprse', 'dod_version': '1.0', 'facility': 'I4', 'site_id': 'sgp', 'input_datastreams_num': '2'}\n"
       ]
      }
     ],
     "prompt_number": 58
    },
    {
     "cell_type": "markdown",
     "metadata": {},
     "source": [
      "Read in the MDV file"
     ]
    },
    {
     "cell_type": "markdown",
     "metadata": {},
     "source": [
      "Now we convert the Py-MDV object to a Py-Radar object. This will help keep the code generic."
     ]
    },
    {
     "cell_type": "markdown",
     "metadata": {},
     "source": [
      "Unfold phase.. Note the deepcopy otherwise it is a link and not a independant copy"
     ]
    },
    {
     "cell_type": "code",
     "collapsed": false,
     "input": [
      "min_phidp=0.01; min_ncp=0.5; min_rhv=0.8; fzl=4000.0"
     ],
     "language": "python",
     "metadata": {},
     "outputs": [],
     "prompt_number": 59
    },
    {
     "cell_type": "markdown",
     "metadata": {},
     "source": [
      "Now we create some conditional fields which will be used in the construction of the constraints"
     ]
    },
    {
     "cell_type": "code",
     "collapsed": false,
     "input": [
      "is_low_z=myradar.fields['reflectivity_horizontal']['data'] <10.0\n",
      "is_high_z=myradar.fields['reflectivity_horizontal']['data'] >53.0\n",
      "z_mod=copy.deepcopy(myradar.fields['reflectivity_horizontal']['data']) + 8.0\n",
      "z_mod[np.where(is_high_z)]=53.0\n",
      "z_mod[np.where(is_low_z)]=10.0\n",
      "#z_mod=z_mod\n",
      "not_coherent=myradar.fields['norm_coherent_power']['data'] < min_ncp\n",
      "not_correlated=myradar.fields['copol_coeff']['data'] < min_rhv\n",
      "phidp_mod=copy.deepcopy(myradar.fields['unf_dp_phase_shift']['data'])\n",
      "phidp_neg=phidp_mod < min_phidp\n",
      "phidp_mod[np.where(phidp_neg)]=min_phidp\n",
      "phidp_mod=phidp_mod"
     ],
     "language": "python",
     "metadata": {},
     "outputs": [],
     "prompt_number": 60
    },
    {
     "cell_type": "markdown",
     "metadata": {},
     "source": [
      "Ok, What do we want here? We have the A matrix which is the block matrix given by:\n",
      "$$\\bf{A}=\\begin{bmatrix} \\bf{I} & \\bf{-I} \\\\\\\\ \\bf{-I}& \\bf{I} \\\\\\\\ \\bf{Z} & \\bf{M} \\end{bmatrix} $$\n",
      "where $\\bf{I}$ is the identity matrix, $\\bf{Z}$ is a matrix of zeros and $\\bf{M}$ contains our differential constraints. Each block is of shape n_gates by n_gates making shape($\\bf{A}$)=(3*n, 2*n).\n",
      "\n",
      "Note that $\\bf{M}$ contains some side padding to deal with edge issues\n"
     ]
    },
    {
     "cell_type": "code",
     "collapsed": false,
     "input": [
      "def construct_A_matrix(radar):\n",
      "    n_gates=len(radar.range['data'])\n",
      "    Identity=eye(n_gates)\n",
      "    St_Gorlv_differential_5pts=[-.2, -.1, 0, .1, .2]\n",
      "    filt=St_Gorlv_differential_5pts\n",
      "    filter_length=len(filt)\n",
      "    M_matrix_middle=np.diag(ones(n_gates-filter_length+1), k=0)*0.0\n",
      "    posn=np.linspace(-1.0*(filter_length-1)/2, (filter_length-1)/2, filter_length)\n",
      "    for diag in range(filter_length):\n",
      "        M_matrix_middle=M_matrix_middle+np.diag(ones(n_gates-filter_length+1 - np.abs(posn[diag])), k=posn[diag])*filt[diag]\n",
      "    side_pad=(filter_length-1)/2\n",
      "    M_matrix=np.bmat([np.zeros([n_gates-filter_length+1, side_pad], dtype=float),\n",
      "        M_matrix_middle, \n",
      "        np.zeros([n_gates-filter_length+1, side_pad], dtype=float)])\n",
      "    Z_matrix=zeros([n_gates-filter_length+1, n_gates])\n",
      "    return np.bmat([[Identity, -1.0*Identity], [Identity, Identity], [Z_matrix, M_matrix]])"
     ],
     "language": "python",
     "metadata": {},
     "outputs": [],
     "prompt_number": 61
    },
    {
     "cell_type": "code",
     "collapsed": false,
     "input": [
      "A_Matrix=construct_A_matrix(myradar)\n",
      "print A_Matrix.shape\n",
      "print (A_Matrix.shape[0]/float(len(myradar.range['data'])), A_Matrix.shape[1]/float(len(myradar.range['data'])))\n"
     ],
     "language": "python",
     "metadata": {},
     "outputs": [
      {
       "output_type": "stream",
       "stream": "stdout",
       "text": [
        "(2399, 1602)\n",
        "(2.9950062421972534, 2.0)\n"
       ]
      }
     ],
     "prompt_number": 62
    },
    {
     "cell_type": "markdown",
     "metadata": {},
     "source": [
      "Ok, now is where we have to get clever. $\\bf{A}$ is constant for the radar (the radar object pads gates with _Fill_Value, making the time-range array rectangular). But the B vector of the objective constraints is not as it contains reflectivity info. Now we want to use Scientific Python array based processing to take advantage of the optimized code backend.\n",
      "The B vector is the negatibe and positive modified unfolded $\\phi_{DP}$ and the self consistency constraint which uses converts $Z$ to $K_{DP}$ and integrates to give a $\\phi_{DP}$ like field. \n",
      "\n",
      "$\\bf{B}=\\begin{bmatrix} -\\bf{\\phi_{DP}} \\\\\\\\ \\bf{\\phi_{DP}} \\\\\\\\ \\bf{\\eta} \\end{bmatrix}$\n",
      "\n",
      "Now we want to array-ize this effectively making $\\bf{B}$ a matrix consiting of:\n",
      "\n",
      "$\\bf{B_{mat}}=\\begin{bmatrix} -\\bf{\\phi_{DP}^{(1)}} & \\cdots & -\\bf{\\phi_{DP}^{(n)}} \\\\\\\\ \\bf{\\phi_{DP}^{(1)}} & \\cdots & \\bf{\\phi_{DP}^{(n)}} \\\\\\\\ \\bf{\\eta}^{(1)} & \\cdots & \\bf{\\eta}^{(n)} \\end{bmatrix}$\n",
      "\n",
      " where n is the number of rays. "
     ]
    },
    {
     "cell_type": "code",
     "collapsed": false,
     "input": [
      "St_Gorlv_differential_5pts=[-.2, -.1, 0, .1, .2]\n",
      "filt=St_Gorlv_differential_5pts\n",
      "n_gates=len(myradar.range['data'])\n",
      "n_rays=phidp_mod.shape[0]\n",
      "filter_length=len(filt)\n",
      "side_pad=(filter_length-1)/2\n",
      "print \"Side pad: \", side_pad\n",
      "top_of_B_vectors=np.bmat([[-phidp_mod,phidp_mod]])\n",
      "print top_of_B_vectors.shape, phidp_mod.shape, 360.0*17.0\n",
      "data_edges=np.bmat([phidp_mod[:, 0:side_pad], np.zeros([n_rays, n_gates-filter_length+1]), phidp_mod[:,-side_pad:]])\n",
      "print data_edges.shape\n",
      "ii=filter_length-1\n",
      "jj=data_edges.shape[1]-1\n",
      "list_corrl=np.zeros([n_rays, jj-ii+1])\n",
      "print len(list_corrl)\n",
      "for count in range(list_corrl.shape[1]):\n",
      "    list_corrl[:, count]= -1.0*(array(filt)*(np.asarray(data_edges))[:, count:count+ii+1]).sum(axis=1)\n",
      "print list_corrl.shape\n",
      "\n",
      "#list_corrl=np.zeros(jj-ii+1)\n",
      "#for count in range(len(list_corrl)):\n",
      "#    list_corrl[count]= -1.0*(array(SG_df5)*np.squeeze(np.asarray(data_edges))[count:count+ii+1]).sum()\n"
     ],
     "language": "python",
     "metadata": {},
     "outputs": [
      {
       "output_type": "stream",
       "stream": "stdout",
       "text": [
        "Side pad:  2\n",
        "(7920, 1602)"
       ]
      },
      {
       "output_type": "stream",
       "stream": "stdout",
       "text": [
        " (7920, 801) 6120.0\n",
        "(7920, 801)"
       ]
      },
      {
       "output_type": "stream",
       "stream": "stdout",
       "text": [
        "\n",
        "7920\n",
        "(7920, 797)"
       ]
      },
      {
       "output_type": "stream",
       "stream": "stdout",
       "text": [
        "\n"
       ]
      }
     ],
     "prompt_number": 63
    },
    {
     "cell_type": "markdown",
     "metadata": {},
     "source": [
      "Now for the self consistency constraint.. We are going want a gradient in $\\phi_{DP}$ consistent with $Z_{dB}$ according to:\n",
      "\n",
      "$\\eta=\\frac{(10^{0.1*Z_{dB}})^{0.914}}{w}$\n",
      "\n",
      "where $w$ is the (inverse) weight, and is determined by trail and error, and in our case is set to 60,000 "
     ]
    },
    {
     "cell_type": "code",
     "collapsed": false,
     "input": [
      "#sct=(((10.0**(0.1*z_mod))**0.914 / 60000.0))[:, side_pad:-side_pad]\n",
      "coef=0.914; dweight=60000.0\n",
      "sct = (((10.0 ** (0.1 * z_mod)) ** coef / dweight))[:, side_pad: -side_pad]\n",
      "sct[np.where(sct <0.0)]=0.0\n",
      "sct[:, 0:side_pad]=list_corrl[:, 0:side_pad]\n",
      "sct[:, -side_pad:]=list_corrl[:, -side_pad:]\n",
      "print top_of_B_vectors.shape\n",
      "print sct.shape\n",
      "B_vectors=np.bmat([[top_of_B_vectors,sct]])\n",
      "print B_vectors.shape\n",
      "print A_Matrix.shape\n"
     ],
     "language": "python",
     "metadata": {},
     "outputs": [
      {
       "output_type": "stream",
       "stream": "stdout",
       "text": [
        "(7920, 1602)\n",
        "(7920, 797)\n",
        "(7920, 2399)"
       ]
      },
      {
       "output_type": "stream",
       "stream": "stdout",
       "text": [
        "\n",
        "(2399, 1602)\n"
       ]
      }
     ],
     "prompt_number": 64
    },
    {
     "cell_type": "code",
     "collapsed": false,
     "input": [
      "my_new_ph=myradar.fields['unf_dp_phase_shift']\n",
      "weights=np.ones(my_new_ph['data'].shape)\n",
      "phidp_neg=my_new_ph['data'] <min_phidp\n",
      "my_new_ph['data'][np.where(phidp_neg)]=min_phidp\n",
      "#not_coh=my_ncp[el,az, 0:fzl_e] < min_ncp\n",
      "#not_cor=my_rhv[el,az, 0:fzl_e] < min_rhv\n",
      "#need to impliment these up to the FZL\n",
      "is_garbage=np.logical_or( not_coherent, not_correlated)\n",
      "m=np.where(is_garbage)\n",
      "weights[m]=1.0\n",
      "print weights.shape\n",
      "nw=np.bmat([weights, np.zeros(weights.shape)])\n",
      "print nw.shape, B_vectors.shape, A_Matrix.shape"
     ],
     "language": "python",
     "metadata": {},
     "outputs": [
      {
       "output_type": "stream",
       "stream": "stdout",
       "text": [
        "(7920, 801)\n",
        "(7920, 1602)"
       ]
      },
      {
       "output_type": "stream",
       "stream": "stdout",
       "text": [
        " (7920, 2399) (2399, 1602)\n"
       ]
      }
     ],
     "prompt_number": 65
    },
    {
     "cell_type": "code",
     "collapsed": false,
     "input": [
      "ss=myradar.sweep_start_ray_index['data'][2]\n",
      "raynum=ss+270\n",
      "\n",
      "mysoln=zeros(phidp_mod.shape)\n",
      "\n",
      "from time import time\n",
      "import glpk\n",
      "           # Import the GLPK module\n",
      "t0=time()\n",
      "lp = glpk.LPX()        # Create empty problem instance\n",
      "lp.name = 'LP_MIN'     # Assign symbolic name to problem\n",
      "lp.obj.maximize = False # Set this as a maximization problem\n",
      "#lp.rows.add(2*n)         # Append rows \n",
      "lp.rows.add(2*n_gates+n_gates-4)# Append rows \n",
      "lp.cols.add(2*n_gates)\n",
      "\n",
      "glpk.env.term_on = True\n",
      "\n",
      "for cur_row in range(2*n_gates+n_gates-4):\n",
      "    lp.rows[cur_row].matrix=list(np.squeeze(np.asarray(A_Matrix[cur_row, :])))\n",
      "for i in range(2*n_gates):\n",
      "    lp.cols[i].bounds = 0.0, None\n",
      "\n",
      "this_soln=zeros(phidp_mod.shape[1])\n",
      "#print \"Doing\", raynum\n",
      "for i in range(2*n_gates+n_gates-4):\n",
      "    lp.rows[i].bounds = B_vectors[raynum, i], None\n",
      "for i in range(2*n_gates):\n",
      "    #lp.cols[i].bounds = 0.0, None\n",
      "    lp.obj[i]=nw[raynum,i]\n",
      "lp.simplex(msg_lev=glpk.LPX.MSG_ON, meth=glpk.LPX.PRIMAL, it_lim=7000, presolve=True)\n",
      "for i in range(n_gates):\n",
      "    this_soln[i]=lp.cols[i+n_gates].primal\n",
      "mysoln=pyart.correct.phase_proc.smooth_and_trim(this_soln, window_len=5, window='sg_smooth')\n",
      "\n",
      "\n"
     ],
     "language": "python",
     "metadata": {},
     "outputs": [],
     "prompt_number": 66
    },
    {
     "cell_type": "code",
     "collapsed": false,
     "input": [
      "f=figure(figsize=[10,8])\n",
      "plot(myradar.fields['unf_dp_phase_shift']['data'][ss+270,:])\n",
      "plot(mysoln)\n",
      "ylim([-10,120])\n"
     ],
     "language": "python",
     "metadata": {},
     "outputs": [
      {
       "output_type": "pyout",
       "prompt_number": 67,
       "text": [
        "(-10, 120)"
       ]
      },
      {
       "output_type": "display_data",
       "png": "[encoded data removed]",
       "text": [
        "<matplotlib.figure.Figure at 0x10df29e10>"
       ]
      }
     ],
     "prompt_number": 67
    },
    {
     "cell_type": "code",
     "collapsed": false,
     "input": [],
     "language": "python",
     "metadata": {},
     "outputs": [],
     "prompt_number": 67
    }
   ],
   "metadata": {}
  }
 ]
}