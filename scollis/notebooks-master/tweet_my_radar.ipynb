{
 "cells": [
  {
   "cell_type": "markdown",
   "metadata": {},
   "source": [
    "How to use the Twitter API and Py-ART to Tweet Your Radar!\n",
    "----------------------------------------------------------\n",
    "\n",
    "*Scott Collis, Argonne National Laboratory*"
   ]
  },
  {
   "cell_type": "code",
   "execution_count": 7,
   "metadata": {
    "collapsed": false
   },
   "outputs": [],
   "source": [
    "#First some imports\n",
    "import twitter #https://python-twitter.readthedocs.io/en/latest/index.html\n",
    "import json\n",
    "import pyart #https://github.com/ARM-DOE/pyart\n",
    "import matplotlib.pyplot as plt\n",
    "from boto.s3.connection import S3Connection #Anaconda installable\n",
    "import shutil, os\n",
    "from datetime import timedelta, datetime\n",
    "import numpy as np\n",
    "import tempfile\n",
    "import shutil, os"
   ]
  },
  {
   "cell_type": "markdown",
   "metadata": {},
   "source": [
    "First, some functions to deal with Amazon Web Services Simple Storage Service (s3) holding of NOAA, NWS NEXRAD. This is an **amazing** set up as part of the CRADA between NOAA, Amazon and Unidata. https://aws.amazon.com/noaa-big-data/nexrad/"
   ]
  },
  {
   "cell_type": "code",
   "execution_count": 8,
   "metadata": {
    "collapsed": true
   },
   "outputs": [],
   "source": [
    "def nearestDate(dates, pivot):\n",
    "    return min(dates, key=lambda x: abs(x - pivot))\n",
    "\n",
    "\n",
    "def get_radar_from_aws(site, datetime_t):\n",
    "    \"\"\"\n",
    "    Get the closest volume of NEXRAD data to a particular datetime.\n",
    "    Parameters\n",
    "    ----------\n",
    "    site : string\n",
    "        four letter radar designation \n",
    "    datetime_t : datetime\n",
    "        desired date time\n",
    "    \"\"\"\n",
    "    \n",
    "    #First create the query string for the bucket knowing\n",
    "    #how NOAA and AWS store the data\n",
    "    \n",
    "    my_pref = datetime_t.strftime('%Y/%m/%d/') + site\n",
    "    \n",
    "    #Connect to the bucket\n",
    "    \n",
    "    conn = S3Connection(anon = True)\n",
    "    bucket = conn.get_bucket('noaa-nexrad-level2')\n",
    "    \n",
    "    #Get a list of files \n",
    "    \n",
    "    bucket_list = list(bucket.list(prefix = my_pref))\n",
    "    #print(bucket_list)\n",
    "    #we are going to create a list of keys and datetimes to allow easy searching\n",
    "    \n",
    "    keys = []\n",
    "    datetimes = []\n",
    "    \n",
    "    #populate the list\n",
    "\n",
    "    for i in range(len(bucket_list)):\n",
    "        this_str = str(bucket_list[i].key)\n",
    "        if 'gz' in this_str:\n",
    "            endme = this_str[-22:-3]\n",
    "            fmt = '%Y%m%d_%H%M%S_V06' \n",
    "            dt = datetime.strptime(endme, fmt)\n",
    "            datetimes.append(dt)\n",
    "            keys.append(bucket_list[i])\n",
    "            #print(dt)\n",
    "        if this_str[-3::] == 'V06': #'LSX20160707_000150_' does not match format '%Y%m%d_%H%M%S_V06'\n",
    "            #print(this_str)\n",
    "            #print(this_str[-19::])\n",
    "            endme = this_str[-19::]\n",
    "            fmt = '%Y%m%d_%H%M%S_V06' \n",
    "            dt = datetime.strptime(endme, fmt)\n",
    "            datetimes.append(dt)\n",
    "            keys.append(bucket_list[i])\n",
    "    \n",
    "    #function to allow easy searching \n",
    "    \n",
    "    def func(x):\n",
    "        delta =  x - datetime_t if x > datetime_t else timedelta.max\n",
    "        return delta\n",
    "    \n",
    "    #find the closest available radar to your datetime \n",
    "    \n",
    "    closest_datetime = nearestDate(datetimes, datetime_t)\n",
    "    index = datetimes.index(closest_datetime)\n",
    "    #print(closest_datetime)\n",
    "    #create a temp file, download radar data to file from S3\n",
    "    #read into a radar object and return\n",
    "    \n",
    "    localfile = tempfile.NamedTemporaryFile()\n",
    "    keys[index].get_contents_to_filename(localfile.name)\n",
    "    radar = pyart.io.read(localfile.name)\n",
    "    return radar"
   ]
  },
  {
   "cell_type": "markdown",
   "metadata": {},
   "source": [
    "Ok.. now the part that takes some work.. Take a loom here:\n",
    "\n",
    "https://python-twitter.readthedocs.io/en/latest/getting_started.html\n",
    "\n",
    "This gives you instruction on how to populate the json file... \n",
    "\n",
    "Here is an example:\n",
    "`\n",
    "➜  twitterradar git:(tools_init) ✗ more token/PyWeather.json \n",
    "{\"consumer_key\":\"SOMETHING\",\n",
    "\"consumer_secret\":\"SOMETHINGELSE\",\n",
    "\"access_token_key\":\"ANOTHERTHING\",\n",
    "\"access_token_secret\":\"YETANOTHERTHING\"}\n",
    "`\n",
    "\n"
   ]
  },
  {
   "cell_type": "code",
   "execution_count": 2,
   "metadata": {
    "collapsed": true
   },
   "outputs": [],
   "source": [
    "fh = open('/Users/scollis/projects/TwitterRadar/twitterradar/token/PyWeather.json')\n",
    "myson = json.load(fh)\n",
    "fh.close()"
   ]
  },
  {
   "cell_type": "markdown",
   "metadata": {},
   "source": [
    "Initialize the API"
   ]
  },
  {
   "cell_type": "code",
   "execution_count": 3,
   "metadata": {
    "collapsed": false
   },
   "outputs": [],
   "source": [
    "api = twitter.Api(consumer_key=myson['consumer_key'],\n",
    "                  consumer_secret=myson['consumer_secret'],\n",
    "                  access_token_key=myson['access_token_key'],\n",
    "                  access_token_secret=myson['access_token_secret'])"
   ]
  },
  {
   "cell_type": "markdown",
   "metadata": {},
   "source": [
    "Lets try posting!"
   ]
  },
  {
   "cell_type": "code",
   "execution_count": 5,
   "metadata": {
    "collapsed": false
   },
   "outputs": [],
   "source": [
    "status = api.PostUpdate(\"\"\"Hello World, once againthis is a test \n",
    "                      of tweeting using the Python API\"\"\")\n"
   ]
  },
  {
   "cell_type": "code",
   "execution_count": 6,
   "metadata": {
    "collapsed": false
   },
   "outputs": [
    {
     "name": "stdout",
     "output_type": "stream",
     "text": [
      "{\"created_at\": \"Tue Oct 18 00:25:39 +0000 2016\", \"hashtags\": [], \"id\": 788174166906118145, \"id_str\": \"788174166906118145\", \"lang\": \"en\", \"source\": \"<a href=\\\"https://github.com/scollis/\\\" rel=\\\"nofollow\\\">PythonWeatherRobot</a>\", \"text\": \"Hello World, once againthis is a test \\n                      of tweeting using the Python API\", \"urls\": [], \"user\": {\"created_at\": \"Mon Oct 17 21:13:20 +0000 2016\", \"default_profile\": true, \"default_profile_image\": true, \"followers_count\": 1, \"id\": 788125768974999553, \"lang\": \"en\", \"name\": \"Python Weather Robot\", \"profile_background_color\": \"F5F8FA\", \"profile_image_url\": \"http://abs.twimg.com/sticky/default_profile_images/default_profile_0_normal.png\", \"profile_link_color\": \"2B7BB9\", \"profile_sidebar_fill_color\": \"DDEEF6\", \"profile_text_color\": \"333333\", \"screen_name\": \"PyWeather\", \"statuses_count\": 4}, \"user_mentions\": []}\n"
     ]
    }
   ],
   "source": [
    "print(status)"
   ]
  },
  {
   "cell_type": "markdown",
   "metadata": {
    "collapsed": true
   },
   "source": [
    "Ok.. Now a cool method for tweeting your radar!"
   ]
  },
  {
   "cell_type": "code",
   "execution_count": 36,
   "metadata": {
    "collapsed": true
   },
   "outputs": [],
   "source": [
    "def tweet_my_radar(datetime, radar, tapi, min_lat = None,\n",
    "                  max_lat = None, min_lon = None, \n",
    "                  max_lon = None):\n",
    "    \"\"\"\n",
    "    Fetch a radar from S3, plot it and tweet plus statistics.\n",
    "    \n",
    "    Grab a radar from a site and use the Twitter API\n",
    "    to tweet the PPI from the lowest tilt to twitter.\n",
    "    Also tweet the number of gates above two reflectivity\n",
    "    thresholds and the min and max reflectivity.\n",
    "    \n",
    "    Parameters\n",
    "    ----------\n",
    "    datetime: datetime object\n",
    "        Python datetime object to be passed to the method\n",
    "        to find the nearest radar object from AWS S3 using\n",
    "        boto. \n",
    "    \n",
    "    radar: String\n",
    "        Four letter radar code. eg KLOT\n",
    "    \n",
    "    min_lat, max_lat, min_lon, max_lon: floats\n",
    "        bounds for the display\n",
    "        \n",
    "    Returns\n",
    "    -------\n",
    "    None\n",
    "    \n",
    "    \"\"\"\n",
    "    #Get a Py-ART radar Object\n",
    "    my_radar = get_radar_from_aws(radar,b_d )\n",
    "    #Make a display\n",
    "    display = pyart.graph.RadarMapDisplay(my_radar)\n",
    "    fig = plt.figure(figsize = [10,8])\n",
    "    #Plot Z from lowest tilt\n",
    "    display.plot_ppi_map('reflectivity', sweep = 0, resolution = 'i',\n",
    "                        vmin = -8, vmax = 64, mask_outside = False,\n",
    "                        cmap = pyart.graph.cm.NWSRef,\n",
    "                        min_lat = min_lat, min_lon = min_lon,\n",
    "                        max_lat = max_lat, max_lon = max_lon)\n",
    "    #get a tempfile\n",
    "    localfile = tempfile.NamedTemporaryFile()\n",
    "    #Save to tempfile.. Need png or Twitter gets grumpy \n",
    "    plt.savefig(localfile.name + '.png')\n",
    "    \n",
    "    #Now grab some statistics.. \n",
    "    min_z = my_radar.fields['reflectivity']['data'].min()\n",
    "    max_z = my_radar.fields['reflectivity']['data'].max()\n",
    "    n_gates_20 = len(np.where(my_radar.fields['reflectivity']['data'] > 20.0)[0])\n",
    "    n_gates_40 = len(np.where(my_radar.fields['reflectivity']['data'] > 40.0)[0])\n",
    "    \n",
    "    #Format the strings.. TODO: turn into percent\n",
    "    gdata = \"There are {0} gates above 20dBZ and {1} above 40dBZ\".format(n_gates_20, \n",
    "                                                                     n_gates_40)\n",
    "    \n",
    "    #Make the tweet text\n",
    "    mmdata = \"The min Z is {0}dBZ and the max is {1}dBZ\".format(min_z,\n",
    "                                                            max_z)\n",
    "    #And... post it.. yes.. it is that easy!\n",
    "    tapi.PostUpdate( gdata + ' ' + mmdata, \n",
    "              media = localfile.name + '.png')\n",
    "    "
   ]
  },
  {
   "cell_type": "code",
   "execution_count": 37,
   "metadata": {
    "collapsed": false
   },
   "outputs": [],
   "source": [
    "#Look at some special cases.\n",
    "\n",
    "base_date = \"20110520_100000\"\n",
    "fmt = '%Y%m%d_%H%M%S' \n",
    "b_d = datetime.strptime(base_date, fmt)\n",
    "min_lat = 35\n",
    "max_lat = 38.5\n",
    "min_lon = -100\n",
    "max_lon = -96.5\n",
    "\n",
    "tweet_my_radar(b_d, 'KVNX', api, min_lat = min_lat,\n",
    "                  max_lat = max_lat, min_lon = min_lon, \n",
    "                  max_lon = max_lon)"
   ]
  },
  {
   "cell_type": "code",
   "execution_count": 41,
   "metadata": {
    "collapsed": true
   },
   "outputs": [],
   "source": [
    "#Tweet the latest Chicago Image!\n",
    "max_lat = 42.5 \n",
    "min_lat = 41\n",
    "min_lon = -88.5 \n",
    "max_lon = -86\n",
    "b_d = datetime.utcnow()\n",
    "tweet_my_radar(b_d, 'KLOT', api, min_lat = min_lat,\n",
    "                  max_lat = max_lat, min_lon = min_lon, \n",
    "                  max_lon = max_lon)"
   ]
  },
  {
   "cell_type": "code",
   "execution_count": 42,
   "metadata": {
    "collapsed": true
   },
   "outputs": [],
   "source": [
    "#And from the ARM site \n",
    "min_lat = 35\n",
    "max_lat = 38.5\n",
    "min_lon = -100\n",
    "max_lon = -96.5\n",
    "\n",
    "tweet_my_radar(b_d, 'KVNX', api, min_lat = min_lat,\n",
    "               max_lat = max_lat, min_lon = min_lon, \n",
    "                  max_lon = max_lon)\n"
   ]
  },
  {
   "cell_type": "code",
   "execution_count": null,
   "metadata": {
    "collapsed": true
   },
   "outputs": [],
   "source": []
  }
 ],
 "metadata": {
  "anaconda-cloud": {},
  "kernelspec": {
   "display_name": "Python [conda env:twitter35]",
   "language": "python",
   "name": "conda-env-twitter35-py"
  },
  "language_info": {
   "codemirror_mode": {
    "name": "ipython",
    "version": 2
   },
   "file_extension": ".py",
   "mimetype": "text/x-python",
   "name": "python",
   "nbconvert_exporter": "python",
   "pygments_lexer": "ipython2",
   "version": "2.7.12"
  }
 },
 "nbformat": 4,
 "nbformat_minor": 1
}
