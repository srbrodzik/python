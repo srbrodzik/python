{
 "metadata": {
  "name": "",
  "signature": "sha256:e371b26e05929a060541c57f78103c143eb1ead9010ae867063dc305d9bfd279"
 },
 "nbformat": 3,
 "nbformat_minor": 0,
 "worksheets": [
  {
   "cells": [
    {
     "cell_type": "markdown",
     "metadata": {},
     "source": [
      "Playing with ways to visiually represent data availability"
     ]
    },
    {
     "cell_type": "code",
     "collapsed": false,
     "input": [
      "#first we do some imports and check the version of Py-ART for consistency\n",
      "import pyart\n",
      "from matplotlib import pyplot as plt\n",
      "from matplotlib import rc\n",
      "import matplotlib.dates as mdates\n",
      "import netCDF4\n",
      "from netCDF4 import num2date\n",
      "import numpy as np\n",
      "import copy\n",
      "import scipy\n",
      "import os\n",
      "from IPython.parallel import Client\n",
      "import pickle\n",
      "from time import time\n",
      "%matplotlib inline\n",
      "print pyart.__version__"
     ],
     "language": "python",
     "metadata": {},
     "outputs": [
      {
       "output_type": "stream",
       "stream": "stdout",
       "text": [
        "1.0.0.dev-5a89d03\n"
       ]
      }
     ],
     "prompt_number": 1
    },
    {
     "cell_type": "code",
     "collapsed": false,
     "input": [
      "#radar_in_dirs = [ '/data-in/radar/sgp/sgpcsaprsur/sur/', \n",
      "#                 '/data-in/radar/sgp/sgpcsaprrhi/rhi/', \n",
      "#                 '/data-in/radar/sgp/sgpcsaprvert/']\n",
      "radar_in_dirs = [ '/data-in/sc9test/csapr/sur/', \n",
      "                 '/data-in/sc9test/csapr/rhi/', \n",
      "                 '/data-in/sc9test/csapr/vpt/']\n",
      "\n",
      "names = ['CSAPR Volume', 'CSAPR RHI', 'CSAPR VPT']"
     ],
     "language": "python",
     "metadata": {},
     "outputs": [],
     "prompt_number": 2
    },
    {
     "cell_type": "code",
     "collapsed": false,
     "input": [
      "files = []\n",
      "for i in range(len(names)):\n",
      "    these_files = os.listdir(radar_in_dirs[i])\n",
      "    these_files.sort()\n",
      "    fq_files = []\n",
      "    for fl in these_files:\n",
      "        subdir_contents = os.listdir(radar_in_dirs[i]+ fl)\n",
      "        for final_file in subdir_contents:\n",
      "            fq_files.append(radar_in_dirs[i]+ fl + '/' + final_file)\n",
      "    files.append(fq_files)\n",
      "    "
     ],
     "language": "python",
     "metadata": {},
     "outputs": [],
     "prompt_number": 3
    },
    {
     "cell_type": "code",
     "collapsed": false,
     "input": [
      "print files[0][0]"
     ],
     "language": "python",
     "metadata": {},
     "outputs": [
      {
       "output_type": "stream",
       "stream": "stdout",
       "text": [
        "/data-in/sc9test/csapr/sur/20110520/000144.mdv\n"
       ]
      }
     ],
     "prompt_number": 4
    },
    {
     "cell_type": "markdown",
     "metadata": {},
     "source": [
      "The function below opens a file and returns a tuple of date objects, one for start one for end"
     ]
    },
    {
     "cell_type": "code",
     "collapsed": false,
     "input": [
      "def get_date(filename):\n",
      "    try:\n",
      "        radar = pyart.io.read(filename)\n",
      "        t = (num2date(radar.time['data'][0], radar.time['units']), num2date(radar.time['data'][-1], radar.time['units']))\n",
      "        del radar\n",
      "    except:\n",
      "        #return start time and end time being the same\n",
      "        t = (num2date(0, 'seconds since 2000-01-01T00:00:00Z'), num2date(0, 'seconds since 2000-01-01T00:00:00Z'))\n",
      "    return t\n",
      "    \n",
      "        "
     ],
     "language": "python",
     "metadata": {},
     "outputs": [],
     "prompt_number": 5
    },
    {
     "cell_type": "code",
     "collapsed": false,
     "input": [
      "t1 = time()\n",
      "print get_date(files[0][0])\n",
      "print time() - t1"
     ],
     "language": "python",
     "metadata": {},
     "outputs": [
      {
       "output_type": "stream",
       "stream": "stdout",
       "text": [
        "(datetime.datetime(2011, 5, 19, 23, 56, 10), datetime.datetime(2011, 5, 20, 0, 1, 44))\n",
        "7.08384513855\n"
       ]
      }
     ],
     "prompt_number": 6
    },
    {
     "cell_type": "markdown",
     "metadata": {},
     "source": [
      "Set up the Map across our cluster\n",
      "Reduce the result, this is where the actual execution takes place and the time comes in"
     ]
    },
    {
     "cell_type": "code",
     "collapsed": false,
     "input": [
      "trails = [] #oops.. I mean Trials! \n",
      "for trail in range(8):\n",
      "    print trail\n",
      "    ncores = [10,15,20,25,30,35] #Number of CPUs to use\n",
      "    time_per_file = [] #ready to be populated\n",
      "    for cor in ncores:\n",
      "        print cor\n",
      "        results = []\n",
      "        for i in [0]:#range(len(files)):\n",
      "            print \"Doing \", names[i] \n",
      "            t1 = time()\n",
      "            c = Client() # Generate a iPCluster client instance\n",
      "            dview = c[0:cor-1] #Create a view of the cluster with the right number of cores\n",
      "            dview.block = False #Turn blocking off to allow asycronus reduction\n",
      "            dview.execute('import pyart') #On every worker import the Py-ART software stack\n",
      "            dview.execute('from netCDF4 import num2date') #On every worker import the num2date method\n",
      "            result = dview.map_async(get_date,files[i][0:cor*2]) #Map our problem across our cluster view\n",
      "            datestrs = result.get() #Reduce (actually run the problem and map the results to a list)\n",
      "            etime = (time()-t1)/len(files[i][0:cor*2]) #work out how long it took per file\n",
      "            print etime\n",
      "            time_per_file.append(etime) #append the result \n",
      "            block_list = []\n",
      "            for pair in datestrs: #this stuff is left over for formatting the result.. ignore... see future iPyNBs\n",
      "                date_start = mdates.date2num(pair[0])\n",
      "                scan_length = mdates.date2num(pair[1]) - date_start\n",
      "                block_list.append((date_start, scan_length ))\n",
      "            results.append(block_list)\n",
      "    trails.append(time_per_file)"
     ],
     "language": "python",
     "metadata": {},
     "outputs": [
      {
       "output_type": "stream",
       "stream": "stdout",
       "text": [
        "0\n",
        "10\n",
        "Doing  CSAPR Volume\n",
        "1.12170000076"
       ]
      },
      {
       "output_type": "stream",
       "stream": "stdout",
       "text": [
        "\n",
        "15\n",
        "Doing  CSAPR Volume\n",
        "0.763615862528"
       ]
      },
      {
       "output_type": "stream",
       "stream": "stdout",
       "text": [
        "\n",
        "20\n",
        "Doing  CSAPR Volume\n",
        "0.589083647728"
       ]
      },
      {
       "output_type": "stream",
       "stream": "stdout",
       "text": [
        "\n",
        "25\n",
        "Doing  CSAPR Volume\n",
        "0.525858521461"
       ]
      },
      {
       "output_type": "stream",
       "stream": "stdout",
       "text": [
        "\n",
        "30\n",
        "Doing  CSAPR Volume\n",
        "0.509005431334"
       ]
      },
      {
       "output_type": "stream",
       "stream": "stdout",
       "text": [
        "\n",
        "35\n",
        "Doing  CSAPR Volume\n",
        "0.416245998655"
       ]
      },
      {
       "output_type": "stream",
       "stream": "stdout",
       "text": [
        "\n",
        "1\n",
        "10\n",
        "Doing  CSAPR Volume\n",
        "1.13216010332"
       ]
      },
      {
       "output_type": "stream",
       "stream": "stdout",
       "text": [
        "\n",
        "15\n",
        "Doing  CSAPR Volume\n",
        "0.763319031398"
       ]
      },
      {
       "output_type": "stream",
       "stream": "stdout",
       "text": [
        "\n",
        "20\n",
        "Doing  CSAPR Volume\n",
        "0.601146322489"
       ]
      },
      {
       "output_type": "stream",
       "stream": "stdout",
       "text": [
        "\n",
        "25\n",
        "Doing  CSAPR Volume\n",
        "0.536758041382"
       ]
      },
      {
       "output_type": "stream",
       "stream": "stdout",
       "text": [
        "\n",
        "30\n",
        "Doing  CSAPR Volume\n",
        "0.450410668055"
       ]
      },
      {
       "output_type": "stream",
       "stream": "stdout",
       "text": [
        "\n",
        "35\n",
        "Doing  CSAPR Volume\n",
        "0.458174017497"
       ]
      },
      {
       "output_type": "stream",
       "stream": "stdout",
       "text": [
        "\n",
        "2\n",
        "10\n",
        "Doing  CSAPR Volume\n",
        "1.17209135294"
       ]
      },
      {
       "output_type": "stream",
       "stream": "stdout",
       "text": [
        "\n",
        "15\n",
        "Doing  CSAPR Volume\n",
        "0.827582534154"
       ]
      },
      {
       "output_type": "stream",
       "stream": "stdout",
       "text": [
        "\n",
        "20\n",
        "Doing  CSAPR Volume\n",
        "0.639311230183"
       ]
      },
      {
       "output_type": "stream",
       "stream": "stdout",
       "text": [
        "\n",
        "25\n",
        "Doing  CSAPR Volume\n",
        "0.560329937935"
       ]
      },
      {
       "output_type": "stream",
       "stream": "stdout",
       "text": [
        "\n",
        "30\n",
        "Doing  CSAPR Volume\n",
        "0.518768064181"
       ]
      },
      {
       "output_type": "stream",
       "stream": "stdout",
       "text": [
        "\n",
        "35\n",
        "Doing  CSAPR Volume\n",
        "0.510359583582"
       ]
      },
      {
       "output_type": "stream",
       "stream": "stdout",
       "text": [
        "\n",
        "3\n",
        "10\n",
        "Doing  CSAPR Volume\n",
        "1.14472950697"
       ]
      },
      {
       "output_type": "stream",
       "stream": "stdout",
       "text": [
        "\n",
        "15\n",
        "Doing  CSAPR Volume\n",
        "0.790264566739"
       ]
      },
      {
       "output_type": "stream",
       "stream": "stdout",
       "text": [
        "\n",
        "20\n",
        "Doing  CSAPR Volume\n",
        "0.649401897192"
       ]
      },
      {
       "output_type": "stream",
       "stream": "stdout",
       "text": [
        "\n",
        "25\n",
        "Doing  CSAPR Volume\n",
        "0.555125060081"
       ]
      },
      {
       "output_type": "stream",
       "stream": "stdout",
       "text": [
        "\n",
        "30\n",
        "Doing  CSAPR Volume\n",
        "0.546751916409"
       ]
      },
      {
       "output_type": "stream",
       "stream": "stdout",
       "text": [
        "\n",
        "35\n",
        "Doing  CSAPR Volume\n",
        "0.486601512773"
       ]
      },
      {
       "output_type": "stream",
       "stream": "stdout",
       "text": [
        "\n",
        "4\n",
        "10\n",
        "Doing  CSAPR Volume\n",
        "1.17976049185"
       ]
      },
      {
       "output_type": "stream",
       "stream": "stdout",
       "text": [
        "\n",
        "15\n",
        "Doing  CSAPR Volume\n",
        "0.827618074417"
       ]
      },
      {
       "output_type": "stream",
       "stream": "stdout",
       "text": [
        "\n",
        "20\n",
        "Doing  CSAPR Volume\n",
        "0.647323948145"
       ]
      },
      {
       "output_type": "stream",
       "stream": "stdout",
       "text": [
        "\n",
        "25\n",
        "Doing  CSAPR Volume\n",
        "0.539391560555"
       ]
      },
      {
       "output_type": "stream",
       "stream": "stdout",
       "text": [
        "\n",
        "30\n",
        "Doing  CSAPR Volume\n",
        "0.490159618855"
       ]
      },
      {
       "output_type": "stream",
       "stream": "stdout",
       "text": [
        "\n",
        "35\n",
        "Doing  CSAPR Volume\n",
        "0.451812628337"
       ]
      },
      {
       "output_type": "stream",
       "stream": "stdout",
       "text": [
        "\n",
        "5\n",
        "10\n",
        "Doing  CSAPR Volume\n",
        "1.13437435627"
       ]
      },
      {
       "output_type": "stream",
       "stream": "stdout",
       "text": [
        "\n",
        "15\n",
        "Doing  CSAPR Volume\n",
        "0.817268331846"
       ]
      },
      {
       "output_type": "stream",
       "stream": "stdout",
       "text": [
        "\n",
        "20\n",
        "Doing  CSAPR Volume\n",
        "0.614778476954"
       ]
      },
      {
       "output_type": "stream",
       "stream": "stdout",
       "text": [
        "\n",
        "25\n",
        "Doing  CSAPR Volume\n",
        "0.550784721375"
       ]
      },
      {
       "output_type": "stream",
       "stream": "stdout",
       "text": [
        "\n",
        "30\n",
        "Doing  CSAPR Volume\n",
        "0.485812751452"
       ]
      },
      {
       "output_type": "stream",
       "stream": "stdout",
       "text": [
        "\n",
        "35\n",
        "Doing  CSAPR Volume\n",
        "0.503044513294"
       ]
      },
      {
       "output_type": "stream",
       "stream": "stdout",
       "text": [
        "\n",
        "6\n",
        "10\n",
        "Doing  CSAPR Volume\n",
        "1.11453125477"
       ]
      },
      {
       "output_type": "stream",
       "stream": "stdout",
       "text": [
        "\n",
        "15\n",
        "Doing  CSAPR Volume\n",
        "0.828138899803"
       ]
      },
      {
       "output_type": "stream",
       "stream": "stdout",
       "text": [
        "\n",
        "20\n",
        "Doing  CSAPR Volume\n",
        "0.628207749128"
       ]
      },
      {
       "output_type": "stream",
       "stream": "stdout",
       "text": [
        "\n",
        "25\n",
        "Doing  CSAPR Volume\n",
        "0.542485837936"
       ]
      },
      {
       "output_type": "stream",
       "stream": "stdout",
       "text": [
        "\n",
        "30\n",
        "Doing  CSAPR Volume\n",
        "0.517925600211"
       ]
      },
      {
       "output_type": "stream",
       "stream": "stdout",
       "text": [
        "\n",
        "35\n",
        "Doing  CSAPR Volume\n",
        "0.424001155581"
       ]
      },
      {
       "output_type": "stream",
       "stream": "stdout",
       "text": [
        "\n",
        "7\n",
        "10\n",
        "Doing  CSAPR Volume\n",
        "1.17873059511"
       ]
      },
      {
       "output_type": "stream",
       "stream": "stdout",
       "text": [
        "\n",
        "15\n",
        "Doing  CSAPR Volume\n",
        "0.773535561562"
       ]
      },
      {
       "output_type": "stream",
       "stream": "stdout",
       "text": [
        "\n",
        "20\n",
        "Doing  CSAPR Volume\n",
        "0.611818021536"
       ]
      },
      {
       "output_type": "stream",
       "stream": "stdout",
       "text": [
        "\n",
        "25\n",
        "Doing  CSAPR Volume\n",
        "0.561177759171"
       ]
      },
      {
       "output_type": "stream",
       "stream": "stdout",
       "text": [
        "\n",
        "30\n",
        "Doing  CSAPR Volume\n",
        "0.50706991752"
       ]
      },
      {
       "output_type": "stream",
       "stream": "stdout",
       "text": [
        "\n",
        "35\n",
        "Doing  CSAPR Volume\n",
        "0.454011426653"
       ]
      },
      {
       "output_type": "stream",
       "stream": "stdout",
       "text": [
        "\n"
       ]
      }
     ],
     "prompt_number": 7
    },
    {
     "cell_type": "code",
     "collapsed": false,
     "input": [
      "rr = []\n",
      "ss = []\n",
      "for i in range(len(ncores)):\n",
      "    values = np.array(trails)[:,i]\n",
      "    rr.append(values.mean())\n",
      "    ss.append(values.std())"
     ],
     "language": "python",
     "metadata": {},
     "outputs": [],
     "prompt_number": 27
    },
    {
     "cell_type": "code",
     "collapsed": false,
     "input": [
      "f = plt.figure(figsize = [10,5])\n",
      "plt.errorbar(np.array(ncores), np.array(rr), yerr = np.array(ss))\n",
      "plt.xlim([5,40])\n",
      "plt.ylabel('Time per radar volume (s)')\n",
      "plt.xlabel('Number of workers')"
     ],
     "language": "python",
     "metadata": {},
     "outputs": [
      {
       "metadata": {},
       "output_type": "pyout",
       "prompt_number": 26,
       "text": [
        "<matplotlib.text.Text at 0x7f8190583c50>"
       ]
      },
      {
       "metadata": {},
       "output_type": "display_data",
       "png": "[encoded data removed]",
       "text": [
        "<matplotlib.figure.Figure at 0x7f81903dac90>"
       ]
      }
     ],
     "prompt_number": 26
    }
   ],
   "metadata": {}
  }
 ]
}