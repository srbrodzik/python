{
 "metadata": {
  "name": "",
  "signature": "sha256:7b329616208184fa649931c79473c8fac69f1193b12ce52a630cfde2779ed182"
 },
 "nbformat": 3,
 "nbformat_minor": 0,
 "worksheets": [
  {
   "cells": [
    {
     "cell_type": "markdown",
     "metadata": {},
     "source": [
      "Playing with ways to visiually represent data availability"
     ]
    },
    {
     "cell_type": "code",
     "collapsed": false,
     "input": [
      "#first we do some imports and check the version of Py-ART for consistency\n",
      "import pyart\n",
      "from matplotlib import pyplot as plt\n",
      "from matplotlib import rc\n",
      "import matplotlib.dates as mdates\n",
      "import netCDF4\n",
      "import numpy as np\n",
      "import copy\n",
      "import scipy\n",
      "import os\n",
      "from IPython.parallel import Client\n",
      "import pickle\n",
      "from time import time\n",
      "%matplotlib inline\n",
      "print pyart.__version__"
     ],
     "language": "python",
     "metadata": {},
     "outputs": [
      {
       "output_type": "stream",
       "stream": "stdout",
       "text": [
        "1.0.0.dev-5a89d03\n"
       ]
      }
     ],
     "prompt_number": 52
    },
    {
     "cell_type": "code",
     "collapsed": false,
     "input": [
      "radar_in_dirs = [ '/data-in/radar/sgp/sgpcsaprsur/sur/', \n",
      "                 '/data-in/radar/sgp/sgpcsaprrhi/rhi/', \n",
      "                 '/data-in/radar/sgp/sgpcsaprvert/']\n",
      "names = ['CSAPR Volume', 'CSAPR RHI', 'CSAPR VPT']"
     ],
     "language": "python",
     "metadata": {},
     "outputs": [],
     "prompt_number": 2
    },
    {
     "cell_type": "code",
     "collapsed": false,
     "input": [
      "files = []\n",
      "for i in range(len(names)):\n",
      "    these_files = os.listdir(radar_in_dirs[i])\n",
      "    these_files.sort()\n",
      "    fq_files = []\n",
      "    for fl in these_files:\n",
      "        subdir_contents = os.listdir(radar_in_dirs[i]+ fl)\n",
      "        for final_file in subdir_contents:\n",
      "            fq_files.append(radar_in_dirs[i]+ fl + '/' + final_file)\n",
      "    files.append(fq_files)\n",
      "    "
     ],
     "language": "python",
     "metadata": {},
     "outputs": [],
     "prompt_number": 3
    },
    {
     "cell_type": "code",
     "collapsed": false,
     "input": [
      "print files[0][0]"
     ],
     "language": "python",
     "metadata": {},
     "outputs": [
      {
       "output_type": "stream",
       "stream": "stdout",
       "text": [
        "/data-in/radar/sgp/sgpcsaprsur/sur/20110415/093846.mdv\n"
       ]
      }
     ],
     "prompt_number": 4
    },
    {
     "cell_type": "markdown",
     "metadata": {},
     "source": [
      "The function below opens a file and returns a tuple of date objects, one for start one for end"
     ]
    },
    {
     "cell_type": "code",
     "collapsed": false,
     "input": [
      "def get_date(filename):\n",
      "    try:\n",
      "        radar = pyart.io.read(filename)\n",
      "        t = (num2date(radar.time['data'][0], radar.time['units']), num2date(radar.time['data'][-1], radar.time['units']))\n",
      "    except:\n",
      "        #return start time and end time being the same\n",
      "        t = (num2date(0, 'seconds since 2000-01-01T00:00:00Z'), num2date(0, 'seconds since 2000-01-01T00:00:00Z'))\n",
      "    return t\n",
      "    \n",
      "        "
     ],
     "language": "python",
     "metadata": {},
     "outputs": [],
     "prompt_number": 14
    },
    {
     "cell_type": "code",
     "collapsed": false,
     "input": [
      "t1 = time()\n",
      "print get_date(files[0][0])\n",
      "print time() - t1"
     ],
     "language": "python",
     "metadata": {},
     "outputs": [
      {
       "output_type": "stream",
       "stream": "stdout",
       "text": [
        "(datetime.datetime(2011, 4, 15, 9, 33, 27), datetime.datetime(2011, 4, 15, 9, 38, 46))\n",
        "10.0873031616\n"
       ]
      }
     ],
     "prompt_number": 6
    },
    {
     "cell_type": "markdown",
     "metadata": {},
     "source": [
      "Set up the Map across our cluster\n",
      "Reduce the result, this is where the actual execution takes place and the time comes in"
     ]
    },
    {
     "cell_type": "code",
     "collapsed": false,
     "input": [
      "results = []\n",
      "for i in range(len(files)):\n",
      "    print \"Doing \", names[i] \n",
      "    t1 = time()\n",
      "    c = Client()\n",
      "    dview = c[:]\n",
      "    dview.block = False\n",
      "    dview.execute('import pyart')\n",
      "    dview.execute('from netCDF4 import num2date')\n",
      "    result = dview.map_async(get_date,files[i][0:300])\n",
      "    datestrs = result.get()\n",
      "    print (time()-t1)/300.0\n",
      "    block_list = []\n",
      "    for pair in datestrs:\n",
      "        date_start = mdates.date2num(pair[0])\n",
      "        scan_length = mdates.date2num(pair[1]) - date_start\n",
      "        block_list.append((date_start, scan_length ))\n",
      "    results.append(block_list)"
     ],
     "language": "python",
     "metadata": {},
     "outputs": [
      {
       "output_type": "stream",
       "stream": "stdout",
       "text": [
        "Doing  CSAPR Volume\n",
        "1.4567449371"
       ]
      },
      {
       "output_type": "stream",
       "stream": "stdout",
       "text": [
        "\n",
        "Doing  CSAPR RHI\n",
        "1.05172796965"
       ]
      },
      {
       "output_type": "stream",
       "stream": "stdout",
       "text": [
        "\n",
        "Doing  CSAPR VPT\n",
        "0.000369040171305"
       ]
      },
      {
       "output_type": "stream",
       "stream": "stdout",
       "text": [
        "\n"
       ]
      }
     ],
     "prompt_number": 49
    },
    {
     "cell_type": "code",
     "collapsed": false,
     "input": [
      "data_dict = {}\n",
      "for i in range(len(names)):\n",
      "    data_dict.update({names[i]: results[i]})\n",
      "\n",
      "\n",
      "print len(results)\n",
      "outfile = '/home/sc8/csapr.pickle'\n",
      "fh = open(outfile, 'w')\n",
      "pickle.dump(data_dict, fh)\n",
      "fh.close()\n"
     ],
     "language": "python",
     "metadata": {},
     "outputs": [
      {
       "output_type": "stream",
       "stream": "stdout",
       "text": [
        "3\n"
       ]
      }
     ],
     "prompt_number": 50
    },
    {
     "cell_type": "code",
     "collapsed": false,
     "input": [
      "rc('axes', labelsize='large', labelweight='bold')"
     ],
     "language": "python",
     "metadata": {},
     "outputs": [],
     "prompt_number": 58
    },
    {
     "cell_type": "code",
     "collapsed": false,
     "input": [
      "months = mdates.DayLocator()  # every month\n",
      "dayFmt = mdates.DateFormatter('%Y-%M-%D')\n",
      "\n",
      "fig, ax = plt.subplots(figsize = [20,10])\n",
      "nam = data_dict.keys()\n",
      "for i in range(len(nam)):\n",
      "    ax.broken_barh(data_dict[nam[i]], (i-0.25, .5), facecolors = 'green', edgecolors = 'none')\n",
      "    print i\n",
      "ax.set_yticks(range(len(nam)))\n",
      "ax.set_yticklabels(nam)\n",
      "ax.xaxis_date()\n",
      "ax.set_xlim([mdates.datestr2num('2011-04-13'), mdates.datestr2num('2011-04-20')])\n",
      "\n"
     ],
     "language": "python",
     "metadata": {},
     "outputs": [
      {
       "output_type": "stream",
       "stream": "stdout",
       "text": [
        "0\n",
        "1\n",
        "2\n"
       ]
      },
      {
       "metadata": {},
       "output_type": "pyout",
       "prompt_number": 60,
       "text": [
        "(734240.0, 734247.0)"
       ]
      },
      {
       "metadata": {},
       "output_type": "display_data",
       "png": "[encoded data removed]",
       "text": [
        "<matplotlib.figure.Figure at 0x7f9154ddcd10>"
       ]
      }
     ],
     "prompt_number": 60
    },
    {
     "cell_type": "code",
     "collapsed": false,
     "input": [],
     "language": "python",
     "metadata": {},
     "outputs": [],
     "prompt_number": 44
    }
   ],
   "metadata": {}
  }
 ]
}