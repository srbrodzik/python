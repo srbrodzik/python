{
 "cells": [
  {
   "cell_type": "code",
   "execution_count": 1,
   "metadata": {
    "collapsed": false
   },
   "outputs": [
    {
     "name": "stderr",
     "output_type": "stream",
     "text": [
      "/Users/scollis/anaconda/lib/python2.7/site-packages/ipykernel/pylab/config.py:66: DeprecationWarning: metadata {'config': True} was set from the constructor.  Metadata should be set using the .tag() method, e.g., Int().tag(key1='value1', key2='value2')\n",
      "  inline backend.\"\"\"\n",
      "/Users/scollis/anaconda/lib/python2.7/site-packages/ipykernel/pylab/config.py:71: DeprecationWarning: metadata {'config': True} was set from the constructor.  Metadata should be set using the .tag() method, e.g., Int().tag(key1='value1', key2='value2')\n",
      "  'retina', 'jpeg', 'svg', 'pdf'.\"\"\")\n",
      "/Users/scollis/anaconda/lib/python2.7/site-packages/ipykernel/pylab/config.py:85: DeprecationWarning: metadata {'config': True} was set from the constructor.  Metadata should be set using the .tag() method, e.g., Int().tag(key1='value1', key2='value2')\n",
      "  use `figure_formats` instead)\"\"\")\n",
      "/Users/scollis/anaconda/lib/python2.7/site-packages/ipykernel/pylab/config.py:95: DeprecationWarning: metadata {'config': True} was set from the constructor.  Metadata should be set using the .tag() method, e.g., Int().tag(key1='value1', key2='value2')\n",
      "  \"\"\"\n",
      "/Users/scollis/anaconda/lib/python2.7/site-packages/ipykernel/pylab/config.py:114: DeprecationWarning: metadata {'config': True} was set from the constructor.  Metadata should be set using the .tag() method, e.g., Int().tag(key1='value1', key2='value2')\n",
      "  \"\"\")\n",
      "/Users/scollis/anaconda/lib/python2.7/site-packages/ipykernel/pylab/config.py:44: DeprecationWarning: InlineBackend._config_changed is deprecated: use @observe and @unobserve instead.\n",
      "  def _config_changed(self, name, old, new):\n",
      "/Users/scollis/anaconda/lib/python2.7/site-packages/traitlets/traitlets.py:770: DeprecationWarning: A parent of InlineBackend._config_changed has adopted the new @observe(change) API\n",
      "  clsname, change_or_name), DeprecationWarning)\n",
      "/Users/scollis/anaconda/lib/python2.7/site-packages/IPython/core/formatters.py:98: DeprecationWarning: DisplayFormatter._formatters_default is deprecated: use @default decorator instead.\n",
      "  def _formatters_default(self):\n",
      "/Users/scollis/anaconda/lib/python2.7/site-packages/IPython/core/formatters.py:677: DeprecationWarning: PlainTextFormatter._deferred_printers_default is deprecated: use @default decorator instead.\n",
      "  def _deferred_printers_default(self):\n",
      "/Users/scollis/anaconda/lib/python2.7/site-packages/IPython/core/formatters.py:669: DeprecationWarning: PlainTextFormatter._singleton_printers_default is deprecated: use @default decorator instead.\n",
      "  def _singleton_printers_default(self):\n",
      "/Users/scollis/anaconda/lib/python2.7/site-packages/IPython/core/formatters.py:672: DeprecationWarning: PlainTextFormatter._type_printers_default is deprecated: use @default decorator instead.\n",
      "  def _type_printers_default(self):\n",
      "/Users/scollis/anaconda/lib/python2.7/site-packages/IPython/core/formatters.py:672: DeprecationWarning: PlainTextFormatter._type_printers_default is deprecated: use @default decorator instead.\n",
      "  def _type_printers_default(self):\n",
      "/Users/scollis/anaconda/lib/python2.7/site-packages/IPython/core/formatters.py:677: DeprecationWarning: PlainTextFormatter._deferred_printers_default is deprecated: use @default decorator instead.\n",
      "  def _deferred_printers_default(self):\n"
     ]
    }
   ],
   "source": [
    "import pyart\n",
    "from matplotlib import pyplot as plt\n",
    "import matplotlib\n",
    "from netCDF4 import num2date, date2num\n",
    "import numpy as np\n",
    "from time import time\n",
    "import  os, datetime\n",
    "%matplotlib inline"
   ]
  },
  {
   "cell_type": "code",
   "execution_count": 2,
   "metadata": {
    "collapsed": true
   },
   "outputs": [],
   "source": [
    "def get_closest(file_list, target_dateobj, fmt, skip):\n",
    "    dateobjs = []\n",
    "    valid_dates = []\n",
    "    for i in range(len(files)):\n",
    "        try:\n",
    "            dateobj = datetime.datetime.strptime(file_list[i][skip::], fmt)\n",
    "            valid_dates.append(file_list[i])\n",
    "            dateobjs.append(dateobj)\n",
    "        except:\n",
    "            pass\n",
    "\n",
    "    b_d = target_dateobj\n",
    "\n",
    "    def func(x):\n",
    "        d =  x\n",
    "        delta =  d - b_d if d > b_d else datetime.timedelta.max\n",
    "        return delta\n",
    "\n",
    "    good_file = valid_dates[np.where(np.array(dateobjs) == min(dateobjs, key = func))[0]]\n",
    "    return good_file\n",
    "\n",
    "\n",
    "def do_grid_map_gates_to_grid(radar):\n",
    "    grids = pyart.map.grid_from_radars(\n",
    "         radar, grid_shape=(36, 341, 341),\n",
    "        grid_limits=((0, 17000.0),(-900000, 900000), (-1000000, 1000000)),\n",
    "\n",
    "        gridding_algo=\"map_gates_to_grid\",\n",
    "        weighting_function='BARNES',\n",
    "        grid_origin = [35, -98.5])\n",
    "    return grids"
   ]
  },
  {
   "cell_type": "code",
   "execution_count": 3,
   "metadata": {
    "collapsed": false
   },
   "outputs": [
    {
     "name": "stderr",
     "output_type": "stream",
     "text": [
      "/Users/scollis/anaconda/lib/python2.7/site-packages/ipykernel/__main__.py:19: DeprecationWarning: converting an array with ndim > 0 to an index will result in an error in the future\n",
      "/Users/scollis/anaconda/lib/python2.7/site-packages/ipykernel/__main__.py:19: DeprecationWarning: converting an array with ndim > 0 to an index will result in an error in the future\n",
      "/Users/scollis/anaconda/lib/python2.7/site-packages/ipykernel/__main__.py:19: DeprecationWarning: converting an array with ndim > 0 to an index will result in an error in the future\n",
      "/Users/scollis/anaconda/lib/python2.7/site-packages/ipykernel/__main__.py:19: DeprecationWarning: converting an array with ndim > 0 to an index will result in an error in the future\n",
      "/Users/scollis/anaconda/lib/python2.7/site-packages/ipykernel/__main__.py:19: DeprecationWarning: converting an array with ndim > 0 to an index will result in an error in the future\n",
      "/Users/scollis/anaconda/lib/python2.7/site-packages/ipykernel/__main__.py:19: DeprecationWarning: converting an array with ndim > 0 to an index will result in an error in the future\n",
      "/Users/scollis/anaconda/lib/python2.7/site-packages/ipykernel/__main__.py:19: DeprecationWarning: converting an array with ndim > 0 to an index will result in an error in the future\n",
      "/Users/scollis/anaconda/lib/python2.7/site-packages/ipykernel/__main__.py:19: DeprecationWarning: converting an array with ndim > 0 to an index will result in an error in the future\n",
      "/Users/scollis/anaconda/lib/python2.7/site-packages/ipykernel/__main__.py:19: DeprecationWarning: converting an array with ndim > 0 to an index will result in an error in the future\n",
      "/Users/scollis/anaconda/lib/python2.7/site-packages/ipykernel/__main__.py:19: DeprecationWarning: converting an array with ndim > 0 to an index will result in an error in the future\n",
      "/Users/scollis/anaconda/lib/python2.7/site-packages/ipykernel/__main__.py:19: DeprecationWarning: converting an array with ndim > 0 to an index will result in an error in the future\n",
      "/Users/scollis/anaconda/lib/python2.7/site-packages/ipykernel/__main__.py:19: DeprecationWarning: converting an array with ndim > 0 to an index will result in an error in the future\n",
      "/Users/scollis/anaconda/lib/python2.7/site-packages/ipykernel/__main__.py:19: DeprecationWarning: converting an array with ndim > 0 to an index will result in an error in the future\n",
      "/Users/scollis/anaconda/lib/python2.7/site-packages/ipykernel/__main__.py:19: DeprecationWarning: converting an array with ndim > 0 to an index will result in an error in the future\n",
      "/Users/scollis/anaconda/lib/python2.7/site-packages/ipykernel/__main__.py:19: DeprecationWarning: converting an array with ndim > 0 to an index will result in an error in the future\n",
      "/Users/scollis/anaconda/lib/python2.7/site-packages/ipykernel/__main__.py:19: DeprecationWarning: converting an array with ndim > 0 to an index will result in an error in the future\n",
      "/Users/scollis/anaconda/lib/python2.7/site-packages/ipykernel/__main__.py:19: DeprecationWarning: converting an array with ndim > 0 to an index will result in an error in the future\n",
      "/Users/scollis/anaconda/lib/python2.7/site-packages/ipykernel/__main__.py:19: DeprecationWarning: converting an array with ndim > 0 to an index will result in an error in the future\n",
      "/Users/scollis/anaconda/lib/python2.7/site-packages/ipykernel/__main__.py:19: DeprecationWarning: converting an array with ndim > 0 to an index will result in an error in the future\n",
      "/Users/scollis/anaconda/lib/python2.7/site-packages/ipykernel/__main__.py:19: DeprecationWarning: converting an array with ndim > 0 to an index will result in an error in the future\n",
      "/Users/scollis/anaconda/lib/python2.7/site-packages/ipykernel/__main__.py:19: DeprecationWarning: converting an array with ndim > 0 to an index will result in an error in the future\n",
      "/Users/scollis/anaconda/lib/python2.7/site-packages/ipykernel/__main__.py:19: DeprecationWarning: converting an array with ndim > 0 to an index will result in an error in the future\n",
      "/Users/scollis/anaconda/lib/python2.7/site-packages/ipykernel/__main__.py:19: DeprecationWarning: converting an array with ndim > 0 to an index will result in an error in the future\n",
      "/Users/scollis/anaconda/lib/python2.7/site-packages/ipykernel/__main__.py:19: DeprecationWarning: converting an array with ndim > 0 to an index will result in an error in the future\n",
      "/Users/scollis/anaconda/lib/python2.7/site-packages/ipykernel/__main__.py:19: DeprecationWarning: converting an array with ndim > 0 to an index will result in an error in the future\n",
      "/Users/scollis/anaconda/lib/python2.7/site-packages/ipykernel/__main__.py:19: DeprecationWarning: converting an array with ndim > 0 to an index will result in an error in the future\n",
      "/Users/scollis/anaconda/lib/python2.7/site-packages/ipykernel/__main__.py:19: DeprecationWarning: converting an array with ndim > 0 to an index will result in an error in the future\n",
      "/Users/scollis/anaconda/lib/python2.7/site-packages/ipykernel/__main__.py:19: DeprecationWarning: converting an array with ndim > 0 to an index will result in an error in the future\n",
      "/Users/scollis/anaconda/lib/python2.7/site-packages/ipykernel/__main__.py:19: DeprecationWarning: converting an array with ndim > 0 to an index will result in an error in the future\n",
      "/Users/scollis/anaconda/lib/python2.7/site-packages/ipykernel/__main__.py:19: DeprecationWarning: converting an array with ndim > 0 to an index will result in an error in the future\n",
      "/Users/scollis/anaconda/lib/python2.7/site-packages/ipykernel/__main__.py:19: DeprecationWarning: converting an array with ndim > 0 to an index will result in an error in the future\n",
      "/Users/scollis/anaconda/lib/python2.7/site-packages/ipykernel/__main__.py:19: DeprecationWarning: converting an array with ndim > 0 to an index will result in an error in the future\n",
      "/Users/scollis/anaconda/lib/python2.7/site-packages/ipykernel/__main__.py:19: DeprecationWarning: converting an array with ndim > 0 to an index will result in an error in the future\n",
      "/Users/scollis/anaconda/lib/python2.7/site-packages/ipykernel/__main__.py:19: DeprecationWarning: converting an array with ndim > 0 to an index will result in an error in the future\n",
      "/Users/scollis/anaconda/lib/python2.7/site-packages/ipykernel/__main__.py:19: DeprecationWarning: converting an array with ndim > 0 to an index will result in an error in the future\n",
      "/Users/scollis/anaconda/lib/python2.7/site-packages/ipykernel/__main__.py:19: DeprecationWarning: converting an array with ndim > 0 to an index will result in an error in the future\n",
      "/Users/scollis/anaconda/lib/python2.7/site-packages/ipykernel/__main__.py:19: DeprecationWarning: converting an array with ndim > 0 to an index will result in an error in the future\n",
      "/Users/scollis/anaconda/lib/python2.7/site-packages/ipykernel/__main__.py:19: DeprecationWarning: converting an array with ndim > 0 to an index will result in an error in the future\n",
      "/Users/scollis/anaconda/lib/python2.7/site-packages/ipykernel/__main__.py:19: DeprecationWarning: converting an array with ndim > 0 to an index will result in an error in the future\n",
      "/Users/scollis/anaconda/lib/python2.7/site-packages/ipykernel/__main__.py:19: DeprecationWarning: converting an array with ndim > 0 to an index will result in an error in the future\n",
      "/Users/scollis/anaconda/lib/python2.7/site-packages/ipykernel/__main__.py:19: DeprecationWarning: converting an array with ndim > 0 to an index will result in an error in the future\n",
      "/Users/scollis/anaconda/lib/python2.7/site-packages/ipykernel/__main__.py:19: DeprecationWarning: converting an array with ndim > 0 to an index will result in an error in the future\n",
      "/Users/scollis/anaconda/lib/python2.7/site-packages/ipykernel/__main__.py:19: DeprecationWarning: converting an array with ndim > 0 to an index will result in an error in the future\n",
      "/Users/scollis/anaconda/lib/python2.7/site-packages/ipykernel/__main__.py:19: DeprecationWarning: converting an array with ndim > 0 to an index will result in an error in the future\n",
      "/Users/scollis/anaconda/lib/python2.7/site-packages/ipykernel/__main__.py:19: DeprecationWarning: converting an array with ndim > 0 to an index will result in an error in the future\n",
      "/Users/scollis/anaconda/lib/python2.7/site-packages/ipykernel/__main__.py:19: DeprecationWarning: converting an array with ndim > 0 to an index will result in an error in the future\n",
      "/Users/scollis/anaconda/lib/python2.7/site-packages/ipykernel/__main__.py:19: DeprecationWarning: converting an array with ndim > 0 to an index will result in an error in the future\n",
      "/Users/scollis/anaconda/lib/python2.7/site-packages/ipykernel/__main__.py:19: DeprecationWarning: converting an array with ndim > 0 to an index will result in an error in the future\n",
      "/Users/scollis/anaconda/lib/python2.7/site-packages/ipykernel/__main__.py:19: DeprecationWarning: converting an array with ndim > 0 to an index will result in an error in the future\n",
      "/Users/scollis/anaconda/lib/python2.7/site-packages/ipykernel/__main__.py:19: DeprecationWarning: converting an array with ndim > 0 to an index will result in an error in the future\n",
      "/Users/scollis/anaconda/lib/python2.7/site-packages/ipykernel/__main__.py:19: DeprecationWarning: converting an array with ndim > 0 to an index will result in an error in the future\n",
      "/Users/scollis/anaconda/lib/python2.7/site-packages/ipykernel/__main__.py:19: DeprecationWarning: converting an array with ndim > 0 to an index will result in an error in the future\n",
      "/Users/scollis/anaconda/lib/python2.7/site-packages/ipykernel/__main__.py:19: DeprecationWarning: converting an array with ndim > 0 to an index will result in an error in the future\n",
      "/Users/scollis/anaconda/lib/python2.7/site-packages/ipykernel/__main__.py:19: DeprecationWarning: converting an array with ndim > 0 to an index will result in an error in the future\n",
      "/Users/scollis/anaconda/lib/python2.7/site-packages/ipykernel/__main__.py:19: DeprecationWarning: converting an array with ndim > 0 to an index will result in an error in the future\n",
      "/Users/scollis/anaconda/lib/python2.7/site-packages/ipykernel/__main__.py:19: DeprecationWarning: converting an array with ndim > 0 to an index will result in an error in the future\n",
      "/Users/scollis/anaconda/lib/python2.7/site-packages/ipykernel/__main__.py:19: DeprecationWarning: converting an array with ndim > 0 to an index will result in an error in the future\n",
      "/Users/scollis/anaconda/lib/python2.7/site-packages/ipykernel/__main__.py:19: DeprecationWarning: converting an array with ndim > 0 to an index will result in an error in the future\n",
      "/Users/scollis/anaconda/lib/python2.7/site-packages/ipykernel/__main__.py:19: DeprecationWarning: converting an array with ndim > 0 to an index will result in an error in the future\n",
      "/Users/scollis/anaconda/lib/python2.7/site-packages/ipykernel/__main__.py:19: DeprecationWarning: converting an array with ndim > 0 to an index will result in an error in the future\n",
      "/Users/scollis/anaconda/lib/python2.7/site-packages/ipykernel/__main__.py:19: DeprecationWarning: converting an array with ndim > 0 to an index will result in an error in the future\n",
      "/Users/scollis/anaconda/lib/python2.7/site-packages/ipykernel/__main__.py:19: DeprecationWarning: converting an array with ndim > 0 to an index will result in an error in the future\n",
      "/Users/scollis/anaconda/lib/python2.7/site-packages/ipykernel/__main__.py:19: DeprecationWarning: converting an array with ndim > 0 to an index will result in an error in the future\n",
      "/Users/scollis/anaconda/lib/python2.7/site-packages/ipykernel/__main__.py:19: DeprecationWarning: converting an array with ndim > 0 to an index will result in an error in the future\n",
      "/Users/scollis/anaconda/lib/python2.7/site-packages/ipykernel/__main__.py:19: DeprecationWarning: converting an array with ndim > 0 to an index will result in an error in the future\n",
      "/Users/scollis/anaconda/lib/python2.7/site-packages/ipykernel/__main__.py:19: DeprecationWarning: converting an array with ndim > 0 to an index will result in an error in the future\n",
      "/Users/scollis/anaconda/lib/python2.7/site-packages/ipykernel/__main__.py:19: DeprecationWarning: converting an array with ndim > 0 to an index will result in an error in the future\n",
      "/Users/scollis/anaconda/lib/python2.7/site-packages/ipykernel/__main__.py:19: DeprecationWarning: converting an array with ndim > 0 to an index will result in an error in the future\n",
      "/Users/scollis/anaconda/lib/python2.7/site-packages/ipykernel/__main__.py:19: DeprecationWarning: converting an array with ndim > 0 to an index will result in an error in the future\n",
      "/Users/scollis/anaconda/lib/python2.7/site-packages/ipykernel/__main__.py:19: DeprecationWarning: converting an array with ndim > 0 to an index will result in an error in the future\n",
      "/Users/scollis/anaconda/lib/python2.7/site-packages/ipykernel/__main__.py:19: DeprecationWarning: converting an array with ndim > 0 to an index will result in an error in the future\n",
      "/Users/scollis/anaconda/lib/python2.7/site-packages/ipykernel/__main__.py:19: DeprecationWarning: converting an array with ndim > 0 to an index will result in an error in the future\n",
      "/Users/scollis/anaconda/lib/python2.7/site-packages/ipykernel/__main__.py:19: DeprecationWarning: converting an array with ndim > 0 to an index will result in an error in the future\n",
      "/Users/scollis/anaconda/lib/python2.7/site-packages/ipykernel/__main__.py:19: DeprecationWarning: converting an array with ndim > 0 to an index will result in an error in the future\n",
      "/Users/scollis/anaconda/lib/python2.7/site-packages/ipykernel/__main__.py:19: DeprecationWarning: converting an array with ndim > 0 to an index will result in an error in the future\n",
      "/Users/scollis/anaconda/lib/python2.7/site-packages/ipykernel/__main__.py:19: DeprecationWarning: converting an array with ndim > 0 to an index will result in an error in the future\n",
      "/Users/scollis/anaconda/lib/python2.7/site-packages/ipykernel/__main__.py:19: DeprecationWarning: converting an array with ndim > 0 to an index will result in an error in the future\n",
      "/Users/scollis/anaconda/lib/python2.7/site-packages/ipykernel/__main__.py:19: DeprecationWarning: converting an array with ndim > 0 to an index will result in an error in the future\n",
      "/Users/scollis/anaconda/lib/python2.7/site-packages/ipykernel/__main__.py:19: DeprecationWarning: converting an array with ndim > 0 to an index will result in an error in the future\n",
      "/Users/scollis/anaconda/lib/python2.7/site-packages/ipykernel/__main__.py:19: DeprecationWarning: converting an array with ndim > 0 to an index will result in an error in the future\n",
      "/Users/scollis/anaconda/lib/python2.7/site-packages/ipykernel/__main__.py:19: DeprecationWarning: converting an array with ndim > 0 to an index will result in an error in the future\n",
      "/Users/scollis/anaconda/lib/python2.7/site-packages/ipykernel/__main__.py:19: DeprecationWarning: converting an array with ndim > 0 to an index will result in an error in the future\n",
      "/Users/scollis/anaconda/lib/python2.7/site-packages/ipykernel/__main__.py:19: DeprecationWarning: converting an array with ndim > 0 to an index will result in an error in the future\n",
      "/Users/scollis/anaconda/lib/python2.7/site-packages/ipykernel/__main__.py:19: DeprecationWarning: converting an array with ndim > 0 to an index will result in an error in the future\n",
      "/Users/scollis/anaconda/lib/python2.7/site-packages/ipykernel/__main__.py:19: DeprecationWarning: converting an array with ndim > 0 to an index will result in an error in the future\n",
      "/Users/scollis/anaconda/lib/python2.7/site-packages/ipykernel/__main__.py:19: DeprecationWarning: converting an array with ndim > 0 to an index will result in an error in the future\n",
      "/Users/scollis/anaconda/lib/python2.7/site-packages/ipykernel/__main__.py:19: DeprecationWarning: converting an array with ndim > 0 to an index will result in an error in the future\n",
      "/Users/scollis/anaconda/lib/python2.7/site-packages/ipykernel/__main__.py:19: DeprecationWarning: converting an array with ndim > 0 to an index will result in an error in the future\n",
      "/Users/scollis/anaconda/lib/python2.7/site-packages/ipykernel/__main__.py:19: DeprecationWarning: converting an array with ndim > 0 to an index will result in an error in the future\n",
      "/Users/scollis/anaconda/lib/python2.7/site-packages/ipykernel/__main__.py:19: DeprecationWarning: converting an array with ndim > 0 to an index will result in an error in the future\n",
      "/Users/scollis/anaconda/lib/python2.7/site-packages/ipykernel/__main__.py:19: DeprecationWarning: converting an array with ndim > 0 to an index will result in an error in the future\n",
      "/Users/scollis/anaconda/lib/python2.7/site-packages/ipykernel/__main__.py:19: DeprecationWarning: converting an array with ndim > 0 to an index will result in an error in the future\n",
      "/Users/scollis/anaconda/lib/python2.7/site-packages/ipykernel/__main__.py:19: DeprecationWarning: converting an array with ndim > 0 to an index will result in an error in the future\n",
      "/Users/scollis/anaconda/lib/python2.7/site-packages/ipykernel/__main__.py:19: DeprecationWarning: converting an array with ndim > 0 to an index will result in an error in the future\n",
      "/Users/scollis/anaconda/lib/python2.7/site-packages/ipykernel/__main__.py:19: DeprecationWarning: converting an array with ndim > 0 to an index will result in an error in the future\n",
      "/Users/scollis/anaconda/lib/python2.7/site-packages/ipykernel/__main__.py:19: DeprecationWarning: converting an array with ndim > 0 to an index will result in an error in the future\n",
      "/Users/scollis/anaconda/lib/python2.7/site-packages/ipykernel/__main__.py:19: DeprecationWarning: converting an array with ndim > 0 to an index will result in an error in the future\n",
      "/Users/scollis/anaconda/lib/python2.7/site-packages/ipykernel/__main__.py:19: DeprecationWarning: converting an array with ndim > 0 to an index will result in an error in the future\n",
      "/Users/scollis/anaconda/lib/python2.7/site-packages/ipykernel/__main__.py:19: DeprecationWarning: converting an array with ndim > 0 to an index will result in an error in the future\n",
      "/Users/scollis/anaconda/lib/python2.7/site-packages/ipykernel/__main__.py:19: DeprecationWarning: converting an array with ndim > 0 to an index will result in an error in the future\n",
      "/Users/scollis/anaconda/lib/python2.7/site-packages/ipykernel/__main__.py:19: DeprecationWarning: converting an array with ndim > 0 to an index will result in an error in the future\n",
      "/Users/scollis/anaconda/lib/python2.7/site-packages/ipykernel/__main__.py:19: DeprecationWarning: converting an array with ndim > 0 to an index will result in an error in the future\n",
      "/Users/scollis/anaconda/lib/python2.7/site-packages/ipykernel/__main__.py:19: DeprecationWarning: converting an array with ndim > 0 to an index will result in an error in the future\n",
      "/Users/scollis/anaconda/lib/python2.7/site-packages/ipykernel/__main__.py:19: DeprecationWarning: converting an array with ndim > 0 to an index will result in an error in the future\n",
      "/Users/scollis/anaconda/lib/python2.7/site-packages/ipykernel/__main__.py:19: DeprecationWarning: converting an array with ndim > 0 to an index will result in an error in the future\n",
      "/Users/scollis/anaconda/lib/python2.7/site-packages/ipykernel/__main__.py:19: DeprecationWarning: converting an array with ndim > 0 to an index will result in an error in the future\n",
      "/Users/scollis/anaconda/lib/python2.7/site-packages/ipykernel/__main__.py:19: DeprecationWarning: converting an array with ndim > 0 to an index will result in an error in the future\n",
      "/Users/scollis/anaconda/lib/python2.7/site-packages/ipykernel/__main__.py:19: DeprecationWarning: converting an array with ndim > 0 to an index will result in an error in the future\n",
      "/Users/scollis/anaconda/lib/python2.7/site-packages/ipykernel/__main__.py:19: DeprecationWarning: converting an array with ndim > 0 to an index will result in an error in the future\n",
      "/Users/scollis/anaconda/lib/python2.7/site-packages/ipykernel/__main__.py:19: DeprecationWarning: converting an array with ndim > 0 to an index will result in an error in the future\n",
      "/Users/scollis/anaconda/lib/python2.7/site-packages/ipykernel/__main__.py:19: DeprecationWarning: converting an array with ndim > 0 to an index will result in an error in the future\n",
      "/Users/scollis/anaconda/lib/python2.7/site-packages/ipykernel/__main__.py:19: DeprecationWarning: converting an array with ndim > 0 to an index will result in an error in the future\n",
      "/Users/scollis/anaconda/lib/python2.7/site-packages/ipykernel/__main__.py:19: DeprecationWarning: converting an array with ndim > 0 to an index will result in an error in the future\n",
      "/Users/scollis/anaconda/lib/python2.7/site-packages/ipykernel/__main__.py:19: DeprecationWarning: converting an array with ndim > 0 to an index will result in an error in the future\n",
      "/Users/scollis/anaconda/lib/python2.7/site-packages/ipykernel/__main__.py:19: DeprecationWarning: converting an array with ndim > 0 to an index will result in an error in the future\n",
      "/Users/scollis/anaconda/lib/python2.7/site-packages/ipykernel/__main__.py:19: DeprecationWarning: converting an array with ndim > 0 to an index will result in an error in the future\n",
      "/Users/scollis/anaconda/lib/python2.7/site-packages/ipykernel/__main__.py:19: DeprecationWarning: converting an array with ndim > 0 to an index will result in an error in the future\n",
      "/Users/scollis/anaconda/lib/python2.7/site-packages/ipykernel/__main__.py:19: DeprecationWarning: converting an array with ndim > 0 to an index will result in an error in the future\n",
      "/Users/scollis/anaconda/lib/python2.7/site-packages/ipykernel/__main__.py:19: DeprecationWarning: converting an array with ndim > 0 to an index will result in an error in the future\n",
      "/Users/scollis/anaconda/lib/python2.7/site-packages/ipykernel/__main__.py:19: DeprecationWarning: converting an array with ndim > 0 to an index will result in an error in the future\n",
      "/Users/scollis/anaconda/lib/python2.7/site-packages/ipykernel/__main__.py:19: DeprecationWarning: converting an array with ndim > 0 to an index will result in an error in the future\n",
      "/Users/scollis/anaconda/lib/python2.7/site-packages/ipykernel/__main__.py:19: DeprecationWarning: converting an array with ndim > 0 to an index will result in an error in the future\n",
      "/Users/scollis/anaconda/lib/python2.7/site-packages/ipykernel/__main__.py:19: DeprecationWarning: converting an array with ndim > 0 to an index will result in an error in the future\n",
      "/Users/scollis/anaconda/lib/python2.7/site-packages/ipykernel/__main__.py:19: DeprecationWarning: converting an array with ndim > 0 to an index will result in an error in the future\n",
      "/Users/scollis/anaconda/lib/python2.7/site-packages/ipykernel/__main__.py:19: DeprecationWarning: converting an array with ndim > 0 to an index will result in an error in the future\n",
      "/Users/scollis/anaconda/lib/python2.7/site-packages/ipykernel/__main__.py:19: DeprecationWarning: converting an array with ndim > 0 to an index will result in an error in the future\n",
      "/Users/scollis/anaconda/lib/python2.7/site-packages/ipykernel/__main__.py:19: DeprecationWarning: converting an array with ndim > 0 to an index will result in an error in the future\n",
      "/Users/scollis/anaconda/lib/python2.7/site-packages/ipykernel/__main__.py:19: DeprecationWarning: converting an array with ndim > 0 to an index will result in an error in the future\n",
      "/Users/scollis/anaconda/lib/python2.7/site-packages/ipykernel/__main__.py:19: DeprecationWarning: converting an array with ndim > 0 to an index will result in an error in the future\n"
     ]
    },
    {
     "name": "stdout",
     "output_type": "stream",
     "text": [
      "['/data/ok_rain/temp/level2/raw/KABR/KABR_20150513_1933', '/data/ok_rain/temp/level2/raw/KABX/KABX_20150513_1939', '/data/ok_rain/temp/level2/raw/KAKQ/KAKQ_20150513_1931', '/data/ok_rain/temp/level2/raw/KAMA/KAMA_20150513_1934', '/data/ok_rain/temp/level2/raw/KAMX/KAMX_20150513_1933', '/data/ok_rain/temp/level2/raw/KAPX/KAPX_20150513_1931', '/data/ok_rain/temp/level2/raw/KARX/KARX_20150513_1934', '/data/ok_rain/temp/level2/raw/KATX/KATX_20150513_1934', '/data/ok_rain/temp/level2/raw/KBBX/KBBX_20150513_1932', '/data/ok_rain/temp/level2/raw/KBGM/KBGM_20150513_1938', '/data/ok_rain/temp/level2/raw/KBHX/KBHX_20150513_1936', '/data/ok_rain/temp/level2/raw/KBIS/KBIS_20150513_1933', '/data/ok_rain/temp/level2/raw/KBLX/KBLX_20150513_1938', '/data/ok_rain/temp/level2/raw/KBMX/KBMX_20150513_1932', '/data/ok_rain/temp/level2/raw/KBOX/KBOX_20150513_1939', '/data/ok_rain/temp/level2/raw/KBRO/KBRO_20150513_1935', '/data/ok_rain/temp/level2/raw/KBUF/KBUF_20150513_1940', '/data/ok_rain/temp/level2/raw/KBYX/KBYX_20150513_1933', '/data/ok_rain/temp/level2/raw/KCAE/KCAE_20150513_1932', '/data/ok_rain/temp/level2/raw/KCBW/KCBW_20150513_1932', '/data/ok_rain/temp/level2/raw/KCBX/KCBX_20150513_1939', '/data/ok_rain/temp/level2/raw/KCCX/KCCX_20150513_1939', '/data/ok_rain/temp/level2/raw/KCLE/KCLE_20150513_1937', '/data/ok_rain/temp/level2/raw/KCLX/KCLX_20150513_1935', '/data/ok_rain/temp/level2/raw/KCRP/KCRP_20150513_1936', '/data/ok_rain/temp/level2/raw/KCXX/KCXX_20150513_1931', '/data/ok_rain/temp/level2/raw/KCYS/KCYS_20150513_1935', '/data/ok_rain/temp/level2/raw/KDAX/KDAX_20150513_1932', '/data/ok_rain/temp/level2/raw/KDDC/KDDC_20150513_1933', '/data/ok_rain/temp/level2/raw/KDFX/KDFX_20150513_1935', '/data/ok_rain/temp/level2/raw/KDGX/KDGX_20150513_1934', '/data/ok_rain/temp/level2/raw/KDIX/KDIX_20150513_1932', '/data/ok_rain/temp/level2/raw/KDLH/KDLH_20150513_1936', '/data/ok_rain/temp/level2/raw/KDMX/KDMX_20150513_1936', '/data/ok_rain/temp/level2/raw/KDOX/KDOX_20150513_1939', '/data/ok_rain/temp/level2/raw/KDTX/KDTX_20150513_1937', '/data/ok_rain/temp/level2/raw/KDVN/KDVN_20150513_1931', '/data/ok_rain/temp/level2/raw/KDYX/KDYX_20150513_1931', '/data/ok_rain/temp/level2/raw/KEAX/KEAX_20150513_1933', '/data/ok_rain/temp/level2/raw/KEMX/KEMX_20150513_1932', '/data/ok_rain/temp/level2/raw/KENX/KENX_20150513_1937', '/data/ok_rain/temp/level2/raw/KEOX/KEOX_20150513_1937', '/data/ok_rain/temp/level2/raw/KEPZ/KEPZ_20150513_1938', '/data/ok_rain/temp/level2/raw/KEVX/KEVX_20150513_1931', '/data/ok_rain/temp/level2/raw/KEWX/KEWX_20150513_1933', '/data/ok_rain/temp/level2/raw/KEYX/KEYX_20150513_1936', '/data/ok_rain/temp/level2/raw/KFCX/KFCX_20150513_1936', '/data/ok_rain/temp/level2/raw/KFDR/KFDR_20150513_1934', '/data/ok_rain/temp/level2/raw/KFDX/KFDX_20150513_1933', '/data/ok_rain/temp/level2/raw/KFFC/KFFC_20150513_1932', '/data/ok_rain/temp/level2/raw/KFSD/KFSD_20150513_1931', '/data/ok_rain/temp/level2/raw/KFSX/KFSX_20150513_1936', '/data/ok_rain/temp/level2/raw/KFTG/KFTG_20150513_1932', '/data/ok_rain/temp/level2/raw/KFWS/KFWS_20150513_1931', '/data/ok_rain/temp/level2/raw/KGGW/KGGW_20150513_1932', '/data/ok_rain/temp/level2/raw/KGJX/KGJX_20150513_1933', '/data/ok_rain/temp/level2/raw/KGLD/KGLD_20150513_1933', '/data/ok_rain/temp/level2/raw/KGRB/KGRB_20150513_1935', '/data/ok_rain/temp/level2/raw/KGRK/KGRK_20150513_1933', '/data/ok_rain/temp/level2/raw/KGRR/KGRR_20150513_1937', '/data/ok_rain/temp/level2/raw/KGSP/KGSP_20150513_1932', '/data/ok_rain/temp/level2/raw/KGWX/KGWX_20150513_1931', '/data/ok_rain/temp/level2/raw/KGYX/KGYX_20150513_1935', '/data/ok_rain/temp/level2/raw/KHDX/KHDX_20150513_1933', '/data/ok_rain/temp/level2/raw/KHGX/KHGX_20150513_1931', '/data/ok_rain/temp/level2/raw/KHNX/KHNX_20150513_1931', '/data/ok_rain/temp/level2/raw/KHPX/KHPX_20150513_1936', '/data/ok_rain/temp/level2/raw/KHTX/KHTX_20150513_1936', '/data/ok_rain/temp/level2/raw/KICT/KICT_20150513_1932', '/data/ok_rain/temp/level2/raw/KICX/KICX_20150513_1936', '/data/ok_rain/temp/level2/raw/KILN/KILN_20150513_1936', '/data/ok_rain/temp/level2/raw/KILX/KILX_20150513_1936', '/data/ok_rain/temp/level2/raw/KIND/KIND_20150513_1931', '/data/ok_rain/temp/level2/raw/KINX/KINX_20150513_1934', '/data/ok_rain/temp/level2/raw/KIWA/KIWA_20150513_1932', '/data/ok_rain/temp/level2/raw/KIWX/KIWX_20150513_1932', '/data/ok_rain/temp/level2/raw/KJAX/KJAX_20150513_1935', '/data/ok_rain/temp/level2/raw/KJGX/KJGX_20150514_1828', '/data/ok_rain/temp/level2/raw/KJKL/KJKL_20150513_1933', '/data/ok_rain/temp/level2/raw/KLBB/KLBB_20150513_1934', '/data/ok_rain/temp/level2/raw/KLCH/KLCH_20150513_1933', '/data/ok_rain/temp/level2/raw/KLGX/KLGX_20150513_1933', '/data/ok_rain/temp/level2/raw/KLIX/KLIX_20150513_1933', '/data/ok_rain/temp/level2/raw/KLNX/KLNX_20150513_1933', '/data/ok_rain/temp/level2/raw/KLOT/KLOT_20150513_1939', '/data/ok_rain/temp/level2/raw/KLRX/KLRX_20150513_1936', '/data/ok_rain/temp/level2/raw/KLSX/KLSX_20150513_1939', '/data/ok_rain/temp/level2/raw/KLTX/KLTX_20150513_1936', '/data/ok_rain/temp/level2/raw/KLVX/KLVX_20150513_1939', '/data/ok_rain/temp/level2/raw/KLWX/KLWX_20150513_1931', '/data/ok_rain/temp/level2/raw/KLZK/KLZK_20150513_1932', '/data/ok_rain/temp/level2/raw/KMAF/KMAF_20150513_1934', '/data/ok_rain/temp/level2/raw/KMAX/KMAX_20150513_1932', '/data/ok_rain/temp/level2/raw/KMBX/KMBX_20150513_1937', '/data/ok_rain/temp/level2/raw/KMHX/KMHX_20150513_1938', '/data/ok_rain/temp/level2/raw/KMKX/KMKX_20150513_1931', '/data/ok_rain/temp/level2/raw/KMLB/KMLB_20150513_1931', '/data/ok_rain/temp/level2/raw/KMOB/KMOB_20150513_1931', '/data/ok_rain/temp/level2/raw/KMPX/KMPX_20150513_1935', '/data/ok_rain/temp/level2/raw/KMQT/KMQT_20150513_1939', '/data/ok_rain/temp/level2/raw/KMRX/KMRX_20150513_1934', '/data/ok_rain/temp/level2/raw/KMSX/KMSX_20150513_1932', '/data/ok_rain/temp/level2/raw/KMTX/KMTX_20150513_1932', '/data/ok_rain/temp/level2/raw/KMUX/KMUX_20150513_1939', '/data/ok_rain/temp/level2/raw/KMVX/KMVX_20150513_1932', '/data/ok_rain/temp/level2/raw/KMXX/KMXX_20150513_1931', '/data/ok_rain/temp/level2/raw/KNKX/KNKX_20150513_1939', '/data/ok_rain/temp/level2/raw/KNQA/KNQA_20150513_1933', '/data/ok_rain/temp/level2/raw/KOAX/KOAX_20150513_1939', '/data/ok_rain/temp/level2/raw/KOHX/KOHX_20150513_1938', '/data/ok_rain/temp/level2/raw/KOKX/KOKX_20150513_1936', '/data/ok_rain/temp/level2/raw/KOTX/KOTX_20150513_1931', '/data/ok_rain/temp/level2/raw/KOUN/KOUN_19700101_0000', '/data/ok_rain/temp/level2/raw/KPAH/KPAH_20150513_1935', '/data/ok_rain/temp/level2/raw/KPBZ/KPBZ_20150513_1934', '/data/ok_rain/temp/level2/raw/KPDT/KPDT_20150513_1931', '/data/ok_rain/temp/level2/raw/KPOE/KPOE_20150513_1935', '/data/ok_rain/temp/level2/raw/KPUX/KPUX_20150513_1932', '/data/ok_rain/temp/level2/raw/KRAX/KRAX_20150513_1935', '/data/ok_rain/temp/level2/raw/KRGX/KRGX_20150513_1931', '/data/ok_rain/temp/level2/raw/KRIW/KRIW_20150513_1931', '/data/ok_rain/temp/level2/raw/KRLX/KRLX_20150513_1936', '/data/ok_rain/temp/level2/raw/KRTX/KRTX_20150513_1939', '/data/ok_rain/temp/level2/raw/KSFX/KSFX_20150513_1932', '/data/ok_rain/temp/level2/raw/KSGF/KSGF_20150513_1934', '/data/ok_rain/temp/level2/raw/KSHV/KSHV_20150513_2004', '/data/ok_rain/temp/level2/raw/KSJT/KSJT_20150513_1931', '/data/ok_rain/temp/level2/raw/KSRX/KSRX_20150513_1934', '/data/ok_rain/temp/level2/raw/KTLX/KTLX_20150513_1935', '/data/ok_rain/temp/level2/raw/KVNX/KVNX_20150513_1934']\n"
     ]
    },
    {
     "name": "stderr",
     "output_type": "stream",
     "text": [
      "/Users/scollis/anaconda/lib/python2.7/site-packages/ipykernel/__main__.py:19: DeprecationWarning: converting an array with ndim > 0 to an index will result in an error in the future\n"
     ]
    }
   ],
   "source": [
    "desired_date = datetime.datetime(2015,5, 13, 19, 30)\n",
    "files = os.listdir('/data/ok_rain/temp/level2/raw/KVNX')\n",
    "filenames = []\n",
    "top_dir = '/data/ok_rain/temp/level2/raw/'\n",
    "sub_dirs = os.listdir(top_dir)\n",
    "\n",
    "for ddir in sub_dirs:\n",
    "    try:\n",
    "        files = os.listdir(top_dir + ddir)\n",
    "        filenames.append(top_dir + \\\n",
    "            ddir + '/' + get_closest(files, desired_date, '%Y%m%d_%H%M', 5))\n",
    "    except:\n",
    "        pass\n",
    "\n",
    "print(filenames)\n",
    " "
   ]
  },
  {
   "cell_type": "code",
   "execution_count": 8,
   "metadata": {
    "collapsed": false
   },
   "outputs": [],
   "source": [
    "comm = \"tar -cf foo \"\n",
    "for fn in filenames:\n",
    "    comm = comm + ' ' + fn"
   ]
  },
  {
   "cell_type": "code",
   "execution_count": 9,
   "metadata": {
    "collapsed": false
   },
   "outputs": [
    {
     "name": "stdout",
     "output_type": "stream",
     "text": [
      "tar -cf foo  /data/ok_rain/temp/level2/raw/KABR/KABR_20150513_1933 /data/ok_rain/temp/level2/raw/KABX/KABX_20150513_1939 /data/ok_rain/temp/level2/raw/KAKQ/KAKQ_20150513_1931 /data/ok_rain/temp/level2/raw/KAMA/KAMA_20150513_1934 /data/ok_rain/temp/level2/raw/KAMX/KAMX_20150513_1933 /data/ok_rain/temp/level2/raw/KAPX/KAPX_20150513_1931 /data/ok_rain/temp/level2/raw/KARX/KARX_20150513_1934 /data/ok_rain/temp/level2/raw/KATX/KATX_20150513_1934 /data/ok_rain/temp/level2/raw/KBBX/KBBX_20150513_1932 /data/ok_rain/temp/level2/raw/KBGM/KBGM_20150513_1938 /data/ok_rain/temp/level2/raw/KBHX/KBHX_20150513_1936 /data/ok_rain/temp/level2/raw/KBIS/KBIS_20150513_1933 /data/ok_rain/temp/level2/raw/KBLX/KBLX_20150513_1938 /data/ok_rain/temp/level2/raw/KBMX/KBMX_20150513_1932 /data/ok_rain/temp/level2/raw/KBOX/KBOX_20150513_1939 /data/ok_rain/temp/level2/raw/KBRO/KBRO_20150513_1935 /data/ok_rain/temp/level2/raw/KBUF/KBUF_20150513_1940 /data/ok_rain/temp/level2/raw/KBYX/KBYX_20150513_1933 /data/ok_rain/temp/level2/raw/KCAE/KCAE_20150513_1932 /data/ok_rain/temp/level2/raw/KCBW/KCBW_20150513_1932 /data/ok_rain/temp/level2/raw/KCBX/KCBX_20150513_1939 /data/ok_rain/temp/level2/raw/KCCX/KCCX_20150513_1939 /data/ok_rain/temp/level2/raw/KCLE/KCLE_20150513_1937 /data/ok_rain/temp/level2/raw/KCLX/KCLX_20150513_1935 /data/ok_rain/temp/level2/raw/KCRP/KCRP_20150513_1936 /data/ok_rain/temp/level2/raw/KCXX/KCXX_20150513_1931 /data/ok_rain/temp/level2/raw/KCYS/KCYS_20150513_1935 /data/ok_rain/temp/level2/raw/KDAX/KDAX_20150513_1932 /data/ok_rain/temp/level2/raw/KDDC/KDDC_20150513_1933 /data/ok_rain/temp/level2/raw/KDFX/KDFX_20150513_1935 /data/ok_rain/temp/level2/raw/KDGX/KDGX_20150513_1934 /data/ok_rain/temp/level2/raw/KDIX/KDIX_20150513_1932 /data/ok_rain/temp/level2/raw/KDLH/KDLH_20150513_1936 /data/ok_rain/temp/level2/raw/KDMX/KDMX_20150513_1936 /data/ok_rain/temp/level2/raw/KDOX/KDOX_20150513_1939 /data/ok_rain/temp/level2/raw/KDTX/KDTX_20150513_1937 /data/ok_rain/temp/level2/raw/KDVN/KDVN_20150513_1931 /data/ok_rain/temp/level2/raw/KDYX/KDYX_20150513_1931 /data/ok_rain/temp/level2/raw/KEAX/KEAX_20150513_1933 /data/ok_rain/temp/level2/raw/KEMX/KEMX_20150513_1932 /data/ok_rain/temp/level2/raw/KENX/KENX_20150513_1937 /data/ok_rain/temp/level2/raw/KEOX/KEOX_20150513_1937 /data/ok_rain/temp/level2/raw/KEPZ/KEPZ_20150513_1938 /data/ok_rain/temp/level2/raw/KEVX/KEVX_20150513_1931 /data/ok_rain/temp/level2/raw/KEWX/KEWX_20150513_1933 /data/ok_rain/temp/level2/raw/KEYX/KEYX_20150513_1936 /data/ok_rain/temp/level2/raw/KFCX/KFCX_20150513_1936 /data/ok_rain/temp/level2/raw/KFDR/KFDR_20150513_1934 /data/ok_rain/temp/level2/raw/KFDX/KFDX_20150513_1933 /data/ok_rain/temp/level2/raw/KFFC/KFFC_20150513_1932 /data/ok_rain/temp/level2/raw/KFSD/KFSD_20150513_1931 /data/ok_rain/temp/level2/raw/KFSX/KFSX_20150513_1936 /data/ok_rain/temp/level2/raw/KFTG/KFTG_20150513_1932 /data/ok_rain/temp/level2/raw/KFWS/KFWS_20150513_1931 /data/ok_rain/temp/level2/raw/KGGW/KGGW_20150513_1932 /data/ok_rain/temp/level2/raw/KGJX/KGJX_20150513_1933 /data/ok_rain/temp/level2/raw/KGLD/KGLD_20150513_1933 /data/ok_rain/temp/level2/raw/KGRB/KGRB_20150513_1935 /data/ok_rain/temp/level2/raw/KGRK/KGRK_20150513_1933 /data/ok_rain/temp/level2/raw/KGRR/KGRR_20150513_1937 /data/ok_rain/temp/level2/raw/KGSP/KGSP_20150513_1932 /data/ok_rain/temp/level2/raw/KGWX/KGWX_20150513_1931 /data/ok_rain/temp/level2/raw/KGYX/KGYX_20150513_1935 /data/ok_rain/temp/level2/raw/KHDX/KHDX_20150513_1933 /data/ok_rain/temp/level2/raw/KHGX/KHGX_20150513_1931 /data/ok_rain/temp/level2/raw/KHNX/KHNX_20150513_1931 /data/ok_rain/temp/level2/raw/KHPX/KHPX_20150513_1936 /data/ok_rain/temp/level2/raw/KHTX/KHTX_20150513_1936 /data/ok_rain/temp/level2/raw/KICT/KICT_20150513_1932 /data/ok_rain/temp/level2/raw/KICX/KICX_20150513_1936 /data/ok_rain/temp/level2/raw/KILN/KILN_20150513_1936 /data/ok_rain/temp/level2/raw/KILX/KILX_20150513_1936 /data/ok_rain/temp/level2/raw/KIND/KIND_20150513_1931 /data/ok_rain/temp/level2/raw/KINX/KINX_20150513_1934 /data/ok_rain/temp/level2/raw/KIWA/KIWA_20150513_1932 /data/ok_rain/temp/level2/raw/KIWX/KIWX_20150513_1932 /data/ok_rain/temp/level2/raw/KJAX/KJAX_20150513_1935 /data/ok_rain/temp/level2/raw/KJGX/KJGX_20150514_1828 /data/ok_rain/temp/level2/raw/KJKL/KJKL_20150513_1933 /data/ok_rain/temp/level2/raw/KLBB/KLBB_20150513_1934 /data/ok_rain/temp/level2/raw/KLCH/KLCH_20150513_1933 /data/ok_rain/temp/level2/raw/KLGX/KLGX_20150513_1933 /data/ok_rain/temp/level2/raw/KLIX/KLIX_20150513_1933 /data/ok_rain/temp/level2/raw/KLNX/KLNX_20150513_1933 /data/ok_rain/temp/level2/raw/KLOT/KLOT_20150513_1939 /data/ok_rain/temp/level2/raw/KLRX/KLRX_20150513_1936 /data/ok_rain/temp/level2/raw/KLSX/KLSX_20150513_1939 /data/ok_rain/temp/level2/raw/KLTX/KLTX_20150513_1936 /data/ok_rain/temp/level2/raw/KLVX/KLVX_20150513_1939 /data/ok_rain/temp/level2/raw/KLWX/KLWX_20150513_1931 /data/ok_rain/temp/level2/raw/KLZK/KLZK_20150513_1932 /data/ok_rain/temp/level2/raw/KMAF/KMAF_20150513_1934 /data/ok_rain/temp/level2/raw/KMAX/KMAX_20150513_1932 /data/ok_rain/temp/level2/raw/KMBX/KMBX_20150513_1937 /data/ok_rain/temp/level2/raw/KMHX/KMHX_20150513_1938 /data/ok_rain/temp/level2/raw/KMKX/KMKX_20150513_1931 /data/ok_rain/temp/level2/raw/KMLB/KMLB_20150513_1931 /data/ok_rain/temp/level2/raw/KMOB/KMOB_20150513_1931 /data/ok_rain/temp/level2/raw/KMPX/KMPX_20150513_1935 /data/ok_rain/temp/level2/raw/KMQT/KMQT_20150513_1939 /data/ok_rain/temp/level2/raw/KMRX/KMRX_20150513_1934 /data/ok_rain/temp/level2/raw/KMSX/KMSX_20150513_1932 /data/ok_rain/temp/level2/raw/KMTX/KMTX_20150513_1932 /data/ok_rain/temp/level2/raw/KMUX/KMUX_20150513_1939 /data/ok_rain/temp/level2/raw/KMVX/KMVX_20150513_1932 /data/ok_rain/temp/level2/raw/KMXX/KMXX_20150513_1931 /data/ok_rain/temp/level2/raw/KNKX/KNKX_20150513_1939 /data/ok_rain/temp/level2/raw/KNQA/KNQA_20150513_1933 /data/ok_rain/temp/level2/raw/KOAX/KOAX_20150513_1939 /data/ok_rain/temp/level2/raw/KOHX/KOHX_20150513_1938 /data/ok_rain/temp/level2/raw/KOKX/KOKX_20150513_1936 /data/ok_rain/temp/level2/raw/KOTX/KOTX_20150513_1931 /data/ok_rain/temp/level2/raw/KOUN/KOUN_19700101_0000 /data/ok_rain/temp/level2/raw/KPAH/KPAH_20150513_1935 /data/ok_rain/temp/level2/raw/KPBZ/KPBZ_20150513_1934 /data/ok_rain/temp/level2/raw/KPDT/KPDT_20150513_1931 /data/ok_rain/temp/level2/raw/KPOE/KPOE_20150513_1935 /data/ok_rain/temp/level2/raw/KPUX/KPUX_20150513_1932 /data/ok_rain/temp/level2/raw/KRAX/KRAX_20150513_1935 /data/ok_rain/temp/level2/raw/KRGX/KRGX_20150513_1931 /data/ok_rain/temp/level2/raw/KRIW/KRIW_20150513_1931 /data/ok_rain/temp/level2/raw/KRLX/KRLX_20150513_1936 /data/ok_rain/temp/level2/raw/KRTX/KRTX_20150513_1939 /data/ok_rain/temp/level2/raw/KSFX/KSFX_20150513_1932 /data/ok_rain/temp/level2/raw/KSGF/KSGF_20150513_1934 /data/ok_rain/temp/level2/raw/KSHV/KSHV_20150513_2004 /data/ok_rain/temp/level2/raw/KSJT/KSJT_20150513_1931 /data/ok_rain/temp/level2/raw/KSRX/KSRX_20150513_1934 /data/ok_rain/temp/level2/raw/KTLX/KTLX_20150513_1935 /data/ok_rain/temp/level2/raw/KVNX/KVNX_20150513_1934\n"
     ]
    }
   ],
   "source": [
    "print comm"
   ]
  },
  {
   "cell_type": "code",
   "execution_count": 7,
   "metadata": {
    "collapsed": false
   },
   "outputs": [
    {
     "name": "stdout",
     "output_type": "stream",
     "text": [
      "['/data/ok_rain/temp/level2/raw/KABX/KABX_20150513_1939', '/data/ok_rain/temp/level2/raw/KAKQ/KAKQ_20150513_1931', '/data/ok_rain/temp/level2/raw/KAMA/KAMA_20150513_1934', '/data/ok_rain/temp/level2/raw/KAMX/KAMX_20150513_1933', '/data/ok_rain/temp/level2/raw/KAPX/KAPX_20150513_1931', '/data/ok_rain/temp/level2/raw/KARX/KARX_20150513_1934', '/data/ok_rain/temp/level2/raw/KATX/KATX_20150513_1934', '/data/ok_rain/temp/level2/raw/KBBX/KBBX_20150513_1932', '/data/ok_rain/temp/level2/raw/KBGM/KBGM_20150513_1938', '/data/ok_rain/temp/level2/raw/KBHX/KBHX_20150513_1936', '/data/ok_rain/temp/level2/raw/KBIS/KBIS_20150513_1933', '/data/ok_rain/temp/level2/raw/KBLX/KBLX_20150513_1938', '/data/ok_rain/temp/level2/raw/KBMX/KBMX_20150513_1932', '/data/ok_rain/temp/level2/raw/KBOX/KBOX_20150513_1939', '/data/ok_rain/temp/level2/raw/KBRO/KBRO_20150513_1935', '/data/ok_rain/temp/level2/raw/KBUF/KBUF_20150513_1940', '/data/ok_rain/temp/level2/raw/KBYX/KBYX_20150513_1933', '/data/ok_rain/temp/level2/raw/KCAE/KCAE_20150513_1932', '/data/ok_rain/temp/level2/raw/KCBW/KCBW_20150513_1932']\n"
     ]
    }
   ],
   "source": [
    "print filenames[1:20]"
   ]
  },
  {
   "cell_type": "code",
   "execution_count": null,
   "metadata": {
    "collapsed": true
   },
   "outputs": [],
   "source": [
    "radars = [pyart.io.read(filename) for filename in filenames]\n"
   ]
  },
  {
   "cell_type": "code",
   "execution_count": null,
   "metadata": {
    "collapsed": false
   },
   "outputs": [],
   "source": [
    "t1 = time()\n",
    "grid = do_grid_map_gates_to_grid(radars)\n",
    "print time() - t1"
   ]
  },
  {
   "cell_type": "code",
   "execution_count": null,
   "metadata": {
    "collapsed": false
   },
   "outputs": [],
   "source": [
    "display = pyart.graph.GridMapDisplay(grid)\n",
    "\n",
    "# create the figure\n",
    "font = {'size': 16}\n",
    "matplotlib.rc('font', **font)\n",
    "fig = plt.figure(figsize=[15, 8])\n",
    "\n",
    "# panel sizes\n",
    "map_panel_axes = [0.05, 0.05, .4, .80]\n",
    "x_cut_panel_axes = [0.55, 0.10, .4, .30]\n",
    "y_cut_panel_axes = [0.55, 0.50, .4, .30]\n",
    "colorbar_panel_axes = [0.05, 0.90, .4, .03]\n",
    "\n",
    "# parameters\n",
    "level = 2\n",
    "vmin = -8\n",
    "vmax = 64\n",
    "lat = 35\n",
    "lon = -98.5\n",
    "\n",
    "# panel 1, basemap, radar reflectivity and NARR overlay\n",
    "ax1 = fig.add_axes(map_panel_axes)\n",
    "display.plot_basemap(lon_lines = np.arange(-104, -93, 2) )\n",
    "display.plot_grid('reflectivity', level=level, vmin=vmin, vmax=vmax)\n",
    "display.plot_crosshairs(lon=lon, lat=lat)\n",
    "\n",
    "# plot the reanalysis on the basemap\n",
    "# colorbar\n",
    "cbax = fig.add_axes(colorbar_panel_axes)\n",
    "display.plot_colorbar(cax=cbax)\n",
    "\n",
    "# panel 2, longitude slice.\n",
    "ax2 = fig.add_axes(x_cut_panel_axes)\n",
    "display.plot_longitude_slice('reflectivity', lon=lon, lat=lat, vmin=vmin, vmax=vmax)\n",
    "ax2.set_xlabel('Distance from SGP CF (km)')\n",
    "\n",
    "# panel 3, latitude slice\n",
    "ax3 = fig.add_axes(y_cut_panel_axes)\n",
    "display.plot_latitude_slice('reflectivity', lon=lon, lat=lat, vmin=vmin, vmax=vmax)\n",
    "\n",
    "# add a title\n",
    "slc_height = grid.axes['z_disp']['data'][level]\n",
    "dts = num2date(grid.axes['time']['data'], grid.axes['time']['units'])\n",
    "datestr = dts[0].strftime('%H:%M Z on %Y-%m-%d')\n",
    "title = 'Sliced at ' + str(slc_height) + ' meters at ' + datestr\n",
    "fig.text(0.5, 0.9, title)\n",
    "plt.show()\n",
    "\n"
   ]
  },
  {
   "cell_type": "code",
   "execution_count": null,
   "metadata": {
    "collapsed": true
   },
   "outputs": [],
   "source": [
    "pyart.map.grid_from_radars?"
   ]
  },
  {
   "cell_type": "code",
   "execution_count": null,
   "metadata": {
    "collapsed": true
   },
   "outputs": [],
   "source": []
  }
 ],
 "metadata": {
  "kernelspec": {
   "display_name": "Python 2",
   "language": "python",
   "name": "python2"
  },
  "language_info": {
   "codemirror_mode": {
    "name": "ipython",
    "version": 2
   },
   "file_extension": ".py",
   "mimetype": "text/x-python",
   "name": "python",
   "nbconvert_exporter": "python",
   "pygments_lexer": "ipython2",
   "version": "2.7.11"
  }
 },
 "nbformat": 4,
 "nbformat_minor": 0
}
