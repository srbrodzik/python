{
 "cells": [
  {
   "cell_type": "markdown",
   "metadata": {},
   "source": [
    "# Using Python to Access NCEI Archived NEXRAD Level 2 Data & Plotting Azimuths w.r.t. Radar Location -- CHILL"
   ]
  },
  {
   "cell_type": "markdown",
   "metadata": {},
   "source": [
    "This notebook shows how to access the THREDDS Data Server (TDS) instance that is serving up archived NEXRAD Level 2 data hosted on Amazon S3. The TDS provides a mechanism to query for available data files, as well as provides access to the data as native volume files, through OPeNDAP, and using its own CDMRemote protocol. Since we're using Python, we can take advantage of Unidata's Siphon package, which provides an easy API for talking to THREDDS servers.\n",
    "\n",
    "**NOTE:** Due to data charges, the TDS instance in AWS only allows access to .edu domains. For other users interested in using Siphon to access radar data, you can access recent (2 weeks') data by changing the server URL below to: http://thredds.ucar.edu/thredds/radarServer/nexrad/level2/IDD/\n",
    "\n",
    "**But first!**\n",
    "Bookmark these resources for when you want to use Siphon later!\n",
    "+ [latest Siphon documentation](http://siphon.readthedocs.org/en/latest/)\n",
    "+ [Siphon github repo](https://github.com/Unidata/siphon)\n",
    "+ [TDS documentation](http://www.unidata.ucar.edu/software/thredds/current/tds/TDS.html)"
   ]
  },
  {
   "cell_type": "markdown",
   "metadata": {},
   "source": [
    "## Downloading the single latest volume\n"
   ]
  },
  {
   "cell_type": "markdown",
   "metadata": {},
   "source": [
    "Just a bit of initial set-up to use inline figures and quiet some warnings."
   ]
  },
  {
   "cell_type": "code",
   "execution_count": 3,
   "metadata": {},
   "outputs": [],
   "source": [
    "import matplotlib\n",
    "import warnings\n",
    "warnings.filterwarnings(\"ignore\", category=matplotlib.cbook.MatplotlibDeprecationWarning)\n",
    "%matplotlib inline"
   ]
  },
  {
   "cell_type": "markdown",
   "metadata": {},
   "source": [
    "First we'll create an instance of RadarServer to point to the appropriate radar server access URL."
   ]
  },
  {
   "cell_type": "code",
   "execution_count": null,
   "metadata": {},
   "outputs": [],
   "source": [
    "from siphon.radarserver import RadarServer\n",
    "rs = RadarServer('http://thredds-aws.unidata.ucar.edu/thredds/radarServer/nexrad/level2/S3/')"
   ]
  },
  {
   "cell_type": "markdown",
   "metadata": {},
   "source": [
    "Next, we'll create a new query object to help request the data. Using the chaining methods, let's ask for the latest data at the radar KCYS (Cheyenne, WY). We see that when the query is represented as a string, it shows the encoded URL."
   ]
  },
  {
   "cell_type": "code",
   "execution_count": null,
   "metadata": {},
   "outputs": [],
   "source": [
    "from datetime import datetime, timedelta\n",
    "query = rs.query()\n",
    "query.stations('KCYS').time(datetime.utcnow())"
   ]
  },
  {
   "cell_type": "markdown",
   "metadata": {},
   "source": [
    "We can use the RadarServer instance to check our query, to make sure we have required parameters and that we have chosen valid station(s) and variable(s)\n"
   ]
  },
  {
   "cell_type": "code",
   "execution_count": null,
   "metadata": {},
   "outputs": [],
   "source": [
    "rs.validate_query(query)"
   ]
  },
  {
   "cell_type": "markdown",
   "metadata": {},
   "source": [
    "Make the request, which returns an instance of TDSCatalog; this handles parsing the returned XML information."
   ]
  },
  {
   "cell_type": "code",
   "execution_count": null,
   "metadata": {},
   "outputs": [],
   "source": [
    "catalog = rs.get_catalog(query)"
   ]
  },
  {
   "cell_type": "markdown",
   "metadata": {},
   "source": [
    "We can look at the datasets on the catalog to see what data we found by the query. We find one volume in the return, since we asked for the volume nearest to a single time."
   ]
  },
  {
   "cell_type": "code",
   "execution_count": null,
   "metadata": {},
   "outputs": [],
   "source": [
    "catalog.datasets"
   ]
  },
  {
   "cell_type": "markdown",
   "metadata": {},
   "source": [
    "We can pull that dataset out of the dictionary and look at the available access URLs. We see URLs for OPeNDAP, CDMRemote, and HTTPServer (direct download)."
   ]
  },
  {
   "cell_type": "code",
   "execution_count": null,
   "metadata": {},
   "outputs": [],
   "source": [
    "ds = list(catalog.datasets.values())[0]\n",
    "ds.access_urls"
   ]
  },
  {
   "cell_type": "markdown",
   "metadata": {},
   "source": [
    "We'll use the CDMRemote reader in Siphon and pass it the appropriate access URL."
   ]
  },
  {
   "cell_type": "code",
   "execution_count": null,
   "metadata": {},
   "outputs": [],
   "source": [
    "from siphon.cdmr import Dataset\n",
    "data = Dataset(ds.access_urls['CdmRemote'])"
   ]
  },
  {
   "cell_type": "markdown",
   "metadata": {},
   "source": [
    "We define some helper functions to make working with the data easier. One takes the raw data and converts it to floating point values with the missing data points appropriately marked. The other helps with converting the polar coordinates (azimuth and range) to Cartesian (x and y)."
   ]
  },
  {
   "cell_type": "code",
   "execution_count": null,
   "metadata": {
    "run_control": {
     "marked": false
    }
   },
   "outputs": [],
   "source": [
    "import numpy as np\n",
    "def raw_to_masked_float(var, data):\n",
    "    # Values come back signed. If the _Unsigned attribute is set, we need to convert\n",
    "    # from the range [-127, 128] to [0, 255].\n",
    "    if var._Unsigned:\n",
    "        data = data & 255\n",
    "\n",
    "    # Mask missing points\n",
    "    data = np.ma.array(data, mask=data==0)\n",
    "\n",
    "    # Convert to float using the scale and offset\n",
    "    return data * var.scale_factor + var.add_offset\n",
    "\n",
    "def polar_to_cartesian(az, rng):\n",
    "    az_rad = np.deg2rad(az)[:, None]\n",
    "    x = rng * np.sin(az_rad)\n",
    "    y = rng * np.cos(az_rad)\n",
    "    return x, y"
   ]
  },
  {
   "cell_type": "markdown",
   "metadata": {},
   "source": [
    "The CDMRemote reader provides an interface that is almost identical to the usual python NetCDF interface. We pull out the variables we need for azimuth and range, as well as the data itself."
   ]
  },
  {
   "cell_type": "code",
   "execution_count": null,
   "metadata": {},
   "outputs": [],
   "source": [
    "sweep = 0\n",
    "ref_var = data.variables['Reflectivity_HI']\n",
    "ref_data = ref_var[sweep]\n",
    "rng = data.variables['distanceR_HI'][:]\n",
    "az = data.variables['azimuthR_HI'][sweep]"
   ]
  },
  {
   "cell_type": "markdown",
   "metadata": {},
   "source": [
    "Then convert the raw data to floating point values and the polar coordinates to Cartesian."
   ]
  },
  {
   "cell_type": "code",
   "execution_count": null,
   "metadata": {},
   "outputs": [],
   "source": [
    "ref = raw_to_masked_float(ref_var, ref_data)\n",
    "x, y = polar_to_cartesian(az, rng)"
   ]
  },
  {
   "cell_type": "markdown",
   "metadata": {},
   "source": [
    "MetPy is a Python package for meteorology (Documentation: http://metpy.readthedocs.org and GitHub: http://github.com/MetPy/MetPy). We import MetPy and use it to get the colortable and value mapping information for the NWS Reflectivity data."
   ]
  },
  {
   "cell_type": "code",
   "execution_count": null,
   "metadata": {},
   "outputs": [],
   "source": [
    "from metpy.plots import ctables  # For NWS colortable\n",
    "ref_norm, ref_cmap = ctables.registry.get_with_steps('NWSStormClearReflectivity', -20, 0.5)"
   ]
  },
  {
   "cell_type": "markdown",
   "metadata": {},
   "source": [
    "Finally, we plot them up using matplotlib and cartopy. We create a helper function for making a map to keep things simpler later."
   ]
  },
  {
   "cell_type": "code",
   "execution_count": null,
   "metadata": {},
   "outputs": [],
   "source": [
    "import matplotlib.pyplot as plt\n",
    "import cartopy\n",
    "import cartopy.io.shapereader as shpreader\n",
    "import cartopy.geodesic as cgds\n",
    "#increase font size\n",
    "plt.rcParams.update({'font.size': 18})\n",
    "import matplotlib.patches as mpatches\n",
    "import shapely\n",
    "from pyproj import Geod\n",
    "\n",
    "def new_map(fig, lon, lat, azimuths):\n",
    "    # Create projection centered on the radar. This allows us to use x\n",
    "    # and y relative to the radar.\n",
    "    proj = cartopy.crs.LambertConformal(central_longitude=lon, central_latitude=lat)\n",
    "\n",
    "    # New axes with the specified projection\n",
    "    ax = fig.add_subplot(1, 1, 1, projection=proj)\n",
    "\n",
    "    # Add coastlines\n",
    "    ax.coastlines('10m', 'black', linewidth=2, zorder=2)\n",
    "    \n",
    "    #RRB: zoom in (or at least try to...)\n",
    "    ax.set_extent([lon-2, lon+2, lat-2.5, lat+1])\n",
    "    \n",
    "    # Grab state borders\n",
    "    state_borders = cartopy.feature.NaturalEarthFeature(\n",
    "        category='cultural', name='admin_1_states_provinces_lines',\n",
    "        scale='50m', facecolor='none')\n",
    "    ax.add_feature(state_borders, edgecolor='black', linewidth=1, zorder=3)\n",
    "    \n",
    "    #add county borders\n",
    "    reader = shpreader.Reader('countyl010g.shp')\n",
    "    counties = list(reader.geometries())\n",
    "    COUNTIES = cartopy.feature.ShapelyFeature(counties, cartopy.crs.PlateCarree())\n",
    "    ax.add_feature(COUNTIES, facecolor='none', edgecolor='gray')\n",
    "    \n",
    "    #add star at the location of the CHIVO radar\n",
    "    lat_CHIVO=40.44625\n",
    "    lon_CHIVO=-104.63708\n",
    "    ax.scatter(lon_CHIVO,lat_CHIVO,marker='*',s=100,color='k',transform=cartopy.crs.PlateCarree())\n",
    "\n",
    "    #add a ring at ~50 km from CHIVO\n",
    "    circle_points = cgds.Geodesic().circle(lon=lon_CHIVO, lat=lat_CHIVO, radius=50000, n_samples=100, endpoint=False)\n",
    "    geom = shapely.geometry.Polygon(circle_points)\n",
    "    ax.add_geometries((geom,), crs=cartopy.crs.PlateCarree(), facecolor='none', edgecolor='red', linewidth=2)\n",
    "\n",
    "    #add a ring at ~75 km from CHIVO\n",
    "    #circle_points = cgds.Geodesic().circle(lon=lon_CHIVO, lat=lat_CHIVO, radius=75000, n_samples=100, endpoint=False)\n",
    "    #geom = shapely.geometry.Polygon(circle_points)\n",
    "    #ax.add_geometries((geom,), crs=cartopy.crs.PlateCarree(), facecolor='none', edgecolor='red', linewidth=2)\n",
    "    \n",
    "    #add a ring at ~100 km from CHIVO\n",
    "    circle_points = cgds.Geodesic().circle(lon=lon_CHIVO, lat=lat_CHIVO, radius=100000, n_samples=100, endpoint=False)\n",
    "    geom = shapely.geometry.Polygon(circle_points)\n",
    "    ax.add_geometries((geom,), crs=cartopy.crs.PlateCarree(), facecolor='none', edgecolor='red', linewidth=2)\n",
    "\n",
    "    #add a ring at ~150 km from CHIVO\n",
    "    circle_points = cgds.Geodesic().circle(lon=lon_CHIVO, lat=lat_CHIVO, radius=150000, n_samples=100, endpoint=False)\n",
    "    geom = shapely.geometry.Polygon(circle_points)\n",
    "    ax.add_geometries((geom,), crs=cartopy.crs.PlateCarree(), facecolor='none', edgecolor='red', linewidth=2)\n",
    "    \n",
    "    #line points at azimuths\n",
    "    geod = Geod(ellps='sphere')\n",
    "    rng = 150 * 1000\n",
    "    for az in azimuths:\n",
    "        lon2, lat2, _ = geod.fwd(lon_CHIVO, lat_CHIVO, az, rng)\n",
    "        ax.plot([lon_CHIVO,lon2],[lat_CHIVO,lat2],'--k',transform=cartopy.crs.PlateCarree())\n",
    "        ax.text(lon2,lat2,az,transform=cartopy.crs.PlateCarree())\n",
    "    \n",
    "    return ax"
   ]
  },
  {
   "cell_type": "markdown",
   "metadata": {},
   "source": [
    "##### Use the function to make a new map and plot a colormapped view of the data"
   ]
  },
  {
   "cell_type": "code",
   "execution_count": null,
   "metadata": {},
   "outputs": [],
   "source": [
    "fig = plt.figure(figsize=(20, 20))\n",
    "\n",
    "az = np.arange(137, 200, 15)\n",
    "#az = []\n",
    "#az = [0, 10, 20, 30, 40, 50, 60, 70, 80, 90, 100, 110, 120, 130, 140, 150, 160, 170, 180, 190, 200, 210, 220, 230, 240, 250, 260, 270, 280, 290, 300, 310, 320, 330, 340, 350]\n",
    "ax = new_map(fig, data.StationLongitude, data.StationLatitude, az)\n",
    "cf = ax.pcolormesh(x, y, ref, cmap=ref_cmap, norm=ref_norm, zorder=0)\n",
    "cbar_ax = fig.add_axes([0.92, 0.225, 0.015, 0.55])\n",
    "cbar = fig.colorbar(cf, cax=cbar_ax)\n",
    "plt.title(datetime.utcnow())\n",
    "plt.savefig('KYCS+CHILL_with100kmring_and_azimuths.png',bbox_inches='tight')"
   ]
  },
  {
   "cell_type": "code",
   "execution_count": null,
   "metadata": {},
   "outputs": [],
   "source": []
  },
  {
   "cell_type": "code",
   "execution_count": null,
   "metadata": {},
   "outputs": [],
   "source": []
  },
  {
   "cell_type": "code",
   "execution_count": null,
   "metadata": {},
   "outputs": [],
   "source": []
  },
  {
   "cell_type": "code",
   "execution_count": null,
   "metadata": {},
   "outputs": [],
   "source": []
  }
 ],
 "metadata": {
  "kernelspec": {
   "display_name": "NPL-3.7.9",
   "language": "python",
   "name": "npl-3.7.9"
  },
  "language_info": {
   "codemirror_mode": {
    "name": "ipython",
    "version": 3
   },
   "file_extension": ".py",
   "mimetype": "text/x-python",
   "name": "python",
   "nbconvert_exporter": "python",
   "pygments_lexer": "ipython3",
   "version": "3.7.9"
  }
 },
 "nbformat": 4,
 "nbformat_minor": 4
}
