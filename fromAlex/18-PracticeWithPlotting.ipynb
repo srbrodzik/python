{
 "cells": [
  {
   "cell_type": "markdown",
   "metadata": {},
   "source": [
    "<h1>18. Practice with Plotting</h1>\n",
    "<h2>11/17/20</h2>\n",
    "\n",
    "<h2>18.0 Last Time...</h2>\n",
    "<ul>\n",
    "    <li>The scatter() function can make use of keyword strings to set the shape and color of points on the plot.</li>\n",
    "    <li>We can also use categorical variables to plot groups of information.</li>\n",
    "    <li>There are many line properties that can be edited!</li>\n",
    "    <li>Subplots can be added using the subplot() function.</li>\n",
    "    <li>Text can be added or annotated on plots.</li>\n",
    "    <li>Nonlinear axes can be added using xscale() or yscale().</li>\n",
    "</ul>"
   ]
  },
  {
   "cell_type": "markdown",
   "metadata": {},
   "source": [
    "<h2>18.1 Exercises</h2>\n",
    "\n",
    "<b>1. Create a line plot using the x-data 1,2,3,4 and the y-data 1,2.1,1.8,4.3. Provide a label for the x-axis and the y-axis (you can make these up), and plot the data with the x-axis labeled from 0 to 8 and the y-axis labeled from -2 to 7. Have the line be red, with asterisks.</b>"
   ]
  },
  {
   "cell_type": "code",
   "execution_count": null,
   "metadata": {},
   "outputs": [],
   "source": []
  },
  {
   "cell_type": "markdown",
   "metadata": {},
   "source": [
    "<b>2. With the above plot, create a title with a font size of 36 and a text label at (2.5, 2.0).</b>"
   ]
  },
  {
   "cell_type": "code",
   "execution_count": null,
   "metadata": {},
   "outputs": [],
   "source": []
  },
  {
   "cell_type": "markdown",
   "metadata": {},
   "source": [
    "<h2>18.2 Saving Figures to a File</h2>\n",
    "\n",
    "This is very useful when you're working in something like Jupyter notebooks! A useful way to go about this is to use plt.savefig(). In some systems, you'll want to call savefig() before show(), just to be safe.\n",
    "\n",
    "Before saving the figure, you can set the size of it, which is based on how many inches the figure should be."
   ]
  },
  {
   "cell_type": "code",
   "execution_count": null,
   "metadata": {},
   "outputs": [],
   "source": [
    "import matplotlib.pyplot as plt\n",
    "\n",
    "plt.figure(1,figsize=(3,1),dpi=300)\n",
    "plt.plot([0,1,2,3],[1,2,3,4])\n",
    "plt.savefig('testplot.png',dpi=300)\n",
    "plt.show()"
   ]
  },
  {
   "cell_type": "markdown",
   "metadata": {},
   "source": [
    "In a Jupyter notebook, you can also right-click on a figure and look for the \"for browser menu\" option (in Windows, it's Shift+Right Click) - you can then access the normal web browser right-click menu, which gives you the option to save a figure."
   ]
  },
  {
   "cell_type": "markdown",
   "metadata": {},
   "source": [
    "<h2>18.3 Another Example</h2>\n",
    "\n",
    "Let's use what we've learned to make a nice plot of air temperature from our old NetCDF file."
   ]
  },
  {
   "cell_type": "code",
   "execution_count": null,
   "metadata": {},
   "outputs": [],
   "source": [
    "import scipy.io as S\n",
    "import matplotlib.pyplot as plt\n",
    "\n",
    "fileobj = S.netcdf_file('air.mon.mean.nc',mode='r')\n",
    "\n",
    "T_arctic = fileobj.variables['air'][0:100,0,0]\n",
    "T_units = fileobj.variables['air'].units.decode('utf-8')\n",
    "time = fileobj.variables['time'][0:100]\n",
    "time_units = fileobj.variables['time'].units.decode('utf-8')\n",
    "\n",
    "plt.plot(time,T_arctic)\n",
    "plt.xlabel('Time [' + time_units + ']')\n",
    "plt.ylabel('Temperature [' + T_units + ']')\n",
    "\n",
    "plt.savefig('exercise-T-line.png')\n",
    "plt.show()"
   ]
  },
  {
   "cell_type": "markdown",
   "metadata": {},
   "source": [
    "<h2>18.4 Take-Home Points</h2>\n",
    "<ul>\n",
    "    <li>You can save a figure to a file using savefig().</li>\n",
    "</ul>"
   ]
  },
  {
   "cell_type": "code",
   "execution_count": null,
   "metadata": {},
   "outputs": [],
   "source": []
  }
 ],
 "metadata": {
  "kernelspec": {
   "display_name": "Python 3",
   "language": "python",
   "name": "python3"
  },
  "language_info": {
   "codemirror_mode": {
    "name": "ipython",
    "version": 3
   },
   "file_extension": ".py",
   "mimetype": "text/x-python",
   "name": "python",
   "nbconvert_exporter": "python",
   "pygments_lexer": "ipython3",
   "version": "3.7.4"
  }
 },
 "nbformat": 4,
 "nbformat_minor": 4
}
