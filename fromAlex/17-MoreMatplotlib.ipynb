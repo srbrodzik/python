{
 "cells": [
  {
   "cell_type": "markdown",
   "metadata": {},
   "source": [
    "<h1>17. More Matplotlib</h1>\n",
    "<h2>11/16/2020</h2>\n",
    "\n",
    "<h2>17.0 Last Time...</h2>\n",
    "<ul>\n",
    "    <li><b>matplotlib</b>'s <b>pyplot</b> module lets us use Matlab's powerful plotting tools in Python.</li>\n",
    "    <li>The <b>matplotlib.pyplot.plot()</b> function is a simple way to plot 2-D data.</li>\n",
    "    <li>We can specify axis limits as well as line style and color.</li>\n",
    "</ul>"
   ]
  },
  {
   "cell_type": "markdown",
   "metadata": {},
   "source": [
    "<h2>17.1 Keyword Strings</h2>\n",
    "\n",
    "With a normal scatterplot, you can convey two pieces of information for each point: (1) what the x value is, and (2) what the y value is. You can get additional information crammed into one plot by allowing the size and color of the points being plotted to vary!\n",
    "\n",
    "matplotlib.pyplot has a handy function for this particular application called <b>scatter()</b>. By default, you only need two arguments that consist of arrays of your x data and your y data."
   ]
  },
  {
   "cell_type": "code",
   "execution_count": null,
   "metadata": {},
   "outputs": [],
   "source": [
    "import numpy as np\n",
    "import matplotlib.pyplot as plt\n",
    "\n",
    "# Let's have our x values just be a count from 0 to 49.\n",
    "var_1 = np.arange(50)\n",
    "\n",
    "# And let's randomly generate some y values!\n",
    "var_2 = var_1 + 10*np.random.randn(50)\n",
    "\n",
    "plt.scatter(var_1,var_2)\n",
    "plt.xlabel('Variable 1')\n",
    "plt.ylabel('Variable 2')\n",
    "plt.show()"
   ]
  },
  {
   "cell_type": "markdown",
   "metadata": {},
   "source": [
    "Okay! So we have some information being shown here: we can see that there's a general positive trend going on here. But what if we have additional information (say this is temperature versus dewpoint temperature and we also know something about relative humidity)? We can convey that information using the 'c' argument in scatter(): the color of the data points."
   ]
  },
  {
   "cell_type": "code",
   "execution_count": null,
   "metadata": {},
   "outputs": [],
   "source": [
    "# Now we have a third variable that's a new set of random numbers from 0 to 50.\n",
    "var_3 = np.random.randint(0,50,50)\n",
    "\n",
    "plt.scatter(var_1,var_2,c = var_3)\n",
    "plt.xlabel('Variable 1')\n",
    "plt.ylabel('Variable 2')\n",
    "plt.show()"
   ]
  },
  {
   "cell_type": "markdown",
   "metadata": {},
   "source": [
    "More information has been conveyed! Let's try adding even more information - say, a fourth meteorological variable like wind speed - through the size of the circle, which is the 's' argument in scatter(). This marker size is in 'points' squared."
   ]
  },
  {
   "cell_type": "code",
   "execution_count": null,
   "metadata": {},
   "outputs": [],
   "source": [
    "var_4 = abs(np.random.randn(50))*100 #This gives random numbers on a N(0,1) Gaussian.\n",
    "\n",
    "plt.scatter(var_1,var_2,c = var_3,s = var_4)\n",
    "plt.xlabel('Variable 1')\n",
    "plt.ylabel('Variable 2')\n",
    "plt.show()"
   ]
  },
  {
   "cell_type": "markdown",
   "metadata": {},
   "source": [
    "<h2>17.2 Categorical Variables</h2>\n",
    "\n",
    "Sometimes you have data in the form of categories! You may have, for instance, two different sets of tornado data (like in Homework 3), or three different future climate regimes, or five different locations. Any sort of comparative research will require this sort of categorical data analysis!"
   ]
  },
  {
   "cell_type": "code",
   "execution_count": null,
   "metadata": {},
   "outputs": [],
   "source": [
    "# Let's look at the example of three pieces of data.\n",
    "# They might be mean values of three parameters, average grades on an assignment, etc.\n",
    "\n",
    "names = ['group_a','group_b','group_c']\n",
    "values = [1,10,100]\n",
    "\n",
    "# We can start with a bar plot.\n",
    "plt.bar(names,values)"
   ]
  },
  {
   "cell_type": "code",
   "execution_count": null,
   "metadata": {},
   "outputs": [],
   "source": [
    "# We can also create a scatterplot as seen above.\n",
    "plt.scatter(names,values)"
   ]
  },
  {
   "cell_type": "code",
   "execution_count": null,
   "metadata": {},
   "outputs": [],
   "source": [
    "# Or a line plot!\n",
    "plt.plot(names,values)"
   ]
  },
  {
   "cell_type": "markdown",
   "metadata": {},
   "source": [
    "<h2>17.3 Controlling Line Properties</h2>\n",
    "\n",
    "There are a bunch of line attributes you can set! The line type/color/marker examples we saw earlier are shortcuts for common configurations, but there are a <i>lot</i> more. You can find the full list by googling <b>matplotlib.lines.Line2d</b>, or by calling the <b>plt.setp()</b> function with a line or lines as an argument."
   ]
  },
  {
   "cell_type": "code",
   "execution_count": null,
   "metadata": {},
   "outputs": [],
   "source": [
    "lines = plt.plot([1,2,3])\n",
    "plt.setp(lines)"
   ]
  },
  {
   "cell_type": "markdown",
   "metadata": {},
   "source": [
    "Let's say you want to increase the width of a given line. You'd want to use the <b>linewidth</b> argument."
   ]
  },
  {
   "cell_type": "code",
   "execution_count": null,
   "metadata": {},
   "outputs": [],
   "source": [
    "plt.plot([1,2,3],linewidth=5.0)"
   ]
  },
  {
   "cell_type": "code",
   "execution_count": null,
   "metadata": {},
   "outputs": [],
   "source": [
    "# Likewise, you can set the color.\n",
    "\n",
    "plt.plot([1,2,3],linewidth=5.0,color='purple')"
   ]
  },
  {
   "cell_type": "code",
   "execution_count": null,
   "metadata": {},
   "outputs": [],
   "source": [
    "# If you have markers, you can change their properties as well!\n",
    "\n",
    "plt.plot([1,2,3],'-o',markeredgecolor='red',markerfacecolor='yellow')"
   ]
  },
  {
   "cell_type": "markdown",
   "metadata": {},
   "source": [
    "<h2>17.4 Multiple Figures and Axes</h2>\n",
    "\n",
    "We often want to deal with multiple subplots within the same figure. As a behind-the-scenes note, pyplot keeps track of the \"current\" figure and axes, which can be referred to using <b>gcf()</b> and <b>gca()</b>, respectively. You probably won't have to worry about this too often.\n",
    "\n",
    "The <b>subplot()</b> function refers to a particular subplot within a set. It has three arguments: number of rows, number of columns, and then the specific number of this plot (which ranges from 1 to number_rows*number_columns)."
   ]
  },
  {
   "cell_type": "code",
   "execution_count": null,
   "metadata": {},
   "outputs": [],
   "source": [
    "# Let's create a couple of subplots of fairly complex data:\n",
    "# a damped oscillation and an undamped oscillation.\n",
    "\n",
    "# Start by creating a function that will give us a regular oscillation.\n",
    "\n",
    "def f(t):\n",
    "    return np.exp(-t) * np.cos(2*np.pi*t)\n",
    "\n",
    "# Next, let's have two sets of x values:\n",
    "# the first is more widely spaced than the second,\n",
    "# but they cover the same range of data.\n",
    "\n",
    "t1 = np.arange(0.0,5.0,0.1)\n",
    "t2 = np.arange(0.0,5.0,0.02)\n",
    "\n",
    "# First, we create a setup where we have two rows and 1 column of\n",
    "# plots, and we're referring to the first plot.\n",
    "plt.subplot(2,1,1)\n",
    "plt.plot(t1,f(t1),'bo',t2,f(t2),'k')\n",
    "\n",
    "# Next, we'll refer to the second plot.\n",
    "plt.subplot(2,1,2)\n",
    "plt.plot(t2,np.cos(2*np.pi*t2),'r--')\n",
    "plt.show()"
   ]
  },
  {
   "cell_type": "markdown",
   "metadata": {},
   "source": [
    "<b>Exercise:</b> Make 4 subplots (2 rows, 2 columns) using the x values below and plot whatever functions you like on them (sin(x), cos(x), 2/x, etc.)!"
   ]
  },
  {
   "cell_type": "code",
   "execution_count": null,
   "metadata": {},
   "outputs": [],
   "source": [
    "import numpy as np\n",
    "import matplotlib.pyplot as plt\n",
    "\n",
    "x = np.arange(0.0,5.0,0.01)\n",
    "\n",
    "\n"
   ]
  },
  {
   "cell_type": "markdown",
   "metadata": {},
   "source": [
    "<h2>17.5 Working with Text</h2>\n",
    "\n",
    "You can use the <b>text()</b> function to place text in any arbitrary location. As seen above, some useful text-related functions include <b>xlabel()</b>, <b>ylabel()</b>, and <b>title()</b>.\n",
    "\n",
    "As a side note, if you want to use mathematical expressions in text, it can get a little confusing. You'll want to start your string with the letter r, then surround it with quotation marks followed by dollar signs. The conventions are the same as in LaTeX, and you can find the details by googling 'LaTeX math'."
   ]
  },
  {
   "cell_type": "code",
   "execution_count": null,
   "metadata": {},
   "outputs": [],
   "source": [
    "# Let's generate a histogram from a set of random values in a distribution\n",
    "# with a specified mean and standard deviation.\n",
    "mu,sigma = 60,15\n",
    "x = mu + sigma * np.random.randn(10000)\n",
    "\n",
    "# Let's create a histogram!\n",
    "plt.hist(x,50,density=1,facecolor='g')\n",
    "\n",
    "plt.xlabel('Grades')\n",
    "plt.ylabel('Probability')\n",
    "plt.title('Histogram of Grades',fontsize=16)\n",
    "plt.text(20,.025,r'$\\mu=60,\\ \\sigma=15$',color='b')\n",
    "plt.axis([0,100,0,0.03])\n",
    "plt.grid(True)\n",
    "plt.show()"
   ]
  },
  {
   "cell_type": "markdown",
   "metadata": {},
   "source": [
    "There's also a method of annotating text that is called, as you might expect, <b>annotate()</b>. An example follows!"
   ]
  },
  {
   "cell_type": "code",
   "execution_count": null,
   "metadata": {},
   "outputs": [],
   "source": [
    "t = np.arange(0.0,5.0,0.01)\n",
    "s = np.cos(2*np.pi*t)\n",
    "\n",
    "plt.plot(t,s)\n",
    "plt.annotate('local max',xy=(2,1),\n",
    "            xytext=(3,1.5),\n",
    "            arrowprops = dict(facecolor='black',shrink=0.05))\n",
    "plt.ylim(-2,2)\n",
    "plt.show()"
   ]
  },
  {
   "cell_type": "markdown",
   "metadata": {},
   "source": [
    "<h2>17.6 Nonlinear Axes</h2>\n",
    "\n",
    "If your data spans many orders of magnitude, it can be helpful to create nonlinear axes using <b>xscale()</b> or <b>yscale()</b>."
   ]
  },
  {
   "cell_type": "code",
   "execution_count": null,
   "metadata": {},
   "outputs": [],
   "source": [
    "# Let's do something called fixing the random state.\n",
    "# Typically when you generate random numbers, every time you\n",
    "# run the code you'll get a different result.\n",
    "# Setting a particular random seed will ensure that we can reproduce\n",
    "# the same results every time for demonstration purposes.\n",
    "\n",
    "np.random.seed(19680801)\n",
    "\n",
    "# Let's just make up some data in the interval (0,1)\n",
    "y = np.random.normal(loc=0.5,scale=0.4,size=1000)\n",
    "y = y[(y > 0) & (y < 1)]\n",
    "y.sort()\n",
    "x = np.arange(len(y))\n",
    "\n",
    "plt.subplot(1,2,1)\n",
    "plt.plot(x,y)\n",
    "plt.yscale('linear')\n",
    "plt.title('linear')\n",
    "plt.grid(True)\n",
    "\n",
    "plt.subplot(1,2,2)\n",
    "plt.plot(x,y)\n",
    "plt.yscale('log')\n",
    "plt.title('log')\n",
    "plt.grid(True)\n",
    "plt.show()"
   ]
  },
  {
   "cell_type": "markdown",
   "metadata": {},
   "source": [
    "<h2>17.7 Take-Home Points</h2>\n",
    "<ul>\n",
    "    <li>The scatter() function can make use of keyword strings to set the shape and color of points on the plot.</li>\n",
    "    <li>We can also use categorical variables to plot groups of information.</li>\n",
    "    <li>There are many line properties that can be edited!</li>\n",
    "    <li>Subplots can be added using the subplot() function.</li>\n",
    "    <li>Text can be added or annotated on plots.</li>\n",
    "    <li>Nonlinear axes can be added using xscale() or yscale().</li>\n",
    "</ul>"
   ]
  },
  {
   "cell_type": "code",
   "execution_count": null,
   "metadata": {},
   "outputs": [],
   "source": []
  }
 ],
 "metadata": {
  "kernelspec": {
   "display_name": "Python 3",
   "language": "python",
   "name": "python3"
  },
  "language_info": {
   "codemirror_mode": {
    "name": "ipython",
    "version": 3
   },
   "file_extension": ".py",
   "mimetype": "text/x-python",
   "name": "python",
   "nbconvert_exporter": "python",
   "pygments_lexer": "ipython3",
   "version": "3.7.4"
  }
 },
 "nbformat": 4,
 "nbformat_minor": 4
}
