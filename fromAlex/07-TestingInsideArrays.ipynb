{
 "cells": [
  {
   "cell_type": "markdown",
   "metadata": {},
   "source": [
    "<h1>7. Testing Inside Arrays</h1>\n",
    "\n",
    "<h2>10/13/2020</h2>"
   ]
  },
  {
   "cell_type": "markdown",
   "metadata": {},
   "source": [
    "<h2>7.0 Last Time...</h2>\n",
    "<ul>\n",
    "    <li>An array is NumPy's version of a list, which allows you to work with matrices.</li>\n",
    "    <li>All elements of an array are of the same type.</li>\n",
    "    <li>You can either create a new array or convert an existing list into one.</li>\n",
    "    <li>The zeros() function is useful for initializing an array when you know the shape and size but not the contents.</li>\n",
    "    <li>The arange() function serves a similar purpose to the range() function with lists.</li>\n",
    "    <li>Similar to lists, arrays can be sliced, but arrays can be sliced across each of their dimensions.</li>\n",
    "</ul>"
   ]
  },
  {
   "cell_type": "code",
   "execution_count": null,
   "metadata": {},
   "outputs": [],
   "source": [
    "#1. What is the code to create a 4-row, 5-column array of zeros and assign it to the variable a?\n",
    "\n"
   ]
  },
  {
   "cell_type": "code",
   "execution_count": null,
   "metadata": {},
   "outputs": [],
   "source": [
    "#2. Using array a from above, answer the following questions:\n",
    "\n",
    "a = np.array([[2,3.2,5.5,-6.4,-2.2,2.4],\n",
    "              [1, 22,  4, 0.1, 5.3, -9],\n",
    "              [3,  1,2.1,  21, 1.1, -2]])\n",
    "\n",
    "#a. What is a[:,3]?\n",
    "\n",
    "#b. What is a[1:4,0:2]?\n",
    "\n",
    "#c. What will b = a[1:,2] do?\n"
   ]
  },
  {
   "cell_type": "markdown",
   "metadata": {},
   "source": [
    "<h2>7.1 Array Inquiry</h2>\n",
    "\n",
    "There are a series of functions within NumPy that we can use to gain information about a given array.\n",
    "\n",
    "To return the <b>shape</b> of an array (i.e., its dimensions), we use numpy.shape().\n",
    "\n",
    "To return the <b>number of dimensions</b> of an array, we use numpy.ndim().\n",
    "\n",
    "To return the <b>number of elements</b> in an array, we use numpy.size()."
   ]
  },
  {
   "cell_type": "code",
   "execution_count": null,
   "metadata": {},
   "outputs": [],
   "source": [
    "# Don't forget to import numpy!\n",
    "import numpy as np\n",
    "\n",
    "# This is the example array from yesterday's lecture.\n",
    "a = np.array([[2,3.2,5.5,-6.4,-2.2,2.4],\n",
    "              [1, 22,  4, 0.1, 5.3, -9],\n",
    "              [3,  1,2.1,  21, 1.1, -2]])\n",
    "\n",
    "# Array shape.\n",
    "print(np.shape(a))"
   ]
  },
  {
   "cell_type": "code",
   "execution_count": null,
   "metadata": {},
   "outputs": [],
   "source": [
    "# Array number of dimensions.\n",
    "print(np.ndim(a))"
   ]
  },
  {
   "cell_type": "code",
   "execution_count": null,
   "metadata": {},
   "outputs": [],
   "source": [
    "# Array number of elements.\n",
    "print(np.size(a))"
   ]
  },
  {
   "cell_type": "markdown",
   "metadata": {},
   "source": [
    "If you want to search within an array for the location of values matching a particular criterion (useful when you have a giant dataset!), you can use numpy.where()."
   ]
  },
  {
   "cell_type": "code",
   "execution_count": null,
   "metadata": {},
   "outputs": [],
   "source": [
    "# Search for all places within the array with negative values.\n",
    "print(np.where(a < 0))"
   ]
  },
  {
   "cell_type": "markdown",
   "metadata": {},
   "source": [
    "Once you have the locations where the criterion is met, you can then modify only those values!"
   ]
  },
  {
   "cell_type": "code",
   "execution_count": null,
   "metadata": {},
   "outputs": [],
   "source": [
    "# This code will look for all the negative values in the array and change them to positive.\n",
    "import numpy as np\n",
    "\n",
    "a = np.array([[2,3.2,5.5,-6.4,-2.2,2.4],\n",
    "              [1, 22,  4, 0.1, 5.3, -9],\n",
    "              [3,  1,2.1,  21, 1.1, -2]])\n",
    "\n",
    "c = np.where(a < 0)\n",
    "a[c] = -a[c]\n",
    "\n",
    "print(a)"
   ]
  },
  {
   "cell_type": "markdown",
   "metadata": {},
   "source": [
    "You can also create a list of all values within an array matching a particular criterion.\n",
    "\n",
    "(We'll see more on array testing soon...)"
   ]
  },
  {
   "cell_type": "code",
   "execution_count": null,
   "metadata": {},
   "outputs": [],
   "source": [
    "import numpy as np\n",
    "\n",
    "a = np.array([[2,3.2,5.5,-6.4,-2.2,2.4],\n",
    "              [1, 22,  4, 0.1, 5.3, -9],\n",
    "              [3,  1,2.1,  21, 1.1, -2]])\n",
    "\n",
    "b = a[a < 0]\n",
    "print(b)"
   ]
  },
  {
   "cell_type": "markdown",
   "metadata": {},
   "source": [
    "<h2>7.2 Array Manipulation</h2>\n",
    "\n",
    "Rather than just finding things out about arrays, NumPy also allows you to manipulate arrays. Some of these come from matrix algebra, but others are just ways to shift the data around into useable formats. Here are a few examples:\n",
    "<ul>\n",
    "    <li><b>numpy.reshape()</b>: reshape an array to the desired dimensions.</li>\n",
    "    <li><b>numpy.transpose()</b>: transpose an array (flip rows and columns, for example).</li>\n",
    "    <li><b>numpy.ravel()</b>: \"flatten\" an array back into a 1D vector.</li>\n",
    "    <li><b>numpy.concatenate()</b>: concatenate arrays.</li>\n",
    "    <li><b>numpy.repeat()</b>: repeat array elements.</li>\n",
    "</ul>"
   ]
  },
  {
   "cell_type": "code",
   "execution_count": null,
   "metadata": {},
   "outputs": [],
   "source": [
    "import numpy as np\n",
    "\n",
    "# Let's create some arrays to play with.\n",
    "\n",
    "a = np.arange(6)\n",
    "b = np.arange(8)\n",
    "c = np.array([[2,3.2,5.5,-6.4,-2.2,2.4],\n",
    "              [1, 22,  4, 0.1, 5.3, -9],\n",
    "              [3,  1,2.1,  21, 1.1, -2]])\n",
    "print(a)\n",
    "print(b)\n",
    "print(c)"
   ]
  },
  {
   "cell_type": "code",
   "execution_count": null,
   "metadata": {},
   "outputs": [],
   "source": [
    "# First, reshape a from a 1x6 to a 2x3 array:\n",
    "print(np.reshape(a,(2,3)))"
   ]
  },
  {
   "cell_type": "code",
   "execution_count": null,
   "metadata": {},
   "outputs": [],
   "source": [
    "# Next, transpose c from a 3x6 to a 6x3 array:\n",
    "print(np.transpose(c))"
   ]
  },
  {
   "cell_type": "code",
   "execution_count": null,
   "metadata": {},
   "outputs": [],
   "source": [
    "# Try \"flattening\" c into a 1-D array:\n",
    "print(np.ravel(c))"
   ]
  },
  {
   "cell_type": "code",
   "execution_count": null,
   "metadata": {},
   "outputs": [],
   "source": [
    "# Now try concatenating (combining) the two 1-D arrays:\n",
    "print(np.concatenate((a,b))) # This is another function that needs a double-parentheses\n",
    "                             # because there are other options that can be changed in the function."
   ]
  },
  {
   "cell_type": "code",
   "execution_count": null,
   "metadata": {},
   "outputs": [],
   "source": [
    "# Print array a and repeat each value 3 times:\n",
    "print(np.repeat(a,3))"
   ]
  },
  {
   "cell_type": "markdown",
   "metadata": {},
   "source": [
    "<h2>7.3 Array Operations</h2>\n",
    "\n",
    "<h3>7.3.1 Looping (slow and steady)</h3>\n",
    "\n",
    "As an example of what's going on \"under the hood\", one way you can perform operations on an array is simply to loop through every single value within that array and perform the operation on each element.\n",
    "\n",
    "As you might imagine, this can get <i>tedious</i>."
   ]
  },
  {
   "cell_type": "code",
   "execution_count": null,
   "metadata": {},
   "outputs": [],
   "source": [
    "# Let's create two arrays and multiply them together, element by element.\n",
    "\n",
    "import numpy as np\n",
    "\n",
    "a = np.array([[2, 3.2, 5.5, -6.4],\n",
    "             [3,   1, 2.1,   21]])\n",
    "b = np.array([[4, 1.2,  -4, 9.1],\n",
    "             [6,  21, 1.5, -27]])\n",
    "\n",
    "# Let's now get the shape of the arrays (they have the same shape, so we'll just get a's shape).\n",
    "\n",
    "shape_a = np.shape(a)\n",
    "print(shape_a)"
   ]
  },
  {
   "cell_type": "code",
   "execution_count": null,
   "metadata": {},
   "outputs": [],
   "source": [
    "# Next, let's create a matrix of zeros in the shape of the element-by-element product we eventually want.\n",
    "\n",
    "product_ab = np.zeros(shape_a)\n",
    "print(product_ab)"
   ]
  },
  {
   "cell_type": "code",
   "execution_count": null,
   "metadata": {},
   "outputs": [],
   "source": [
    "# Finally, we loop over all x values and all y values using arange.\n",
    "\n",
    "for i in np.arange(shape_a[0]):\n",
    "    for j in np.arange(shape_a[1]):\n",
    "        product_ab[i,j] = a[i,j] * b[i,j]\n",
    "        \n",
    "        print(product_ab)"
   ]
  },
  {
   "cell_type": "markdown",
   "metadata": {},
   "source": [
    "<h3>7.3.2 Array Syntax (quick and efficient)</h3>\n",
    "\n",
    "...alternatively, we could do this using built-in syntax that operates on the entire array at once."
   ]
  },
  {
   "cell_type": "code",
   "execution_count": null,
   "metadata": {},
   "outputs": [],
   "source": [
    "import numpy as np\n",
    "\n",
    "a = np.array([[2, 3.2, 5.5, -6.4],\n",
    "             [3,   1, 2.1,   21]])\n",
    "b = np.array([[4, 1.2,  -4, 9.1],\n",
    "             [6,  21, 1.5, -27]])\n",
    "\n",
    "product_ab = a*b # Note that this method assumes the arrays are the same size.\n",
    "        \n",
    "print(product_ab)"
   ]
  },
  {
   "cell_type": "markdown",
   "metadata": {},
   "source": [
    "Well, okay. That does seem a little easier."
   ]
  },
  {
   "cell_type": "code",
   "execution_count": null,
   "metadata": {},
   "outputs": [],
   "source": [
    "# Let's try another example. Start with a simple 1-D array \n",
    "# that's just the integers from 0 to 9. \n",
    "\n",
    "a = np.arange(10)\n",
    "print(a)\n",
    "\n",
    "# Now try some operations on it!"
   ]
  },
  {
   "cell_type": "code",
   "execution_count": null,
   "metadata": {},
   "outputs": [],
   "source": [
    "print(a*2)"
   ]
  },
  {
   "cell_type": "code",
   "execution_count": null,
   "metadata": {},
   "outputs": [],
   "source": [
    "print(a+a*2)"
   ]
  },
  {
   "cell_type": "code",
   "execution_count": null,
   "metadata": {},
   "outputs": [],
   "source": [
    "print((a+a*2)*2)"
   ]
  },
  {
   "cell_type": "markdown",
   "metadata": {},
   "source": [
    "<h2>7.4 Testing Inside an Array</h2>"
   ]
  },
  {
   "cell_type": "markdown",
   "metadata": {},
   "source": [
    "Let's return to logical testing within an array. NumPy has several alternative ways to do logical tests: for instance, we can use <b>\\></b> as 'greater than', or we can use <b>numpy.greater()</b> for the same result."
   ]
  },
  {
   "cell_type": "code",
   "execution_count": null,
   "metadata": {},
   "outputs": [],
   "source": [
    "import numpy as np\n",
    "\n",
    "a = np.arange(6)\n",
    "print(a)\n",
    "print(a > 3)           # This uses a more traditional logical format.\n",
    "print(np.greater(a,3)) # This uses NumPy's built-in function."
   ]
  },
  {
   "cell_type": "markdown",
   "metadata": {},
   "source": [
    "Unfortunately, the same doesn't apply to Python's built-in <b>and</b> and <b>or</b> functions; in those cases, you have to use NumPy's numpy.logical_and() and numpy.logical_or() functions."
   ]
  },
  {
   "cell_type": "code",
   "execution_count": null,
   "metadata": {},
   "outputs": [],
   "source": [
    "# Let's write code that outputs 'True' only when a > 1 and a <= 3.\n",
    "\n",
    "a = np.arange(6)\n",
    "print((a>1) and (a<=3))"
   ]
  },
  {
   "cell_type": "code",
   "execution_count": null,
   "metadata": {},
   "outputs": [],
   "source": [
    "print(np.logical_and(a > 1, a <= 3))"
   ]
  },
  {
   "cell_type": "markdown",
   "metadata": {},
   "source": [
    "<h2>7.5 Take-Home Points</h2>\n",
    "<ul>\n",
    "    <li>You can use functions within NumPy to find the shape, number of dimensions, and number of elements in any array.</li>\n",
    "    <li><b>numpy.where()</b> will let you find the locations of elements within an array that meet a specified criterion.</li>\n",
    "    <li>Some functions within NumPy allow you to manipulate arrays, such as reshaping, transposing, \"unraveling\", concatenation, and repeating individual array elements.</li>\n",
    "    <li>When you're in a situation with multiple nested loops, often you can instead perform all operations a lot more easily by using array syntax.</li>\n",
    "    <li>Mathematical operations act on arrays elementwise.</li>\n",
    "    <li>When testing within an array, <b>and</b> and <b>or</b> cannot be used; instead, use NumPy's built-in functions.</li>\n",
    "</ul>"
   ]
  },
  {
   "cell_type": "code",
   "execution_count": null,
   "metadata": {},
   "outputs": [],
   "source": []
  }
 ],
 "metadata": {
  "kernelspec": {
   "display_name": "Python 3",
   "language": "python",
   "name": "python3"
  },
  "language_info": {
   "codemirror_mode": {
    "name": "ipython",
    "version": 3
   },
   "file_extension": ".py",
   "mimetype": "text/x-python",
   "name": "python",
   "nbconvert_exporter": "python",
   "pygments_lexer": "ipython3",
   "version": "3.7.4"
  }
 },
 "nbformat": 4,
 "nbformat_minor": 4
}
