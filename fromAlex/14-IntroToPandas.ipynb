{
 "cells": [
  {
   "cell_type": "markdown",
   "metadata": {},
   "source": [
    "<h1>14. Introduction to Pandas</h1>\n",
    "<h2>11/4/2020</h2>\n",
    "\n",
    "<h2>14.0 Last Time...</h2>\n",
    "<ul>\n",
    "    <li>The <b>operator</b> package enables us to use a function called <b>attrgetter()</b> to grab attribute information from various classes.</li>\n",
    "    <li>The <b>sorted()</b> function lets us sort data alphabetically or numerically as needed.</li>\n",
    "    <li>NumPy's <b>meshgrid()</b> module lets us create a grid from lat/lon vectors.</li> \n",
    "</ul>"
   ]
  },
  {
   "cell_type": "markdown",
   "metadata": {},
   "source": [
    "<h2>14.1 Why Pandas?</h2>\n",
    "\n",
    "Python's standard library has some tools for working with CSV files, but Pandas makes life a whole lot easier! It handles missing data well and also allows for quick calculations and plotting (which we'll be talking about in a couple weeks). A Pandas <b>dataframe</b> is a lot like an Excel spreadsheet, but it's a lot faster and more flexible."
   ]
  },
  {
   "cell_type": "code",
   "execution_count": null,
   "metadata": {},
   "outputs": [],
   "source": [
    "# Here's the new library we'll want for today:\n",
    "\n",
    "import pandas as pd"
   ]
  },
  {
   "cell_type": "markdown",
   "metadata": {},
   "source": [
    "Let's begin by using a tool we're familiar with that should work pretty well for this kind of data: dictionaries!"
   ]
  },
  {
   "cell_type": "code",
   "execution_count": null,
   "metadata": {},
   "outputs": [],
   "source": [
    "my_dict = {\n",
    "    'name' : [\"John\", \"Diane\", \"Joe\", \"Danielle\", \"Ashley\", \"Sam\"],\n",
    "    'age' : [20, 55, 35, 40, 21, 35],\n",
    "    'salary' : [41000, 73000, 68000, 65000, 50000, 55000],\n",
    "    'designation' : [\"VP\", \"CEO\", \"CFO\", \"VP\", \"VP\", \"VP\"]\n",
    "}\n",
    "\n",
    "print(my_dict['age'])"
   ]
  },
  {
   "cell_type": "markdown",
   "metadata": {},
   "source": [
    "So far so good, but if we want to get the designation for the employee Sam, that can get a little complex. Pandas will make this endeavor easier and more intuitive.\n",
    "\n",
    "Pandas features two data structures:\n",
    "<ul>\n",
    "    <li><b>Series:</b> 1-D labeled arrays that resemble dictionaries</li>\n",
    "    <li><b>DataFrame:</b> (most common) 2-D like a spreadsheet</li>\n",
    "</ul>"
   ]
  },
  {
   "cell_type": "code",
   "execution_count": null,
   "metadata": {},
   "outputs": [],
   "source": [
    "employees = pd.DataFrame(my_dict)\n",
    "print(employees)"
   ]
  },
  {
   "cell_type": "markdown",
   "metadata": {},
   "source": [
    "Remember from our object-oriented programming lectures: a DataFrame is just an object! We can list its attributes and methods using dir()."
   ]
  },
  {
   "cell_type": "code",
   "execution_count": null,
   "metadata": {},
   "outputs": [],
   "source": [
    "dir(employees)"
   ]
  },
  {
   "cell_type": "code",
   "execution_count": null,
   "metadata": {},
   "outputs": [],
   "source": [
    "employees = pd.DataFrame(my_dict)\n",
    "print(employees)"
   ]
  },
  {
   "cell_type": "markdown",
   "metadata": {},
   "source": [
    "Just like Excel spreadsheets, dataframes are made up of <b>rows</b> and <b>columns</b>. Each column will have the same data type (all ints, all floats, all strings, etc.).\n",
    "\n",
    "We can then set a column (or multiple columns) as an <b>index</b> that we can use as a shorthand."
   ]
  },
  {
   "cell_type": "code",
   "execution_count": null,
   "metadata": {},
   "outputs": [],
   "source": [
    "employees.set_index('name', inplace=True)\n",
    "print(employees)\n",
    "\n",
    "# The inplace argument above means we're replacing\n",
    "# our 'default' index with our new index.\n"
   ]
  },
  {
   "cell_type": "code",
   "execution_count": null,
   "metadata": {},
   "outputs": [],
   "source": [
    "print(employees.index)"
   ]
  },
  {
   "cell_type": "code",
   "execution_count": null,
   "metadata": {},
   "outputs": [],
   "source": [
    "print(employees.columns)"
   ]
  },
  {
   "cell_type": "markdown",
   "metadata": {},
   "source": [
    "We can then use the <b>loc[]</b> function to access a group of rows and columns by a particular label."
   ]
  },
  {
   "cell_type": "code",
   "execution_count": null,
   "metadata": {},
   "outputs": [],
   "source": [
    "employees.loc['John']"
   ]
  },
  {
   "cell_type": "code",
   "execution_count": null,
   "metadata": {},
   "outputs": [],
   "source": [
    "# Similarly, we can use 'iloc[]' to refer to a particular index.\n",
    "\n",
    "employees.iloc[3]"
   ]
  },
  {
   "cell_type": "markdown",
   "metadata": {},
   "source": [
    "It's also possible to create subsets of dataframes based on their values."
   ]
  },
  {
   "cell_type": "code",
   "execution_count": null,
   "metadata": {},
   "outputs": [],
   "source": [
    "# Let's only look at employees older than 30.\n",
    "print(employees[employees.age > 30])"
   ]
  },
  {
   "cell_type": "code",
   "execution_count": null,
   "metadata": {},
   "outputs": [],
   "source": [
    "# Let's look at who's a VP and who isn't.\n",
    "print(employees['designation'] == 'VP')"
   ]
  },
  {
   "cell_type": "code",
   "execution_count": null,
   "metadata": {},
   "outputs": [],
   "source": [
    "# We can also easily set values or add new columns.\n",
    "\n",
    "# Change John's age to 22.\n",
    "employees.loc['John','age'] = 22\n",
    "print(employees)"
   ]
  },
  {
   "cell_type": "code",
   "execution_count": null,
   "metadata": {},
   "outputs": [],
   "source": [
    "# Let's say we now have information about what city\n",
    "# everyone's in and we want to add that where we have it.\n",
    "\n",
    "employees['city'] = 'Montreal'\n",
    "print(employees)"
   ]
  },
  {
   "cell_type": "code",
   "execution_count": null,
   "metadata": {},
   "outputs": [],
   "source": [
    "# Whoops, Diane's moved to Toronto!\n",
    "\n",
    "employees.loc['Diane','city'] = 'Toronto'\n",
    "print(employees)"
   ]
  },
  {
   "cell_type": "markdown",
   "metadata": {},
   "source": [
    "The <b>describe()</b> function is a helpful summary of statistics."
   ]
  },
  {
   "cell_type": "code",
   "execution_count": null,
   "metadata": {},
   "outputs": [],
   "source": [
    "employees.age.describe()"
   ]
  },
  {
   "cell_type": "code",
   "execution_count": null,
   "metadata": {},
   "outputs": [],
   "source": [
    "# We can also easily do mathematical operations.\n",
    "\n",
    "print(employees['age'] + 10)"
   ]
  },
  {
   "cell_type": "code",
   "execution_count": null,
   "metadata": {},
   "outputs": [],
   "source": [
    "# Or use things like value counts!\n",
    "\n",
    "employees.designation.value_counts()"
   ]
  },
  {
   "cell_type": "code",
   "execution_count": null,
   "metadata": {},
   "outputs": [],
   "source": [
    "# Pandas can also be used to create some useful date ranges!\n",
    "\n",
    "pd.date_range('1/1/2021','1/12/2021')"
   ]
  },
  {
   "cell_type": "markdown",
   "metadata": {},
   "source": [
    "<h2>14.2 Pandas Examples</h2>\n",
    "\n",
    "You'll need to re-run these lines of code to clear out all the changes\n",
    "we made above..."
   ]
  },
  {
   "cell_type": "code",
   "execution_count": null,
   "metadata": {},
   "outputs": [],
   "source": [
    "employees = pd.DataFrame(my_dict)\n",
    "employees.set_index('name', inplace=True)"
   ]
  },
  {
   "cell_type": "markdown",
   "metadata": {},
   "source": [
    "<b>1. Promote Ashley to CEO.</b>"
   ]
  },
  {
   "cell_type": "code",
   "execution_count": null,
   "metadata": {},
   "outputs": [],
   "source": []
  },
  {
   "cell_type": "markdown",
   "metadata": {},
   "source": [
    "<b>2. Using methods you learned in this lecture, find the mean and standard deviation of salaries.</b>"
   ]
  },
  {
   "cell_type": "code",
   "execution_count": null,
   "metadata": {},
   "outputs": [],
   "source": []
  },
  {
   "cell_type": "markdown",
   "metadata": {},
   "source": [
    "<b>3. A year has passed! Increase everyone's ages by 1.</b>"
   ]
  },
  {
   "cell_type": "code",
   "execution_count": null,
   "metadata": {},
   "outputs": [],
   "source": []
  },
  {
   "cell_type": "markdown",
   "metadata": {},
   "source": [
    "<h2>14.3 Pandas With Atmospheric Data</h2>\n",
    "\n",
    "Let's use a real-life example! This is information from Chris McCray at McGill: Daily weather data for Montreal from 1871-2019. Pandas has a <b>read_csv()</b> function that will come in handy here."
   ]
  },
  {
   "cell_type": "code",
   "execution_count": null,
   "metadata": {},
   "outputs": [],
   "source": [
    "import pandas as pd\n",
    "\n",
    "mtl_weather = pd.read_csv('http://www.cdmccray.com/python_tutorial/pandas/montreal_daily_weather.csv')"
   ]
  },
  {
   "cell_type": "code",
   "execution_count": null,
   "metadata": {},
   "outputs": [],
   "source": [
    "print(mtl_weather.columns)"
   ]
  },
  {
   "cell_type": "markdown",
   "metadata": {},
   "source": [
    "Let's set the index to the date of observation."
   ]
  },
  {
   "cell_type": "code",
   "execution_count": null,
   "metadata": {},
   "outputs": [],
   "source": [
    "mtl_weather.set_index('Date/Time',inplace=True)"
   ]
  },
  {
   "cell_type": "markdown",
   "metadata": {},
   "source": [
    "<b>Grouping</b> is a useful feature within Pandas that lets us do the following:\n",
    "<ul>\n",
    "    <li>Split the data into groups based on some criteria.</li>\n",
    "    <li>Apply a function to each group independently.</li>\n",
    "    <li>Combine the results into a data structure.</li>\n",
    "</ul>"
   ]
  },
  {
   "cell_type": "code",
   "execution_count": null,
   "metadata": {},
   "outputs": [],
   "source": [
    "# As an example, let's count how much temperature data is available for each year.\n",
    "a = mtl_weather.groupby('Year').count()['Max Temp (°C)']\n",
    "print(a)"
   ]
  },
  {
   "cell_type": "code",
   "execution_count": null,
   "metadata": {},
   "outputs": [],
   "source": [
    "a.plot()"
   ]
  },
  {
   "cell_type": "markdown",
   "metadata": {},
   "source": [
    "Okay, so there's a lot of missing data in the 90s! We can actually remove all rows with missing data by using <b>dropna()</b>. Since there's probably a lot of data missing, let's specify that we're only removing the rows that have missing temperature data."
   ]
  },
  {
   "cell_type": "code",
   "execution_count": null,
   "metadata": {},
   "outputs": [],
   "source": [
    "print(mtl_weather.shape)\n",
    "mtl_weather.dropna(subset=['Max Temp (°C)'], inplace=True)\n",
    "print(mtl_weather.shape)"
   ]
  },
  {
   "cell_type": "markdown",
   "metadata": {},
   "source": [
    "We can also use <b>groupby()</b> to calculate the average temperature for each year!"
   ]
  },
  {
   "cell_type": "code",
   "execution_count": null,
   "metadata": {},
   "outputs": [],
   "source": [
    "mtl_weather.groupby('Year').mean()['Mean Temp (°C)'].plot(figsize=[25,5])"
   ]
  },
  {
   "cell_type": "markdown",
   "metadata": {},
   "source": [
    "Okay, well, there's obviously something suspicious going on here - it's not that cold, even in Montreal! Note that these are years where a lot of data is missing - it looks like most of that data's from the warm season.\n",
    "\n",
    "How would you handle this kind of problem?"
   ]
  },
  {
   "cell_type": "code",
   "execution_count": null,
   "metadata": {},
   "outputs": [],
   "source": [
    "yearly_counts = mtl_weather.groupby('Year').count()['Mean Temp (°C)']\n",
    "yearly_counts.plot()"
   ]
  },
  {
   "cell_type": "markdown",
   "metadata": {},
   "source": [
    "Let's set our threshold to about 350 days."
   ]
  },
  {
   "cell_type": "code",
   "execution_count": null,
   "metadata": {},
   "outputs": [],
   "source": [
    "good_years = yearly_counts[yearly_counts>350].index\n",
    "print(good_years)"
   ]
  },
  {
   "cell_type": "markdown",
   "metadata": {},
   "source": [
    "We can now subset the dataframe to only include data from our good years using the <b>isin()</b> function."
   ]
  },
  {
   "cell_type": "code",
   "execution_count": null,
   "metadata": {},
   "outputs": [],
   "source": [
    "mtl_weather = mtl_weather[mtl_weather.Year.isin(good_years)]\n",
    "mtl_weather.groupby('Year').mean()['Mean Temp (°C)'].plot(figsize=[25,5])"
   ]
  },
  {
   "cell_type": "markdown",
   "metadata": {},
   "source": [
    "It's also very easy to get extreme values from the dataset. The <b>nsmallest()</b> function will list the smallest values, and the <b>nlargest()</b> function will list the largest."
   ]
  },
  {
   "cell_type": "code",
   "execution_count": null,
   "metadata": {},
   "outputs": [],
   "source": [
    "print(mtl_weather['Min Temp (°C)'].nsmallest())"
   ]
  },
  {
   "cell_type": "code",
   "execution_count": null,
   "metadata": {},
   "outputs": [],
   "source": [
    "print(mtl_weather['Max Temp (°C)'].nlargest(10))"
   ]
  },
  {
   "cell_type": "code",
   "execution_count": null,
   "metadata": {},
   "outputs": [],
   "source": [
    "mtl_weather.describe()"
   ]
  },
  {
   "cell_type": "markdown",
   "metadata": {},
   "source": [
    "<h2>14.4 Take-Home Points</h2>\n",
    "<ul>\n",
    "    <li><b>Pandas</b> is a useful way of working with CSV data!</li>\n",
    "    <li>A <b>dataframe</b> is an object that contains rows and columns, much like an Excel spreadsheet.</li>\n",
    "    <li><b>loc()</b> will let you identify individual rows, columns, or values.</li>\n",
    "    <li><b>describe()</b> summarizes statistics for a specified section of a dataframe.</li>\n",
    "    <li><b>read_csv()</b> will read in a CSV file specified by a file location.</li>\n",
    "    <li><b>groupby()</b> carries out specific operations on groupings within a dataframe.</li>\n",
    "</ul>"
   ]
  },
  {
   "cell_type": "code",
   "execution_count": null,
   "metadata": {},
   "outputs": [],
   "source": []
  }
 ],
 "metadata": {
  "kernelspec": {
   "display_name": "Python 3",
   "language": "python",
   "name": "python3"
  },
  "language_info": {
   "codemirror_mode": {
    "name": "ipython",
    "version": 3
   },
   "file_extension": ".py",
   "mimetype": "text/x-python",
   "name": "python",
   "nbconvert_exporter": "python",
   "pygments_lexer": "ipython3",
   "version": "3.7.4"
  }
 },
 "nbformat": 4,
 "nbformat_minor": 4
}
