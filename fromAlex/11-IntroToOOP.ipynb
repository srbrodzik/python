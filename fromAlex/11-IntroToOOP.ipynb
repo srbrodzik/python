{
 "cells": [
  {
   "cell_type": "markdown",
   "metadata": {},
   "source": [
    "<h1>11. Introduction to Object-Oriented Programming</h1>\n",
    "<h2>10/27/2020</h2>\n",
    "\n",
    "<h2>11.0 Last Time...</h2>\n",
    "<ul>\n",
    "    <li>NetCDF is a powerful file type containing global attributes, variables, variable attributes, and dimensions.</li>\n",
    "    <li>We can read from NetCDF files using similar syntax to that for regular files.</li>\n",
    "    <li>Using attributes such as 'dimensions' and 'variables', we can learn about individual variables in the dataset.</li>\n",
    "    <li>We can also write to NetCDF files in a simlar way.</li>\n",
    "</ul>\n",
    "\n",
    "<h2>11.1 What is Object-Oriented Programming?</h2>\n",
    "\n",
    "OOP is presented here in opposition to procedural programming. <b>Procedural</b> programs consider two entities: data and functions. Procedurally, the two things are different: a function will take data as input and return data as output (this should sound familiar!). There's nothing customizable about a function with respect to data, which means you can use functions on various types of data with no restrictions... which can you get into trouble.\n",
    "\n",
    "In reality, though, we tend to think of things as having both \"state\" and \"behavior\". People can have a state (tall, short, etc.) but also a behavior (playing basketball, running, etc.), and the two can happen simultaneously.\n",
    "\n",
    "Object-oriented programming attempts to imitate this approach, so specific objects in the code will have a state and a behavior attached to them.\n",
    "\n",
    "<h2>11.2 What is an Object?</h2>\n",
    "\n",
    "An object in programming has two entities attached to it: data... and the things that <i>act</i> on that data. The data are called <b>attributes</b>, and the functions attached to the object that can act on that data are called <b>methods</b>. \n",
    "\n",
    "These methods are specifically made to act on attributes; they aren't just random functions meant as one-size-fits-all solutions, which is what we would see in procedural programming.\n",
    "\n",
    "Objects are generally specific realizations of some <b>class</b> or <b>type</b>. As an example, individual people are specific realizations of the <b>class</b> of human beings. Specific realizations (instances) differ from each other in details but have the same overall pattern. In OOP, specific realizations are <b>instances</b> and common patterns are <b>classes</b>.\n",
    "\n",
    "<h2>11.3 How do Objects Work?</h2>\n",
    "\n",
    "In Python, strings (like almost everything in Python) are objects. Built into Python, there is a class called 'strings', and each time you make a new string, you're using that definition. Python implicitly defines attributes and methods for all string objects; no matter what string you create, you have that set of data and functions associated with your string."
   ]
  },
  {
   "cell_type": "code",
   "execution_count": null,
   "metadata": {},
   "outputs": [],
   "source": [
    "# The dir() command gives you a list of all the attributes and methods\n",
    "# associated with a given object.\n",
    "\n",
    "a = \"hello world\"\n",
    "\n",
    "dir(a)"
   ]
  },
  {
   "cell_type": "code",
   "execution_count": null,
   "metadata": {},
   "outputs": [],
   "source": [
    "# To refer to an attribute or method of an instance,\n",
    "# you just add a period after the object name and then put\n",
    "# the attribute or method name.\n",
    "\n",
    "print(a.title())\n",
    "print(a.upper())\n",
    "\n",
    "# Methods can produce a return value, act on attributes of the object in-place,\n",
    "# or both!"
   ]
  },
  {
   "cell_type": "code",
   "execution_count": null,
   "metadata": {},
   "outputs": [],
   "source": [
    "# isupper() will determine whether the object is in uppercase.\n",
    "\n",
    "c = 'PIZZA'\n",
    "print(c.isupper())"
   ]
  },
  {
   "cell_type": "code",
   "execution_count": null,
   "metadata": {},
   "outputs": [],
   "source": [
    "# To count the instances of a particular character, you can use count()\n",
    "\n",
    "print(c.count('Z'))"
   ]
  },
  {
   "cell_type": "markdown",
   "metadata": {},
   "source": [
    "As another example, let's consider how objects work for arrays!\n",
    "\n",
    "Arrays have attributes and methods built in to them just like any other object."
   ]
  },
  {
   "cell_type": "code",
   "execution_count": null,
   "metadata": {},
   "outputs": [],
   "source": [
    "import numpy as np\n",
    "a = np.arange(12.)\n",
    "a = np.reshape(a,(4,3))\n",
    "print(a)"
   ]
  },
  {
   "cell_type": "code",
   "execution_count": null,
   "metadata": {},
   "outputs": [],
   "source": [
    "# Now let's look at all the attributes and methods!\n",
    "\n",
    "dir(a)"
   ]
  },
  {
   "cell_type": "code",
   "execution_count": null,
   "metadata": {},
   "outputs": [],
   "source": [
    "# Any attributes with two underscores probably shouldn't\n",
    "# be messed with! This is how Python decides what to do when\n",
    "# you type '*' or '/'.\n",
    "\n",
    "# Some of the other interesting methods include:\n",
    "\n",
    "print(a.shape)"
   ]
  },
  {
   "cell_type": "code",
   "execution_count": null,
   "metadata": {},
   "outputs": [],
   "source": [
    "print(a.cumsum())"
   ]
  },
  {
   "cell_type": "code",
   "execution_count": null,
   "metadata": {},
   "outputs": [],
   "source": [
    "print(a.T)"
   ]
  },
  {
   "cell_type": "code",
   "execution_count": null,
   "metadata": {},
   "outputs": [],
   "source": [
    "print(a.round(-1))"
   ]
  },
  {
   "cell_type": "code",
   "execution_count": null,
   "metadata": {},
   "outputs": [],
   "source": [
    "print(a.ravel())"
   ]
  },
  {
   "cell_type": "markdown",
   "metadata": {},
   "source": [
    "<b>Practice Exercises!</b>"
   ]
  },
  {
   "cell_type": "code",
   "execution_count": null,
   "metadata": {},
   "outputs": [],
   "source": [
    "a = 'The rain in Spain.'\n",
    "\n",
    "#1. Create a new string b that is a but all in uppercase.\n",
    "\n",
    "#2. Is a changed when you create b?\n",
    "\n",
    "#3. How would you test to see whether b is in uppercase? That is, how \n",
    "#   could you return a boolean that is True or False depending on whether \n",
    "#   b is uppercase?\n",
    "\n",
    "#4. How would you calculate the number of occurrences of the letter 'n' in a?\n"
   ]
  },
  {
   "cell_type": "markdown",
   "metadata": {},
   "source": [
    "<b>Round 2!</b>"
   ]
  },
  {
   "cell_type": "code",
   "execution_count": null,
   "metadata": {},
   "outputs": [],
   "source": [
    "#1. Create a 3 column, 4 row array named a. The array can have any numerical values\n",
    "#   you want, as long as all the elements are not all identical.\n",
    "\n",
    "#2. Create an array b that is a copy of a but is 1-D, not 2-D.\n",
    "\n",
    "#3. Turn b into a 6 column, 2 row array.\n",
    "\n",
    "#4. Create an array c where you round all elements of b to 1 decimal place.\n"
   ]
  },
  {
   "cell_type": "markdown",
   "metadata": {},
   "source": [
    "<h2>11.4 Take-Home Points</h2>\n",
    "<ul>\n",
    "    <li><b>Objects</b> have attributes and methods associated with them that can be listed using <b>dir()</b>.</li>\n",
    "    <li>Methods for strings include <b>upper()</b>, <b>isupper()</b>, <b>count()</b>, <b>title()</b>, etc.</li>\n",
    "    <li>Methods for arrays include <b>reshape()</b>, <b>ravel()</b>, <b>round()</b>, etc.</li>"
   ]
  },
  {
   "cell_type": "code",
   "execution_count": null,
   "metadata": {},
   "outputs": [],
   "source": []
  }
 ],
 "metadata": {
  "kernelspec": {
   "display_name": "Python 3",
   "language": "python",
   "name": "python3"
  },
  "language_info": {
   "codemirror_mode": {
    "name": "ipython",
    "version": 3
   },
   "file_extension": ".py",
   "mimetype": "text/x-python",
   "name": "python",
   "nbconvert_exporter": "python",
   "pygments_lexer": "ipython3",
   "version": "3.7.4"
  }
 },
 "nbformat": 4,
 "nbformat_minor": 4
}
