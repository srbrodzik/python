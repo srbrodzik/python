{
 "cells": [
  {
   "cell_type": "markdown",
   "metadata": {},
   "source": [
    "<h1>19. Contour and Map Plots</h1>\n",
    "<h2>11/18/20</h2>\n",
    "\n",
    "<h2>19.0 Last Time...</h2>\n",
    "<ul>\n",
    "    <li>You can save a figure to a file using savefig().</li>\n",
    "</ul>"
   ]
  },
  {
   "cell_type": "markdown",
   "metadata": {},
   "source": [
    "<h2>19.1 Basic Contour Plots</h2>\n",
    "\n",
    "Contour plots work much the same as line plots for things like saving figures to files, etc.\n",
    "\n",
    "The <b>matplotlib.pyplot.contour()</b> function generates a basic contour plot. It typically has four arguments: the first two are the x and y locations of your data values, the third is the 2D array of values to be contoured, and the final argument is an optional parameter that tells you how many contour levels to make."
   ]
  },
  {
   "cell_type": "code",
   "execution_count": null,
   "metadata": {},
   "outputs": [],
   "source": [
    "# This is going to be an ongoing example using our\n",
    "# NetCDF file from earlier...\n",
    "\n",
    "import numpy as np\n",
    "import scipy.io as S\n",
    "import matplotlib.pyplot as plt\n",
    "\n",
    "fileobj = S.netcdf_file('air.mon.mean.nc',mode='r')\n",
    "T_time0 = fileobj.variables['air'][0,:,:]\n",
    "T_units = fileobj.variables['air'].units.decode('utf-8')\n",
    "lon = fileobj.variables['lon'][:]\n",
    "lon_units = fileobj.variables['lon'].units.decode('utf-8')\n",
    "lat = fileobj.variables['lat'][:]\n",
    "lat_units = fileobj.variables['lat'].units.decode('utf-8')\n",
    "\n",
    "[lonall,latall] = np.meshgrid(lon,lat)\n",
    "\n",
    "mymap = plt.contour(lonall,latall,T_time0,10)"
   ]
  },
  {
   "cell_type": "markdown",
   "metadata": {},
   "source": [
    "We can also use the <b>levels</b> keyword to get specific levels where we want contours."
   ]
  },
  {
   "cell_type": "code",
   "execution_count": null,
   "metadata": {},
   "outputs": [],
   "source": [
    "mymap = plt.contour(lonall,latall,T_time0,levels=[-2,-1,0,1,2])"
   ]
  },
  {
   "cell_type": "markdown",
   "metadata": {},
   "source": [
    "To make negative contours dashed, set colors to 'k'."
   ]
  },
  {
   "cell_type": "code",
   "execution_count": null,
   "metadata": {},
   "outputs": [],
   "source": [
    "mymap = plt.contour(lonall,latall,T_time0,colors='k')"
   ]
  },
  {
   "cell_type": "markdown",
   "metadata": {},
   "source": [
    "By saving this contour plot to a variable, we can then make modifications using functions that ask for a contour map object as input."
   ]
  },
  {
   "cell_type": "code",
   "execution_count": null,
   "metadata": {},
   "outputs": [],
   "source": [
    "# We can add contour labels this way!\n",
    "mymap = plt.contour(lonall,latall,T_time0,colors='k')\n",
    "plt.clabel(mymap,fontsize=10)"
   ]
  },
  {
   "cell_type": "markdown",
   "metadata": {},
   "source": [
    "Sometimes you'll want to fill in the contours! This is done using <b>contourf()</b> instead of <b>contour()</b>. You can also specify a particular colormap using the cmap keyword - there's a list of them here: https://scipy-cookbook.readthedocs.io/items/Matplotlib_Show_colormaps.html."
   ]
  },
  {
   "cell_type": "code",
   "execution_count": null,
   "metadata": {},
   "outputs": [],
   "source": [
    "plt.figure(figsize=(5,15))\n",
    "plt.subplot(3,1,1)\n",
    "mymap1 = plt.contourf(lonall,latall,T_time0,1000,cmap=plt.cm.RdBu_r)\n",
    "plt.colorbar(mymap1,orientation='horizontal')\n",
    "plt.subplot(3,1,2)\n",
    "mymap2 = plt.contourf(lonall,latall,T_time0,1000,cmap=plt.cm.autumn)\n",
    "plt.colorbar(mymap2,orientation='horizontal')\n",
    "plt.subplot(3,1,3)\n",
    "mymap3 = plt.contourf(lonall,latall,T_time0,1000,cmap=plt.cm.gist_ncar)\n",
    "plt.colorbar(mymap3,orientation='horizontal')"
   ]
  },
  {
   "cell_type": "markdown",
   "metadata": {},
   "source": [
    "<h2>19.2 Take-Home Points...</h2>\n",
    "<ul>\n",
    "    <li>contour() allows you to create customizable contour plots.</li>\n",
    "    <li>contourf() allows you to create customizable filled contour plots.</li>"
   ]
  },
  {
   "cell_type": "code",
   "execution_count": null,
   "metadata": {},
   "outputs": [],
   "source": []
  }
 ],
 "metadata": {
  "kernelspec": {
   "display_name": "Python 3",
   "language": "python",
   "name": "python3"
  },
  "language_info": {
   "codemirror_mode": {
    "name": "ipython",
    "version": 3
   },
   "file_extension": ".py",
   "mimetype": "text/x-python",
   "name": "python",
   "nbconvert_exporter": "python",
   "pygments_lexer": "ipython3",
   "version": "3.7.4"
  }
 },
 "nbformat": 4,
 "nbformat_minor": 4
}
