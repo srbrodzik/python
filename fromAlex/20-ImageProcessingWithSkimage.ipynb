{
 "cells": [
  {
   "cell_type": "markdown",
   "metadata": {},
   "source": [
    "<h1>20. Image Processing with skimage</h1>\n",
    "<h2>11/23/20</h2>\n",
    "\n",
    "<h2>20.0 Last Time...</h2>\n",
    "<ul>\n",
    "    <li>contour() allows you to create customizable contour plots.</li>\n",
    "    <li>contourf() allows you to create customizable filled contour plots.</li>\n",
    "</ul>"
   ]
  },
  {
   "cell_type": "markdown",
   "metadata": {},
   "source": [
    "<h2>20.1 Loading Images in Python</h2>\n",
    "\n",
    "It can be extremely useful to load images into Python and gather information from them!\n",
    "\n",
    "As an example, satellite data is often stored as image files. Analyzing and highlighting different parts of images can feel intimidating until you remember that an image is just a really big array, where each pixel has three values associated with it: a red level, a green level, and a blue level (RGB).\n",
    "\n",
    "Thus, a 2-D picture typically has three dimensions: x, y, and color channel.\n",
    "\n",
    "Let's start by pulling up a 'default' image that's included in the science imaging package <b>skimage</b>."
   ]
  },
  {
   "cell_type": "code",
   "execution_count": null,
   "metadata": {},
   "outputs": [],
   "source": [
    "# Start by importing everything we need.\n",
    "\n",
    "import numpy as np\n",
    "import matplotlib.pyplot as plt\n",
    "\n",
    "import skimage"
   ]
  },
  {
   "cell_type": "code",
   "execution_count": null,
   "metadata": {},
   "outputs": [],
   "source": [
    "# Let's grab an example image stored within skimage.data:\n",
    "\n",
    "camera = skimage.data.camera()\n",
    "print(camera)\n",
    "print(type(camera))\n",
    "print(camera.shape)"
   ]
  },
  {
   "cell_type": "markdown",
   "metadata": {},
   "source": [
    "We can see that this image has just been stored in a 2-D array, without the channels mentioned earlier. Why is that?\n",
    "\n",
    "In addition, you can see the general range of values. For each channel, values are assigned a number from 0 to 255 (for a total of 256 or 2^8, which is what we mean when we say \"8-bit\"), with 0 meaning no contribution from that channel and 255 meaning full contribution."
   ]
  },
  {
   "cell_type": "code",
   "execution_count": null,
   "metadata": {},
   "outputs": [],
   "source": [
    "#We can use imshow within matplotlib to look at the picture!\n",
    "\n",
    "plt.imshow(camera,'gray')"
   ]
  },
  {
   "cell_type": "markdown",
   "metadata": {},
   "source": [
    "In the imshow call above, the 'gray' is there to specify what kind of colormap we want to use. Even though the image is technically only in grayscale, we could still use a different colormap if we wanted, which can result in some pretty wild results..."
   ]
  },
  {
   "cell_type": "code",
   "execution_count": null,
   "metadata": {},
   "outputs": [],
   "source": [
    "plt.imshow(camera)"
   ]
  },
  {
   "cell_type": "code",
   "execution_count": null,
   "metadata": {},
   "outputs": [],
   "source": [
    "plt.imshow(camera,'autumn')"
   ]
  },
  {
   "cell_type": "code",
   "execution_count": null,
   "metadata": {},
   "outputs": [],
   "source": [
    "plt.imshow(camera,'flag')"
   ]
  },
  {
   "cell_type": "markdown",
   "metadata": {},
   "source": [
    "We can print out some simple statistics as well!\n",
    "\n",
    "While we're at it, here's a new way to concatenate strings and integers:"
   ]
  },
  {
   "cell_type": "code",
   "execution_count": null,
   "metadata": {},
   "outputs": [],
   "source": [
    "print('Image shape as array: %i x %i' % (camera.shape[0], camera.shape[1]))\n",
    "\n",
    "print('Number of pixels in the image: %i' % camera.size)\n",
    "\n",
    "print('Range of pixels: [%i, %i]' % (camera.min(), camera.max()))\n",
    "\n",
    "print('Average pixel value: %.2f' % camera.mean())"
   ]
  },
  {
   "cell_type": "markdown",
   "metadata": {},
   "source": [
    "Not super interested in this picture of a random person taking video footage in the past? You can always upload your own picture!"
   ]
  },
  {
   "cell_type": "code",
   "execution_count": null,
   "metadata": {},
   "outputs": [],
   "source": [
    "hurricane = skimage.io.imread('Katrina.jpg')\n",
    "print(type(hurricane))\n",
    "print(hurricane.shape)"
   ]
  },
  {
   "cell_type": "code",
   "execution_count": null,
   "metadata": {},
   "outputs": [],
   "source": [
    "plt.figure(figsize=(15, 20))\n",
    "\n",
    "plt.subplot(221)\n",
    "plt.imshow(hurricane[:,:,:])\n",
    "plt.title('3-channel image')\n",
    "plt.axis('off')\n",
    "\n",
    "plt.subplot(222)\n",
    "plt.imshow(hurricane[:,:,0],'gray')\n",
    "plt.title('Red Channel')\n",
    "plt.axis('off');\n",
    "\n",
    "plt.subplot(223)\n",
    "plt.imshow(hurricane[:,:,1],'gray')\n",
    "plt.title('Green Channel')\n",
    "plt.axis('off');\n",
    "\n",
    "plt.subplot(224)\n",
    "plt.imshow(hurricane[:,:,2],'gray')\n",
    "plt.title('Blue Channel')\n",
    "plt.axis('off');"
   ]
  },
  {
   "cell_type": "markdown",
   "metadata": {},
   "source": [
    "<h2>20.2 Changing Images</h2>\n",
    "\n",
    "Just like any array, you can change values within the image to make it look different!\n",
    "\n",
    "Let's revisit our grayscale friend..."
   ]
  },
  {
   "cell_type": "code",
   "execution_count": null,
   "metadata": {},
   "outputs": [],
   "source": [
    "# Grab the value of the pixel at row 200, column 100.\n",
    "\n",
    "camera = skimage.data.camera()\n",
    "camera[200,100]"
   ]
  },
  {
   "cell_type": "code",
   "execution_count": null,
   "metadata": {},
   "outputs": [],
   "source": [
    "# Set the pixel at row 200, column 100 to white.\n",
    "\n",
    "camera[200,100] = 255\n",
    "plt.figure(figsize=(15, 20))\n",
    "plt.imshow(camera, 'gray')"
   ]
  },
  {
   "cell_type": "markdown",
   "metadata": {},
   "source": [
    "<b>Exercise:</b> Set the first ten rows of the image to black."
   ]
  },
  {
   "cell_type": "code",
   "execution_count": null,
   "metadata": {},
   "outputs": [],
   "source": []
  },
  {
   "cell_type": "markdown",
   "metadata": {},
   "source": [
    "Just like with any array, you can also set pixels based on a logical statement."
   ]
  },
  {
   "cell_type": "code",
   "execution_count": null,
   "metadata": {},
   "outputs": [],
   "source": [
    "# Set pixels to white wherever pixel values are less than 87.\n",
    "\n",
    "camera = skimage.data.camera()\n",
    "camera[camera < 87] = 255\n",
    "plt.imshow(camera, 'gray')"
   ]
  },
  {
   "cell_type": "code",
   "execution_count": null,
   "metadata": {},
   "outputs": [],
   "source": [
    "# You can also do this with full-color images!\n",
    "\n",
    "print(type(hurricane))\n",
    "print(hurricane.shape)\n",
    "plt.imshow(hurricane)"
   ]
  },
  {
   "cell_type": "code",
   "execution_count": null,
   "metadata": {},
   "outputs": [],
   "source": [
    "# Set the pixel at row 600, column 500 to green.\n",
    "hurricane[600,500] = [0,255,0]\n",
    "plt.figure(figsize=(15, 20))\n",
    "plt.imshow(hurricane)"
   ]
  },
  {
   "cell_type": "markdown",
   "metadata": {},
   "source": [
    "<b>Exercise:</b> Set all pixels where the red channel is greater than 160 to [255,0,0] (pure red)."
   ]
  },
  {
   "cell_type": "code",
   "execution_count": null,
   "metadata": {},
   "outputs": [],
   "source": []
  },
  {
   "cell_type": "markdown",
   "metadata": {},
   "source": [
    "<h2>20.3 Take-Home Points...</h2>\n",
    "<ul>\n",
    "    <li>skimage allows you to manipulate images as arrays.</li>\n",
    "    <li>Every color image is composed of three channels with values ranging from 0 to 256.</li>"
   ]
  },
  {
   "cell_type": "code",
   "execution_count": null,
   "metadata": {},
   "outputs": [],
   "source": []
  }
 ],
 "metadata": {
  "kernelspec": {
   "display_name": "Python 3",
   "language": "python",
   "name": "python3"
  },
  "language_info": {
   "codemirror_mode": {
    "name": "ipython",
    "version": 3
   },
   "file_extension": ".py",
   "mimetype": "text/x-python",
   "name": "python",
   "nbconvert_exporter": "python",
   "pygments_lexer": "ipython3",
   "version": "3.7.4"
  }
 },
 "nbformat": 4,
 "nbformat_minor": 4
}
