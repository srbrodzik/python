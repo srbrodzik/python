{
 "cells": [
  {
   "cell_type": "code",
   "execution_count": 1,
   "metadata": {
    "collapsed": true
   },
   "outputs": [],
   "source": [
    "from __future__ import print_function\n",
    "import numpy as np\n",
    "import matplotlib.pyplot as plt\n",
    "import matplotlib.colors as colors\n",
    "import pyart\n",
    "import glob\n",
    "import os\n",
    "from pyart.io.common import radar_coords_to_cart\n",
    "from skewt import SkewT\n",
    "from datetime import datetime\n",
    "from csu_radartools import (csu_fhc, csu_liquid_ice_mass, csu_blended_rain, \n",
    "                            csu_dsd, csu_kdp, csu_misc)\n",
    "%matplotlib inline"
   ]
  },
  {
   "cell_type": "markdown",
   "metadata": {},
   "source": [
    "First define a function to plot two panels of radar data next to each other."
   ]
  },
  {
   "cell_type": "code",
   "execution_count": 2,
   "metadata": {
    "collapsed": true
   },
   "outputs": [],
   "source": [
    "def two_panel_plot(radar, sweep=0, var1='reflectivity', vmin1=0, vmax1=65, cmap1='RdYlBu_r', \n",
    "                   units1='dBZ', var2='differential_reflectivity', vmin2=-5, vmax2=5, \n",
    "                   cmap2='RdYlBu_r', units2='dB', return_flag=False, xlim=[-150,150],\n",
    "                   ylim=[-150,150]):\n",
    "    display = pyart.graph.RadarDisplay(radar)\n",
    "    fig = plt.figure(figsize=(13,5))\n",
    "    ax1 = fig.add_subplot(121)\n",
    "    display.plot_ppi(var1, sweep=sweep, vmin=vmin1, vmax=vmax1, cmap=cmap1, \n",
    "                     colorbar_label=units1, mask_outside=True)\n",
    "    display.set_limits(xlim=xlim, ylim=ylim)\n",
    "    ax2 = fig.add_subplot(122)\n",
    "    display.plot_ppi(var2, sweep=sweep, vmin=vmin2, vmax=vmax2, cmap=cmap2, \n",
    "                     colorbar_label=units2, mask_outside=True)\n",
    "    display.set_limits(xlim=xlim, ylim=ylim)\n",
    "    if return_flag:\n",
    "        return fig, ax1, ax2, display"
   ]
  },
  {
   "cell_type": "markdown",
   "metadata": {},
   "source": [
    "Make a function to easily add a field to the radar object with all the bells and whistles (attributes) associated with it."
   ]
  },
  {
   "cell_type": "code",
   "execution_count": 3,
   "metadata": {
    "collapsed": true
   },
   "outputs": [],
   "source": [
    "def add_field_to_radar_object(field, radar, field_name='FH', units='unitless', \n",
    "                              long_name='Hydrometeor ID', standard_name='Hydrometeor ID',\n",
    "                              dz_field='ZC'):\n",
    "    \"\"\"\n",
    "    Adds a newly created field to the Py-ART radar object. If reflectivity is a masked array,\n",
    "    make the new field masked the same as reflectivity.\n",
    "    \"\"\"\n",
    "    fill_value = -32768\n",
    "    masked_field = np.ma.asanyarray(field)\n",
    "    masked_field.mask = masked_field == fill_value\n",
    "    if hasattr(radar.fields[dz_field]['data'], 'mask'):\n",
    "        setattr(masked_field, 'mask', \n",
    "                np.logical_or(masked_field.mask, radar.fields[dz_field]['data'].mask))\n",
    "        fill_value = radar.fields[dz_field]['_FillValue']\n",
    "    field_dict = {'data': masked_field,\n",
    "                  'units': units,\n",
    "                  'long_name': long_name,\n",
    "                  'standard_name': standard_name,\n",
    "                  '_FillValue': fill_value}\n",
    "    radar.add_field(field_name, field_dict, replace_existing=True)\n",
    "    return radar"
   ]
  },
  {
   "cell_type": "markdown",
   "metadata": {},
   "source": [
    "Start by reading in the data with PyARt. This is pretty straightfoward with a simple:\n",
    "    \n",
    "    radar = pyart.io.read(radarfile)\n",
    "    \n",
    "We will also read in a sounding (here from the University of Wyoming) using SkewT."
   ]
  },
  {
   "cell_type": "code",
   "execution_count": 4,
   "metadata": {
    "collapsed": false
   },
   "outputs": [
    {
     "data": {
      "text/plain": [
       "'20110523_235545'"
      ]
     },
     "execution_count": 4,
     "metadata": {},
     "output_type": "execute_result"
    }
   ],
   "source": [
    "#Read in the data\n",
    "sndfile = '/Users/bdolan/scratch/PyART-demo/Sounding_LMN_2011052000.txt'\n",
    "radarfile = '/Users/bdolan/scratch/PyART-demo/' + \\\n",
    "    '235545.mdv'\n",
    "dformat = \"%Y%m%d_%H%M%S\"\n",
    "\n",
    "##Python nicely reads time formats with the datetime module.\n",
    "cdates=datetime.strptime(os.path.basename(radarfile),'%H%M%S.mdv')\n",
    "\n",
    "radar = pyart.io.read(radarfile)\n",
    "sounding = SkewT.Sounding(sndfile)\n",
    "\n",
    "time1= '20110523_'+cdates.strftime('%H%M%S')\n",
    "time1"
   ]
  },
  {
   "cell_type": "markdown",
   "metadata": {},
   "source": [
    "Now let's look at what's in the file. Py-Art reads the data into a very large object which has many attributes. A really useful way to see a bunch of information is with radar.info('compact') (or 'standard' or 'full')"
   ]
  },
  {
   "cell_type": "code",
   "execution_count": 5,
   "metadata": {
    "collapsed": false
   },
   "outputs": [
    {
     "name": "stdout",
     "output_type": "stream",
     "text": [
      "altitude: <ndarray of type: float64 and shape: (1,)>\n",
      "altitude_agl: None\n",
      "antenna_transition: None\n",
      "azimuth: <ndarray of type: float64 and shape: (6120,)>\n",
      "elevation: <ndarray of type: float64 and shape: (6120,)>\n",
      "fields:\n",
      "\tdifferential_phase: <ndarray of type: float32 and shape: (6120, 983)>\n",
      "\tcross_correlation_ratio: <ndarray of type: float32 and shape: (6120, 983)>\n",
      "\tnormalized_coherent_power: <ndarray of type: float32 and shape: (6120, 983)>\n",
      "\tspectrum_width: <ndarray of type: float32 and shape: (6120, 983)>\n",
      "\treflectivity: <ndarray of type: float32 and shape: (6120, 983)>\n",
      "\tdifferential_reflectivity: <ndarray of type: float32 and shape: (6120, 983)>\n",
      "\tspecific_differential_phase: <ndarray of type: float32 and shape: (6120, 983)>\n",
      "\tvelocity: <ndarray of type: float32 and shape: (6120, 983)>\n",
      "fixed_angle: <ndarray of type: float32 and shape: (17,)>\n",
      "instrument_parameters:\n",
      "\tradar_beam_width_h: <ndarray of type: float32 and shape: (1,)>\n",
      "\tunambiguous_range: <ndarray of type: float32 and shape: (6120,)>\n",
      "\tprt: <ndarray of type: float32 and shape: (6120,)>\n",
      "\tnyquist_velocity: <ndarray of type: float32 and shape: (6120,)>\n",
      "\tprt_mode: <ndarray of type: |S5 and shape: (17,)>\n",
      "\tradar_beam_width_v: <ndarray of type: float32 and shape: (1,)>\n",
      "latitude: <ndarray of type: float64 and shape: (1,)>\n",
      "longitude: <ndarray of type: float64 and shape: (1,)>\n",
      "nsweeps: 17\n",
      "ngates: 983\n",
      "nrays: 6120\n",
      "radar_calibration: None\n",
      "range: <ndarray of type: float32 and shape: (983,)>\n",
      "scan_rate: None\n",
      "scan_type: ppi\n",
      "sweep_end_ray_index: <ndarray of type: int32 and shape: (17,)>\n",
      "sweep_mode: <ndarray of type: |S20 and shape: (17,)>\n",
      "sweep_number: <ndarray of type: int32 and shape: (17,)>\n",
      "sweep_start_ray_index: <ndarray of type: int32 and shape: (17,)>\n",
      "target_scan_rate: None\n",
      "time: <ndarray of type: float64 and shape: (6120,)>\n",
      "metadata:\n",
      "\tcomment: \n",
      "\ttitle: \n",
      "\tConventions: CF/Radial instrument_parameters\n",
      "\tsource: MDV radar volume file created by Dsr2Vol.\n",
      "\tversion: 1.3\n",
      "\treferences: \n",
      "\tinstrument_name: ARM SGP C-SAPR\n",
      "\tinstitution: \n",
      "\thistory: \n"
     ]
    }
   ],
   "source": [
    "radar.info('compact')   # see what happens with 'standard' or 'full'"
   ]
  },
  {
   "cell_type": "markdown",
   "metadata": {},
   "source": [
    "Now we can extract some useful information. What's the Nyquist velocity?"
   ]
  },
  {
   "cell_type": "code",
   "execution_count": 6,
   "metadata": {
    "collapsed": false
   },
   "outputs": [
    {
     "data": {
      "text/plain": [
       "16.525999069213867"
      ]
     },
     "execution_count": 6,
     "metadata": {},
     "output_type": "execute_result"
    }
   ],
   "source": [
    "radar.get_nyquist_vel(0,check_uniform=True)"
   ]
  },
  {
   "cell_type": "code",
   "execution_count": 7,
   "metadata": {
    "collapsed": false
   },
   "outputs": [
    {
     "data": {
      "text/plain": [
       "array([ 117.87839508,  237.79537964,  357.71237183], dtype=float32)"
      ]
     },
     "execution_count": 7,
     "metadata": {},
     "output_type": "execute_result"
    }
   ],
   "source": [
    "radar.range['data'][0:3]"
   ]
  },
  {
   "cell_type": "code",
   "execution_count": 15,
   "metadata": {
    "collapsed": false
   },
   "outputs": [
    {
     "data": {
      "text/plain": [
       "['comment',\n",
       " 'long_name',\n",
       " 'standard_name',\n",
       " 'meters_to_center_of_first_gate',\n",
       " 'meters_between_gates',\n",
       " 'units',\n",
       " 'data',\n",
       " 'spacing_is_constant',\n",
       " 'axis']"
      ]
     },
     "execution_count": 15,
     "metadata": {},
     "output_type": "execute_result"
    }
   ],
   "source": [
    "radar.range.keys()"
   ]
  },
  {
   "cell_type": "code",
   "execution_count": 22,
   "metadata": {
    "collapsed": false
   },
   "outputs": [
    {
     "data": {
      "text/plain": [
       "'meters'"
      ]
     },
     "execution_count": 22,
     "metadata": {},
     "output_type": "execute_result"
    }
   ],
   "source": [
    "radar.range['units']"
   ]
  },
  {
   "cell_type": "markdown",
   "metadata": {},
   "source": [
    "What about the latitude and longitude?"
   ]
  },
  {
   "cell_type": "code",
   "execution_count": null,
   "metadata": {
    "collapsed": false
   },
   "outputs": [],
   "source": [
    "radar.longitude['data'][0]\n"
   ]
  },
  {
   "cell_type": "code",
   "execution_count": null,
   "metadata": {
    "collapsed": false
   },
   "outputs": [],
   "source": [
    "radar.latitude['data'][0]"
   ]
  },
  {
   "cell_type": "markdown",
   "metadata": {},
   "source": [
    "Ok, what does this data even look like? Luckily, Py-Art has build in plotting routines."
   ]
  },
  {
   "cell_type": "code",
   "execution_count": null,
   "metadata": {
    "collapsed": false
   },
   "outputs": [],
   "source": [
    "lim=[-120,120]\n",
    "\n",
    "two_panel_plot(radar, sweep=0, var1='reflectivity', var2='velocity', vmin1=0, vmax1=60, vmin2=-25, vmax2=25, \n",
    "               cmap1='RdYlBu_r', cmap2='RdYlBu_r', units1='dBZ', \n",
    "               units2='m s-2', xlim=lim, ylim=lim)"
   ]
  },
  {
   "cell_type": "code",
   "execution_count": null,
   "metadata": {
    "collapsed": false
   },
   "outputs": [],
   "source": [
    "\n",
    "two_panel_plot(radar, sweep=4, var1='differential_reflectivity', var2='cross_correlation_ratio', vmin1=-4, vmax1=6, vmin2=0.0, vmax2=1, \n",
    "               cmap1='RdYlBu_r', cmap2='RdYlBu_r', units1='dBZ', \n",
    "               units2='m s-2', xlim=lim, ylim=lim)"
   ]
  },
  {
   "cell_type": "code",
   "execution_count": null,
   "metadata": {
    "collapsed": false
   },
   "outputs": [],
   "source": [
    "lim=[-120,120]\n",
    "\n",
    "\n",
    "two_panel_plot(radar, sweep=4, var1='spectrum_width', var2='differential_phase', vmin1=0, vmax1=6, vmin2=-180, vmax2=0, \n",
    "               cmap1='RdYlBu_r', cmap2='RdYlBu_r', units1='dBZ', \n",
    "               units2='m s-2', xlim=lim, ylim=lim)"
   ]
  },
  {
   "cell_type": "markdown",
   "metadata": {},
   "source": [
    "Hmmm. So data is a bit of a mess. Let's clean up some."
   ]
  },
  {
   "cell_type": "code",
   "execution_count": null,
   "metadata": {
    "collapsed": false
   },
   "outputs": [],
   "source": [
    "lim=[-120,120]\n",
    "two_panel_plot(radar, sweep=4, var1='normalized_coherent_power', var2='specific_differential_phase', vmin1=0, vmax1=1, vmin2=-2, vmax2=6, \n",
    "               cmap1='RdYlBu_r', cmap2='RdYlBu_r', units1='dBZ', \n",
    "               units2='m s-2', xlim=lim, ylim=lim)"
   ]
  },
  {
   "cell_type": "code",
   "execution_count": null,
   "metadata": {
    "collapsed": true
   },
   "outputs": [],
   "source": [
    "NC = radar.fields['normalized_coherent_power']['data']"
   ]
  },
  {
   "cell_type": "markdown",
   "metadata": {},
   "source": [
    "Let's mask the data based on the normalized coherent power"
   ]
  },
  {
   "cell_type": "code",
   "execution_count": null,
   "metadata": {
    "collapsed": false
   },
   "outputs": [],
   "source": [
    "is_messy = NC < 0.6\n",
    "\n",
    "# Now to Numpy's masked array.. the np.ma module has a variety of methods.. here\n",
    "# we will use the masked_where method. This is invoked:\n",
    "# masked_where(condition, data)\n",
    "# and everywhere where condition = True will be marked as masked in the resultant array\n",
    "dz_masked = np.ma.masked_where(is_messy, radar.fields['reflectivity']['data'])\n",
    "nc_masked = np.ma.masked_where(is_messy, radar.fields['normalized_coherent_power']['data'])\n"
   ]
  },
  {
   "cell_type": "markdown",
   "metadata": {},
   "source": [
    "Now add a field back into the radar structure 'corrected_reflectivity'"
   ]
  },
  {
   "cell_type": "code",
   "execution_count": null,
   "metadata": {
    "collapsed": false
   },
   "outputs": [],
   "source": [
    "field_dict = {'data' : dz_masked}\n",
    "for key in ['_FillValue', 'long_name', 'units', \n",
    "            'standard_name', 'coordinates']:\n",
    "    field_dict.update({key : radar.fields['reflectivity'][key]})\n",
    "\n",
    "# and BOOM! Just add it back into our radar object! \n",
    "radar.add_field('corrected_reflectivity', field_dict)  "
   ]
  },
  {
   "cell_type": "code",
   "execution_count": null,
   "metadata": {
    "collapsed": false
   },
   "outputs": [],
   "source": [
    "lim=[-120,120]\n",
    "\n",
    "two_panel_plot(radar, sweep=4, var1='corrected_reflectivity', var2='normalized_coherent_power', vmin1=0, vmax1=60, vmin2=0, vmax2=1, \n",
    "               cmap1='RdYlBu_r', cmap2='RdYlBu_r', units1='dBZ', \n",
    "               units2='m s-2', xlim=lim, ylim=lim)"
   ]
  },
  {
   "cell_type": "markdown",
   "metadata": {
    "collapsed": false
   },
   "source": [
    "Now we can apply that mask to the rest of our fields to work with."
   ]
  },
  {
   "cell_type": "code",
   "execution_count": null,
   "metadata": {
    "collapsed": false
   },
   "outputs": [],
   "source": [
    "radar.fields['velocity']['data'].mask = np.ma.mask_or(radar.fields['corrected_reflectivity']['data'].mask, radar.fields['velocity']['data'].mask)\n",
    "radar.fields['differential_phase']['data'].mask = np.ma.mask_or(radar.fields['corrected_reflectivity']['data'].mask,radar.fields['differential_phase']['data'].mask)\n",
    "radar.fields['differential_reflectivity']['data'].mask = np.ma.mask_or(radar.fields['corrected_reflectivity']['data'].mask,radar.fields['differential_reflectivity']['data'].mask)\n",
    "radar.fields['cross_correlation_ratio']['data'].mask = np.ma.mask_or(radar.fields['corrected_reflectivity']['data'].mask,radar.fields['cross_correlation_ratio']['data'].mask)\n",
    "\n",
    "\n",
    "\n"
   ]
  },
  {
   "cell_type": "markdown",
   "metadata": {},
   "source": [
    "**Unfolding Radial Velocity**\n",
    "\n",
    "Remember the folded radial velocities? Let's try to unfold them with PyART."
   ]
  },
  {
   "cell_type": "code",
   "execution_count": null,
   "metadata": {
    "collapsed": true
   },
   "outputs": [],
   "source": [
    "#### Now for the unfolding.\n",
    "\n",
    "gatefilter = pyart.filters.GateFilter(radar)\n",
    "gatefilter.exclude_invalid('corrected_reflectivity')\n",
    "gatefilter.exclude_invalid('velocity')\n",
    "\n",
    "\n"
   ]
  },
  {
   "cell_type": "markdown",
   "metadata": {},
   "source": [
    "There are actually **3** ways to unfold velocities in PyART:\n",
    "    \n",
    "    1.pyart.correct.dealias_region_based\n",
    "    2.pyart.correct.dealias_unwrap_phase\n",
    "    3.pyart.correct.dealias_fourdd\n",
    "    \n",
    "Let's just try the region based as an example."
   ]
  },
  {
   "cell_type": "code",
   "execution_count": null,
   "metadata": {
    "collapsed": false
   },
   "outputs": [],
   "source": [
    "dealias_data_region=pyart.correct.dealias_region_based(radar,skip_between_rays=100, skip_along_ray=100, \n",
    "                                                       centered=True, nyquist_vel=16.5, check_nyquist_uniform=True, \n",
    "                                                       gatefilter=gatefilter, rays_wrap_around=None, \n",
    "                                                       keep_original=False, set_limits=False, vel_field='velocity', \n",
    "                                                       corr_vel_field=None)\n",
    "\n",
    "radar.add_field('corrected_velocity1', dealias_data_region)\n",
    "\n"
   ]
  },
  {
   "cell_type": "code",
   "execution_count": null,
   "metadata": {
    "collapsed": false
   },
   "outputs": [],
   "source": [
    "lim=[-120,120]\n",
    "\n",
    "two_panel_plot(radar, sweep=2, var1='velocity', var2='corrected_velocity1', vmin1=-25, vmax1=25, vmin2=-25, vmax2=25, \n",
    "               cmap1='RdYlBu_r', cmap2='RdYlBu_r', units1='m s-1', \n",
    "               units2='m s-1', xlim=lim, ylim=lim)"
   ]
  },
  {
   "cell_type": "markdown",
   "metadata": {},
   "source": [
    "Ok. Obviously there are many, many more things you can do with PyArt, but hopefully this gets you started. A useful resource is http://arm-doe.github.io/pyart/dev/auto_examples/index.html"
   ]
  },
  {
   "cell_type": "markdown",
   "metadata": {},
   "source": [
    "**Let's move on to CSU-Radartools**"
   ]
  },
  {
   "cell_type": "markdown",
   "metadata": {
    "collapsed": false
   },
   "source": [
    "The way CSU_RadarTools is designed is it works on Python arrays or scalars. This allows you to use it with any kind of radar data, whether it was ingested via Py-ART or something else, or is in polar coordinate or gridded form. Thus, we first need to extract the relevant fields from the Py-ART radar object."
   ]
  },
  {
   "cell_type": "code",
   "execution_count": null,
   "metadata": {
    "collapsed": true
   },
   "outputs": [],
   "source": [
    "dz = radar.fields['corrected_reflectivity']['data']\n",
    "dr = radar.fields['differential_reflectivity']['data']\n",
    "ph = radar.fields['differential_phase']['data']\n",
    "rh = radar.fields['cross_correlation_ratio']['data']"
   ]
  },
  {
   "cell_type": "markdown",
   "metadata": {
    "collapsed": true
   },
   "source": [
    "**csu_kdp**\n",
    "\n",
    "This module supplies a simple way of estimating specific differential phase (Kdp) via a methodology developed in the CSU Department of Electrical Engineering, and then subsequently adapted and used in the Department of Atmospheric Science. Filtering of the input differential phase field is based on a finite impulse response (FIR) filter, applied in a moving 3-km window. Then, an adaptive linear fit is applied iteratively to the filtered phase field, where half the slope of the linear fit at any specific gate is the Kdp estimate. The length of the line needed (i.e., number of gates considered) depends on the reflectivity at the gate in question.\n",
    "Standard deviation of differential phase is estimated and used to remove noisy/bad data. Gaps are filled in the filter window if the holes are less than 20% of the window length. To use this module you need a gate spacing that divdes evenly into 3 km (e.g., 50, 100, 150, 250, 300 m, etc.)."
   ]
  },
  {
   "cell_type": "code",
   "execution_count": null,
   "metadata": {
    "collapsed": true
   },
   "outputs": [],
   "source": [
    "# Range needs to be supplied as a variable, and it needs to be the same shape as dzN, etc.\n",
    "rng2d, az2d = np.meshgrid(radar.range['data'], radar.azimuth['data'])"
   ]
  },
  {
   "cell_type": "code",
   "execution_count": null,
   "metadata": {
    "collapsed": false
   },
   "outputs": [],
   "source": [
    "np.shape(rng2d)"
   ]
  },
  {
   "cell_type": "markdown",
   "metadata": {
    "collapsed": true
   },
   "source": [
    "\n",
    "OK, now we have all our needed inputs to calculate Kdp. The function we will call is csu_kdp.calc_kdp_bringi(), and it returns Kdp, filtered differential phase, and standard deviation of differential phase, in that order. Input variables can be 1D (rays) or 2D (azimuth/elevation and rays). The fundamental algorithm works on a ray-by-ray basis."
   ]
  },
  {
   "cell_type": "code",
   "execution_count": null,
   "metadata": {
    "collapsed": false
   },
   "outputs": [],
   "source": [
    "kdN, fdN, sdN = csu_kdp.calc_kdp_bringi(\n",
    "    dp=ph, dz=dz, rng=rng2d/1000.0, thsd=12, gs=150.0, window=3)"
   ]
  },
  {
   "cell_type": "code",
   "execution_count": null,
   "metadata": {
    "collapsed": false
   },
   "outputs": [],
   "source": [
    "radar = add_field_to_radar_object(kdN, radar, field_name='KDP', units='deg/km', \n",
    "                                   long_name='Specific Differential Phase',\n",
    "                                   standard_name='Specific Differential Phase', \n",
    "                                   dz_field='corrected_reflectivity')\n",
    "radar = add_field_to_radar_object(fdN, radar, field_name='FDP', units='deg', \n",
    "                                   long_name='Filtered Differential Phase',\n",
    "                                   standard_name='Filtered Differential Phase', \n",
    "                                   dz_field='corrected_reflectivity')\n",
    "radar = add_field_to_radar_object(sdN, radar, field_name='SDP', units='deg', \n",
    "                                   long_name='Standard Deviation of Differential Phase',\n",
    "                                   standard_name='Standard Deviation of Differential Phase', \n",
    "                                   dz_field='corrected_reflectivity')"
   ]
  },
  {
   "cell_type": "code",
   "execution_count": null,
   "metadata": {
    "collapsed": false
   },
   "outputs": [],
   "source": [
    "#First let's see what the original data looked like.\n",
    "limN = [-120, 120]\n",
    "two_panel_plot(radar, sweep=1, var1='corrected_reflectivity', vmin1=0, vmax1=65.0, \n",
    "               cmap1='RdYlBu_r', units1='dBZ',\n",
    "               var2='differential_phase', vmin2=-180, vmax2=180, \n",
    "               cmap2='cubehelix', units2='deg', \n",
    "               xlim=limN, ylim=limN)"
   ]
  },
  {
   "cell_type": "code",
   "execution_count": null,
   "metadata": {
    "collapsed": false
   },
   "outputs": [],
   "source": [
    "#Now let's see the filtered and specific differential phase fields\n",
    "two_panel_plot(radar, sweep=1, var1='FDP', vmin1=-180, vmax1=180, \n",
    "               cmap1='cubehelix', units1='deg',\n",
    "               var2='KDP', vmin2=-5, vmax2=5, cmap2='RdYlBu_r', units2='deg/km', \n",
    "               xlim=limN, ylim=limN)"
   ]
  },
  {
   "cell_type": "markdown",
   "metadata": {},
   "source": [
    "Now that we have Kdp, we have all the variables necessary for hydrometeor identification."
   ]
  },
  {
   "cell_type": "markdown",
   "metadata": {},
   "source": [
    "**csu_fhc**\n",
    "\n",
    "I lied. First we need to get Temperature from the sounding into the same array size as the other fields. Here is a way to do that via Py-ART and numpy.interp()."
   ]
  },
  {
   "cell_type": "code",
   "execution_count": null,
   "metadata": {
    "collapsed": true
   },
   "outputs": [],
   "source": [
    "def get_z_from_radar(radar):\n",
    "    \"\"\"Input radar object, return z from radar (km, 2D)\"\"\"\n",
    "    azimuth_1D = radar.azimuth['data']\n",
    "    elevation_1D = radar.elevation['data']\n",
    "    srange_1D = radar.range['data']\n",
    "    sr_2d, az_2d = np.meshgrid(srange_1D, azimuth_1D)\n",
    "    el_2d = np.meshgrid(srange_1D, elevation_1D)[1]\n",
    "    xx, yy, zz = radar_coords_to_cart(sr_2d/1000.0, az_2d, el_2d)\n",
    "    return zz + radar.altitude['data']\n",
    "\n",
    "def check_sounding_for_montonic(sounding):\n",
    "    \"\"\"\n",
    "    So the sounding interpolation doesn't fail, force the sounding to behave\n",
    "    monotonically so that z always increases. This eliminates data from\n",
    "    descending balloons.\n",
    "    \"\"\"\n",
    "    snd_T = sounding.soundingdata['temp']  # In old SkewT, was sounding.data\n",
    "    snd_z = sounding.soundingdata['hght']  # In old SkewT, was sounding.data\n",
    "    dummy_z = []\n",
    "    dummy_T = []\n",
    "    if not snd_T.mask[0]: #May cause issue for specific soundings\n",
    "        dummy_z.append(snd_z[0])\n",
    "        dummy_T.append(snd_T[0])\n",
    "        for i, height in enumerate(snd_z):\n",
    "            if i > 0:\n",
    "                if snd_z[i] > snd_z[i-1] and not snd_T.mask[i]:\n",
    "                    dummy_z.append(snd_z[i])\n",
    "                    dummy_T.append(snd_T[i])\n",
    "        snd_z = np.array(dummy_z)\n",
    "        snd_T = np.array(dummy_T)\n",
    "    return snd_T, snd_z\n",
    "\n",
    "def interpolate_sounding_to_radar(sounding, radar):\n",
    "    \"\"\"Takes sounding data and interpolates it to every radar gate.\"\"\"\n",
    "    radar_z = get_z_from_radar(radar)\n",
    "    radar_T = None\n",
    "    snd_T, snd_z = check_sounding_for_montonic(sounding)\n",
    "    shape = np.shape(radar_z)\n",
    "    rad_z1d = radar_z.ravel()\n",
    "    rad_T1d = np.interp(rad_z1d, snd_z, snd_T)\n",
    "    return np.reshape(rad_T1d, shape), radar_z\n",
    "\n"
   ]
  },
  {
   "cell_type": "code",
   "execution_count": null,
   "metadata": {
    "collapsed": true
   },
   "outputs": [],
   "source": [
    "radar_T, radar_z = interpolate_sounding_to_radar(sounding, radar)"
   ]
  },
  {
   "cell_type": "markdown",
   "metadata": {},
   "source": [
    "To quote TJL from the CSU_radartools notebook, 'Behold!'"
   ]
  },
  {
   "cell_type": "code",
   "execution_count": null,
   "metadata": {
    "collapsed": true
   },
   "outputs": [],
   "source": [
    "scores = csu_fhc.csu_fhc_summer(dz=dz, zdr=dr, rho=rh, kdp=kdN, use_temp=True, band='C',\n",
    "                                T=radar_T)\n",
    "fh = np.argmax(scores, axis=0) + 1"
   ]
  },
  {
   "cell_type": "markdown",
   "metadata": {},
   "source": [
    "To enable the ability to find out the second-ranked (or third, etc.) species, csu_fhc_summer() returns the scores for all the different categories, not just the max. So to get the traditional HID category number you have to use numpy.argmax() as above. The summer HID from CSU returns 10 possible categories:\n",
    "1. Drizzle\n",
    "2. Rain\n",
    "3. Ice Crystals\n",
    "4. Aggregates\n",
    "5. Wet/Melting Snow\n",
    "6. Vertically Aligned Ice\n",
    "7. Low-Density Graupel\n",
    "8. High-Density Graupel\n",
    "9. Hail\n",
    "10. Big Drops\n",
    "And these are represented as integers in the newly created fh array, which as the same structure as dz, dr, etc. We'd like to plot these data using Py-ART, which means we need to turn fh in a radar object field. Let's do that."
   ]
  },
  {
   "cell_type": "code",
   "execution_count": null,
   "metadata": {
    "collapsed": false
   },
   "outputs": [],
   "source": [
    "radar = add_field_to_radar_object(fh, radar,dz_field='corrected_reflectivity')"
   ]
  },
  {
   "cell_type": "markdown",
   "metadata": {},
   "source": [
    "Now we need to set up a colorbar and labels to work nicely with PyART for discrete fields."
   ]
  },
  {
   "cell_type": "code",
   "execution_count": null,
   "metadata": {
    "collapsed": true
   },
   "outputs": [],
   "source": [
    "hid_colors = ['White', 'LightBlue', 'MediumBlue', 'DarkOrange', 'LightPink',\n",
    "              'Cyan', 'DarkGray', 'Lime', 'Yellow', 'Red', 'Fuchsia']\n",
    "cmaphid = colors.ListedColormap(hid_colors)\n",
    "\n",
    "def adjust_fhc_colorbar_for_pyart(cb):\n",
    "    cb.set_ticks(np.arange(1.4, 10, 0.9))\n",
    "    cb.ax.set_yticklabels(['Drizzle', 'Rain', 'Ice Crystals', 'Aggregates',\n",
    "                           'Wet Snow', 'Vertical Ice', 'LD Graupel',\n",
    "                           'HD Graupel', 'Hail', 'Big Drops'])\n",
    "    cb.ax.set_ylabel('')\n",
    "    cb.ax.tick_params(length=0)\n",
    "    return cb\n",
    "\n"
   ]
  },
  {
   "cell_type": "code",
   "execution_count": null,
   "metadata": {
    "collapsed": false
   },
   "outputs": [],
   "source": [
    "# Actual plotting done here\n",
    "lim = [-120, 120]\n",
    "fig, ax1, ax2, display = two_panel_plot(radar, sweep=2, var1='corrected_reflectivity', var2='FH', vmin2=0, \n",
    "                                        vmax2=10, cmap2=cmaphid, units2='', return_flag=True, \n",
    "                                        xlim=lim, ylim=lim)\n",
    "display.cbs[1] = adjust_fhc_colorbar_for_pyart(display.cbs[1])"
   ]
  },
  {
   "cell_type": "markdown",
   "metadata": {},
   "source": [
    "The HID algorithm, like most algorithms in CSU_RadarTools, works on scalars too. So if you are just curious what category a set of polarimetric values will get, try the following:"
   ]
  },
  {
   "cell_type": "code",
   "execution_count": null,
   "metadata": {
    "collapsed": false
   },
   "outputs": [],
   "source": [
    "scores = csu_fhc.csu_fhc_summer(dz=45.0, zdr=0.0, kdp=-0.2, rho=0.95, T=-1) \n",
    "print(np.argmax(scores, axis=0) + 1)"
   ]
  },
  {
   "cell_type": "markdown",
   "metadata": {},
   "source": [
    "Which is high density graupel. Pretty easy, eh?"
   ]
  },
  {
   "cell_type": "markdown",
   "metadata": {},
   "source": [
    "**There are several other tools that work in a similar framework.**\n",
    "\n",
    "*csu_fhc - fuzzy-logic hydrometeor identification\n",
    "\n",
    "*csu_liquid_ice_mass - liquid/ice water mass calculations\n",
    "\n",
    "*csu_blended_rain - rainfall estimation via the famous CSU blended algorithm\n",
    "\n",
    "*csu_dsd - DSD parameter estimation via several different methodologies\n",
    "\n",
    "*csu_kdp - An FIR-based KDP estimation algorithm\n",
    "\n",
    "*csu_misc - A loose collection of miscellaneous tools, mainly focused on QC"
   ]
  },
  {
   "cell_type": "markdown",
   "metadata": {},
   "source": [
    "**Let's do a few more things.**\n",
    "\n",
    "First, write out a cfradial file with the radar object."
   ]
  },
  {
   "cell_type": "code",
   "execution_count": null,
   "metadata": {
    "collapsed": true
   },
   "outputs": [],
   "source": [
    "pyart.io.cfradial.write_cfradial('CSAPR_corr_{t1:}_raw.nc'.format(t1=time1), radar, format='NETCDF4', time_reference=True, arm_time_variables=False)"
   ]
  },
  {
   "cell_type": "markdown",
   "metadata": {},
   "source": [
    "Now, let's try **gridding** the data."
   ]
  },
  {
   "cell_type": "code",
   "execution_count": null,
   "metadata": {
    "collapsed": true
   },
   "outputs": [],
   "source": [
    "grids = pyart.map.grid_from_radars(\n",
    "         (radar,), grid_shape=(52, 401, 401),\n",
    "        grid_limits=((0, 17000.0),(-120000, 120000), (-120000, 120000)),\n",
    "        fields=radar.fields.keys(), gridding_algo=\"map_gates_to_grid\",\n",
    "        weighting_function='CRESSMAN')"
   ]
  },
  {
   "cell_type": "code",
   "execution_count": null,
   "metadata": {
    "collapsed": false
   },
   "outputs": [],
   "source": [
    "display = pyart.graph.GridMapDisplay(grids)\n",
    "fig = plt.figure(figsize=[15, 7])\n",
    "\n",
    "# panel sizes\n",
    "map_panel_axes = [0.05, 0.05, .5, .80]\n",
    "x_cut_panel_axes = [0.58, 0.10, .4, .25]\n",
    "y_cut_panel_axes = [0.58, 0.50, .4, .25]\n",
    "\n",
    "# parameters\n",
    "level = 3 #21\n",
    "vmin = -8\n",
    "vmax = 64\n",
    "lat = 36.1\n",
    "lon = -97.450546264648438\n",
    "\n",
    "# panel 1, basemap, radar reflectivity and NARR overlay\n",
    "ax1 = fig.add_axes(map_panel_axes)\n",
    "display.plot_basemap(lon_lines = np.arange(-104, -93, 1) )\n",
    "display.plot_grid('corrected_reflectivity', level=level, vmin=vmin, vmax=vmax,\n",
    "                 cmap = pyart.graph.cm.NWSRef)\n",
    "display.plot_crosshairs(lon=lon, lat=lat)\n",
    "#vmin = -25\n",
    "#vmax = 25\n",
    "\n",
    "\n",
    "# panel 2, longitude slice.\n",
    "ax2 = fig.add_axes(x_cut_panel_axes)\n",
    "display.plot_longitude_slice('corrected_reflectivity', lon=lon, lat=lat, vmin=vmin, vmax=vmax,\n",
    "                            cmap = pyart.graph.cm.NWSRef)\n",
    "ax2.set_ylim([0,17])\n",
    "ax2.set_xlim([-120,120])\n",
    "\n",
    "ax2.set_xlabel('Distance from CSAPR (km)')\n",
    "vmin = -2\n",
    "vmax = 6\n",
    "\n",
    "\n",
    "# panel 3, latitude slice\n",
    "ax3 = fig.add_axes(y_cut_panel_axes)\n",
    "ax3.set_ylim([0,17])\n",
    "ax3.set_xlim([-120,120])\n",
    "\n",
    "display.plot_latitude_slice('KDP', lon=lon, lat=lat, vmin=vmin, vmax=vmax,\n",
    "                           cmap = pyart.graph.cm.NWSRef)"
   ]
  },
  {
   "cell_type": "code",
   "execution_count": null,
   "metadata": {
    "collapsed": true
   },
   "outputs": [],
   "source": []
  }
 ],
 "metadata": {
  "kernelspec": {
   "display_name": "Python 2",
   "language": "python",
   "name": "python2"
  },
  "language_info": {
   "codemirror_mode": {
    "name": "ipython",
    "version": 2
   },
   "file_extension": ".py",
   "mimetype": "text/x-python",
   "name": "python",
   "nbconvert_exporter": "python",
   "pygments_lexer": "ipython2",
   "version": "2.7.11"
  }
 },
 "nbformat": 4,
 "nbformat_minor": 0
}
