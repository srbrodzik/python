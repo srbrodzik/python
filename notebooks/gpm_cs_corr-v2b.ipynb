{
 "cells": [
  {
   "cell_type": "markdown",
   "metadata": {},
   "source": [
    "Imports and functions"
   ]
  },
  {
   "cell_type": "code",
   "execution_count": 373,
   "metadata": {
    "collapsed": false
   },
   "outputs": [],
   "source": [
    "import os\n",
    "import netCDF4 as nc4\n",
    "import numpy as np\n",
    "#import numpy.ma as ma"
   ]
  },
  {
   "cell_type": "markdown",
   "metadata": {},
   "source": [
    "User inputs"
   ]
  },
  {
   "cell_type": "code",
   "execution_count": 374,
   "metadata": {
    "collapsed": true
   },
   "outputs": [],
   "source": [
    "#indir = '/home/disk/bob/gpm/nam_ku/classify/ex_data/2014/06/test'\n",
    "#indir = '/home/disk/bob/gpm/nam_ku/classify/ex_data/2014/07/test'\n",
    "#indir = '/home/disk/bob/gpm/nam_ku/classify/ex_data/2014/10/test'\n",
    "#indir = '/home/disk/bob/gpm/nam_ku/classify/ex_data/2014/11/test'\n",
    "#indir = '/home/disk/bob/gpm/nam_ku/classify/ex_data/2014/12/test'\n",
    "#-----------------------------------------------------------------\n",
    "#indir = '/home/disk/bob/gpm/nam_ku/classify/ex_data/2015/02/test'\n",
    "#indir = '/home/disk/bob/gpm/nam_ku/classify/ex_data/2015/04/test'\n",
    "#indir = '/home/disk/bob/gpm/nam_ku/classify/ex_data/2015/06/test'\n",
    "#indir = '/home/disk/bob/gpm/nam_ku/classify/ex_data/2015/07/test'\n",
    "#indir = '/home/disk/bob/gpm/nam_ku/classify/ex_data/2015/08/test'\n",
    "#-----------------------------------------------------------------\n",
    "indir = '/home/disk/bob/gpm/nam_ku/classify/ex_data/2016/01/test'\n",
    "#indir = '/home/disk/bob/gpm/nam_ku/classify/ex_data/2016/06/test'\n",
    "\n",
    "THRESHOLD = 38.0  #dBZ\n",
    "SLOPE_LO = 6.0\n",
    "SLOPE_HI2 = 8.0\n",
    "SLOPE_HI3 = 8.0\n",
    "VERT_RES = 0.125  #km"
   ]
  },
  {
   "cell_type": "code",
   "execution_count": 375,
   "metadata": {
    "collapsed": true
   },
   "outputs": [],
   "source": [
    "#fname = 'GPM-2Ku.001497.20140603.213419.nc'\n",
    "#fname = 'GPM-2Ku.001574.20140608.202205.nc'\n",
    "#fname = 'GPM-2Ku.001779.20140622.005639.nc'\n",
    "#fname = 'GPM-2Ku.001917.20140630.215001.nc'\n",
    "#-------------------------------------------\n",
    "#fname = 'GPM-2Ku.002081.20140711.102925.nc'\n",
    "#-------------------------------------------\n",
    "#fname = 'GPM-2Ku.003485.20141009.163649.nc'\n",
    "#fname = 'GPM-2Ku.003510.20141011.064348.nc'\n",
    "#fname = 'GPM-2Ku.003556.20141014.053954.nc'\n",
    "#fname = 'GPM-2Ku.003684.20141022.113356.nc'\n",
    "#-------------------------------------------\n",
    "#fname = 'GPM-2Ku.003886.20141104.110624.nc'\n",
    "#fname = 'GPM-2Ku.004007.20141112.054200.nc'\n",
    "#fname = 'GPM-2Ku.004022.20141113.044926.nc'\n",
    "#fname = 'GPM-2Ku.004186.20141123.171346.nc'\n",
    "#fname = 'GPM-2Ku.004201.20141124.162249.nc'\n",
    "#-------------------------------------------\n",
    "#fname = 'GPM-2Ku.004378.20141206.014736.nc'\n",
    "#fname = 'GPM-2Ku.004665.20141224.120452.nc'\n",
    "#-------------------------------------------\n",
    "#fname = 'GPM-2Ku.005285.20150202.084127.nc'\n",
    "#-------------------------------------------\n",
    "#fname = 'GPM-2Ku.006190.20150401.125219.nc'\n",
    "#fname = 'GPM-2Ku.006329.20150410.111317.nc'\n",
    "#fname = 'GPM-2Ku.006437.20150417.094529.nc'\n",
    "#fname = 'GPM-2Ku.006569.20150425.205420.nc'\n",
    "#fname = 'GPM-2Ku.006621.20150429.053449.nc'\n",
    "#-------------------------------------------\n",
    "#fname = 'GPM-2Ku.007400.20150618.065614.nc'\n",
    "#-------------------------------------------\n",
    "#fname = 'GPM-2Ku.007789.20150713.071724.nc'\n",
    "#fname = 'GPM-2Ku.007866.20150718.060539.nc'\n",
    "#fname = 'GPM-2Ku.008020.20150728.034222.nc'\n",
    "#-------------------------------------------\n",
    "#fname = 'GPM-2Ku.008343.20150817.220244.nc'\n",
    "#-------------------------------------------\n",
    "fname = 'GPM-2Ku.010496.20160103.071812.nc'\n",
    "#-------------------------------------------\n",
    "#fname = 'GPM-2Ku.013031.20160614.053444.nc'\n",
    "#fname = 'GPM-2Ku.013087.20160617.194203.nc'\n",
    "#fname = 'GPM-2Ku.013200.20160625.021853.nc'   "
   ]
  },
  {
   "cell_type": "code",
   "execution_count": 376,
   "metadata": {
    "collapsed": false
   },
   "outputs": [],
   "source": [
    "ncid = nc4.Dataset(indir+'/'+fname,'a')\n",
    "#ncid = nc4.Dataset(indir+'/'+fname,'r')\n",
    "    \n",
    "refl = np.array(ncid.variables['refl'])\n",
    "(ntime,nalt,nlat,nlon) = refl.shape\n",
    "refl_missing = ncid.variables['refl'].missing_value\n",
    "bin_missing = int(refl_missing)\n",
    "    \n",
    "rt = np.array(ncid.variables['rain_type'])\n",
    "rt_missing = ncid.variables['rain_type'].missing_value\n",
    "#rt[(rt==rt_missing)] = np.nan \n",
    "    \n",
    "rt_uw2 = np.array(rt, copy=True)    \n",
    "rt_uw3 = np.array(rt, copy=True)    "
   ]
  },
  {
   "cell_type": "markdown",
   "metadata": {},
   "source": [
    "    For rt_uw2, change rain_type to stratiform in rt_uw if:\n",
    "    1. rain_type = convective and\n",
    "    2. max_refl in column >= THRESHOLD and\n",
    "    3. (max_refl - dbz@(max_refl_ht-1km)/deltaHt <= abs(SLOPE_LO)\n",
    "    4. (max_refl - dbz@(max_refl_ht+1km)/deltaHt >= abs(SLOPE_HI)\n",
    "    \n",
    "    For rt_uw3, change rain_type to stratiform in rt_uw if:\n",
    "    1. rain_type = convective and\n",
    "    2. max_refl in column >= THRESHOLD and\n",
    "    3. (max_refl - dbz@(max_refl_ht+1km)/deltaHt >= abs(SLOPE_HI)    "
   ]
  },
  {
   "cell_type": "code",
   "execution_count": 377,
   "metadata": {
    "collapsed": false
   },
   "outputs": [],
   "source": [
    "# find max_refl and max_refl_ht at each lat/lon\n",
    "max_refl = np.zeros(rt.shape,dtype=float)+refl_missing\n",
    "max_refl = np.amax(refl,axis=1)\n",
    "max_refl_bin = np.zeros(rt.shape,dtype=int)+bin_missing\n",
    "max_refl_bin = np.argmax(refl,axis=1)\n",
    "max_refl_ht = max_refl_bin * VERT_RES\n",
    "\n",
    "max_refl_bin[(max_refl==refl_missing)] = bin_missing\n",
    "max_refl_ht[(max_refl==refl_missing)] = refl_missing\n",
    "    \n",
    "# find bin & height of highest good refl at each lat/lon\n",
    "max_ht_bin = np.zeros(rt.shape,dtype=int) + bin_missing\n",
    "for lev in range(nalt-1,-1,-1):\n",
    "    max_ht_bin = np.where(np.logical_and((refl[:,lev,:,:] != refl_missing),\n",
    "                                        (max_ht_bin == bin_missing) ), \n",
    "                        lev, max_ht_bin ) \n",
    "max_ht = max_ht_bin * (max_ht_bin != bin_missing) * VERT_RES\n",
    "max_ht[(max_ht_bin==bin_missing)] = refl_missing    \n",
    "    \n",
    "# find bin & height of lowest good refl at each lat/lon\n",
    "min_ht_bin = np.zeros(rt.shape,dtype=int) + bin_missing\n",
    "for lev in range(0,nalt):\n",
    "    min_ht_bin = np.where(np.logical_and( (refl[:,lev,:,:] != refl_missing),\n",
    "                                    (min_ht_bin == bin_missing) ), \n",
    "                        lev, min_ht_bin ) \n",
    "min_ht = min_ht_bin * (min_ht_bin != bin_missing) * VERT_RES\n",
    "min_ht[(min_ht_bin==bin_missing)] = refl_missing    "
   ]
  },
  {
   "cell_type": "code",
   "execution_count": 378,
   "metadata": {
    "collapsed": false
   },
   "outputs": [],
   "source": [
    "# Determine indices of interest \n",
    "change = np.logical_and(rt==2,max_refl>=THRESHOLD)\n",
    "ind_time,ind_lat,ind_lon = np.where(change==True)\n",
    "npixels = ind_time.size"
   ]
  },
  {
   "cell_type": "code",
   "execution_count": 379,
   "metadata": {
    "collapsed": false
   },
   "outputs": [],
   "source": [
    "# Run test for rt_uw2 and rt_uw3\n",
    "for ind in range(0,npixels):\n",
    "    itime = ind_time[ind]\n",
    "    ilat = ind_lat[ind]\n",
    "    ilon = ind_lon[ind]\n",
    "    #itime = 0\n",
    "    # Problem point with max refl at 0.125km\n",
    "    #ilat = 266\n",
    "    #ilon =  24\n",
    "    # Good point with max refl at 1.75km\n",
    "    #ilat = 265\n",
    "    #ilon =  34\n",
    "    # Fails at SLOPE_HI=8, passes at SLOPE_HI=6\n",
    "    #ilat = 264\n",
    "    #ilon = 25\n",
    "    #ilon = 100\n",
    "    #ilat = 45\n",
    "    #print 'ind = ',ind,' and [itime,ilat,ilon] = [',itime,',',ilat,',',ilon,'] and max_refl = ',max_refl[itime,ilat,ilon]\n",
    "    if max_refl[itime,ilat,ilon] != refl_missing:\n",
    "        #print 'max_refl_bin = ',max_refl_bin[itime,ilat,ilon],' and max_refl = ',max_refl[itime,ilat,ilon]\n",
    "        #print 'Looking for minus point'\n",
    "        if max_refl_bin[itime,ilat,ilon] >= int(1.0/VERT_RES):\n",
    "            #print '   Not atypical'\n",
    "            ht_index = max_refl_bin[itime,ilat,ilon]-int(1.0/VERT_RES)\n",
    "            #print '   ht_index = ',ht_index,' and refl = ',refl[itime,ht_index,ilat,ilon]\n",
    "            refl_minus_diff = max_refl[itime,ilat,ilon]-refl[itime,ht_index,ilat,ilon]\n",
    "            ht_minus_diff = 1.0\n",
    "            #print '   refl_minus_diff = ',refl_minus_diff,' and ht_minus_diff = ',ht_minus_diff\n",
    "        else:\n",
    "            #print '   Atypical'\n",
    "            ht_index = min_ht_bin[itime,ilat,ilon]\n",
    "            #print '   ht_index = ',ht_index,' and refl = ',refl[itime,ht_index,ilat,ilon]\n",
    "            refl_minus_diff = max_refl[itime,ilat,ilon]-refl[itime,ht_index,ilat,ilon]\n",
    "            ht_minus_diff = max_refl_ht[itime,ilat,ilon]-min_ht[itime,ilat,ilon]\n",
    "            #print '   refl_minus_diff = ',refl_minus_diff,' and ht_minus_diff = ',ht_minus_diff\n",
    "        if ht_minus_diff != 0.0:\n",
    "            slope_minus = refl_minus_diff/ht_minus_diff\n",
    "        else:\n",
    "            slope_minus = refl_missing\n",
    "        #print '   slope_minus = ',slope_minus\n",
    "        \n",
    "        #print 'Looking for plus point'\n",
    "        if max_ht_bin[itime,ilat,ilon] >= max_refl_bin[itime,ilat,ilon]+int(1.5/VERT_RES):\n",
    "            #print '   Not atypical'\n",
    "            ht_index = max_refl_bin[itime,ilat,ilon]+int(1.5/VERT_RES)\n",
    "            #print '   ht_index = ',ht_index,' and refl = ',refl[itime,ht_index,ilat,ilon]\n",
    "            refl_plus_diff = max_refl[itime,ilat,ilon]-refl[itime,ht_index,ilat,ilon]\n",
    "            ht_plus_diff = 1.5\n",
    "            #print '   refl_plus_diff = ',refl_plus_diff,' and ht_plus_diff = ',ht_plus_diff\n",
    "        else:\n",
    "            #print '   Atypical'\n",
    "            ht_index = max_ht_bin[itime,ilat,ilon]\n",
    "            #print '   ht_index = ',ht_index,' and refl = ',refl[itime,ht_index,ilat,ilon]\n",
    "            refl_plus_diff = max_refl[itime,ilat,ilon]-refl[itime,ht_index,ilat,ilon]\n",
    "            #print 'refl = ',\n",
    "            ht_plus_diff = max_ht[itime,ilat,ilon]-max_refl_ht[itime,ilat,ilon]\n",
    "            #print '   refl_plus_diff = ',refl_plus_diff,' and ht_plus_diff = ',ht_plus_diff\n",
    "        if ht_plus_diff != 0.0:\n",
    "            slope_plus = refl_plus_diff/ht_plus_diff\n",
    "        else:\n",
    "            slope_plus = refl_missing\n",
    "        #print '   slope_plus = ',slope_plus\n",
    "                \n",
    "        change2 = np.logical_and(abs(slope_minus) <= SLOPE_LO,\n",
    "                                abs(slope_plus) >= SLOPE_HI2)\n",
    "        #print 'change2 = ',change2\n",
    "        if change2 == True:\n",
    "            rt_uw2[itime,ilat,ilon] = 1\n",
    "                \n",
    "        change3 = abs(slope_plus) >= SLOPE_HI3\n",
    "        #print 'change3 = ',change3\n",
    "        if change3 == True:\n",
    "            rt_uw3[itime,ilat,ilon] = 1"
   ]
  },
  {
   "cell_type": "markdown",
   "metadata": {},
   "source": [
    "    Add new raintype fields to input netcdf file"
   ]
  },
  {
   "cell_type": "code",
   "execution_count": 235,
   "metadata": {
    "collapsed": false
   },
   "outputs": [],
   "source": [
    "rt_uw2_id = ncid.createVariable('rain_type_uw2','f4',\n",
    "                                ('time','latitude','longitude'),zlib=True)\n",
    "rt_uw2_id.units = \"none\"\n",
    "rt_uw2_id.long_name = \"Rain Type UW2\"\n",
    "rt_uw2_id.stratiform = 1\n",
    "rt_uw2_id.convective = 2\n",
    "rt_uw2_id.other = 3\n",
    "rt_uw2_id.missing_value = rt_missing\n",
    "rt_uw2_id[:,:,:] = rt_uw2"
   ]
  },
  {
   "cell_type": "code",
   "execution_count": 380,
   "metadata": {
    "collapsed": true
   },
   "outputs": [],
   "source": [
    "rt_uw3_id = ncid.createVariable('rain_type_uw3','f4',\n",
    "                                ('time','latitude','longitude'),zlib=True)\n",
    "rt_uw3_id.units = \"none\"\n",
    "rt_uw3_id.long_name = \"Rain Type UW3\"\n",
    "rt_uw3_id.stratiform = 1\n",
    "rt_uw3_id.convective = 2\n",
    "rt_uw3_id.other = 3\n",
    "rt_uw3_id.missing_value = rt_missing\n",
    "rt_uw3_id[:,:,:] = rt_uw3"
   ]
  },
  {
   "cell_type": "code",
   "execution_count": 381,
   "metadata": {
    "collapsed": false
   },
   "outputs": [],
   "source": [
    "ncid.close()"
   ]
  },
  {
   "cell_type": "code",
   "execution_count": null,
   "metadata": {
    "collapsed": true
   },
   "outputs": [],
   "source": []
  }
 ],
 "metadata": {
  "kernelspec": {
   "display_name": "Python 2",
   "language": "python",
   "name": "python2"
  },
  "language_info": {
   "codemirror_mode": {
    "name": "ipython",
    "version": 2
   },
   "file_extension": ".py",
   "mimetype": "text/x-python",
   "name": "python",
   "nbconvert_exporter": "python",
   "pygments_lexer": "ipython2",
   "version": "2.7.9"
  }
 },
 "nbformat": 4,
 "nbformat_minor": 0
}
