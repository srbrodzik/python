{
 "cells": [
  {
   "cell_type": "markdown",
   "metadata": {},
   "source": [
    "Imports and functions"
   ]
  },
  {
   "cell_type": "code",
   "execution_count": 281,
   "metadata": {
    "collapsed": true
   },
   "outputs": [],
   "source": [
    "import os\n",
    "import netCDF4 as nc4\n",
    "import numpy as np\n",
    "import numpy.ma as ma"
   ]
  },
  {
   "cell_type": "markdown",
   "metadata": {},
   "source": [
    "User inputs"
   ]
  },
  {
   "cell_type": "code",
   "execution_count": 282,
   "metadata": {
    "collapsed": true
   },
   "outputs": [],
   "source": [
    "#indir = '/home/disk/bob/gpm/nam_ku/classify/ex_data/2014/06/test'\n",
    "#indir = '/home/disk/bob/gpm/nam_ku/classify/ex_data/2014/07/test'\n",
    "#indir = '/home/disk/bob/gpm/nam_ku/classify/ex_data/2014/10/test'\n",
    "#indir = '/home/disk/bob/gpm/nam_ku/classify/ex_data/2014/11/test'\n",
    "#indir = '/home/disk/bob/gpm/nam_ku/classify/ex_data/2014/12/test'\n",
    "#indir = '/home/disk/bob/gpm/nam_ku/classify/ex_data/2015/02/test'\n",
    "#indir = '/home/disk/bob/gpm/nam_ku/classify/ex_data/2015/04/test'\n",
    "indir = '/home/disk/bob/gpm/nam_ku/classify/ex_data/2015/06/test'\n",
    "#indir = '/home/disk/bob/gpm/nam_ku/classify/ex_data/2015/07/test'\n",
    "#indir = '/home/disk/bob/gpm/nam_ku/classify/ex_data/2016/01/test'\n",
    "#indir = '/home/disk/bob/gpm/nam_ku/classify/ex_data/2016/04/test'\n",
    "THRESHOLD = 40.0  #dBZ\n",
    "MIN_HT = 3.0      #km\n",
    "MAX_HT = 5.0      #km\n",
    "VERT_RES = 0.125  #km\n",
    "fltr_missing = -99"
   ]
  },
  {
   "cell_type": "code",
   "execution_count": 261,
   "metadata": {
    "collapsed": false
   },
   "outputs": [
    {
     "data": {
      "text/plain": [
       "['.nfs0000002000cb29cb00000007',\n",
       " 'GPM2Ku4_uw1_20140622.005524_to_20140622.005755_001779_NAM.nc']"
      ]
     },
     "execution_count": 261,
     "metadata": {},
     "output_type": "execute_result"
    }
   ],
   "source": [
    "os.listdir(indir)"
   ]
  },
  {
   "cell_type": "code",
   "execution_count": 283,
   "metadata": {
    "collapsed": true
   },
   "outputs": [],
   "source": [
    "#fname = 'GPM2Ku4_uw1_20140622.005524_to_20140622.005755_001779_NAM.nc'\n",
    "#fname = 'GPM-2Ku.007185.20150604.111137.nc'\n",
    "fname = 'GPM-2Ku.007137.20150601.090418.nc'"
   ]
  },
  {
   "cell_type": "markdown",
   "metadata": {},
   "source": [
    "Open input netcdf file"
   ]
  },
  {
   "cell_type": "code",
   "execution_count": 284,
   "metadata": {
    "collapsed": true
   },
   "outputs": [],
   "source": [
    "ncid = nc4.Dataset(indir+'/'+fname,'a')"
   ]
  },
  {
   "cell_type": "markdown",
   "metadata": {},
   "source": [
    "Read vars of interest - reflectivity, rain_type and shallow_rain_type"
   ]
  },
  {
   "cell_type": "code",
   "execution_count": 285,
   "metadata": {
    "collapsed": false
   },
   "outputs": [],
   "source": [
    "refl = ncid.variables['refl'][:]\n",
    "(ntime,nalt,nlat,nlon) = refl.shape\n",
    "rt = ncid.variables['rain_type'][:]\n",
    "rt_missing = ncid.variables['rain_type'].missing_value\n",
    "srt = ncid.variables['shallow_rain_type'][:]"
   ]
  },
  {
   "cell_type": "markdown",
   "metadata": {},
   "source": [
    "Create arrays for rain_type_uw and filters"
   ]
  },
  {
   "cell_type": "code",
   "execution_count": 286,
   "metadata": {
    "collapsed": true
   },
   "outputs": [],
   "source": [
    "rt_uw = np.array(rt, copy=True)\n",
    "\n",
    "fltr = ma.masked_array(np.zeros(rt.shape), rt.mask)\n",
    "ma.set_fill_value(fltr, fltr_missing)\n",
    "fltr_srt = ma.masked_array(np.zeros(rt.shape), rt.mask)\n",
    "ma.set_fill_value(fltr_srt, fltr_missing)\n",
    "fltr_total = ma.masked_array(np.zeros(rt.shape), rt.mask)\n",
    "ma.set_fill_value(fltr_total, fltr_missing)"
   ]
  },
  {
   "cell_type": "markdown",
   "metadata": {},
   "source": [
    "Change rain_type values to STRATIFORM in rt_uw if:\n",
    "1. rain_type = convective and\n",
    "2. max refl in column > THRESHOLD and\n",
    "3. ht of max refl in column is between MIN_HT and MAX_HT"
   ]
  },
  {
   "cell_type": "code",
   "execution_count": 287,
   "metadata": {
    "collapsed": true
   },
   "outputs": [],
   "source": [
    "conv_mask = np.zeros(rt.shape,dtype=int)\n",
    "conv_mask[(rt==2)] = 1\n",
    "max_refl = np.zeros(rt.shape,dtype=float)\n",
    "max_refl = np.amax(refl,axis=1)\n",
    "max_refl_ht = np.zeros(rt.shape,dtype=float)\n",
    "max_refl_ht = np.argmax(refl,axis=1)\n",
    "chg = np.logical_and(np.logical_and(conv_mask==1,max_refl>=THRESHOLD),\n",
    "                     np.logical_and(max_refl_ht*VERT_RES>=MIN_HT,\n",
    "                                    max_refl_ht*VERT_RES<=MAX_HT))\n",
    "rt_uw[chg==True]=1\n",
    "fltr[chg == True] = 1"
   ]
  },
  {
   "cell_type": "markdown",
   "metadata": {},
   "source": [
    "Find gridpoints where rain is shallow certain (isolated or non-isolated)\n",
    "For shallow_rain_type:\n",
    "1.  0 => no_shallow_rain\n",
    "2. 10 => shallow_isolated_maybe\n",
    "3. 11 => shallow_isolated_certain\n",
    "4. 20 => shallow_nonisolated_maybe\n",
    "5. 21 => shallow_nonisolated_certain"
   ]
  },
  {
   "cell_type": "code",
   "execution_count": 288,
   "metadata": {
    "collapsed": false
   },
   "outputs": [],
   "source": [
    "chg_srt = np.logical_or(srt==11,srt==21)\n",
    "fltr_srt[chg_srt == True] = 1"
   ]
  },
  {
   "cell_type": "markdown",
   "metadata": {},
   "source": [
    "Find gridpoints where:\n",
    "1. rain_type will be changed and\n",
    "2. shallow rain certain exists"
   ]
  },
  {
   "cell_type": "code",
   "execution_count": 289,
   "metadata": {
    "collapsed": true
   },
   "outputs": [],
   "source": [
    "chg_total = np.logical_and(chg,chg_srt)\n",
    "fltr_total[chg_total == True] = 1"
   ]
  },
  {
   "cell_type": "markdown",
   "metadata": {},
   "source": [
    "Add new fields to input netcdf file"
   ]
  },
  {
   "cell_type": "code",
   "execution_count": 290,
   "metadata": {
    "collapsed": false
   },
   "outputs": [],
   "source": [
    "rt_uw_id = ncid.createVariable('rain_type_uw','f4',('time','latitude','longitude'),zlib=True)\n",
    "rt_uw_id.units = \"none\"\n",
    "rt_uw_id.long_name = \"Rain Type UW\"\n",
    "rt_uw_id.stratiform = 1\n",
    "rt_uw_id.convective = 2\n",
    "rt_uw_id.other = 3\n",
    "rt_uw_id.missing_value = rt_missing\n",
    "rt_uw_id[:,:,:] = rt_uw\n",
    "\n",
    "filter_uw_id = ncid.createVariable('filter_chg_rt','f4',('time','latitude','longitude'),zlib=True)\n",
    "filter_uw_id.units = \"none\"\n",
    "filter_uw_id.long_name = \"Rain type change mask\"\n",
    "filter_uw_id.missing_value = fltr_missing\n",
    "filter_uw_id[:,:,:] = fltr\n",
    "    \n",
    "filter_srt_id = ncid.createVariable('filter_srt','f4',('time','latitude','longitude'),zlib=True)\n",
    "filter_srt_id.units = \"none\"\n",
    "filter_srt_id.long_name = \"Shallow rain mask\"\n",
    "filter_srt_id.missing_value = fltr_missing\n",
    "filter_srt_id[:,:,:] = fltr_srt\n",
    "    \n",
    "filter_tot_id = ncid.createVariable('filter_total','f4',('time','latitude','longitude'),zlib=True)\n",
    "filter_tot_id.units = \"none\"\n",
    "filter_tot_id.long_name = \"Rain type change and shallow rain mask\"\n",
    "filter_tot_id.missing_value = fltr_missing\n",
    "filter_tot_id[:,:,:] = fltr_total"
   ]
  },
  {
   "cell_type": "code",
   "execution_count": 291,
   "metadata": {
    "collapsed": true
   },
   "outputs": [],
   "source": [
    "ncid.close()"
   ]
  },
  {
   "cell_type": "code",
   "execution_count": null,
   "metadata": {
    "collapsed": true
   },
   "outputs": [],
   "source": []
  }
 ],
 "metadata": {
  "kernelspec": {
   "display_name": "Python 2",
   "language": "python",
   "name": "python2"
  },
  "language_info": {
   "codemirror_mode": {
    "name": "ipython",
    "version": 2
   },
   "file_extension": ".py",
   "mimetype": "text/x-python",
   "name": "python",
   "nbconvert_exporter": "python",
   "pygments_lexer": "ipython2",
   "version": "2.7.9"
  }
 },
 "nbformat": 4,
 "nbformat_minor": 0
}
