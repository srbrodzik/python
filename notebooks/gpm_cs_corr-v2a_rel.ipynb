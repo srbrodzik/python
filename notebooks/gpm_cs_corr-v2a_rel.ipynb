{
 "cells": [
  {
   "cell_type": "markdown",
   "metadata": {},
   "source": [
    "Imports and functions"
   ]
  },
  {
   "cell_type": "code",
   "execution_count": 98,
   "metadata": {},
   "outputs": [
    {
     "name": "stdout",
     "output_type": "stream",
     "text": [
      "Using matplotlib backend: TkAgg\n"
     ]
    }
   ],
   "source": [
    "import os\n",
    "import netCDF4 as nc4\n",
    "import numpy as np\n",
    "#import numpy.ma as ma\n",
    "%matplotlib\n",
    "import matplotlib as mpl\n",
    "import matplotlib.pyplot as plt"
   ]
  },
  {
   "cell_type": "markdown",
   "metadata": {},
   "source": [
    "User inputs"
   ]
  },
  {
   "cell_type": "code",
   "execution_count": 99,
   "metadata": {},
   "outputs": [],
   "source": [
    "indir = '/home/storm/brodzik/Data/CSH/2018/10'\n",
    "VERT_RES = 0.125  #km\n",
    "STRA = 1\n",
    "CONV = 2\n",
    "THRESHOLD = 0.0  #dBZ\n",
    "DELTA_HT_FOR_SLOPE = 1.5 #km\n",
    "SLOPE = 7.5\n",
    "MAX_BB_HT = 5.0          #km\n",
    "REFL_MAX_OFFSET = 2.0    #dBZ"
   ]
  },
  {
   "cell_type": "code",
   "execution_count": 100,
   "metadata": {},
   "outputs": [],
   "source": [
    "fname = 'GPM2Ku5_uw2_20181001.004259_to_20181001.004807_026079_CSH.nc'\n",
    "#fname = 'GPM2Ku5_uw2_20181001.021447_to_20181001.022042_026080_CSH.nc'\n",
    "#fname = 'GPM2Ku5_uw2_20181001.055925_to_20181001.060340_026082_CSH.nc'\n",
    "#fname = 'GPM2Ku5_uw2_20181001.192142_to_20181001.192756_026091_CSH.nc'"
   ]
  },
  {
   "cell_type": "code",
   "execution_count": 101,
   "metadata": {},
   "outputs": [],
   "source": [
    "ncid = nc4.Dataset(indir+'/'+fname,'r')\n",
    "    \n",
    "refl = np.array(ncid.variables['refl'])\n",
    "(ntime,nalt,nlat,nlon) = refl.shape\n",
    "refl_missing = ncid.variables['refl']._FillValue\n",
    "refl[:,0,:,:] = refl_missing  # get rid of lowest level due to suspicious data\n",
    "\n",
    "bin_missing = int(refl_missing)\n",
    "    \n",
    "rt = np.array(ncid.variables['rain_type'])\n",
    "rt_missing = ncid.variables['rain_type']._FillValue\n",
    "\n",
    "# use if looking for uw_rt\n",
    "#rt_uw = np.array(rt, copy=True)\n",
    "# if rt_uw already exists\n",
    "rt_uw = np.array(ncid.variables['rain_type_uw'])\n",
    "rt_uw_missing = ncid.variables['rain_type_uw']._FillValue\n",
    "\n",
    "srt = np.array(ncid.variables['shallow_rain_type'])\n",
    "srt_missing = ncid.variables['shallow_rain_type']._FillValue"
   ]
  },
  {
   "cell_type": "code",
   "execution_count": 102,
   "metadata": {},
   "outputs": [],
   "source": [
    "# find max_refl and max_refl_ht at each lat/lon\n",
    "max_refl = np.zeros(rt.shape,dtype=float)+refl_missing\n",
    "max_refl = np.amax(refl,axis=1)\n",
    "max_refl_bin = np.zeros(rt.shape,dtype=int)+bin_missing\n",
    "max_refl_bin = np.argmax(refl,axis=1)\n",
    "max_refl_ht = max_refl_bin * VERT_RES\n",
    "\n",
    "max_refl_bin[(max_refl==refl_missing)] = bin_missing\n",
    "max_refl_ht[(max_refl==refl_missing)] = refl_missing\n",
    "\n",
    "# initialize reference refl/bin/ht\n",
    "# these reflect highest refl,bin,ht above max_refl,bin.ht and within +/- REFL_MAX_OFFSET\n",
    "reference_refl = np.array(max_refl, copy=True)\n",
    "reference_refl_bin = np.array(max_refl_bin, copy=True)\n",
    "reference_refl_ht = np.array(max_refl_ht, copy=True)\n",
    "                                \n",
    "# find bin & height of highest good refl at each lat/lon\n",
    "max_ht_bin = np.zeros(rt.shape,dtype=int) + bin_missing\n",
    "for lev in range(nalt-1,-1,-1):\n",
    "    max_ht_bin = np.where(np.logical_and((refl[:,lev,:,:] != refl_missing),\n",
    "                                         (max_ht_bin == bin_missing) ), \n",
    "                          lev, max_ht_bin ) \n",
    "max_ht = max_ht_bin * (max_ht_bin != bin_missing) * VERT_RES\n",
    "max_ht[(max_ht_bin==bin_missing)] = refl_missing    \n",
    "    \n",
    "# For rt_uw, change rain_type to stratiform if:\n",
    "# 1. rain_type = convective and\n",
    "# 2. shallow_rain_type = 0 and\n",
    "# 3. max_refl in column >= THRESHOLD and   ## DON'T USE THIS CRITERIA ANYMORE\n",
    "# 4. [(dbz @ reference point) - (dbz @ point 1.5km higher)]/\n",
    "#    [(ht  @ reference point) - (ht  @ point 1.5km higher)] >= abs(SLOPE)\n",
    "#  as long as ht @ reference point <= MAX_BB_HT\n",
    "                \n",
    "# Determine indices of interest \n",
    "#change = np.logical_and(np.logical_and(rt==2,srt==0),max_refl>=THRESHOLD)\n",
    "change = np.logical_and(rt==2,srt==0)\n",
    "ind_time,ind_lat,ind_lon = np.where(change==True)\n",
    "npixels = ind_time.size"
   ]
  },
  {
   "cell_type": "code",
   "execution_count": 103,
   "metadata": {},
   "outputs": [],
   "source": [
    "#for ind in range(0,npixels):\n",
    "#itime = ind_time[ind]\n",
    "#ilat = ind_lat[ind]\n",
    "#ilon = ind_lon[ind]\n",
    "itime = 0\n",
    "#orbit 026079\n",
    "ilon = 38\n",
    "ilat = 108"
   ]
  },
  {
   "cell_type": "code",
   "execution_count": 104,
   "metadata": {},
   "outputs": [
    {
     "name": "stdout",
     "output_type": "stream",
     "text": [
      "refl= [-99.    35.08  35.08  35.08  35.08  35.07  35.07  35.06  35.07  35.07\n",
      "  35.73  36.41  37.04  37.27  37.54  37.08  36.95  35.02  35.71  34.94\n",
      "  32.44  29.76  27.51  25.71  25.31  23.15  20.66  18.23 -99.   -99.\n",
      " -99.   -99.   -99.   -99.   -99.   -99.   -99.   -99.   -99.   -99.\n",
      " -99.   -99.   -99.   -99.   -99.   -99.   -99.   -99.   -99.   -99.\n",
      " -99.   -99.   -99.   -99.   -99.   -99.   -99.   -99.   -99.   -99.\n",
      " -99.   -99.   -99.   -99.   -99.   -99.   -99.   -99.   -99.   -99.\n",
      "  14.77  15.75  15.8   16.63  16.54  17.22  14.74 -99.   -99.   -99.\n",
      " -99.   -99.   -99.   -99.   -99.   -99.   -99.   -99.   -99.   -99.\n",
      " -99.   -99.   -99.   -99.   -99.   -99.   -99.   -99.   -99.   -99.\n",
      " -99.   -99.   -99.   -99.   -99.   -99.   -99.   -99.   -99.   -99.\n",
      " -99.   -99.   -99.   -99.   -99.   -99.   -99.   -99.   -99.   -99.\n",
      " -99.   -99.   -99.   -99.   -99.   -99.   -99.   -99.   -99.   -99.\n",
      " -99.   -99.   -99.   -99.   -99.   -99.   -99.   -99.   -99.   -99.\n",
      " -99.   -99.   -99.   -99.   -99.   -99.   -99.   -99.   -99.   -99.\n",
      " -99.   -99.   -99.   -99.   -99.   -99.   -99.   -99.   -99.   -99.\n",
      " -99.   -99.   -99.   -99.   -99.   -99.   -99.   -99.   -99.   -99.\n",
      " -99.   -99.   -99.   -99.   -99.   -99.  ]\n",
      "rt= 2.0  rt_uw= 1.0\n",
      "[itime,ilat,ilon] = [ 0 , 108 , 38 ]\n",
      "max_refl= 37.54  max_refl_bin= 14  max_refl_ht= 1.75\n",
      "next_bin= 15  next_ht= 1.875  next_refl= 37.08\n",
      "ref_refl= 37.08  ref_refl_bin= 15  ref_refl_ht= 1.875\n",
      "next_bin= 16  next_ht= 2.0  next_refl= 36.95\n",
      "max_refl-next_refl= 0.59000015\n",
      "ref_refl= 36.95  ref_refl_bin= 16  ref_refl_ht= 2.0\n",
      "next_bin= 17  next_ht= 2.125  next_refl= 35.02\n",
      "max_refl-next_refl= 2.5200005\n",
      "\n",
      "ref_refl_bin= 16  ref_refl_ht= 2.0  ref_refl= 36.95\n",
      "compare_bin= 27  compare_ht= 3.125  compare_refl= 18.23\n",
      "Change from CONV to STRA\n"
     ]
    }
   ],
   "source": [
    "# Run test for rt_uw\n",
    "print 'refl=',refl[0,:,ilat,ilon]\n",
    "print 'rt=',rt[0,ilat,ilon],' rt_uw=',rt_uw[0,ilat,ilon]\n",
    "print '[itime,ilat,ilon] = [',itime,',',ilat,',',ilon,']'\n",
    "print 'max_refl=',max_refl[itime,ilat,ilon],' max_refl_bin=',max_refl_bin[itime,ilat,ilon],' max_refl_ht=',max_refl_ht[itime,ilat,ilon]\n",
    "if max_refl[itime,ilat,ilon] != refl_missing:\n",
    "                        \n",
    "    next_bin = reference_refl_bin[itime,ilat,ilon]+1\n",
    "    next_ht = reference_refl_ht[itime,ilat,ilon]+VERT_RES\n",
    "    next_refl = refl[itime,next_bin,ilat,ilon]\n",
    "    print 'next_bin=',next_bin,' next_ht=',next_ht,' next_refl=',next_refl\n",
    "\n",
    "    while abs(max_refl[itime,ilat,ilon]-next_refl) <= REFL_MAX_OFFSET:\n",
    "        reference_refl[itime,ilat,ilon]=next_refl\n",
    "        reference_refl_bin[itime,ilat,ilon] = next_bin\n",
    "        reference_refl_ht[itime,ilat,ilon]=next_ht  \n",
    "        next_bin = reference_refl_bin[itime,ilat,ilon]+1\n",
    "        next_ht = reference_refl_ht[itime,ilat,ilon]+VERT_RES\n",
    "        next_refl = refl[itime,next_bin,ilat,ilon]\n",
    "        print 'ref_refl=',reference_refl[itime,ilat,ilon],' ref_refl_bin=',reference_refl_bin[itime,ilat,ilon],' ref_refl_ht=',reference_refl_ht[itime,ilat,ilon]\n",
    "        print 'next_bin=',next_bin,' next_ht=',next_ht,' next_refl=',next_refl\n",
    "        print 'max_refl-next_refl=',abs(max_refl[itime,ilat,ilon]-next_refl)\n",
    "                       \n",
    "    if reference_refl_ht[itime,ilat,ilon] < MAX_BB_HT:\n",
    "        if (reference_refl_ht[itime,ilat,ilon] + DELTA_HT_FOR_SLOPE) <= max_ht[itime,ilat,ilon]:\n",
    "            compare_bin = reference_refl_bin[itime,ilat,ilon] + int(DELTA_HT_FOR_SLOPE/VERT_RES)\n",
    "            if refl[itime,compare_bin,ilat,ilon] != refl_missing:\n",
    "                compare_ht = reference_refl_ht[itime,ilat,ilon] + DELTA_HT_FOR_SLOPE\n",
    "                compare_refl = refl[itime,compare_bin,ilat,ilon]\n",
    "            else:\n",
    "                while refl[itime,compare_bin,ilat,ilon] == refl_missing:\n",
    "                    compare_bin = compare_bin-1\n",
    "                    compare_ht = compare_ht-VERT_RES\n",
    "                compare_refl=refl[itime,compare_bin,ilat,ilon]\n",
    "                    \n",
    "        else:\n",
    "            compare_bin = max_ht_bin[itime,ilat,ilon]\n",
    "            compare_ht = max_ht[itime,ilat,ilon]\n",
    "            compare_refl = refl[itime,compare_bin,ilat,ilon]\n",
    "        print ''\n",
    "        print 'ref_refl_bin=',reference_refl_bin[itime,ilat,ilon],' ref_refl_ht=',reference_refl_ht[itime,ilat,ilon],' ref_refl=',reference_refl[itime,ilat,ilon]\n",
    "        print 'compare_bin=',compare_bin,' compare_ht=',compare_ht,' compare_refl=',compare_refl\n",
    "        if (abs(reference_refl_ht[itime,ilat,ilon] - compare_ht)) != 0.0:\n",
    "            if ( abs(reference_refl[itime,ilat,ilon] - compare_refl)/\n",
    "                 abs(reference_refl_ht[itime,ilat,ilon] - compare_ht) ) >= SLOPE:\n",
    "                #rt_uw[itime,ilat,ilon] = STRA\n",
    "                print 'Change from CONV to STRA'\n",
    "            else:\n",
    "                print 'Do not change from CONV to STRA'"
   ]
  },
  {
   "cell_type": "code",
   "execution_count": null,
   "metadata": {},
   "outputs": [],
   "source": [
    "# If rain_type_uw exists in file, overwrite it.  If not, create new variable \n",
    "try:\n",
    "    ncid.variables['rain_type_uw']\n",
    "    ncid.variables['rain_type_uw'][:] = rt_uw\n",
    "    #print \"Wrote modified var to file\"\n",
    "except:\n",
    "    rt_uw_id = ncid.createVariable('rain_type_uw','f4',\n",
    "                                  ('time','lat','lon'),zlib=True,fill_value=rt_missing)\n",
    "    rt_uw_id.units = \"none\"\n",
    "    rt_uw_id.long_name = \"Rain Type UW\"\n",
    "    rt_uw_id.stratiform = 1\n",
    "    rt_uw_id.convective = 2\n",
    "    rt_uw_id.other = 3\n",
    "    rt_uw_id[:,:,:] = rt_uw\n",
    "    #print \"Wrote new var to file\""
   ]
  },
  {
   "cell_type": "code",
   "execution_count": 105,
   "metadata": {},
   "outputs": [],
   "source": [
    "ncid.close()"
   ]
  },
  {
   "cell_type": "code",
   "execution_count": null,
   "metadata": {},
   "outputs": [],
   "source": [
    "print 'refl  = ',refl[0,:,108,38]\n",
    "print 'rt    = ',rt[0,108,38]\n",
    "print 'rt_uw = ',rt_uw[0,108,38]"
   ]
  },
  {
   "cell_type": "code",
   "execution_count": 111,
   "metadata": {},
   "outputs": [
    {
     "data": {
      "text/plain": [
       "Text(18,0.5,'SLOPE=16.64')"
      ]
     },
     "execution_count": 111,
     "metadata": {},
     "output_type": "execute_result"
    }
   ],
   "source": [
    "# PLOT COLUMN\n",
    "#some computations\n",
    "delta_refl = reference_refl[itime,ilat,ilon] - compare_refl\n",
    "delta_ht = compare_ht - reference_refl_ht[itime,ilat,ilon]\n",
    "slope = delta_refl/delta_ht\n",
    "\n",
    "#y = range(1, 30)\n",
    "x = refl[0,0:54,ilat,ilon]\n",
    "##x = refl[0,0:79,ilat,ilon]\n",
    "y = np.linspace(0.0,6.625,num=54)\n",
    "##y = np.linspace(0.0,6.625,num=79)\n",
    "fig = plt.figure()\n",
    "plt.plot(x, y, '-',color='black')\n",
    "#plt.plot(x, y, 'o')\n",
    "#plt.xlim(15, 50);\n",
    "#plt.xlim(15, 60);\n",
    "plt.xlim(10, 55);\n",
    "plt.ylim(0.25, 7.0);\n",
    "plt.xlabel('refl (dBZ)')\n",
    "plt.ylabel('ht (km)')\n",
    "\n",
    "#x1 = range(15,61)\n",
    "x1 = range(10,56)\n",
    "y1 = np.array([MAX_BB_HT for i in xrange(len(x1))])\n",
    "#plt.plot(x1, y1, 'r-',label='MAX_BB_HT') \n",
    "#plt.plot()\n",
    "\n",
    "#x2 = range(15,61)\n",
    "x2 = range(10,56)\n",
    "y2 = np.array([max_refl_ht[itime,ilat,ilon] for i in xrange(len(x2))])\n",
    "plt.plot(x2, y2, 'm-', label='max refl pt') \n",
    "plt.plot()\n",
    "\n",
    "#x3 = range(15,61)\n",
    "x3 = range(10,56)\n",
    "y3 = np.array([reference_refl_ht[itime,ilat,ilon] for i in xrange(len(x3))])\n",
    "plt.plot(x3, y3, 'b--', label='ref refl pt') \n",
    "plt.plot()\n",
    "\n",
    "#x4 = range(15,61)\n",
    "x4 = range(10,56)\n",
    "y4 = np.array([compare_ht for i in xrange(len(x4))])\n",
    "plt.plot(x4, y4, 'g--', label='compare refl pt') \n",
    "plt.plot()\n",
    "\n",
    "y5 = range(0,8)\n",
    "x5 = np.array([reference_refl[itime,ilat,ilon] for i in xrange(len(y5))])\n",
    "plt.plot(x5, y5, 'b--') \n",
    "plt.plot()\n",
    "\n",
    "y6 = range(0,8)\n",
    "x6 = np.array([compare_refl for i in xrange(len(y6))])\n",
    "plt.plot(x6, y6, 'g--') \n",
    "plt.plot()\n",
    "\n",
    "plt.legend()\n",
    "\n",
    "plt.fill_between(x1,y1,color='gray',alpha=0.3)\n",
    "\n",
    "plt.title('Reclassified Stratiform Reflectivity Profile - 20181001/004259')\n",
    "#plt.title('Reclassified Stratiform Reflectivity Profile - 20181001/021447')\n",
    "#plt.title('Reclassified Stratiform Reflectivity Profile - 20181001/055925')\n",
    "#plt.title('Reclassified Stratiform Reflectivity Profile - 20181001/192142')\n",
    "\n",
    "plt.text(18,reference_refl_ht[itime,ilat,ilon]+delta_ht/2,'Delta_ht='+str(round(delta_ht,2)))\n",
    "plt.text(compare_refl+delta_refl/2,5,'Delta_refl='+str(round(delta_refl,2)),rotation=90)\n",
    "plt.text(18,0.5,'SLOPE='+str(round(delta_refl/delta_ht,2)))"
   ]
  },
  {
   "cell_type": "code",
   "execution_count": null,
   "metadata": {},
   "outputs": [],
   "source": [
    "reference_refl[itime,ilat,ilon]"
   ]
  },
  {
   "cell_type": "code",
   "execution_count": null,
   "metadata": {},
   "outputs": [],
   "source": [
    "compare_refl"
   ]
  },
  {
   "cell_type": "code",
   "execution_count": 93,
   "metadata": {},
   "outputs": [
    {
     "data": {
      "text/plain": [
       "13.614545454545457"
      ]
     },
     "execution_count": 93,
     "metadata": {},
     "output_type": "execute_result"
    }
   ],
   "source": [
    "(36.95-18.23)/(3.25-1.875)"
   ]
  },
  {
   "cell_type": "code",
   "execution_count": null,
   "metadata": {},
   "outputs": [],
   "source": []
  }
 ],
 "metadata": {
  "kernelspec": {
   "display_name": "Python 2",
   "language": "python",
   "name": "python2"
  },
  "language_info": {
   "codemirror_mode": {
    "name": "ipython",
    "version": 2
   },
   "file_extension": ".py",
   "mimetype": "text/x-python",
   "name": "python",
   "nbconvert_exporter": "python",
   "pygments_lexer": "ipython2",
   "version": "2.7.15"
  }
 },
 "nbformat": 4,
 "nbformat_minor": 1
}
