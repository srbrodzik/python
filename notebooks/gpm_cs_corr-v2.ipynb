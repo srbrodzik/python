{
 "cells": [
  {
   "cell_type": "markdown",
   "metadata": {},
   "source": [
    "Imports and functions"
   ]
  },
  {
   "cell_type": "code",
   "execution_count": 77,
   "metadata": {
    "collapsed": true
   },
   "outputs": [],
   "source": [
    "import os\n",
    "import netCDF4 as nc4\n",
    "import numpy as np"
   ]
  },
  {
   "cell_type": "markdown",
   "metadata": {},
   "source": [
    "User inputs"
   ]
  },
  {
   "cell_type": "code",
   "execution_count": 78,
   "metadata": {
    "collapsed": true
   },
   "outputs": [],
   "source": [
    "#indir = '/home/disk/bob/gpm/nam_ku/classify/ex_data/2014/06/test'\n",
    "#indir = '/home/disk/bob/gpm/nam_ku/classify/ex_data/2014/07/test'\n",
    "#indir = '/home/disk/bob/gpm/nam_ku/classify/ex_data/2014/10/test'\n",
    "#indir = '/home/disk/bob/gpm/nam_ku/classify/ex_data/2014/11/test'\n",
    "#indir = '/home/disk/bob/gpm/nam_ku/classify/ex_data/2014/12/test'\n",
    "#indir = '/home/disk/bob/gpm/nam_ku/classify/ex_data/2015/02/test'\n",
    "#indir = '/home/disk/bob/gpm/nam_ku/classify/ex_data/2015/04/test'\n",
    "#indir = '/home/disk/bob/gpm/nam_ku/classify/ex_data/2015/06/test'\n",
    "#indir = '/home/disk/bob/gpm/nam_ku/classify/ex_data/2015/07/test'\n",
    "#indir = '/home/disk/bob/gpm/nam_ku/classify/ex_data/2016/01/test'\n",
    "#indir = '/home/disk/bob/gpm/nam_ku/classify/ex_data/2016/04/test'\n",
    "indir = '/home/disk/bob/gpm/nam_ku/classify/ex_data/2014/03'\n",
    "THRESHOLD = 40.0  #dBZ\n",
    "SLOPE_LO = 0.5\n",
    "SLOPE_HI = 2.0\n",
    "VERT_RES = 0.125  #km"
   ]
  },
  {
   "cell_type": "code",
   "execution_count": 79,
   "metadata": {
    "collapsed": false
   },
   "outputs": [],
   "source": [
    "#for fname in os.listdir(indir):\n",
    "#   print fname"
   ]
  },
  {
   "cell_type": "code",
   "execution_count": 80,
   "metadata": {
    "collapsed": true
   },
   "outputs": [],
   "source": [
    "#fname = 'GPM2Ku4_uw1_20140630.202105_to_20140630.202518_001916_NAM.nc'\n",
    "#fname = 'GPM-2Ku.007185.20150604.111137.nc'\n",
    "fname = 'GPM-2Ku.000457.20140329.012549.nc'"
   ]
  },
  {
   "cell_type": "code",
   "execution_count": 81,
   "metadata": {
    "collapsed": true
   },
   "outputs": [],
   "source": [
    "    #ncid = nc4.Dataset(indir+'/'+fname,'a')\n",
    "    ncid = nc4.Dataset(indir+'/'+fname,'r')"
   ]
  },
  {
   "cell_type": "code",
   "execution_count": 82,
   "metadata": {
    "collapsed": false
   },
   "outputs": [],
   "source": [
    "    refl = np.array(np.squeeze(ncid.variables['refl']))\n",
    "    (nalt,nlat,nlon) = refl.shape\n",
    "    refl_missing = ncid.variables['refl'].missing_value\n",
    "    #refl[(refl==refl_missing)] = np.nan"
   ]
  },
  {
   "cell_type": "code",
   "execution_count": 83,
   "metadata": {
    "collapsed": false
   },
   "outputs": [
    {
     "name": "stdout",
     "output_type": "stream",
     "text": [
      "176 4 4\n",
      "(176, 4, 4)\n"
     ]
    }
   ],
   "source": [
    "print nalt, nlat, nlon\n",
    "print refl.shape"
   ]
  },
  {
   "cell_type": "code",
   "execution_count": 84,
   "metadata": {
    "collapsed": false
   },
   "outputs": [],
   "source": [
    "    rt = np.array(ncid.variables['rain_type'])\n",
    "    rt_missing = ncid.variables['rain_type'].missing_value\n",
    "    #rt[(rt==rt_missing)] = np.nan"
   ]
  },
  {
   "cell_type": "code",
   "execution_count": 85,
   "metadata": {
    "collapsed": false
   },
   "outputs": [
    {
     "data": {
      "text/plain": [
       "(1, 4, 4)"
      ]
     },
     "execution_count": 85,
     "metadata": {},
     "output_type": "execute_result"
    }
   ],
   "source": [
    "rt.shape"
   ]
  },
  {
   "cell_type": "code",
   "execution_count": 86,
   "metadata": {
    "collapsed": true
   },
   "outputs": [],
   "source": [
    "    rt_uw = np.array(rt, copy=True)"
   ]
  },
  {
   "cell_type": "code",
   "execution_count": 87,
   "metadata": {
    "collapsed": true
   },
   "outputs": [],
   "source": [
    "    #rt_uw = np.ma.copy(rt)"
   ]
  },
  {
   "cell_type": "markdown",
   "metadata": {},
   "source": [
    "    change rain_type to stratiform in rt_uw if:\n",
    "    1. rain_type = convective and\n",
    "    2. max_refl in column >= THRESHOLD and\n",
    "    3. (max_refl - dbz@(max_refl_ht-1km)/deltaHt > abs(SLOPE_LO)\n",
    "    4. (max_refl - dbz@(max_refl_ht+1km)/deltaHt > abs(SLOPE_HI)"
   ]
  },
  {
   "cell_type": "code",
   "execution_count": 88,
   "metadata": {
    "collapsed": true
   },
   "outputs": [],
   "source": [
    "    # find max_refl and max_refl_ht at each lat/lon\n",
    "    max_refl = np.zeros(rt.shape,dtype=float)\n",
    "    max_refl = np.amax(refl,axis=1)\n",
    "    max_refl_bin = np.zeros(rt.shape,dtype=float)\n",
    "    max_refl_bin = np.argmax(refl,axis=1)\n",
    "    max_refl_ht = max_refl_bin*VERT_RES"
   ]
  },
  {
   "cell_type": "code",
   "execution_count": 89,
   "metadata": {
    "collapsed": false
   },
   "outputs": [],
   "source": [
    "    # find bin of highest good refl at each lat/lon\n",
    "    maxht = np.zeros((nlat,nlon))+refl_missing\n",
    "    for lev in range(nalt-1,-1,-1):\n",
    "        maxht = np.where(np.logical_and( (refl[lev,:,:] != refl_missing),\n",
    "                                         (maxht == refl_missing) ), \n",
    "                         lev*VERT_RES, maxht ) "
   ]
  },
  {
   "cell_type": "code",
   "execution_count": 90,
   "metadata": {
    "collapsed": false
   },
   "outputs": [
    {
     "data": {
      "text/plain": [
       "array([[  2.   ,   2.   ,   2.   ,   1.75 ],\n",
       "       [-99.   ,   2.   , -99.   ,   1.75 ],\n",
       "       [  1.875,   1.875, -99.   , -99.   ],\n",
       "       [  1.875, -99.   , -99.   , -99.   ]])"
      ]
     },
     "execution_count": 90,
     "metadata": {},
     "output_type": "execute_result"
    }
   ],
   "source": [
    "maxht"
   ]
  },
  {
   "cell_type": "code",
   "execution_count": 76,
   "metadata": {
    "collapsed": false
   },
   "outputs": [
    {
     "data": {
      "text/plain": [
       "array([[  1.875, -99.   , -99.   , -99.   ],\n",
       "       [  1.875,   1.875, -99.   , -99.   ],\n",
       "       [-99.   ,   2.   , -99.   ,   1.75 ],\n",
       "       [  2.   ,   2.   ,   2.   ,   1.75 ]])"
      ]
     },
     "execution_count": 76,
     "metadata": {},
     "output_type": "execute_result"
    }
   ],
   "source": [
    "np.flipud(maxht)"
   ]
  },
  {
   "cell_type": "code",
   "execution_count": 67,
   "metadata": {
    "collapsed": false
   },
   "outputs": [
    {
     "data": {
      "text/plain": [
       "2.125"
      ]
     },
     "execution_count": 67,
     "metadata": {},
     "output_type": "execute_result"
    }
   ],
   "source": [
    "lev*VERT_RES+VERT_RES"
   ]
  },
  {
   "cell_type": "code",
   "execution_count": null,
   "metadata": {
    "collapsed": false
   },
   "outputs": [],
   "source": [
    "a = refl[:,lev,:,:] != refl_missing"
   ]
  },
  {
   "cell_type": "code",
   "execution_count": null,
   "metadata": {
    "collapsed": false
   },
   "outputs": [],
   "source": [
    "a"
   ]
  },
  {
   "cell_type": "code",
   "execution_count": null,
   "metadata": {
    "collapsed": false
   },
   "outputs": [],
   "source": [
    "a.shape"
   ]
  },
  {
   "cell_type": "code",
   "execution_count": null,
   "metadata": {
    "collapsed": true
   },
   "outputs": [],
   "source": [
    "b = maxht == refl_missing"
   ]
  },
  {
   "cell_type": "code",
   "execution_count": null,
   "metadata": {
    "collapsed": false
   },
   "outputs": [],
   "source": [
    "b.shape"
   ]
  },
  {
   "cell_type": "code",
   "execution_count": null,
   "metadata": {
    "collapsed": true
   },
   "outputs": [],
   "source": [
    "        maxht = np.where(np.logical_and( (refl[:,lev,:,:] != refl_missing),\n",
    "                                         (maxht == refl_missing) ) )"
   ]
  },
  {
   "cell_type": "code",
   "execution_count": null,
   "metadata": {
    "collapsed": false
   },
   "outputs": [],
   "source": [
    "maxht.shape"
   ]
  },
  {
   "cell_type": "code",
   "execution_count": null,
   "metadata": {
    "collapsed": true
   },
   "outputs": [],
   "source": []
  },
  {
   "cell_type": "code",
   "execution_count": null,
   "metadata": {
    "collapsed": false
   },
   "outputs": [],
   "source": [
    "    # find slopes\n",
    "    if max_refl_bin >= 8:\n",
    "        refl_minus1 = refl[max_refl_bin-8]\n",
    "        deltaHt_minus1 = 1\n",
    "    else:\n",
    "        refl_minus1 = refl[0]\n",
    "        deltaHt_minus1 = max_refl_ht\n",
    "        \n",
    "    if refl[max_refl_bin+8] != refl_missing:\n",
    "        refl_plus1 = refl[max_refl_bin+8]\n",
    "        deltaHt_plus1 = 1\n",
    "    else:\n",
    "        "
   ]
  },
  {
   "cell_type": "code",
   "execution_count": null,
   "metadata": {
    "collapsed": false
   },
   "outputs": [],
   "source": [
    "    change = np.logical_and(np.logical_and(rt==2,max_refl>=THRESHOLD),\n",
    "                            np.logical_and(max_refl_ht>=MIN_HT,\n",
    "                                           max_refl_ht<=MAX_HT))"
   ]
  },
  {
   "cell_type": "code",
   "execution_count": null,
   "metadata": {
    "collapsed": true
   },
   "outputs": [],
   "source": [
    "    rt_uw[change==True]=1"
   ]
  },
  {
   "cell_type": "markdown",
   "metadata": {},
   "source": [
    "    Add new raintype field to input netcdf file"
   ]
  },
  {
   "cell_type": "code",
   "execution_count": null,
   "metadata": {
    "collapsed": false
   },
   "outputs": [],
   "source": [
    "    rt_uw_id = ncid.createVariable('rain_type_uw','f4',\n",
    "                                  ('time','latitude','longitude'),zlib=True)\n",
    "    #rt_uw_id = ncid.createVariable('rain_type_uw','f4',\n",
    "    #                              ('time','latitude','longitude'))\n",
    "    rt_uw_id.units = \"none\"\n",
    "    rt_uw_id.long_name = \"Rain Type UW\"\n",
    "    rt_uw_id.stratiform = 1\n",
    "    rt_uw_id.convective = 2\n",
    "    rt_uw_id.other = 3\n",
    "    rt_uw_id.missing_value = rt_missing\n",
    "    rt_uw_id[:,:,:] = rt_uw\n",
    "    ncid.close()"
   ]
  },
  {
   "cell_type": "code",
   "execution_count": null,
   "metadata": {
    "collapsed": true
   },
   "outputs": [],
   "source": [
    "ncid.close()"
   ]
  },
  {
   "cell_type": "code",
   "execution_count": null,
   "metadata": {
    "collapsed": true
   },
   "outputs": [],
   "source": []
  }
 ],
 "metadata": {
  "kernelspec": {
   "display_name": "Python 2",
   "language": "python",
   "name": "python2"
  },
  "language_info": {
   "codemirror_mode": {
    "name": "ipython",
    "version": 2
   },
   "file_extension": ".py",
   "mimetype": "text/x-python",
   "name": "python",
   "nbconvert_exporter": "python",
   "pygments_lexer": "ipython2",
   "version": "2.7.9"
  }
 },
 "nbformat": 4,
 "nbformat_minor": 0
}
