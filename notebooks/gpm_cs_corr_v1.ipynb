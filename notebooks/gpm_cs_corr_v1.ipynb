{
 "cells": [
  {
   "cell_type": "markdown",
   "metadata": {},
   "source": [
    "Imports and functions"
   ]
  },
  {
   "cell_type": "code",
   "execution_count": null,
   "metadata": {
    "collapsed": true
   },
   "outputs": [],
   "source": [
    "import os\n",
    "import netCDF4 as nc4\n",
    "import numpy as np"
   ]
  },
  {
   "cell_type": "markdown",
   "metadata": {},
   "source": [
    "User inputs"
   ]
  },
  {
   "cell_type": "code",
   "execution_count": null,
   "metadata": {
    "collapsed": true
   },
   "outputs": [],
   "source": [
    "indir = '/home/disk/bob/gpm/nam_ku/classify/ex_data/2014/06/test'\n",
    "#indir = '/home/disk/bob/gpm/nam_ku/classify/ex_data/2014/07/test'\n",
    "#indir = '/home/disk/bob/gpm/nam_ku/classify/ex_data/2014/10/test'\n",
    "#indir = '/home/disk/bob/gpm/nam_ku/classify/ex_data/2014/11/test'\n",
    "#indir = '/home/disk/bob/gpm/nam_ku/classify/ex_data/2014/12/test'\n",
    "#indir = '/home/disk/bob/gpm/nam_ku/classify/ex_data/2015/02/test'\n",
    "#indir = '/home/disk/bob/gpm/nam_ku/classify/ex_data/2015/04/test'\n",
    "#indir = '/home/disk/bob/gpm/nam_ku/classify/ex_data/2015/06/test'\n",
    "#indir = '/home/disk/bob/gpm/nam_ku/classify/ex_data/2015/07/test'\n",
    "#indir = '/home/disk/bob/gpm/nam_ku/classify/ex_data/2016/01/test'\n",
    "#indir = '/home/disk/bob/gpm/nam_ku/classify/ex_data/2016/04/test'\n",
    "THRESHOLD = 40.0  #dBZ\n",
    "MIN_HT = 3.0      #km\n",
    "MAX_HT = 5.0      #km\n",
    "VERT_RES = 0.125  #km"
   ]
  },
  {
   "cell_type": "code",
   "execution_count": null,
   "metadata": {
    "collapsed": false
   },
   "outputs": [],
   "source": [
    "#for fname in os.listdir(indir):\n",
    "#   print fname"
   ]
  },
  {
   "cell_type": "code",
   "execution_count": null,
   "metadata": {
    "collapsed": true
   },
   "outputs": [],
   "source": [
    "#fname = 'GPM2Ku4_uw1_20140630.202105_to_20140630.202518_001916_NAM.nc'\n",
    "#fname = 'GPM-2Ku.007185.20150604.111137.nc'\n",
    "fname = 'GPM-2Ku.001779.20140622.005639.nc'"
   ]
  },
  {
   "cell_type": "code",
   "execution_count": null,
   "metadata": {
    "collapsed": true
   },
   "outputs": [],
   "source": [
    "    ncid = nc4.Dataset(indir+'/'+fname,'a')"
   ]
  },
  {
   "cell_type": "code",
   "execution_count": null,
   "metadata": {
    "collapsed": false
   },
   "outputs": [],
   "source": [
    "    refl = ncid.variables['refl'][:]\n",
    "    (ntime,nalt,nlat,nlon) = refl.shape\n",
    "    #refl_missing = ncid.variables['refl'].missing_value\n",
    "    #refl[(refl==refl_missing)] = np.nan"
   ]
  },
  {
   "cell_type": "code",
   "execution_count": null,
   "metadata": {
    "collapsed": false
   },
   "outputs": [],
   "source": [
    "    rt = ncid.variables['rain_type'][:]\n",
    "    rt_missing = ncid.variables['rain_type'].missing_value\n",
    "    #rt[(rt==rt_missing)] = np.nan"
   ]
  },
  {
   "cell_type": "code",
   "execution_count": null,
   "metadata": {
    "collapsed": true
   },
   "outputs": [],
   "source": [
    "    rt_uw = np.array(rt, copy=True)"
   ]
  },
  {
   "cell_type": "code",
   "execution_count": null,
   "metadata": {
    "collapsed": true
   },
   "outputs": [],
   "source": [
    "    #rt_uw = np.ma.copy(rt)"
   ]
  },
  {
   "cell_type": "markdown",
   "metadata": {},
   "source": [
    "    change rain_type to stratiform in rt_uw if:\n",
    "    1. rain_type = convective and\n",
    "    2. max refl in column > THRESHOLD and\n",
    "    3. ht of max refl in column is between MIN_HT and MAX_HT"
   ]
  },
  {
   "cell_type": "code",
   "execution_count": null,
   "metadata": {
    "collapsed": true
   },
   "outputs": [],
   "source": [
    "    conv_mask = np.zeros(rt.shape,dtype=int)\n",
    "    conv_mask[(rt==2)] = 1\n",
    "    max_refl = np.zeros(rt.shape,dtype=float)\n",
    "    max_refl = np.amax(refl,axis=1)\n",
    "    max_refl_ht = np.zeros(rt.shape,dtype=float)\n",
    "    max_refl_ht = np.argmax(refl,axis=1)"
   ]
  },
  {
   "cell_type": "code",
   "execution_count": null,
   "metadata": {
    "collapsed": false
   },
   "outputs": [],
   "source": [
    "    change = np.logical_and(np.logical_and(conv_mask==1,max_refl>=THRESHOLD),\n",
    "                            np.logical_and(max_refl_ht*VERT_RES>=MIN_HT,\n",
    "                                           max_refl_ht*VERT_RES<=MAX_HT))"
   ]
  },
  {
   "cell_type": "code",
   "execution_count": null,
   "metadata": {
    "collapsed": true
   },
   "outputs": [],
   "source": [
    "    rt_uw[change==True]=1"
   ]
  },
  {
   "cell_type": "markdown",
   "metadata": {},
   "source": [
    "    Add new raintype field to input netcdf file"
   ]
  },
  {
   "cell_type": "code",
   "execution_count": null,
   "metadata": {
    "collapsed": false
   },
   "outputs": [],
   "source": [
    "    rt_uw_id = ncid.createVariable('rain_type_uw','f4',\n",
    "                                  ('time','latitude','longitude'),zlib=True)\n",
    "    #rt_uw_id = ncid.createVariable('rain_type_uw','f4',\n",
    "    #                              ('time','latitude','longitude'))\n",
    "    rt_uw_id.units = \"none\"\n",
    "    rt_uw_id.long_name = \"Rain Type UW\"\n",
    "    rt_uw_id.stratiform = 1\n",
    "    rt_uw_id.convective = 2\n",
    "    rt_uw_id.other = 3\n",
    "    rt_uw_id.missing_value = rt_missing\n",
    "    rt_uw_id[:,:,:] = rt_uw"
   ]
  },
  {
   "cell_type": "code",
   "execution_count": null,
   "metadata": {
    "collapsed": true
   },
   "outputs": [],
   "source": [
    "    ncid.close()"
   ]
  },
  {
   "cell_type": "code",
   "execution_count": null,
   "metadata": {
    "collapsed": true
   },
   "outputs": [],
   "source": []
  }
 ],
 "metadata": {
  "kernelspec": {
   "display_name": "Python 2",
   "language": "python",
   "name": "python2"
  },
  "language_info": {
   "codemirror_mode": {
    "name": "ipython",
    "version": 2
   },
   "file_extension": ".py",
   "mimetype": "text/x-python",
   "name": "python",
   "nbconvert_exporter": "python",
   "pygments_lexer": "ipython2",
   "version": "2.7.9"
  }
 },
 "nbformat": 4,
 "nbformat_minor": 0
}
