{
 "cells": [
  {
   "cell_type": "code",
   "execution_count": null,
   "metadata": {
    "collapsed": true
   },
   "outputs": [],
   "source": [
    "import os\n",
    "from datetime import timedelta, datetime"
   ]
  },
  {
   "cell_type": "code",
   "execution_count": 71,
   "metadata": {
    "collapsed": true
   },
   "outputs": [],
   "source": [
    "indir = '/home/disk/bob/gpm/nam_ku/classify/ex_data/2014/03/fromCorrectedRun'"
   ]
  },
  {
   "cell_type": "code",
   "execution_count": 72,
   "metadata": {
    "collapsed": false
   },
   "outputs": [
    {
     "name": "stdout",
     "output_type": "stream",
     "text": [
      "GPM2Ku4_uw1_20140310.023350_to_20140310.023525_000162_NAM.nc\n",
      "GPM2Ku4_uw1_20140310.023500_to_20140310.023622_000162_NAM.nc\n",
      "GPM2Ku4_uw1_20140310.024155_to_20140310.024216_000162_NAM.nc\n",
      "GPM2Ku4_uw1_20140310.024417_to_20140310.024520_000162_NAM.nc\n",
      "GPM2Ku4_uw1_20140318.000402_to_20140318.000632_000285_NAM.nc\n",
      "GPM2Ku4_uw1_20140318.000614_to_20140318.000705_000285_NAM.nc\n",
      "GPM2Ku4_uw1_20140318.001539_to_20140318.001605_000285_NAM.nc\n",
      "GPM2Ku4_uw1_20140320.225552_to_20140320.225708_000331_NAM.nc\n",
      "GPM2Ku4_uw1_20140320.225633_to_20140320.225840_000331_NAM.nc\n",
      "GPM2Ku4_uw1_20140324.223105_to_20140324.223158_000393_NAM.nc\n",
      "GPM2Ku4_uw1_20140324.223136_to_20140324.223225_000393_NAM.nc\n",
      "GPM2Ku4_uw1_20140324.224018_to_20140324.224103_000393_NAM.nc\n",
      "GPM2Ku4_uw1_20140324.224109_to_20140324.224245_000393_NAM.nc\n",
      "GPM2Ku4_uw1_20140327.212447_to_20140327.212558_000439_NAM.nc\n",
      "GPM2Ku4_uw1_20140327.212536_to_20140327.212631_000439_NAM.nc\n",
      "GPM2Ku4_uw1_20140327.213540_to_20140327.213643_000439_NAM.nc\n",
      "GPM2Ku4_uw1_20140330.202100_to_20140330.202203_000485_NAM.nc\n",
      "GPM2Ku4_uw1_20140330.202134_to_20140330.202241_000485_NAM.nc\n",
      "GPM2Ku4_uw1_20140330.202236_to_20140330.202329_000485_NAM.nc\n"
     ]
    }
   ],
   "source": [
    "for fname in os.listdir(indir):\n",
    "    if fname.startswith('GPM2Ku4_uw1'):\n",
    "        print fname\n",
    "        parts = fname.split('_')\n",
    "        start = parts[2]\n",
    "        end = parts[4]\n",
    "        orbit = parts[5]\n",
    "        parts = start.split('.')\n",
    "        start_date = parts[0]\n",
    "        start_time = parts[1]\n",
    "        parts = end.split('.')\n",
    "        end_date = parts[0]\n",
    "        end_time = parts[1]\n",
    "        if start_date == end_date:\n",
    "            start = datetime.strptime(start_time, time_format)\n",
    "            end = datetime.strptime(end_time, time_format)\n",
    "            # Find half of delta between start and end\n",
    "            half_seconds = (end - start).total_seconds() / 2\n",
    "            half = start + timedelta(seconds=half_seconds)\n",
    "            mid_time = half.strftime(time_format)\n",
    "            fname_new = 'GPM-2Ku.'+orbit+'.'+start_date+'.'+mid_time+'.nc'\n",
    "            #mv fname to fname_new\n",
    "            os.rename(indir+'/'+fname,indir+'/'+fname_new)"
   ]
  },
  {
   "cell_type": "code",
   "execution_count": null,
   "metadata": {
    "collapsed": true
   },
   "outputs": [],
   "source": []
  }
 ],
 "metadata": {
  "kernelspec": {
   "display_name": "Python 2",
   "language": "python",
   "name": "python2"
  },
  "language_info": {
   "codemirror_mode": {
    "name": "ipython",
    "version": 2
   },
   "file_extension": ".py",
   "mimetype": "text/x-python",
   "name": "python",
   "nbconvert_exporter": "python",
   "pygments_lexer": "ipython2",
   "version": "2.7.9"
  }
 },
 "nbformat": 4,
 "nbformat_minor": 0
}
