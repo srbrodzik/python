{
 "cells": [
  {
   "cell_type": "markdown",
   "metadata": {},
   "source": [
    "## LROSE Blaze Starter Kit Python Notebook\n",
    "This is a simple tutorial in a Jupyter notebook for users to get familiar with LROSE Blaze"
   ]
  },
  {
   "cell_type": "markdown",
   "metadata": {},
   "source": [
    "### Prerequisites\n",
    "\n",
    "First, make sure that [Jupyter notebook](http://jupyter.readthedocs.io/en/latest/install.html) is installed."
   ]
  },
  {
   "cell_type": "markdown",
   "metadata": {},
   "source": [
    "### Workflow \n",
    "\n",
    "This starter kit covers a basic LROSE workflow:\n",
    "1. Print data header from a NEXRAD file using RadxPrint.\n",
    "2. Convert Level II data to CfRadial format using RadxConvert.\n",
    "3. Display the data with CfRadial files using Hawkeye.\n",
    "4. Perform coordinate transformations from the polar grid to a regular grid using Radx2Grid.\n",
    "\n",
    "Some notes for users:\n",
    "- RadxConvert also supports the conversion from Level II data to sweep format which can still be utilized by soloii users. \n",
    "- RadxConvert will name and sort the files chronologically, so we encourage users to not move the data from the original directory or rename the files.\n",
    "- Users are encouraged to compile their CfRadial files as an aggregation of sweep files that make up a single volume scan.\n",
    "\n",
    "#### The following tutorial highlights how to perform the commands, but does not cover all the options. Please see the evolving [documentation](https://nsf-lrose.github.io/docs.html) on the LROSE website for more details"
   ]
  },
  {
   "cell_type": "markdown",
   "metadata": {},
   "source": [
    "Install\n",
    "-------\n",
    "\n",
    "-   Complete the free [registration](../../../software.html) and follow\n",
    "    the install instructions\n",
    "\n",
    "If you've already registered, click the link at the bottom of the registration page to take you directly to the software links."
   ]
  },
  {
   "cell_type": "markdown",
   "metadata": {},
   "source": [
    "Get some data\n",
    "-------------\n",
    "\n",
    "-   A sample NEXRAD level II file is included in the starter kit, or available\n",
    "    [here](../../../assets/Level2_KAMX_20161006_1906.ar2v) for download with\n",
    "    this quick start notebook\n",
    "\n",
    "If you have your own data, just replace the filename in all the\n",
    "subsequent examples with your data"
   ]
  },
  {
   "cell_type": "markdown",
   "metadata": {},
   "source": [
    "Inspect the data\n",
    "----------------\n",
    "\n",
    "LROSE can handle 24 radar and lidar formats (and counting). To see if\n",
    "your data works with LROSE, first use RadxPrint to print the metadata.\n",
    "\n",
    "The following instructions assume you are using the Virtual Toolbox and\n",
    "the sample NEXRAD file. For native apps installed in your executable\n",
    "path, just drop 'lrose -- ' or replace with the absolute path to the\n",
    "location where the binaries are installed. If you are using your own\n",
    "data, replace the name of the file.\n",
    "\n",
    "Since we are using a virtual machine, we have to explicitly tell the commands where the data is located. In the notebook, we can define our path as a programming variable. This is slightly different than working in a terminal where environmental variables can be used for this purpose.\n"
   ]
  },
  {
   "cell_type": "code",
   "execution_count": 1,
   "metadata": {
    "collapsed": true
   },
   "outputs": [],
   "source": [
    "import os\n",
    "#path = os.getcwd()\n",
    "path = '/home/disk/shear2/brodzik/lrose'"
   ]
  },
  {
   "cell_type": "code",
   "execution_count": 2,
   "metadata": {
    "collapsed": false,
    "scrolled": true
   },
   "outputs": [
    {
     "name": "stdout",
     "output_type": "stream",
     "text": [
      "/bin/sh: lrose: command not found\r\n"
     ]
    }
   ],
   "source": [
    "! lrose -- RadxPrint -f $path/Level2_KAMX_20161006_1906.ar2v"
   ]
  },
  {
   "cell_type": "markdown",
   "metadata": {},
   "source": [
    "If the program returns 'File format not recognized' then it is not a\n",
    "file format that LROSE currently supports. Otherwise, you should see\n",
    "text output with all the metadata from your file.\n",
    "\n",
    "If you prefer to store the printed information in a .txt file, use the command:"
   ]
  },
  {
   "cell_type": "code",
   "execution_count": 3,
   "metadata": {
    "collapsed": true
   },
   "outputs": [],
   "source": [
    "! lrose -- RadxPrint -f $path/Level2_KAMX_20161006_1906.ar2v > $path/Level2_KAMX_20161006_1906_info.txt"
   ]
  },
  {
   "cell_type": "markdown",
   "metadata": {},
   "source": [
    "###  Convert the NEXRAD Level II data to different format\n",
    "\n",
    "The LROSE workflow relies on the CfRadial format for all subsequent\n",
    "display and analysis. Use RadxConvert to convert your file(s) to\n",
    "CfRadial. It will work on any file that is recognized by RadxPrint from\n",
    "the first step through the Radx engine backend.\n",
    "\n",
    "The default output format is CfRadial, but some other write formats are supported, like Dorade sweepfiles. If you don't choose any command line options RadxConvert will convert to CfRadial."
   ]
  },
  {
   "cell_type": "code",
   "execution_count": 4,
   "metadata": {
    "collapsed": false,
    "scrolled": true
   },
   "outputs": [
    {
     "name": "stdout",
     "output_type": "stream",
     "text": [
      "======================================================================\r",
      "\r\n",
      "Program 'RadxConvert'\r",
      "\r\n",
      "Run-time 2018/07/02 20:31:43.\r",
      "\r\n",
      "\r",
      "\r\n",
      "Copyright (c) 1992 - 2018\r",
      "\r\n",
      "University Corporation for Atmospheric Research (UCAR)\r",
      "\r\n",
      "National Center for Atmospheric Research (NCAR)\r",
      "\r\n",
      "Boulder, Colorado, USA.\r",
      "\r\n",
      "\r",
      "\r\n",
      "Redistribution and use in source and binary forms, with\r",
      "\r\n",
      "or without modification, are permitted provided that the following\r",
      "\r\n",
      "conditions are met:\r",
      "\r\n",
      "\r",
      "\r\n",
      "1) Redistributions of source code must retain the above copyright\r",
      "\r\n",
      "notice, this list of conditions and the following disclaimer.\r",
      "\r\n",
      "\r",
      "\r\n",
      "2) Redistributions in binary form must reproduce the above copyright\r",
      "\r\n",
      "notice, this list of conditions and the following disclaimer in the\r",
      "\r\n",
      "documentation and/or other materials provided with the distribution.\r",
      "\r\n",
      "\r",
      "\r\n",
      "3) Neither the name of UCAR, NCAR nor the names of its contributors, if\r",
      "\r\n",
      "any, may be used to endorse or promote products derived from this\r",
      "\r\n",
      "software without specific prior written permission.\r",
      "\r\n",
      "\r",
      "\r\n",
      "4) If the software is modified to produce derivative works, such modified\r",
      "\r\n",
      "software should be clearly marked, so as not to confuse it with the\r",
      "\r\n",
      "version available from UCAR.\r",
      "\r\n",
      "\r",
      "\r\n",
      "======================================================================\r",
      "\r\n",
      "NetCDF: Unknown file format\r",
      "\r\n",
      "NetCDF: Unknown file format\r",
      "\r\n"
     ]
    }
   ],
   "source": [
    "! lrose -- RadxConvert -f $path/Level2_KAMX_20161006_1906.ar2v -outdir $path/output"
   ]
  },
  {
   "cell_type": "markdown",
   "metadata": {},
   "source": [
    "There are many more options available for RadxConvert. To use more options you can create a parameter file that can be used for subsequent conversion steps:"
   ]
  },
  {
   "cell_type": "code",
   "execution_count": 5,
   "metadata": {
    "collapsed": true,
    "scrolled": false
   },
   "outputs": [],
   "source": [
    "! lrose -- RadxConvert -f -print_params > $path/RadxConvert.params"
   ]
  },
  {
   "cell_type": "markdown",
   "metadata": {},
   "source": [
    "If you want to convert a file to Dorade format for use in soloii or solo3, just add the -dorade flag to the RadxConvert command or change the output format in the parameter file. We recommend migrating your workflow to CfRadial, but conversion to Dorade is supported for existing workflows."
   ]
  },
  {
   "cell_type": "code",
   "execution_count": 6,
   "metadata": {
    "collapsed": false
   },
   "outputs": [
    {
     "name": "stdout",
     "output_type": "stream",
     "text": [
      "libGL error: No matching fbConfigs or visuals found\r",
      "\r\n",
      "libGL error: failed to load driver: swrast\r",
      "\r\n"
     ]
    }
   ],
   "source": [
    "! lrose -- HawkEye -f $path/output/20161006/cfrad.20161006_190750.006_to_20161006_191339.679_KAMX_Surveillance_SUR.nc"
   ]
  },
  {
   "cell_type": "markdown",
   "metadata": {
    "collapsed": true
   },
   "source": [
    "### Grid the data into Cartesian space\n",
    "\n",
    "A common first step for working with NEXRAD data is to interpolate the\n",
    "data from its native radial coordinate to a regular grid. Radx2Grid can\n",
    "grid ground-based and some airborne lidar and radar data in spherical\n",
    "and Cartesian space. While there are many options for Radx2Grid, a basic\n",
    "gridding technique can be accomplished simply:"
   ]
  },
  {
   "cell_type": "code",
   "execution_count": 7,
   "metadata": {
    "collapsed": false
   },
   "outputs": [
    {
     "name": "stdout",
     "output_type": "stream",
     "text": [
      "======================================================================\r",
      "\r\n",
      "Program 'Radx2Grid'\r",
      "\r\n",
      "Run-time 2018/07/02 20:32:04.\r",
      "\r\n",
      "\r",
      "\r\n",
      "Copyright (c) 1992 - 2018\r",
      "\r\n",
      "University Corporation for Atmospheric Research (UCAR)\r",
      "\r\n",
      "National Center for Atmospheric Research (NCAR)\r",
      "\r\n",
      "Boulder, Colorado, USA.\r",
      "\r\n",
      "\r",
      "\r\n",
      "Redistribution and use in source and binary forms, with\r",
      "\r\n",
      "or without modification, are permitted provided that the following\r",
      "\r\n",
      "conditions are met:\r",
      "\r\n",
      "\r",
      "\r\n",
      "1) Redistributions of source code must retain the above copyright\r",
      "\r\n",
      "notice, this list of conditions and the following disclaimer.\r",
      "\r\n",
      "\r",
      "\r\n",
      "2) Redistributions in binary form must reproduce the above copyright\r",
      "\r\n",
      "notice, this list of conditions and the following disclaimer in the\r",
      "\r\n",
      "documentation and/or other materials provided with the distribution.\r",
      "\r\n",
      "\r",
      "\r\n",
      "3) Neither the name of UCAR, NCAR nor the names of its contributors, if\r",
      "\r\n",
      "any, may be used to endorse or promote products derived from this\r",
      "\r\n",
      "software without specific prior written permission.\r",
      "\r\n",
      "\r",
      "\r\n",
      "4) If the software is modified to produce derivative works, such modified\r",
      "\r\n",
      "software should be clearly marked, so as not to confuse it with the\r",
      "\r\n",
      "version available from UCAR.\r",
      "\r\n",
      "\r",
      "\r\n",
      "======================================================================\r",
      "\r\n"
     ]
    }
   ],
   "source": [
    "! lrose -- Radx2Grid -f $path/output/20161006/cfrad.20161006_190750.006_to_20161006_191339.679_KAMX_Surveillance_SUR.nc -outdir $path/grid"
   ]
  },
  {
   "cell_type": "markdown",
   "metadata": {},
   "source": [
    "There are many more options available for RadxConvert. To use more options you can create a parameter file that can be used for subsequent conversion steps:"
   ]
  },
  {
   "cell_type": "code",
   "execution_count": 8,
   "metadata": {
    "collapsed": true,
    "scrolled": true
   },
   "outputs": [],
   "source": [
    "! lrose -- Radx2Grid -f -print_params > $path/Radx2Grid.params"
   ]
  },
  {
   "cell_type": "markdown",
   "metadata": {},
   "source": [
    "### Quick Start Complete!\n",
    "\n",
    "If you have successfully run the previous steps then you should now have\n",
    "a Cartesian gridded NetCDF file to use for further analysis called\n",
    "ncf_20161006_191339.nc in the 'grid' subdirectory. From here, you can\n",
    "read in the CfRadial or gridded netCDF file using Julia, Python, or\n",
    "other programming language for further analysis. Continue with the\n",
    "[documentation](https://nsf-lrose.github.io/docs.html) to find out more about LROSE and the many options and\n",
    "parameters available in the LROSE-Blaze software suite.\n"
   ]
  },
  {
   "cell_type": "code",
   "execution_count": null,
   "metadata": {
    "collapsed": true
   },
   "outputs": [],
   "source": []
  }
 ],
 "metadata": {
  "anaconda-cloud": {},
  "kernelspec": {
   "display_name": "Python 2",
   "language": "python",
   "name": "python2"
  },
  "language_info": {
   "codemirror_mode": {
    "name": "ipython",
    "version": 2
   },
   "file_extension": ".py",
   "mimetype": "text/x-python",
   "name": "python",
   "nbconvert_exporter": "python",
   "pygments_lexer": "ipython2",
   "version": "2.7.13"
  }
 },
 "nbformat": 4,
 "nbformat_minor": 2
}
