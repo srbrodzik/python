{
 "cells": [
  {
   "cell_type": "code",
   "execution_count": 1,
   "metadata": {
    "collapsed": false
   },
   "outputs": [],
   "source": [
    "from __future__ import print_function\n",
    "import numpy as np\n",
    "import matplotlib.pyplot as plt\n",
    "%matplotlib inline\n",
    "%load_ext cython"
   ]
  },
  {
   "cell_type": "code",
   "execution_count": 2,
   "metadata": {
    "collapsed": false
   },
   "outputs": [],
   "source": [
    "%%cython\n",
    "#cython: boundscheck=False\n",
    "def LSE(double[:] x, double[:] y, int n, float bad):\n",
    "\n",
    "    \"\"\"\n",
    "    This is a Least Square Estimate subroutine to fit a linear\n",
    "    equation for (xi, yi) (i = 1, ..., n), so that yi = a * xi + b\n",
    "    INPUTs: x(i), y(i), n, (i = 1, ..., n ).\n",
    "    OUTPUTs: a (slope), b (intercept).\n",
    "    Li Liu - Sep. 23, 92\n",
    "    Timothy Lang - Updated for Cython, 05/03/2016\n",
    "        - Confirmed ~50 times faster than 1-deg np.polyfit()\n",
    "    \"\"\"\n",
    "\n",
    "    cdef:\n",
    "        float a\n",
    "        float b\n",
    "        float xsum = 0.0\n",
    "        float ysum = 0.0\n",
    "        float xxsum = 0.0\n",
    "        float xysum = 0.0\n",
    "        float det\n",
    "        float total\n",
    "        Py_ssize_t i\n",
    "\n",
    "    total = float(n)\n",
    "    for i in range(n):\n",
    "        if x[i] == bad or y[i] == bad:\n",
    "            total -= 1.0\n",
    "        else:\n",
    "            xsum += x[i]\n",
    "            ysum += y[i]\n",
    "            xxsum += x[i] * x[i]\n",
    "            xysum += x[i] * y[i]\n",
    "\n",
    "    det = total * xxsum - xsum**2\n",
    "    a = (total * xysum - xsum * ysum) / det\n",
    "    b = (ysum * xxsum - xsum * xysum) / det\n",
    "    return a, b"
   ]
  },
  {
   "cell_type": "code",
   "execution_count": 3,
   "metadata": {
    "collapsed": true
   },
   "outputs": [],
   "source": [
    "n = 30\n",
    "x = 1.0 * np.arange(n, dtype='float')\n",
    "y = 3.0 + 6.0 * np.arange(n, dtype='float')"
   ]
  },
  {
   "cell_type": "code",
   "execution_count": 4,
   "metadata": {
    "collapsed": false
   },
   "outputs": [
    {
     "data": {
      "text/plain": [
       "dtype('float64')"
      ]
     },
     "execution_count": 4,
     "metadata": {},
     "output_type": "execute_result"
    }
   ],
   "source": [
    "x.dtype"
   ]
  },
  {
   "cell_type": "code",
   "execution_count": 5,
   "metadata": {
    "collapsed": false
   },
   "outputs": [
    {
     "data": {
      "text/plain": [
       "array([ 6.,  3.])"
      ]
     },
     "execution_count": 5,
     "metadata": {},
     "output_type": "execute_result"
    }
   ],
   "source": [
    "np.polyfit(x, y, 1)"
   ]
  },
  {
   "cell_type": "code",
   "execution_count": 6,
   "metadata": {
    "collapsed": false
   },
   "outputs": [
    {
     "name": "stdout",
     "output_type": "stream",
     "text": [
      "10000 loops, best of 3: 113 µs per loop\n"
     ]
    }
   ],
   "source": [
    "%timeit np.polyfit(x, y, 1)"
   ]
  },
  {
   "cell_type": "code",
   "execution_count": 7,
   "metadata": {
    "collapsed": false
   },
   "outputs": [
    {
     "data": {
      "text/plain": [
       "(6.0, 3.0000147819519043)"
      ]
     },
     "execution_count": 7,
     "metadata": {},
     "output_type": "execute_result"
    }
   ],
   "source": [
    "LSE(x, y, 30, -32768)"
   ]
  },
  {
   "cell_type": "code",
   "execution_count": 8,
   "metadata": {
    "collapsed": false
   },
   "outputs": [
    {
     "name": "stdout",
     "output_type": "stream",
     "text": [
      "The slowest run took 8.40 times longer than the fastest. This could mean that an intermediate result is being cached \n",
      "100000 loops, best of 3: 2.27 µs per loop\n"
     ]
    }
   ],
   "source": [
    "%timeit LSE(x, y, n, -32768)"
   ]
  },
  {
   "cell_type": "code",
   "execution_count": 9,
   "metadata": {
    "collapsed": false
   },
   "outputs": [
    {
     "name": "stdout",
     "output_type": "stream",
     "text": [
      "100 101 102 103 104 105 106 107 108 109 110 111 112 113 114 115 116 117 118 119 120 121 122 123 124 125 126 127 128 129 130 131 132 133 134 135 136 137 138 139 140 141 142 143 144 145 146 147 148 149 150 151 152 153 154 155 156 157 158 159 160 161 162 163 164 165 166 167 168 169 170 171 172 173 174 175 176 177 178 179 180 181 182 183 184 185 186 187 188 189 190 191 192 193 194 195 196 197 198 199 "
     ]
    }
   ],
   "source": [
    "for i in range(100, 200, 1):\n",
    "    print(i, end=' ')"
   ]
  },
  {
   "cell_type": "code",
   "execution_count": 11,
   "metadata": {
    "collapsed": false
   },
   "outputs": [],
   "source": [
    "%%cython\n",
    "#cython: boundscheck=False\n",
    "\n",
    "from libc.math cimport sqrt\n",
    "cimport numpy as np\n",
    "import numpy as np\n",
    "\n",
    "\n",
    "def LSE(double[:] x, double[:] y, int n, float bad):\n",
    "    \"\"\"\n",
    "    This is a Least Square Estimate subroutine to fit a linear\n",
    "    equation for (xi, yi) (i = 1, ..., n), so that yi = a * xi + b\n",
    "    INPUTs: x(i), y(i), n, (i = 1, ..., n ).\n",
    "    OUTPUTs: a (slope), b (intercept).\n",
    "    Li Liu - Sep. 23, 92\n",
    "    Timothy Lang - Updated for Cython, 05/03/2016\n",
    "        - Confirmed ~50 times faster than 1-deg np.polyfit()\n",
    "    \"\"\"\n",
    "    cdef:\n",
    "        float a\n",
    "        float b\n",
    "        float xsum = 0.0\n",
    "        float ysum = 0.0\n",
    "        float xxsum = 0.0\n",
    "        float xysum = 0.0\n",
    "        float det\n",
    "        float total\n",
    "        Py_ssize_t i\n",
    "\n",
    "    total = float(n)\n",
    "    for i in range(n):\n",
    "        if x[i] == bad or y[i] == bad:\n",
    "            total -= 1.0\n",
    "        else:\n",
    "            xsum += x[i]\n",
    "            ysum += y[i]\n",
    "            xxsum += x[i] * x[i]\n",
    "            xysum += x[i] * y[i]\n",
    "\n",
    "    det = total * xxsum - xsum**2\n",
    "    a = (total * xysum - xsum * ysum) / det\n",
    "    b = (ysum * xxsum - xsum * xysum) / det\n",
    "    return a, b\n",
    "\n",
    "\n",
    "def calc_kdp_ray_fir(\n",
    "    int ngates, float[:] dp, float[:] dz, float[:] rng,\n",
    "    float[:] thsd, int nf, float bad, int fir_order, float fir_gain,\n",
    "    double[:] fir_coeff, int std_gate):\n",
    "    \"\"\"\n",
    "    Arguments\n",
    "    ---------\n",
    "    dp = 1D ray of differential phase\n",
    "    dz = 1D ray of reflectivity\n",
    "    rng = 1D ray of range\n",
    "    thsd = Scalar or 1D ray of diff phase stddev thresholds\n",
    "    nf = Number of times to filter the data\n",
    "    bad = Bad/missing data value\n",
    "    fir_order = FIR filter order\n",
    "    fir_gain = FIR filter gain\n",
    "    fir_coeff = FIR filter coefficients\n",
    "    std_gate = Number of gates to use for diff phase stddev calc\n",
    "\n",
    "    Returns\n",
    "    -------\n",
    "    kd_lin = Specific differential phase (deg/km, 1D array)\n",
    "    dp_lin = Filtered differential phase (deg, 1D array)\n",
    "    sd_lin = Standard deviation of diff. phase (deg, 1D array)\n",
    "    \"\"\"\n",
    "    # Define needed variables\n",
    "    cdef:\n",
    "        np.ndarray[np.float64_t, ndim=1] xx = bad + np.zeros(500, dtype=np.float64)\n",
    "        np.ndarray[np.float64_t, ndim=1] yy = bad + np.zeros(500, dtype=np.float64)\n",
    "        np.ndarray[np.float32_t, ndim=1] y = np.zeros(ngates, dtype=np.float32)\n",
    "        np.ndarray[np.float32_t, ndim=1] z = np.zeros(ngates, dtype=np.float32)\n",
    "        np.ndarray[np.float32_t, ndim=1] kd_lin = np.zeros(ngates, dtype=np.float32)\n",
    "        np.ndarray[np.float32_t, ndim=1] dp_lin = np.zeros(ngates, dtype=np.float32)\n",
    "        np.ndarray[np.float32_t, ndim=1] sd_lin = np.zeros(ngates, dtype=np.float32)\n",
    "        int half_std_win, nadp, half_fir_win\n",
    "        int index1, index2, N, half_nadp\n",
    "        double X, A, V, W, aa, bb\n",
    "        Py_ssize_t i, j, mloop\n",
    "\n",
    "    # Half window size for calculating stdev phase\n",
    "    half_std_win = (std_gate - 1) / 2\n",
    "    # Half window size for FIR filtering\n",
    "    half_fir_win = fir_order / 2\n",
    "\n",
    "    #####################################################################\n",
    "    # Calculate standard deviation of phidp\n",
    "    for i in range(ngates):\n",
    "        kd_lin[i] = bad\n",
    "        sd_lin[i] = 100.0\n",
    "        y[i] = bad\n",
    "        z[i] = dp[i]\n",
    "        index1 = i - half_std_win\n",
    "        index2 = i + half_std_win\n",
    "        if index1 >= 0 and index2 <= ngates - 1:\n",
    "            N = 0\n",
    "            A = 0.0\n",
    "            V = 0.0\n",
    "            for j in range(index1, index2 + 1, 1):\n",
    "                if dp[j] != bad:\n",
    "                    # Standard deviation algorithm\n",
    "                    X = dp[j]\n",
    "                    if N <= 0:\n",
    "                        W = X\n",
    "                    N += 1\n",
    "                    D = X - W\n",
    "                    V = (N - 1) * (D - A)**2 / N + V\n",
    "                    A = (D - A) / N + A\n",
    "            if N > half_std_win:\n",
    "                sd_lin[i] = sqrt(V / N)\n",
    "\n",
    "    # ------------- MAIN LOOP of Phidp Adaptive Filtering ------------------\n",
    "    # FIR FILTER SECTION\n",
    "    for mloop in range(nf):\n",
    "        for i in range(half_fir_win, ngates - half_fir_win, 1):\n",
    "            if sd_lin[i] <= thsd[i] and z[i] != bad:\n",
    "                index1 = i - half_fir_win\n",
    "                index2 = i + half_fir_win\n",
    "                N = 0\n",
    "                for j in range(index1, index2 + 1, 1):\n",
    "                    if sd_lin[j] <= thsd[j] and z[j] != bad:\n",
    "                        yy[N] = z[j]\n",
    "                        xx[N] = rng[j]\n",
    "                        N += 1\n",
    "\n",
    "                # Now fill in gaps if they aren't too big\n",
    "                if float(N) > (0.8 * float(fir_order)):\n",
    "                    if N < fir_order + 1:\n",
    "                        aa, bb = LSE(xx, yy, N, bad)\n",
    "                        for j in range(index1, index2 + 1, 1):\n",
    "                            if z[j] == bad:\n",
    "                                z[j] = aa * rng[j] + bb\n",
    "\n",
    "                    # Now do the FIR filtering\n",
    "                    A = 0.0\n",
    "                    for j in range(index1, index2 + 1, 1):\n",
    "                        A += fir_coeff[j - index1 + 1] * z[j]\n",
    "                    y[i] = A * fir_gain\n",
    "        for i in range(ngates):\n",
    "            z[i] = y[i]  # Enables re-filtering of processed phase\n",
    "    for i in range(ngates):\n",
    "        dp_lin[i] = z[i]\n",
    "\n",
    "    # *****************END LOOP for Phidp Adaptive Filtering******************\n",
    "\n",
    "    # CALCULATE KDP\n",
    "    # Default value for nadp is half_fir_win, but varies based on Zh\n",
    "    for i in range(ngates):\n",
    "        if dz[i] != bad:\n",
    "            if dz[i] >= 45.0:\n",
    "                nadp = half_fir_win\n",
    "            if dz[i] >= 35.0 and dz[i] < 45.0:\n",
    "                nadp = 2 * half_fir_win\n",
    "            if dz[i] < 35.0:\n",
    "                nadp = 3 * half_fir_win\n",
    "            half_nadp = nadp / 2\n",
    "            index1 = i - half_nadp\n",
    "            index2 = i + half_nadp\n",
    "            N = 0\n",
    "            for j in range(index1, index2, 1):\n",
    "                if index1 >= 0 and index2 <= ngates - 1:\n",
    "                    if dp_lin[j] != bad:\n",
    "                        yy[N] = dp_lin[j]\n",
    "                        xx[N] = rng[j]\n",
    "                        N += 1\n",
    "            if float(N) > (0.8 * float(nadp)):\n",
    "                aa, bb = LSE(xx, yy, N, bad)\n",
    "                kd_lin[i] = 0.5 * aa\n",
    "\n",
    "    # *******************END KDP CALCULATION****************************\n",
    "    return kd_lin, dp_lin, sd_lin"
   ]
  },
  {
   "cell_type": "markdown",
   "metadata": {},
   "source": [
    "### Testing on file"
   ]
  },
  {
   "cell_type": "code",
   "execution_count": 12,
   "metadata": {
    "collapsed": false
   },
   "outputs": [
    {
     "name": "stdout",
     "output_type": "stream",
     "text": [
      "cfrad.20040805_213003.000_to_20040805_214323.000_SPOL_v1_SUR.nc\n"
     ]
    }
   ],
   "source": [
    "import os, glob\n",
    "fdir = '/Users/tjlang/Documents/OVWST/NAME/output/20040805/'\n",
    "files = sorted(glob.glob(fdir+'*nc'))\n",
    "for file in files:\n",
    "    print(os.path.basename(file))"
   ]
  },
  {
   "cell_type": "code",
   "execution_count": 13,
   "metadata": {
    "collapsed": false
   },
   "outputs": [
    {
     "name": "stdout",
     "output_type": "stream",
     "text": [
      "[u'LD', u'KD', u'ZD', u'DR', u'DB', u'VR', u'HI', u'FD', u'DZ', u'PH', u'RH', u'SD']\n",
      "[ 23.92897135] [-106.95211372]\n",
      "[  0.796875   1.296875   1.796875   3.203125   5.796875   8.5       11.109375\n",
      "  13.796875  16.40625   18.90625   21.5       23.90625   26.40625 ]\n"
     ]
    }
   ],
   "source": [
    "import pyart\n",
    "radar = pyart.io.read(files[0])\n",
    "print(radar.fields.keys())\n",
    "print(radar.latitude['data'], radar.longitude['data'])\n",
    "print(radar.fixed_angle['data'])"
   ]
  },
  {
   "cell_type": "code",
   "execution_count": 14,
   "metadata": {
    "collapsed": true
   },
   "outputs": [],
   "source": [
    "def get_ray(radar, field, index):\n",
    "    return radar.fields[field]['data'][index][:]"
   ]
  },
  {
   "cell_type": "code",
   "execution_count": 15,
   "metadata": {
    "collapsed": false
   },
   "outputs": [
    {
     "name": "stdout",
     "output_type": "stream",
     "text": [
      "1368\n"
     ]
    }
   ],
   "source": [
    "dp = get_ray(radar, 'PH', 60)\n",
    "dz = get_ray(radar, 'DZ', 60)\n",
    "kdo = get_ray(radar, 'KD', 60)\n",
    "fdo = get_ray(radar, 'FD', 60)\n",
    "dz = dz.filled(fill_value=-32768)\n",
    "sdo = get_ray(radar, 'SD', 60)\n",
    "rng = radar.range['data'] / 1000.0\n",
    "print(np.size(dp))"
   ]
  },
  {
   "cell_type": "code",
   "execution_count": 16,
   "metadata": {
    "collapsed": true
   },
   "outputs": [],
   "source": [
    "from csu_radartools import csu_kdp\n",
    "kd1, dp1, sd1 = csu_kdp.calc_kdp_bringi(\n",
    "    rng=rng, dp=dp, dz=dz, nfilter=1, gs=150, window=3, thsd=12.0)"
   ]
  },
  {
   "cell_type": "code",
   "execution_count": 17,
   "metadata": {
    "collapsed": false
   },
   "outputs": [],
   "source": [
    "fir = csu_kdp.get_fir(gs=150, window=3)\n",
    "thsd = 12.0 + 0.0 * dp\n",
    "kd2, dp2, sd2 = calc_kdp_ray_fir(len(dp), dp, dz, rng, thsd,\n",
    "                                 1, -32768, fir['order'], fir['gain'],\n",
    "                                 fir['coef'], 11)\n",
    "# print('debug', i, N, z[i], sd_lin[i], thsd[i], index1, index2, half_fir_win, fir_order)"
   ]
  },
  {
   "cell_type": "code",
   "execution_count": 18,
   "metadata": {
    "collapsed": false
   },
   "outputs": [
    {
     "name": "stdout",
     "output_type": "stream",
     "text": [
      "10 loops, best of 3: 165 ms per loop\n"
     ]
    }
   ],
   "source": [
    "kd3, dp3, sd3 = csu_kdp._calc_kdp_ray(dp, dz, rng, thsd=12, nfilter=1, bad=-32768, fir=fir)"
   ]
  },
  {
   "cell_type": "code",
   "execution_count": 27,
   "metadata": {
    "collapsed": false
   },
   "outputs": [
    {
     "data": {
      "text/plain": [
       "<matplotlib.legend.Legend at 0x113890fd0>"
      ]
     },
     "execution_count": 27,
     "metadata": {},
     "output_type": "execute_result"
    },
    {
     "data": {
      "image/png": "[encoded data removed]",
      "text/plain": [
       "<matplotlib.figure.Figure at 0x13d919c10>"
      ]
     },
     "metadata": {},
     "output_type": "display_data"
    }
   ],
   "source": [
    "mask1 = dz > -100\n",
    "mask = np.logical_and(dp1 >= -180, dz > -100)\n",
    "mask2 = np.logical_and(kd1 > -100, mask)\n",
    "mask3 = kdo > -100\n",
    "# plt.plot(rng[mask2], kd1[mask2], 'b*', label='csu_radartools')\n",
    "plt.plot(rng[mask3], kdo[mask3], 'r.', label='original')\n",
    "mask = np.logical_and(dp2 >= -180, dz > -100)\n",
    "mask2 = np.logical_and(kd2 > -100, mask)\n",
    "plt.plot(rng[mask2], kd2[mask2], 'y^', label='cython', mec='none', ms=3)\n",
    "mask = np.logical_and(dp3 >= -180, dz > -100)\n",
    "mask2 = np.logical_and(kd3 > -100, mask)\n",
    "# plt.plot(rng[mask2], kd3[mask2], 'mD', label='cython', mec='none', ms=2)\n",
    "plt.ylim([-1, 2.5])\n",
    "plt.legend(numpoints=1)"
   ]
  },
  {
   "cell_type": "code",
   "execution_count": 21,
   "metadata": {
    "collapsed": false
   },
   "outputs": [
    {
     "name": "stdout",
     "output_type": "stream",
     "text": [
      "1000 loops, best of 3: 1.81 ms per loop\n"
     ]
    }
   ],
   "source": [
    "%timeit calc_kdp_ray_fir(len(dp), dp, dz, rng, thsd, 1, -32768, fir['order'], \\\n",
    "                         fir['gain'], fir['coef'], 11)"
   ]
  },
  {
   "cell_type": "code",
   "execution_count": 22,
   "metadata": {
    "collapsed": false
   },
   "outputs": [
    {
     "name": "stdout",
     "output_type": "stream",
     "text": [
      "1000 loops, best of 3: 387 µs per loop\n"
     ]
    }
   ],
   "source": [
    "%timeit csu_kdp.calc_kdp_bringi(rng=rng, dp=dp, dz=dz, nfilter=1, gs=150, window=3)"
   ]
  },
  {
   "cell_type": "code",
   "execution_count": 23,
   "metadata": {
    "collapsed": false
   },
   "outputs": [
    {
     "name": "stdout",
     "output_type": "stream",
     "text": [
      "10 loops, best of 3: 160 ms per loop\n"
     ]
    }
   ],
   "source": [
    "%timeit csu_kdp._calc_kdp_ray(dp, dz, rng, thsd=12, nfilter=1, bad=-32768, fir=fir)"
   ]
  },
  {
   "cell_type": "code",
   "execution_count": 24,
   "metadata": {
    "collapsed": false
   },
   "outputs": [
    {
     "data": {
      "text/plain": [
       "<matplotlib.legend.Legend at 0x13d778cd0>"
      ]
     },
     "execution_count": 24,
     "metadata": {},
     "output_type": "execute_result"
    },
    {
     "data": {
      "image/png": "[encoded data removed]",
      "text/plain": [
       "<matplotlib.figure.Figure at 0x11be5ef10>"
      ]
     },
     "metadata": {},
     "output_type": "display_data"
    }
   ],
   "source": [
    "plt.plot(sd1, 'k*', label='fortran')\n",
    "plt.plot(sd2, 'r.', label='cython', ms=3)\n",
    "plt.legend(numpoints=1)"
   ]
  },
  {
   "cell_type": "code",
   "execution_count": 26,
   "metadata": {
    "collapsed": false
   },
   "outputs": [
    {
     "data": {
      "text/plain": [
       "(-10, 60)"
      ]
     },
     "execution_count": 26,
     "metadata": {},
     "output_type": "execute_result"
    },
    {
     "data": {
      "image/png": "[encoded data removed]",
      "text/plain": [
       "<matplotlib.figure.Figure at 0x13d919290>"
      ]
     },
     "metadata": {},
     "output_type": "display_data"
    }
   ],
   "source": [
    "plt.plot(dp, 'g-', label='unfiltered', lw=0.1)\n",
    "plt.plot(dp1, 'k*', label='fortran')\n",
    "plt.plot(dp2, 'r.', label='cython', ms=3)\n",
    "plt.plot(sd2, 'y-')\n",
    "plt.plot(12.0 + 0.0 * np.arange(len(dp)), 'k--')\n",
    "plt.legend(numpoints=1, loc='upper left', fontsize='small')\n",
    "plt.ylim(-10, 60)\n",
    "# plt.xlim(600, 800)"
   ]
  },
  {
   "cell_type": "markdown",
   "metadata": {},
   "source": [
    "### Checking loop logic"
   ]
  },
  {
   "cell_type": "code",
   "execution_count": 207,
   "metadata": {
    "collapsed": false
   },
   "outputs": [
    {
     "name": "stdout",
     "output_type": "stream",
     "text": [
      "90 91 92 93 94 95 96 97 98 99 100 101 102 103 104 105 106 107 108 109 110 "
     ]
    }
   ],
   "source": [
    "i = 100\n",
    "half_fir_win = 10\n",
    "index1 = i - half_fir_win\n",
    "index2 = i + half_fir_win\n",
    "\n",
    "for j in range(index1, index2 + 1, 1):\n",
    "    print(j, end=' ')"
   ]
  },
  {
   "cell_type": "markdown",
   "metadata": {},
   "source": [
    "### Beta function Cython"
   ]
  },
  {
   "cell_type": "code",
   "execution_count": 28,
   "metadata": {
    "collapsed": true
   },
   "outputs": [],
   "source": [
    "%%cython\n",
    "#cython: boundscheck=False\n",
    "\n",
    "cimport numpy as np\n",
    "import numpy as np\n",
    "\n",
    "\n",
    "def hid_beta_f(int ngates, float[:] x_arr, float a, float b, float m):\n",
    "    \"\"\"\n",
    "    Beta function calculator\n",
    "    ngates = Number of gates\n",
    "    x_arr = Array to process\n",
    "    a, b , m = Beta function parameters\n",
    "    \"\"\"\n",
    "\n",
    "    cdef:\n",
    "        np.ndarray[np.float32_t, ndim=1] beta = np.zeros(ngates, dtype=np.float32)\n",
    "        Py_ssize_t i\n",
    "\n",
    "    for i in range(ngates):\n",
    "        beta[i] = 1.0 / (1.0 + (((x_arr[i] - m) / a)**2.0)**b)\n",
    "\n",
    "    return beta"
   ]
  },
  {
   "cell_type": "code",
   "execution_count": 48,
   "metadata": {
    "collapsed": false
   },
   "outputs": [
    {
     "data": {
      "text/plain": [
       "(0, 1000)"
      ]
     },
     "execution_count": 48,
     "metadata": {},
     "output_type": "execute_result"
    },
    {
     "data": {
      "image/png": "[encoded data removed]",
      "text/plain": [
       "<matplotlib.figure.Figure at 0x1138968d0>"
      ]
     },
     "metadata": {},
     "output_type": "display_data"
    }
   ],
   "source": [
    "N = 1000\n",
    "test = hid_beta_f(N, 1.0 * np.arange(N, dtype='float32'), 100.0, 1.0, 500.0)\n",
    "plt.plot(test)\n",
    "plt.xlim(0, 1000)"
   ]
  },
  {
   "cell_type": "code",
   "execution_count": null,
   "metadata": {
    "collapsed": true
   },
   "outputs": [],
   "source": []
  },
  {
   "cell_type": "code",
   "execution_count": null,
   "metadata": {
    "collapsed": true
   },
   "outputs": [],
   "source": []
  },
  {
   "cell_type": "code",
   "execution_count": null,
   "metadata": {
    "collapsed": true
   },
   "outputs": [],
   "source": []
  },
  {
   "cell_type": "code",
   "execution_count": null,
   "metadata": {
    "collapsed": true
   },
   "outputs": [],
   "source": []
  },
  {
   "cell_type": "code",
   "execution_count": null,
   "metadata": {
    "collapsed": true
   },
   "outputs": [],
   "source": []
  }
 ],
 "metadata": {
  "kernelspec": {
   "display_name": "Python 2",
   "language": "python",
   "name": "python2"
  },
  "language_info": {
   "codemirror_mode": {
    "name": "ipython",
    "version": 2
   },
   "file_extension": ".py",
   "mimetype": "text/x-python",
   "name": "python",
   "nbconvert_exporter": "python",
   "pygments_lexer": "ipython2",
   "version": "2.7.11"
  }
 },
 "nbformat": 4,
 "nbformat_minor": 0
}
