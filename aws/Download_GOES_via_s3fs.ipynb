{
 "cells": [
  {
   "cell_type": "code",
   "execution_count": null,
   "metadata": {
    "collapsed": false
   },
   "outputs": [],
   "source": [
    "# Block 0: Documentation\n",
    "\n",
    "print('Program to list and download ABI data files from Amazon Web Services (AWS)\\n')\n",
    "print('Version 1.0, April 8, 2021\\n')\n",
    "print('Based on code written by Dr. Amy Huff (IMSG at NOAA/NESDIS/STAR) and Ryan Theurer (GVT LLC at NOAA/NESDIS/STAR)\\n')\n",
    "print('For questions contact Dr. Huff: amy.huff@noaa.gov\\n')\n",
    "print('This program accesses the ABI data archive on AWS and lists/downloads data files for a given date and time period specified by the user.\\n')\n",
    "print('Block 1 imports modules and libraries, and blocks 2-3 are functions that require no input from the user; there is no visible output from these blocks. In block 4, the user enters settings and obtains output.')"
   ]
  },
  {
   "cell_type": "code",
   "execution_count": null,
   "metadata": {
    "collapsed": false
   },
   "outputs": [],
   "source": [
    "# Block 1: Import modules and libraries\n",
    "\n",
    "import numpy as np\n",
    "import datetime\n",
    "import os\n",
    "# Module to interface with s3 (AWS)\n",
    "import s3fs"
   ]
  },
  {
   "cell_type": "code",
   "execution_count": null,
   "metadata": {
    "collapsed": true
   },
   "outputs": [],
   "source": [
    "# Block 2: Find Julian day from given year/month/day\n",
    "# \"year\", \"month\", and \"day\" are global variables set in final block\n",
    "\n",
    "def julian(year, month, day):\n",
    "    calendar = datetime.datetime(year, month, day)\n",
    "    julian_day = calendar.strftime('%j')\n",
    "    \n",
    "    return julian_day"
   ]
  },
  {
   "cell_type": "code",
   "execution_count": null,
   "metadata": {
    "collapsed": true
   },
   "outputs": [],
   "source": [
    "# Block 3: Create array containing ABI data file names for given satellite/product and date/time period\n",
    "# \"year\", \"month\", \"day\", \"start\", \"end\", \"satellite\", and \"product\" are global variables set in final block\n",
    "\n",
    "def aws_list(year, month, day, start, end, satellite, product):\n",
    "  \n",
    "    # Access AWS using anonymous credentials\n",
    "    aws = s3fs.S3FileSystem(anon=True)\n",
    "\n",
    "    # Make a list of all data files encompassing given date and start/end hours\n",
    "    julian_day = julian(year, month, day)\n",
    "    start_time = str(start)[0:2]\n",
    "    end_time = str(end)[0:2]\n",
    "    hour_range = range(int(start_time), int(end_time) + 1)\n",
    "    final_list = []\n",
    "    for i in hour_range:\n",
    "        hour_files = aws.ls('noaa-goes' + str(satellite) + '/' + product + '/' + str(year) + '/' + julian_day + '/' + str(i) + '/')\n",
    "        final_list.extend(hour_files) \n",
    "        all_hours = np.array(final_list)\n",
    "\n",
    "    # Extract list of data files for specified period set by start/end times\n",
    "    data = []\n",
    "    # List file names\n",
    "    for i in all_hours:\n",
    "        if i[-42:-38] >= str(start) and i[-42:-38] <= str(end):\n",
    "            data.append(i)\n",
    "        else:\n",
    "            continue\n",
    "\n",
    "    return data"
   ]
  },
  {
   "cell_type": "code",
   "execution_count": null,
   "metadata": {
    "collapsed": false
   },
   "outputs": [],
   "source": [
    "# Block 4: Enter user settings and list ABI data files, with option to save files locally\n",
    "\n",
    "# Data file saving settings\n",
    "save = 'yes'  # Option to save data files: 'yes' (save to \"file_path\" directory) or 'no' (list file names only)\n",
    "save_path = os.getcwd() + '/data/'  # Directory where data files will be saved\n",
    "\n",
    "# Satellite and product settings\n",
    "satellite = 17  # GOES-East = 16, GOES-West = 17\n",
    "product = 'ABI-L1b-RadC'  # ABI product name abbreviation; see list at https://docs.opendata.aws/noaa-goes16/cics-readme.html\n",
    "\n",
    "# Day and time settings\n",
    "year = 2020    # 4-digit year (e.g., 2021)\n",
    "month = 12    # 1- or 2-digit month (e.g., Feb = 2, Oct = 10)\n",
    "day = 3    # 1- or 2- digit day (e.g., 1, 25)\n",
    "start = 2000    # 4-digit observation start time in UTC, no colon (e.g. 20:00 UTC = 2000)\n",
    "end = 2030    # 4-digit observation end time in UTC, no colon (e.g. 20:35 UTC = 2035)\n",
    "\n",
    "#########################################################################################################################\n",
    "\n",
    "if __name__ == \"__main__\":\n",
    "\n",
    "    # Query AWS and list filenames matching entered settings\n",
    "    data = aws_list(year, month, day, start, end, satellite, product)\n",
    "    if len(data) > 0:\n",
    "        for i in data:\n",
    "            print(i.split('/')[-1])\n",
    "    else:\n",
    "        print('No files retrieved.  Check settings and try again.')\n",
    "\n",
    "    # Downlad and save data files to specfied directory\n",
    "    if save == 'yes':\n",
    "        if not os.path.isdir(save_path):\n",
    "            os.makedirs(save_path)\n",
    "        aws = s3fs.S3FileSystem(anon=True)\n",
    "        for i in data:\n",
    "            aws.get(i, save_path + i.split('/')[-1])\n",
    "        print('Download complete!')\n",
    "    else:\n",
    "        pass"
   ]
  },
  {
   "cell_type": "code",
   "execution_count": null,
   "metadata": {
    "collapsed": true
   },
   "outputs": [],
   "source": []
  }
 ],
 "metadata": {
  "kernelspec": {
   "display_name": "Python 3",
   "language": "python",
   "name": "python3"
  },
  "language_info": {
   "codemirror_mode": {
    "name": "ipython",
    "version": 3
   },
   "file_extension": ".py",
   "mimetype": "text/x-python",
   "name": "python",
   "nbconvert_exporter": "python",
   "pygments_lexer": "ipython3",
   "version": "3.7.3"
  },
  "varInspector": {
   "cols": {
    "lenName": 16,
    "lenType": 16,
    "lenVar": 40
   },
   "kernels_config": {
    "python": {
     "delete_cmd_postfix": "",
     "delete_cmd_prefix": "del ",
     "library": "var_list.py",
     "varRefreshCmd": "print(var_dic_list())"
    },
    "r": {
     "delete_cmd_postfix": ") ",
     "delete_cmd_prefix": "rm(",
     "library": "var_list.r",
     "varRefreshCmd": "cat(var_dic_list()) "
    }
   },
   "types_to_exclude": [
    "module",
    "function",
    "builtin_function_or_method",
    "instance",
    "_Feature"
   ],
   "window_display": false
  }
 },
 "nbformat": 4,
 "nbformat_minor": 2
}
